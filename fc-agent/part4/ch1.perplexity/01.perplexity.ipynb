{
 "cells": [
  {
   "cell_type": "markdown",
   "metadata": {},
   "source": [
    "## 단일 에이전트로 Perplexity 만들어 보기"
   ]
  },
  {
   "cell_type": "code",
   "execution_count": 1,
   "metadata": {},
   "outputs": [
    {
     "data": {
      "text/plain": [
       "True"
      ]
     },
     "execution_count": 1,
     "metadata": {},
     "output_type": "execute_result"
    }
   ],
   "source": [
    "from dotenv import load_dotenv\n",
    "import os\n",
    "\n",
    "load_dotenv()"
   ]
  },
  {
   "cell_type": "markdown",
   "metadata": {},
   "source": [
    "### WolframAlpha API 활용을 위한 비동기 설정"
   ]
  },
  {
   "cell_type": "code",
   "execution_count": 2,
   "metadata": {},
   "outputs": [],
   "source": [
    "import asyncio\n",
    "\n",
    "asyncio.set_event_loop_policy(asyncio.DefaultEventLoopPolicy())\n",
    "\n",
    "import nest_asyncio\n",
    "\n",
    "nest_asyncio.apply()"
   ]
  },
  {
   "cell_type": "code",
   "execution_count": 3,
   "metadata": {},
   "outputs": [],
   "source": [
    "from langchain_community.utilities.wolfram_alpha import WolframAlphaAPIWrapper\n",
    "\n",
    "wolfram = WolframAlphaAPIWrapper()"
   ]
  },
  {
   "cell_type": "markdown",
   "metadata": {},
   "source": [
    "### State 설정"
   ]
  },
  {
   "cell_type": "code",
   "execution_count": 4,
   "metadata": {},
   "outputs": [],
   "source": [
    "from typing import Annotated, Literal, TypedDict\n",
    "from langgraph.graph.message import add_messages\n",
    "\n",
    "\n",
    "class State(TypedDict):\n",
    "    messages: Annotated[list, add_messages]\n",
    "    focus: Literal[\"web\", \"academic\", \"video\", \"math\"]"
   ]
  },
  {
   "cell_type": "markdown",
   "metadata": {},
   "source": [
    "### 도구 정의  \n",
    "웹검색, 논문검색, 수학계산"
   ]
  },
  {
   "cell_type": "code",
   "execution_count": 5,
   "metadata": {},
   "outputs": [],
   "source": [
    "from langchain_community.tools.tavily_search import TavilySearchResults\n",
    "from langchain_community.utilities import ArxivAPIWrapper\n",
    "from langchain_community.tools import YouTubeSearchTool\n",
    "from langchain_core.tools import tool\n",
    "from langgraph.prebuilt import ToolNode\n",
    "from langchain_community.utilities.wolfram_alpha import WolframAlphaAPIWrapper\n",
    "import re"
   ]
  },
  {
   "cell_type": "code",
   "execution_count": 6,
   "metadata": {},
   "outputs": [
    {
     "name": "stderr",
     "output_type": "stream",
     "text": [
      "/var/folders/l_/8kygc87n5q1d13jbjvmg1mdm0000gn/T/ipykernel_48220/1829567875.py:1: LangChainDeprecationWarning: The class `TavilySearchResults` was deprecated in LangChain 0.3.25 and will be removed in 1.0. An updated version of the class exists in the :class:`~langchain-tavily package and should be used instead. To use it run `pip install -U :class:`~langchain-tavily` and import as `from :class:`~langchain_tavily import TavilySearch``.\n",
      "  web_tool = TavilySearchResults(max_results=2)\n"
     ]
    }
   ],
   "source": [
    "web_tool = TavilySearchResults(max_results=2)\n",
    "\n",
    "\n",
    "@tool\n",
    "def academic_tool(query: str):\n",
    "    \"\"\"\n",
    "    academic paper search tool\n",
    "    \"\"\"\n",
    "    arxiv = ArxivAPIWrapper()\n",
    "    docs = arxiv.run(query)\n",
    "    return docs\n",
    "\n",
    "\n",
    "@tool\n",
    "def math_tool(query: str):\n",
    "    \"\"\"\n",
    "    math tool\n",
    "    \"\"\"\n",
    "    wolfram = WolframAlphaAPIWrapper()\n",
    "    result = wolfram.run(query)\n",
    "    return result"
   ]
  },
  {
   "cell_type": "code",
   "execution_count": 7,
   "metadata": {},
   "outputs": [
    {
     "data": {
      "text/plain": [
       "\"Published: 2024-08-26\\nTitle: AI Thinking: A framework for rethinking artificial intelligence in practice\\nAuthors: Denis Newman-Griffis\\nSummary: Artificial intelligence is transforming the way we work with information\\nacross disciplines and practical contexts. A growing range of disciplines are\\nnow involved in studying, developing, and assessing the use of AI in practice,\\nbut these disciplines often employ conflicting understandings of what AI is and\\nwhat is involved in its use. New, interdisciplinary approaches are needed to\\nbridge competing conceptualisations of AI in practice and help shape the future\\nof AI use. I propose a novel conceptual framework called AI Thinking, which\\nmodels key decisions and considerations involved in AI use across disciplinary\\nperspectives. The AI Thinking model addresses five practice-based competencies\\ninvolved in applying AI in context: motivating AI use in information processes,\\nformulating AI methods, assessing available tools and technologies, selecting\\nappropriate data, and situating AI in the sociotechnical contexts it is used\\nin. A hypothetical case study is provided to illustrate the application of AI\\nThinking in practice. This article situates AI Thinking in broader\\ncross-disciplinary discourses of AI, including its connections to ongoing\\ndiscussions around AI literacy and AI-driven innovation. AI Thinking can help\\nto bridge divides between academic disciplines and diverse contexts of AI use,\\nand to reshape the future of AI in practice.\\n\\nPublished: 2024-07-26\\nTitle: Intersymbolic AI: Interlinking Symbolic AI and Subsymbolic AI\\nAuthors: André Platzer\\nSummary: This perspective piece calls for the study of the new field of Intersymbolic\\nAI, by which we mean the combination of symbolic AI, whose building blocks have\\ninherent significance/meaning, with subsymbolic AI, whose entirety creates\\nsignificance/effect despite the fact that individual building blocks escape\\nmeaning. Canonical kinds of symbolic AI are logic, games and planning.\\nCanonical kinds of subsymbolic AI are (un)supervised machine and reinforcement\\nlearning. Intersymbolic AI interlinks the worlds of symbolic AI with its\\ncompositional symbolic significance and meaning and of subsymbolic AI with its\\nsummative significance or effect to enable culminations of insights from both\\nworlds by going between and across symbolic AI insights with subsymbolic AI\\ntechniques that are being helped by symbolic AI principles. For example,\\nIntersymbolic AI may start with symbolic AI to understand a dynamic system,\\ncontinue with subsymbolic AI to learn its control, and end with symbolic AI to\\nsafely use the outcome of the learned subsymbolic AI controller in the dynamic\\nsystem. The way Intersymbolic AI combines both symbolic and subsymbolic AI to\\nincrease the effectiveness of AI compared to either kind of AI alone is likened\\nto the way that the combination of both conscious and subconscious thought\\nincreases the effectiveness of human thought compared to either kind of thought\\nalone. Some successful contributions to the Intersymbolic AI paradigm are\\nsurveyed here but many more are considered possible by advancing Intersymbolic\\nAI.\\n\\nPublished: 2024-04-17\\nTitle: Overconfident and Unconfident AI Hinder Human-AI Collaboration\\nAuthors: Jingshu Li, Yitian Yang, Renwen Zhang, Yi-chieh Lee\\nSummary: AI transparency is a central pillar of responsible AI deployment and\\neffective human-AI collaboration. A critical approach is communicating\\nuncertainty, such as displaying AI's confidence level, or its correctness\\nlikelihood (CL), to users. However, these confidence levels are often\\nuncalibrated, either overestimating or underestimating actual CL, posing risks\\nand harms to human-AI collaboration. This study examines the effects of\\nuncalibrated AI confidence on users' trust in AI, AI advice adoption, and\\ncollaboration outcomes. We further examined the impact of increased\\ntransparency, achieved through trust calibration support, on these outcomes.\\nOur results revea\""
      ]
     },
     "execution_count": 7,
     "metadata": {},
     "output_type": "execute_result"
    }
   ],
   "source": [
    "academic_tool.run(\"AI 에이전트\")"
   ]
  },
  {
   "cell_type": "code",
   "execution_count": 8,
   "metadata": {},
   "outputs": [],
   "source": [
    "# math_tool.run(\"123*123^2\")"
   ]
  },
  {
   "cell_type": "markdown",
   "metadata": {},
   "source": [
    "- 안됨, 추후 해볼것"
   ]
  },
  {
   "cell_type": "markdown",
   "metadata": {},
   "source": [
    "비디오 검색도구"
   ]
  },
  {
   "cell_type": "code",
   "execution_count": 9,
   "metadata": {},
   "outputs": [],
   "source": [
    "from langchain_chroma import Chroma\n",
    "from langchain_openai import OpenAIEmbeddings\n",
    "from langchain_text_splitters import RecursiveCharacterTextSplitter\n",
    "from langchain_community.tools import YouTubeSearchTool\n",
    "from langchain_community.document_loaders import YoutubeLoader\n",
    "from langchain_core.documents import Document\n",
    "import ast\n",
    "\n",
    "youtube_search_tool = YouTubeSearchTool()\n",
    "\n",
    "\n",
    "@tool\n",
    "def video_tool(query: str) -> str:\n",
    "    \"\"\"\n",
    "    Retriever tool for the transcript of a YouTube video.\n",
    "    If user want to find some information, this tool is good to gather youtube video information.\n",
    "    query should be given in string format.\n",
    "    \"\"\"\n",
    "    # query에 해당하는 Youtube 비디오 URL 가져오기\n",
    "    urls = youtube_search_tool.run(query)\n",
    "    urls = ast.literal_eval(urls)\n",
    "    # URL 순회하면서 Document 객체에 내용 담기\n",
    "    docs = []\n",
    "    for url in urls:\n",
    "        loader = YoutubeLoader.from_youtube_url(\n",
    "            url, add_video_info=True, language=[\"en\", \"ko\"]\n",
    "        )\n",
    "        scripts = loader.load()\n",
    "        script_content = scripts[0].page_content\n",
    "        title = scripts[0].metadata[\"title\"]\n",
    "        author = scripts[0].metadata[\"author\"]\n",
    "        doc = Document(\n",
    "            page_content=script_content,\n",
    "            metadata={\"source\": url, \"title\": title, \"author\": author},\n",
    "        )\n",
    "        docs.append(doc)\n",
    "\n",
    "    # 모든 비디오의 내용을 벡터DB에 담기\n",
    "    text_splitter = RecursiveCharacterTextSplitter(\n",
    "        separators=[\"\\n\\n\", \"\\n\", \".\", \",\", \" \", \"\"], chunk_size=1000, chunk_overlap=0\n",
    "    )\n",
    "    texts = text_splitter.split_documents(docs)\n",
    "    embeddings = OpenAIEmbeddings()\n",
    "    db = Chroma.from_documents(texts, embeddings)\n",
    "    retriever = db.as_retriever()\n",
    "    retrieved_docs = retriever.invoke(query)\n",
    "\n",
    "    video_results = []\n",
    "\n",
    "    for doc in retrieved_docs:\n",
    "        title = doc.metadata.get(\"title\", \"No title available\")\n",
    "        author = doc.metadata.get(\"author\", \"No author available\")\n",
    "        script_content = doc.page_content\n",
    "\n",
    "        video_info = f\"\"\"\n",
    "        Video Information:\n",
    "        ------------------\n",
    "        Title: {title}\n",
    "        Author: {author}\n",
    "        Transcript:\n",
    "        {script_content}\n",
    "        ------------------\n",
    "        \"\"\"\n",
    "        video_results.append(video_info)\n",
    "\n",
    "    # Join all video results into a single string\n",
    "    all_video_results = \"\\n\\n\".join(video_results)\n",
    "\n",
    "    return all_video_results"
   ]
  },
  {
   "cell_type": "code",
   "execution_count": 10,
   "metadata": {},
   "outputs": [],
   "source": [
    "# video_tool.run(\"테디노트가 누구야?\")"
   ]
  },
  {
   "cell_type": "markdown",
   "metadata": {},
   "source": [
    "- 안됨 추후 할 것"
   ]
  },
  {
   "cell_type": "markdown",
   "metadata": {},
   "source": [
    "### 각 도구를 개별 ToolNode로 설정"
   ]
  },
  {
   "cell_type": "code",
   "execution_count": 11,
   "metadata": {},
   "outputs": [],
   "source": [
    "# tools = {\n",
    "#     \"web\": [web_tool],\n",
    "#     \"academic\": [academic_tool],\n",
    "#     \"video\": [video_tool],\n",
    "#     \"math\": [math_tool],\n",
    "# }\n",
    "\n",
    "tools = {\n",
    "    \"web\": [web_tool],\n",
    "    \"academic\": [academic_tool],\n",
    "    \"video\": [],\n",
    "    \"math\": [],\n",
    "}\n",
    "\n",
    "tool_nodes = {focus: ToolNode(tools[focus]) for focus in tools}"
   ]
  },
  {
   "cell_type": "code",
   "execution_count": 12,
   "metadata": {},
   "outputs": [
    {
     "data": {
      "text/plain": [
       "{'web': tools(tags=None, recurse=True, explode_args=False, func_accepts_config=True, func_accepts={'store': ('__pregel_store', None)}, tools_by_name={'tavily_search_results_json': TavilySearchResults(max_results=2, api_wrapper=TavilySearchAPIWrapper(tavily_api_key=SecretStr('**********')))}, tool_to_state_args={'tavily_search_results_json': {}}, tool_to_store_arg={'tavily_search_results_json': None}, handle_tool_errors=True, messages_key='messages'),\n",
       " 'academic': tools(tags=None, recurse=True, explode_args=False, func_accepts_config=True, func_accepts={'store': ('__pregel_store', None)}, tools_by_name={'academic_tool': StructuredTool(name='academic_tool', description='academic paper search tool', args_schema=<class 'langchain_core.utils.pydantic.academic_tool'>, func=<function academic_tool at 0x13534b6a0>)}, tool_to_state_args={'academic_tool': {}}, tool_to_store_arg={'academic_tool': None}, handle_tool_errors=True, messages_key='messages'),\n",
       " 'video': tools(tags=None, recurse=True, explode_args=False, func_accepts_config=True, func_accepts={'store': ('__pregel_store', None)}, tools_by_name={}, tool_to_state_args={}, tool_to_store_arg={}, handle_tool_errors=True, messages_key='messages'),\n",
       " 'math': tools(tags=None, recurse=True, explode_args=False, func_accepts_config=True, func_accepts={'store': ('__pregel_store', None)}, tools_by_name={}, tool_to_state_args={}, tool_to_store_arg={}, handle_tool_errors=True, messages_key='messages')}"
      ]
     },
     "execution_count": 12,
     "metadata": {},
     "output_type": "execute_result"
    }
   ],
   "source": [
    "tool_nodes"
   ]
  },
  {
   "cell_type": "markdown",
   "metadata": {},
   "source": [
    "### 챗봇 설정"
   ]
  },
  {
   "cell_type": "code",
   "execution_count": 13,
   "metadata": {},
   "outputs": [],
   "source": [
    "from langchain_openai import ChatOpenAI\n",
    "\n",
    "llm = ChatOpenAI(model = \"gpt-4o-mini\")\n",
    "\n",
    "def chatbot(state: State):\n",
    "    llm_with_tools = llm.bind_tools(tools[state[\"focus\"]])\n",
    "    result = llm_with_tools.invoke(state[\"messages\"])\n",
    "    return {\"messages\": [result]}"
   ]
  },
  {
   "cell_type": "markdown",
   "metadata": {},
   "source": [
    "### 그래프 구축"
   ]
  },
  {
   "cell_type": "code",
   "execution_count": 14,
   "metadata": {},
   "outputs": [],
   "source": [
    "from langgraph.graph import StateGraph, END\n",
    "\n",
    "graph_builder = StateGraph(State)\n",
    "\n",
    "graph_builder.add_node(\"chatbot\", chatbot)\n",
    "\n",
    "for focus, tool_node in tool_nodes.items():\n",
    "    graph_builder.add_node(f\"{focus}_tools\", tool_node)\n",
    "\n",
    "\n",
    "def focus_condition(state):\n",
    "    if state[\"messages\"][-1].tool_calls:\n",
    "        return f\"{state['focus']}_tools\"\n",
    "    return END  # END 상수 사용\n",
    "\n",
    "\n",
    "graph_builder.add_conditional_edges(\n",
    "    \"chatbot\",\n",
    "    focus_condition,\n",
    "    {\n",
    "        \"web_tools\": \"web_tools\",\n",
    "        \"academic_tools\": \"academic_tools\",\n",
    "        \"video_tools\": \"video_tools\",\n",
    "        \"math_tools\": \"math_tools\",\n",
    "        END: END,\n",
    "    },\n",
    ")\n",
    "\n",
    "for focus in tools:\n",
    "    graph_builder.add_edge(f\"{focus}_tools\", \"chatbot\")\n",
    "\n",
    "graph_builder.set_entry_point(\"chatbot\")\n",
    "graph = graph_builder.compile()"
   ]
  },
  {
   "cell_type": "code",
   "execution_count": 15,
   "metadata": {},
   "outputs": [
    {
     "data": {
      "image/png": "[encoded data removed]",
      "text/plain": [
       "<IPython.core.display.Image object>"
      ]
     },
     "metadata": {},
     "output_type": "display_data"
    }
   ],
   "source": [
    "from IPython.display import Image, display\n",
    "\n",
    "display(Image(graph.get_graph().draw_mermaid_png()))"
   ]
  },
  {
   "cell_type": "code",
   "execution_count": 16,
   "metadata": {},
   "outputs": [
    {
     "name": "stdout",
     "output_type": "stream",
     "text": [
      "AI 에이전트에는 어떤 프레임워크가 있어?\n",
      "\n",
      "[{\"title\": \"AI Agent의 개념과 기본 구현 방법 - 성장通\", \"url\": \"https://kevin-rain.tistory.com/226\", \"content\": \"이처럼 AI Agent는 단순한 답변을 넘어 다단계 의사결정을 수행할 수 있도록 발전하고 있다. LangGraph, LangChain, LlamaIndex와 같은 프레임워크를 활용하면 복잡한 논리 흐름을 쉽게 구현할 수 있으며, 이를 통해 보다 정교한 AI Agent를 개발할 수 있다. 앞으로 AI Agent는 다양한 도구와 결합하여 더욱 강력한 성능을 발휘할 것이다. [...] AI Agent의 개념과 기본 구현 방법\\n\\nAI Agent의 개념과 기본 구현 방법\\n\\nAI Agent는 특정한 목적을 달성하기 위해 설계된 인공지능 시스템으로, 외부 환경과 상호작용하며 데이터를 기반으로 결정을 내린다. 최근에는 다양한 AI Agent 프레임워크가 등장하면서, 이를 활용한 개발이 점점 쉬워지고 있다. 하지만 AI Agent의 핵심 개념을 이해하는 것이 중요하며, 이를 직접 구현해보는 과정이 큰 도움이 된다.\\n\\n이번 글에서는 Dummy Agent를 구현해서 그 동작 과정을 살펴보도록 하겠다.\\n\\nHugging Face Serverless API 활용\\n\\nHugging Face는 AI 모델을 실행할 수 있는 Serverless API를 제공한다. 이를 이용하면 로컬 환경에서 직접 모델을 실행하지 않고도 Inference를 수행할 수 있다. API 호출을 위해 적절한 클라이언트를 활용하면, 이를 통해 텍스트 생성이나 명령 실행을 수행할 수 있다. [...] 이러한 방식을 이용하면 AI 모델이 텍스트를 생성하여 출력하는 것을 확인할 수 있다.\\n\\n일반적인 경우, chat template을 사용하지만, 여기서는 text_generation을 기준으로 작성하겠다.\\n\\nAgent의 동작 방식\\n\\nAI Agent는 특정한 입력을 받아 문제를 해결하기 위해 연속적인 사고 과정을 수행한다. 일반적인 구조는 다음과 같다:\\n\\n이러한 사고 과정이 반복되며, 필요한 경우 여러 번의 Action과 Observation 단계를 거칠 수 있다.\\n\\n구현\\n\\n간단한 AI Agent는 특정 기능을 수행하도록 설계된 시스템 프롬프트와 함께 동작한다. 예를 들어, 날씨 정보를 가져오는 기능을 구현하는 Agent는 시스템 프롬프트에서 사용 가능한 도구와 실행 방식을 정의한다. 이후 AI 모델이 입력을 받아 도구를 호출하고, 최종적인 결과를 생성한다.\\n\\n앞서 언급했듯이, 실제로 날씨 API를 불러오지는 않고, 간단한 더미 함수를 만들어서 뒤에 내용을 추가하도록 했다.\", \"score\": 0.83932644}, {\"title\": \"AI 에이전트란 무엇인가요? 정의, 예시, 유형 | Google Cloud\", \"url\": \"https://cloud.google.com/discover/what-are-ai-agents?hl=ko\", \"content\": \"위에서 설명한 것처럼 AI 에이전트의 주요 기능은 추론과 행동이지만(ReAct 프레임워크에서 설명됨) 시간이 지남에 따라 더 많은 기능이 발전했습니다.\\n\\nAI 에이전트, AI 어시스턴트, 봇의 차이점은 무엇인가요?\\n\\nAI 어시스턴트는 사용자와 직접 협업하고 자연어 및 입력을 이해하고 이에 응답하여 태스크를 수행하도록 애플리케이션 또는 제품으로 설계된 AI 에이전트입니다. 감독하에 사용자를 대신해 추론하고 조치를 취할 수 있습니다.\\n\\nAI 어시스턴트는 사용 중인 제품에 내장되어 있는 경우가 많습니다. 주요 특징은 태스크의 여러 단계를 거치면서 어시스턴트와 사용자가 상호작용한다는 것입니다. 어시스턴트는 사용자의 요청이나 프롬프트에 응답하고 작업을 추천할 수 있지만 결정은 사용자가 내립니다. [...] AI 에이전트란 무엇인가요?\\n\\nAI 에이전트는 AI를 사용해 사용자를 대신하여 목표를 추구하고 태스크를 완료하는 소프트웨어 시스템입니다. AI 에이전트는 추론, 계획, 기억이 가능하며 일정 수준의 자율성을 갖고 의사 결정, 학습, 조정을 처리합니다.\\n\\n이러한 기능은 주로 생성형 AI와 AI 파운데이션 모델의 멀티모달 역량을 통해 가능해집니다. AI 에이전트는 텍스트, 음성, 동영상, 오디오, 코드와 같은 멀티모달 정보를 처리할 수 있으며 동시에 대화, 추론, 학습, 의사 결정을 수행할 수 있습니다. 또한 장기적인 학습이 가능하며 트랜잭션과 비즈니스 프로세스를 실행할 수도 있습니다. 에이전트는 다른 에이전트와 협력하여 보다 복잡한 워크플로를 조정하고 수행할 수 있습니다.\\n\\n세계 주요 조직의 300가지가 넘는 실제 생성형 AI 사용 사례 살펴보기\\n\\n블로그 읽기\\n\\nAI 에이전트의 주요 기능 [...] 사전 정의된 규칙을 따름, 제한된 학습, 기본적인 상호작용\\n\\n상호작용\\n\\n선제적, 목표 지향적\\n\\n반응형, 사용자 요청에 응답\\n\\n반응형, 트리거 또는 명령에 응답\\n\\nAI 에이전트\\n\\nAI 어시스턴트\\n\\n봇⁠\\n\\n목적\\n\\n자율적이고 선제적으로 태스크 수행\\n\\n사용자의 태스크 지원\\n\\n간단한 태스크 또는 대화 자동화\\n\\n기능\\n\\n복잡한 다단계 작업 수행, 학습 및 적응, 독립적으로 의사 결정을 내릴 수 있음\\n\\n요청 또는 프롬프트에 응답, 정보를 제공하고 간단한 태스크 수행, 작업을 추천할 수 있지만 결정은 사용자가 내림\\n\\n사전 정의된 규칙을 따름, 제한된 학습, 기본적인 상호작용\\n\\n상호작용\\n\\n선제적, 목표 지향적\\n\\n반응형, 사용자 요청에 응답\\n\\n반응형, 트리거 또는 명령에 응답\\n\\n주요 차이점\\n\\nAI 에이전트는 어떻게 작동하나요?\\n\\n모든 에이전트는 자체적으로 역할, 성격, 커뮤니케이션 스타일을 정의하며, 여기에는 사용 가능한 도구에 대한 구체적인 안내 및 설명이 포함됩니다.\", \"score\": 0.75421005}]\n",
      "AI 에이전트를 개발하기 위한 다양한 프레임워크가 존재합니다. 주요 프레임워크로는 다음과 같은 것들이 있습니다:\n",
      "\n",
      "1. **LangGraph**: 복잡한 논리 흐름을 쉽게 구현할 수 있도록 돕는 프레임워크입니다.\n",
      "2. **LangChain**: AI 에이전트의 작업 흐름과 상호작용을 관리하는 데 유용합니다.\n",
      "3. **LlamaIndex**: 이 프레임워크는 AI 모델의 데이터를 효율적으로 관리하고 사용할 수 있게 해줍니다.\n",
      "\n",
      "이 외에도 Hugging Face의 Serverless API와 같은 도구를 활용하여 AI 모델을 실행하고 텍스트 생성, 명령 실행 등을 수행할 수 있습니다.\n",
      "\n",
      "AI 에이전트는 특정 목표를 달성하기 위해 설계된 인공지능 시스템으로, 외부 환경과 상호작용하며 데이터 기반으로 결정을 내리는 기능을 가지고 있습니다. 이러한 프레임워크를 통해 복잡한 다단계 의사결정을 수행하는 AI 에이전트를 보다 쉽게 개발할 수 있습니다. \n",
      "\n",
      "더 자세한 내용을 원하시면 [여기](https://kevin-rain.tistory.com/226)에서 확인할 수 있습니다.\n"
     ]
    }
   ],
   "source": [
    "# example with a multiple tool calls in succession\n",
    "\n",
    "for chunk in graph.stream(\n",
    "    {\n",
    "        \"messages\": [\n",
    "            {\"role\": \"user\", \"content\": \"AI 에이전트에는 어떤 프레임워크가 있어?\"}\n",
    "        ],\n",
    "        \"focus\": \"web\",\n",
    "    },\n",
    "    stream_mode=\"values\",\n",
    "):\n",
    "    print(chunk[\"messages\"][-1].content)"
   ]
  },
  {
   "cell_type": "code",
   "execution_count": null,
   "metadata": {},
   "outputs": [],
   "source": []
  }
 ],
 "metadata": {
  "kernelspec": {
   "display_name": "fc-agent",
   "language": "python",
   "name": "python3"
  },
  "language_info": {
   "codemirror_mode": {
    "name": "ipython",
    "version": 3
   },
   "file_extension": ".py",
   "mimetype": "text/x-python",
   "name": "python",
   "nbconvert_exporter": "python",
   "pygments_lexer": "ipython3",
   "version": "3.12.11"
  }
 },
 "nbformat": 4,
 "nbformat_minor": 2
}
