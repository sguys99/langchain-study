{
 "cells": [
  {
   "cell_type": "markdown",
   "metadata": {},
   "source": [
    "## 단일 에이전트로 ChatGPT 만들어 보기\n",
    "웹검색 에이전트"
   ]
  },
  {
   "cell_type": "code",
   "execution_count": 1,
   "metadata": {},
   "outputs": [
    {
     "data": {
      "text/plain": [
       "True"
      ]
     },
     "execution_count": 1,
     "metadata": {},
     "output_type": "execute_result"
    }
   ],
   "source": [
    "from dotenv import load_dotenv\n",
    "import os\n",
    "\n",
    "load_dotenv()"
   ]
  },
  {
   "cell_type": "markdown",
   "metadata": {},
   "source": [
    "### 시스템 메시지를 보강한 챗봇"
   ]
  },
  {
   "cell_type": "code",
   "execution_count": 2,
   "metadata": {},
   "outputs": [
    {
     "name": "stderr",
     "output_type": "stream",
     "text": [
      "/var/folders/l_/8kygc87n5q1d13jbjvmg1mdm0000gn/T/ipykernel_51567/3522539332.py:36: LangChainDeprecationWarning: The class `TavilySearchResults` was deprecated in LangChain 0.3.25 and will be removed in 1.0. An updated version of the class exists in the :class:`~langchain-tavily package and should be used instead. To use it run `pip install -U :class:`~langchain-tavily` and import as `from :class:`~langchain_tavily import TavilySearch``.\n",
      "  search = TavilySearchResults(max_results=5)\n"
     ]
    }
   ],
   "source": [
    "from langchain_core.tools import tool\n",
    "from langchain_openai import ChatOpenAI\n",
    "from langchain_core.prompts import ChatPromptTemplate, SystemMessagePromptTemplate, HumanMessagePromptTemplate\n",
    "from datetime import datetime\n",
    "from langchain_community.tools.tavily_search import TavilySearchResults\n",
    "\n",
    "system_prompt = f\"\"\"\n",
    "You are a helpful AI Assistant that can use web search tool(tavily ai api).\n",
    "You should always answer in same language as user's ask.\n",
    "When use ask about the information that you can't answer, you should call the web search tool.\n",
    "\n",
    "web search tool is useful when:\n",
    "- real-time info\n",
    "- local specialized info\n",
    "- metric related info\n",
    "\n",
    "you should use web search tool with the guideline below:\n",
    "- Extract the user query's intent and rephrase the prompt into appropriate search query\n",
    "- web search tool(Tavily AI API) can deal with sentence query. \n",
    "you don't need to limit your querying ability to generating keyword only query.\n",
    "- Today is {datetime.now().strftime(\"%Y-%m-%d\")}\n",
    "\"\"\"\n",
    "\n",
    "prompt = ChatPromptTemplate.from_messages([\n",
    "    SystemMessagePromptTemplate.from_template(system_prompt),\n",
    "    HumanMessagePromptTemplate.from_template(\"{input}\")\n",
    "])\n",
    "\n",
    "\n",
    "# LLM 초기화 시 시스템 프롬프트 설정\n",
    "llm = ChatOpenAI(\n",
    "    model=\"gpt-4o-mini\",\n",
    "    temperature=0\n",
    ")\n",
    "\n",
    "search = TavilySearchResults(max_results=5)\n",
    "\n",
    "tools = [search]\n",
    "llm_with_tools = llm.bind_tools(tools)\n",
    "\n",
    "# 프롬프트 체인 생성\n",
    "chain = prompt | llm_with_tools"
   ]
  },
  {
   "cell_type": "code",
   "execution_count": 3,
   "metadata": {},
   "outputs": [
    {
     "name": "stdout",
     "output_type": "stream",
     "text": [
      "content='' additional_kwargs={'tool_calls': [{'id': 'call_TOisHUOe5fNRmuXKpavvse0L', 'function': {'arguments': '{\"query\":\"대한민국 축구국가대표팀 2025 명단\"}', 'name': 'tavily_search_results_json'}, 'type': 'function'}], 'refusal': None} response_metadata={'token_usage': {'completion_tokens': 30, 'prompt_tokens': 232, 'total_tokens': 262, 'completion_tokens_details': {'accepted_prediction_tokens': 0, 'audio_tokens': 0, 'reasoning_tokens': 0, 'rejected_prediction_tokens': 0}, 'prompt_tokens_details': {'audio_tokens': 0, 'cached_tokens': 0}}, 'model_name': 'gpt-4o-mini-2024-07-18', 'system_fingerprint': 'fp_34a54ae93c', 'finish_reason': 'tool_calls', 'logprobs': None} id='run--d2ec608e-0cfa-42bd-ae50-aa8687784590-0' tool_calls=[{'name': 'tavily_search_results_json', 'args': {'query': '대한민국 축구국가대표팀 2025 명단'}, 'id': 'call_TOisHUOe5fNRmuXKpavvse0L', 'type': 'tool_call'}] usage_metadata={'input_tokens': 232, 'output_tokens': 30, 'total_tokens': 262, 'input_token_details': {'audio': 0, 'cache_read': 0}, 'output_token_details': {'audio': 0, 'reasoning': 0}}\n"
     ]
    }
   ],
   "source": [
    "result = chain.invoke({\"input\": \"대한민국 축구국가대표팀 명단 알려줘\"})\n",
    "print(result)"
   ]
  },
  {
   "cell_type": "code",
   "execution_count": 4,
   "metadata": {},
   "outputs": [
    {
     "name": "stdout",
     "output_type": "stream",
     "text": [
      "{'tool_calls': [{'id': 'call_TOisHUOe5fNRmuXKpavvse0L', 'function': {'arguments': '{\"query\":\"대한민국 축구국가대표팀 2025 명단\"}', 'name': 'tavily_search_results_json'}, 'type': 'function'}], 'refusal': None}\n"
     ]
    }
   ],
   "source": [
    "print(result.additional_kwargs)"
   ]
  },
  {
   "cell_type": "markdown",
   "metadata": {},
   "source": [
    "### 그래프 생성"
   ]
  },
  {
   "cell_type": "code",
   "execution_count": 5,
   "metadata": {},
   "outputs": [],
   "source": [
    "from typing import Annotated, TypedDict\n",
    "from langgraph.graph.message import add_messages\n",
    "from langgraph.graph import StateGraph, START, END\n",
    "from langgraph.prebuilt import ToolNode, tools_condition\n",
    "\n",
    "class State(TypedDict):\n",
    "    messages: Annotated[list, add_messages]\n",
    "\n",
    "def chatbot(state: State):\n",
    "    return {\"messages\": [chain.invoke(state[\"messages\"])]}\n",
    "\n",
    "graph_builder = StateGraph(State)\n",
    "\n",
    "graph_builder.add_node(\"chatbot\", chatbot)\n",
    "\n",
    "# 도구 노드 추가\n",
    "tool_node = ToolNode(tools=tools)\n",
    "graph_builder.add_node(\"tools\", tool_node)\n",
    "\n",
    "# 조건부 엣지 추가\n",
    "graph_builder.add_conditional_edges(\n",
    "    \"chatbot\",\n",
    "    tools_condition,\n",
    ")\n",
    "\n",
    "# 도구 호출 후 채팅봇으로 돌아가는 엣지 추가\n",
    "graph_builder.add_edge(\"tools\", \"chatbot\")\n",
    "\n",
    "# 시작점 설정\n",
    "graph_builder.add_edge(START, \"chatbot\")\n",
    "\n",
    "# 그래프 컴파일\n",
    "graph = graph_builder.compile()"
   ]
  },
  {
   "cell_type": "code",
   "execution_count": 6,
   "metadata": {},
   "outputs": [
    {
     "data": {
      "image/png": "[encoded data removed]",
      "text/plain": [
       "<IPython.core.display.Image object>"
      ]
     },
     "metadata": {},
     "output_type": "display_data"
    }
   ],
   "source": [
    "from IPython.display import Image, display\n",
    "\n",
    "display(Image(graph.get_graph().draw_mermaid_png()))"
   ]
  },
  {
   "cell_type": "code",
   "execution_count": 7,
   "metadata": {},
   "outputs": [
    {
     "name": "stdout",
     "output_type": "stream",
     "text": [
      "================================\u001b[1m Human Message \u001b[0m=================================\n",
      "\n",
      "대한민국 축구 국가대표팀 명단 알려줘\n",
      "==================================\u001b[1m Ai Message \u001b[0m==================================\n",
      "Tool Calls:\n",
      "  tavily_search_results_json (call_P0TfQPl1EiOp9i24BVzesBjt)\n",
      " Call ID: call_P0TfQPl1EiOp9i24BVzesBjt\n",
      "  Args:\n",
      "    query: 대한민국 축구 국가대표팀 2025 명단\n",
      "=================================\u001b[1m Tool Message \u001b[0m=================================\n",
      "Name: tavily_search_results_json\n",
      "\n",
      "[{\"title\": \"대한민국 축구 국가대표팀 2025 시즌\", \"url\": \"https://ko.wikipedia.org/wiki/%EB%8C%80%ED%95%9C%EB%AF%BC%EA%B5%AD_%EC%B6%95%EA%B5%AC_%EA%B5%AD%EA%B0%80%EB%8C%80%ED%91%9C%ED%8C%80_2025_%EC%8B%9C%EC%A6%8C\", \"content\": \"대한민국 축구 국가대표팀 2025 시즌은 대한민국 축구 국가대표팀이 2025년에 ... 홍명보. 최우수 선수: 김진규 (대한민국). 부심: 미하라 준 (일본) 와타나베 고타\", \"score\": 0.87706697}, {\"title\": \"2025 EAFF E-1 풋볼 챔피언십 대한민국 축구국가대표팀 ...\", \"url\": \"https://www.facebook.com/KoreaFootballTeam/posts/2025-eaff-e-1-%ED%92%8B%EB%B3%BC-%EC%B1%94%ED%94%BC%EC%96%B8%EC%8B%AD-%EB%8C%80%ED%95%9C%EB%AF%BC%EA%B5%AD-%EC%B6%95%EA%B5%AC%EA%B5%AD%EA%B0%80%EB%8C%80%ED%91%9C%ED%8C%80-%EB%AA%85%EB%8B%A8-%EB%B0%9C%ED%91%9C-%EC%95%88%EB%82%B420250623-%EC%9B%94-kfa-%ED%99%88%ED%8E%98%EC%9D%B4%EC%A7%80-%EB%B0%8F-sns-%EB%B0%9C%ED%91%9C2025-eaff/1271348264348694/\", \"content\": \"2025 EAFF E-1 풋볼 챔피언십 대한민국 축구국가대표팀 명단 발표 안내✨ 2025.06.23 (월) KFA 홈페이지 및 SNS 발표 ✓2025 EAFF E-1 풋볼 챔피언십\", \"score\": 0.7065353}, {\"title\": \"2025 EAFF E-1 풋볼 챔피언십 대한민국 축구국가대표팀 ...\", \"url\": \"https://www.facebook.com/photo.php?fbid=1271348231015364&id=100044205980771&set=a.810001003816758\", \"content\": \"2025 EAFF E-1 풋볼 챔피언십 대한민국 축구국가대표팀 명단 발표 안내✨ 2025.06.23 (월) KFA 홈페이지 및 SNS 발표 ✓2025 EAFF E-1 풋볼 챔피언십\", \"score\": 0.7065353}, {\"title\": \"0-3 완패→3-4 대역전패...한국 축구에 연달아 무너진 뜻밖의 ' ...\", \"url\": \"https://www.wikitree.co.kr/articles/1063627\", \"content\": \"대한민국 축구 국가대표팀 선수들이 지난 7일 오후 경기 용인시 처인구 용인미르스타디움에서 열린 2025 동아시아축구연맹(EAFF) E-1 챔피언십 남자부 대한민국과 중국의 경기에서 3대0으로 승리 후 기뻐하고 있다 / 뉴스1\\n\\n이번 0-3 완패, 3-4 역전패는 단지 ‘이틀간의 패배’가 아니다. 그것은 지난 10년간 두 나라가 축구에 접근한 방식의 차이, 그리고 그 성과가 극명히 갈린 결과였다. 중국 축구가 한국 축구의 벽을 넘지 못하는 한, ‘공한증’이라는 단어는 여전히 중국 축구의 그림자처럼 따라다닐 것이다.\\n\\n일본에 1-6 대참사...한국에 '0-3' 굴욕 당한 중국보다 더 추락한 '이 나라'\\n\\n무려 4년 만에 결론났다…기성용 '성폭행 의혹' 손해배상 일부 승소\\n\\n#### WIKITREE TV\\n\\n#### 네이티브 광고 베스트\\n\\n#### 베스트 클릭\\n\\nNewsChat\\n\\n이미지 설명\\n\\n© Social News Co., Ltd. All Right Reserved. [...] 이번 이중 패배는 단지 경기 결과 이상의 의미를 지닌다. 중국 축구가 그간 내세워온 ‘성장’의 서사가 허상에 가깝다는 사실이 경기력으로 드러났기 때문이다. 수치상으로는 유소년 등록 선수 수가 급증하고, 리그 및 대표팀 체계도 정비됐지만, 여전히 국제 무대에서 보여지는 경기력과 전략·전술 이해도, 위기 대응력 등은 한국에 한참 못 미치는 수준이다.\\n\\n홍명보 대한민국 축구 국가대표팀 감독이 지난 7일 오후 경기 용인시 처인구 용인미르스타디움에서 열린 2025 동아시아축구연맹(EAFF) E-1 챔피언십 남자부 대한민국과 중국의 경기에서 3대0으로 승리 후 선수들을 격려하고 있다 / 뉴스1 [...] 하루 전 펼쳐진 성인 대표팀 경기에서도 결과는 크게 다르지 않았다. 데얀 주르예비치 감독 대행이 이끈 중국 A대표팀은 2025 동아시아축구연맹(EAFF) E-1 챔피언십 남자부 경기서 한국에 0-3으로 완패하며 이렇다 할 저항조차 보여주지 못했다. 슈팅 수 5-15, 유효슈팅 0-7로 압도당했고, 손흥민(토트넘), 이강인(PSG), 김민재(뮌헨) 등 유럽파가 빠진 한국임에도 불구하고 경기력 차이는 현격했다.\\n\\n김주성이 지난 7일 오후 경기 용인시 처인구 용인미르스타디움에서 열린 2025 동아시아축구연맹(EAFF) E-1 챔피언십 남자부 대한민국과 중국의 경기에서 슛을 넣은 뒤 기뻐하고 있다 / 뉴스1\\n\\n중국 매체 ‘소후닷컴’은 “중국 축구가 한국 축구에 연이틀 패한 것은 유례없는 일”이라며 “성인 대표팀도, U-16 대표팀도 한국에 무너졌다. 이틀 만에 '더블킬'을 당한 안타까운 결과”라고 보도했다.\", \"score\": 0.49275014}, {\"title\": \"대한민국 축구 국가대표팀\", \"url\": \"https://namu.wiki/w/%EB%8C%80%ED%95%9C%EB%AF%BC%EA%B5%AD%20%EC%B6%95%EA%B5%AC%20%EA%B5%AD%EA%B0%80%EB%8C%80%ED%91%9C%ED%8C%80\", \"content\": \"대한축구협회 산하의 대한민국 남자 축구 국가대표팀이다. 역대 FIFA 랭킹 최고 순위는 17위(1998년 12월 23일), 최저 순위는 69위(2014년 11월 27일 ~ 2015년 2월 11일)\", \"score\": 0.30872193}]\n",
      "==================================\u001b[1m Ai Message \u001b[0m==================================\n",
      "\n",
      "대한민국 축구 국가대표팀의 2025 시즌 명단에 대한 정보는 다음 링크에서 확인하실 수 있습니다:\n",
      "\n",
      "- [대한민국 축구 국가대표팀 2025 시즌](https://ko.wikipedia.org/wiki/%EB%8C%80%ED%95%9C%EB%AF%BC%EA%B5%AD_%EC%B6%95%EA%B5%AC_%EA%B5%AD%EA%B0%80%EB%8C%80%ED%91%9C%ED%8C%80_2025_%EC%8B%9C%EC%A6%8C)\n",
      "\n",
      "또한, 2025 EAFF E-1 풋볼 챔피언십에 대한 명단 발표는 [여기](https://www.facebook.com/KoreaFootballTeam/posts/2025-eaff-e-1-%ED%92%8B%EB%B3%BC-%EC%B1%94%ED%94%BC%EC%96%B8%EC%8B%AD-%EB%8C%80%ED%95%9C%EB%AF%BC%EA%B5%AD-%EC%B6%95%EA%B5%AC%EA%B5%AD%EA%B0%80%EB%8C%80%ED%91%9C%ED%8C%80-%EB%AA%85%EB%8B%A8-%EB%B0%9C%ED%91%9C-%EC%95%88%EB%82%B420250623-%EC%9B%94-kfa-%ED%99%88%ED%8E%98%EC%9D%B4%EC%A7%80-%EB%B0%8F-sns-%EB%B0%9C%ED%91%9C2025-eaff/1271348264348694/)에서 확인하실 수 있습니다.\n"
     ]
    }
   ],
   "source": [
    "# The config is the **second positional argument** to stream() or invoke()!\n",
    "config = {\"configurable\": {\"thread_id\": \"1\"}}\n",
    "\n",
    "events = graph.stream(\n",
    "    {\"messages\": [(\"user\", input(\"User: \"))]}, config, stream_mode=\"values\"\n",
    ")\n",
    "for event in events:\n",
    "    event[\"messages\"][-1].pretty_print()"
   ]
  },
  {
   "cell_type": "markdown",
   "metadata": {},
   "source": [
    "### 커스텀 툴 설정을 통한 도구 통제성 향상"
   ]
  },
  {
   "cell_type": "code",
   "execution_count": 8,
   "metadata": {},
   "outputs": [],
   "source": [
    "from langchain_core.tools import tool\n",
    "from tavily import TavilyClient\n",
    "\n",
    "@tool\n",
    "def search_news(keyword: str) -> str:\n",
    "    \"\"\"Collect recent news for the given query. \"\"\"\n",
    "    tavily_client = TavilyClient(api_key=os.environ['TAVILY_API_KEY'])\n",
    "    search_results = tavily_client.search(query=keyword, topic=\"news\", days = 30)\n",
    "    return search_results"
   ]
  },
  {
   "cell_type": "code",
   "execution_count": 9,
   "metadata": {},
   "outputs": [],
   "source": [
    "# LLM 초기화 시 시스템 프롬프트 설정\n",
    "llm = ChatOpenAI(\n",
    "    model=\"gpt-4o-mini\",\n",
    "    temperature=0,\n",
    ")\n",
    "\n",
    "tools = [search_news]\n",
    "llm_with_tools = llm.bind_tools(tools)"
   ]
  },
  {
   "cell_type": "code",
   "execution_count": 10,
   "metadata": {},
   "outputs": [],
   "source": [
    "class State(TypedDict):\n",
    "    messages: Annotated[list, add_messages]\n",
    "\n",
    "def chatbot(state: State):\n",
    "    return {\"messages\": [llm_with_tools.invoke(state[\"messages\"])]}\n",
    "\n",
    "graph_builder = StateGraph(State)\n",
    "\n",
    "graph_builder.add_node(\"chatbot\", chatbot)\n",
    "\n",
    "# 도구 노드 추가\n",
    "tool_node = ToolNode(tools=tools)\n",
    "graph_builder.add_node(\"tools\", tool_node)\n",
    "\n",
    "# 조건부 엣지 추가\n",
    "graph_builder.add_conditional_edges(\n",
    "    \"chatbot\",\n",
    "    tools_condition,\n",
    ")\n",
    "\n",
    "# 도구 호출 후 채팅봇으로 돌아가는 엣지 추가\n",
    "graph_builder.add_edge(\"tools\", \"chatbot\")\n",
    "\n",
    "# 시작점 설정\n",
    "graph_builder.add_edge(START, \"chatbot\")\n",
    "\n",
    "# 그래프 컴파일\n",
    "graph = graph_builder.compile()"
   ]
  },
  {
   "cell_type": "code",
   "execution_count": 11,
   "metadata": {},
   "outputs": [
    {
     "name": "stdout",
     "output_type": "stream",
     "text": [
      "================================\u001b[1m Human Message \u001b[0m=================================\n",
      "\n",
      "지금 상영하고 있는 영화중 인기가 가장 많은 것은?\n",
      "==================================\u001b[1m Ai Message \u001b[0m==================================\n",
      "Tool Calls:\n",
      "  search_news (call_7nWw1Uo97h57wRrA1k63MSPN)\n",
      " Call ID: call_7nWw1Uo97h57wRrA1k63MSPN\n",
      "  Args:\n",
      "    keyword: 현재 상영 중인 인기 영화\n",
      "=================================\u001b[1m Tool Message \u001b[0m=================================\n",
      "Name: search_news\n",
      "\n",
      "{\"query\": \"현재 상영 중인 인기 영화\", \"follow_up_questions\": null, \"answer\": null, \"images\": [], \"results\": [{\"url\": \"https://www.ign.com/articles/jurassic-world-rebirth-gets-off-to-big-box-office-start-f1-now-apples-highest-grossing-movie\", \"title\": \"Jurassic World Rebirth Gets Off to Big Box Office Start, F1 Now Apple's Highest-Grossing Movie - IGN\", \"score\": 0.22479525, \"published_date\": \"Sun, 06 Jul 2025 21:01:20 GMT\", \"content\": \"Jurassic World Rebirth Gets Off to Big Box Office Start, F1 Now Apple's Highest-Grossing Movie - IGN Jurassic World Rebirth Gets Off to Big Box Office Start, F1 Now Apple's Highest-Grossing Movie Jurassic World Rebirth crossed the $300 million mark at the global box office with the close of the Fourth of July holiday weekend. That’s comfortably enough for Jurassic World Rebirth to be the number one film in the world right now, but its domestic box office is down compared to recent entries in the long-running franchise. IGN’s Jurassic World Rebirth review returned a 5/10. Meanwhile, F1: The Movie brought home another $82.4 million for a global total to date of $293.6 million. Image 3 Image 4 Image 12: F1 Image 13: IGN\", \"raw_content\": null}, {\"url\": \"https://variety.com/2025/film/global/neon-park-chan-wooks-no-other-choice-north-america-1236441729/\", \"title\": \"Neon Buys Park Chan-Wook’s ‘No Other Choice’ for North America - Variety\", \"score\": 0.17604777, \"published_date\": \"Thu, 26 Jun 2025 16:15:00 GMT\", \"content\": \"Neon has bought North American rights to “No Other Choice,” the upcoming movie by Korean filmmaker Park Chan-wook (“Decision to Leave”) which is expected to world premiere at Venice. The deal reteams Neon and CJ ENM following the release of “Parasite” which broke ground as the first non-English language film to win best picture. ## More from Variety (Photo by Gilbert Flores/Variety via Getty Images) ### ‘How to Train Your Dragon’ Star Nico Parker Says Astrid Is a ‘Boss Bitch’ in New Live-Action Film LOS ANGELES, CALIFORNIA - JUNE 11: (L-R) Arnold Schwarzenegger and Carrie-Anne attend Netflix's Los Angeles premiere of  \\\"Fubar\\\" Season 2 at Netflix Tudum Theater on June 11, 2025 in Los Angeles, California. #### Variety\", \"raw_content\": null}, {\"url\": \"https://www.forbes.com.au/life/entertainment/f1-scores-55-million-opening-weekend-and-may-become-apple-studios-biggest-hit/\", \"title\": \"‘F1’ scores $55 million opening weekend—and may become Apple Studios’ biggest hit - Forbes Australia\", \"score\": 0.15823969, \"published_date\": \"Sun, 29 Jun 2025 23:24:13 GMT\", \"content\": \"'F1' tops box office charts with $55 million opening weekend ##### “F1,” Apple Original Films’ new Formula One racing movie starring Brad Pitt, topped the box office charts over the weekend—the first major hit in theatres for the tech giant’s film and television production studios. *   “F1” grossed $55.6 million at the domestic box office over the weekend, according to advance numbers published in multiple Hollywoodtradepublications, as well as an additional $88.4 million worldwide and $10 million from previews. *   “M3GAN 2.0,” the sequel to the surprise 2022 horror hit “M3GAN,” bombed at its opening weekend, bringing in only $10.2 million at the box office and finishing behind holdovers including “How To Train Your Dragon.” “Napoleon” grossed $228 million at the box office, and “F1” is on track to outpace the film after its stellar opening weekend.\", \"raw_content\": null}, {\"url\": \"https://rogersmovienation.com/2025/07/04/box-office-scarjos-baby-jurassic-rebirth-rolls-towards-130-million-opening-five-day-weekend/\", \"title\": \"BOX OFFICE: ScarJo’s Baby — “Jurassic-Rebirth” rolls towards $130 million+ opening (five day) weekend - rogersmovienation.com\", \"score\": 0.13051823, \"published_date\": \"Fri, 04 Jul 2025 12:43:27 GMT\", \"content\": \"## BOX OFFICE: ScarJo’s Baby — “Jurassic-Rebirth” rolls towards $130 million+ opening (five day) weekend Add another $22 million to its running domestic box office tally, and the film should clear $130 million+ by midnight Sunday. Anything less than an $80 million 3-day weekend and they’d be shuttering movie theaters. **“F1”** should finish its second weekend in second place, with a healthy $25-35 million second weekend in the works as it should clear the $100 million mark by the time the first showings roll out Sunday. ### Follow Movie Nation by email\", \"raw_content\": null}, {\"url\": \"https://variety.com/2025/film/box-office/brad-pitt-f1-korea-box-office-1236443886/\", \"title\": \"Brad Pitt’s ‘F1’ Races to No. 1 at Korean Box Office - Variety\", \"score\": 0.11645239, \"published_date\": \"Mon, 30 Jun 2025 11:24:00 GMT\", \"content\": \"Variety Hollywood racing drama “F1,” starring Brad Pitt, debuted atop the South Korean box office for the June 27–29 weekend, grossing $2.8 million from 347,422 admissions across 1,584 screens. More from Variety (Photo by John Nacion/Variety via Getty Images)   *   ### Brad Pitt’s ‘F1’Delivers Apple’s First Box Office Hit With $55.6 Million Debut, ‘M3GAN 2.0’ Fizzles With $10… Image 13: F1: THE MOVIE, (aka F1), Brad Pitt, on set, 2025. *   ### Box Office: ‘F1’ Revs to $144 Million Globally, ‘Lilo & Stitch’ Nears $950 Million Milestone Image 18: F1: THE MOVIE, (aka F1), from left: Javier Bardem, Brad Pitt, 2025. By Andrew Wallenstein 2 weeks  Image 21: Bad Bunny Variety Cover   #### Variety Variety Variety *   Variety500 *   Variety\", \"raw_content\": null}], \"response_time\": 0.29}\n",
      "==================================\u001b[1m Ai Message \u001b[0m==================================\n",
      "\n",
      "현재 상영 중인 인기 영화는 다음과 같습니다:\n",
      "\n",
      "1. **Jurassic World Rebirth**\n",
      "   - 이 영화는 4일 독립기념일 주말 동안 3억 달러 이상의 수익을 올리며 현재 세계에서 가장 인기 있는 영화로 자리잡고 있습니다. 하지만 이전 시리즈에 비해 국내 박스오피스 수익은 감소한 상태입니다.\n",
      "   - [자세한 내용 보기](https://www.ign.com/articles/jurassic-world-rebirth-gets-off-to-big-box-office-start-f1-now-apples-highest-grossing-movie)\n",
      "\n",
      "2. **F1**\n",
      "   - 브래드 피트 주연의 이 영화는 개봉 주말에 5,560만 달러의 수익을 올리며 박스오피스 1위를 차지했습니다. 현재까지의 총 수익은 1억 4,400만 달러에 달합니다.\n",
      "   - [자세한 내용 보기](https://www.forbes.com.au/life/entertainment/f1-scores-55-million-opening-weekend-and-may-become-apple-studios-biggest-hit/)\n",
      "\n",
      "이 두 영화가 현재 가장 많은 인기를 끌고 있습니다.\n"
     ]
    }
   ],
   "source": [
    "# The config is the **second positional argument** to stream() or invoke()!\n",
    "events = graph.stream(\n",
    "    {\"messages\": [(\"user\", input(\"User: \"))]}, config, stream_mode=\"values\"\n",
    ")\n",
    "for event in events:\n",
    "    event[\"messages\"][-1].pretty_print()"
   ]
  },
  {
   "cell_type": "code",
   "execution_count": null,
   "metadata": {},
   "outputs": [],
   "source": []
  }
 ],
 "metadata": {
  "kernelspec": {
   "display_name": "fc-agent",
   "language": "python",
   "name": "python3"
  },
  "language_info": {
   "codemirror_mode": {
    "name": "ipython",
    "version": 3
   },
   "file_extension": ".py",
   "mimetype": "text/x-python",
   "name": "python",
   "nbconvert_exporter": "python",
   "pygments_lexer": "ipython3",
   "version": "3.12.11"
  }
 },
 "nbformat": 4,
 "nbformat_minor": 2
}
