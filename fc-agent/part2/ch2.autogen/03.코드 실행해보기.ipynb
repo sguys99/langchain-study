{
 "cells": [
  {
   "cell_type": "markdown",
   "metadata": {},
   "source": [
    "## Autogen\n",
    "Code Executor로 코드 실행해보기"
   ]
  },
  {
   "cell_type": "code",
   "execution_count": 1,
   "metadata": {},
   "outputs": [
    {
     "data": {
      "text/plain": [
       "True"
      ]
     },
     "execution_count": 1,
     "metadata": {},
     "output_type": "execute_result"
    }
   ],
   "source": [
    "from dotenv import load_dotenv\n",
    "import os\n",
    "\n",
    "load_dotenv()"
   ]
  },
  {
   "cell_type": "code",
   "execution_count": 2,
   "metadata": {},
   "outputs": [],
   "source": [
    "import autogen\n",
    "from autogen.coding import LocalCommandLineCodeExecutor\n",
    "\n",
    "config_list = [{\"model\": \"gpt-4o-mini\", \"api_key\": os.environ[\"OPENAI_API_KEY\"]}]\n",
    "llm_config = {\"config_list\": config_list}"
   ]
  },
  {
   "cell_type": "markdown",
   "metadata": {},
   "source": [
    "코드 실행을 위해서는 UserProxyAgent를 사용해야 함   \n",
    "UserProxyAgent는 사용자의 입력을 받아서 코드를 실행하고 사용자(AssistantAgent)에게 결과를 전달함"
   ]
  },
  {
   "cell_type": "code",
   "execution_count": 3,
   "metadata": {},
   "outputs": [
    {
     "name": "stdout",
     "output_type": "stream",
     "text": [
      "\u001b[33muser_proxy\u001b[0m (to assistant):\n",
      "\n",
      "100까지 소수가 어떤 것이 있는지 코드로 살펴봐주세요.\n",
      "\n",
      "--------------------------------------------------------------------------------\n",
      "\u001b[33massistant\u001b[0m (to user_proxy):\n",
      "\n",
      "소수를 찾기 위해 1부터 100까지의 숫자를 검사하는 파이썬 코드를 작성하겠습니다. 이 코드는 소수를 판별하고, 100 이하의 모든 소수를 출력할 것입니다.\n",
      "\n",
      "아래 코드를 실행해 주세요.\n",
      "\n",
      "```python\n",
      "# filename: find_primes.py\n",
      "def is_prime(n):\n",
      "    if n <= 1:\n",
      "        return False\n",
      "    for i in range(2, int(n**0.5) + 1):\n",
      "        if n % i == 0:\n",
      "            return False\n",
      "    return True\n",
      "\n",
      "primes = [num for num in range(1, 101) if is_prime(num)]\n",
      "print(primes)\n",
      "```\n",
      "\n",
      "코드를 실행한 후 결과를 확인해 주세요.\n",
      "\n",
      "--------------------------------------------------------------------------------\n",
      "\u001b[31m\n",
      ">>>>>>>> EXECUTING CODE BLOCK (inferred language is python)...\u001b[0m\n",
      "\u001b[33muser_proxy\u001b[0m (to assistant):\n",
      "\n",
      "exitcode: 0 (execution succeeded)\n",
      "Code output: [2, 3, 5, 7, 11, 13, 17, 19, 23, 29, 31, 37, 41, 43, 47, 53, 59, 61, 67, 71, 73, 79, 83, 89, 97]\n",
      "\n",
      "\n",
      "--------------------------------------------------------------------------------\n",
      "\u001b[33massistant\u001b[0m (to user_proxy):\n",
      "\n",
      "100 이하의 소수는 다음과 같습니다:\n",
      "\n",
      "\\[2, 3, 5, 7, 11, 13, 17, 19, 23, 29, 31, 37, 41, 43, 47, 53, 59, 61, 67, 71, 73, 79, 83, 89, 97\\]\n",
      "\n",
      "모든 작업이 완료되었습니다. TERMINATE\n",
      "\n",
      "--------------------------------------------------------------------------------\n",
      "\u001b[31m\n",
      ">>>>>>>> TERMINATING RUN (b5f5264a-53be-4eb1-8cbf-b6d7669c55eb): Termination message condition on agent 'user_proxy' met\u001b[0m\n"
     ]
    }
   ],
   "source": [
    "assistant = autogen.AssistantAgent(\n",
    "    name=\"assistant\",\n",
    "    llm_config={\n",
    "        \"config_list\": config_list,\n",
    "        \"temperature\": 0,\n",
    "    },\n",
    ")\n",
    "\n",
    "user_proxy = autogen.UserProxyAgent(\n",
    "    name=\"user_proxy\",\n",
    "    max_consecutive_auto_reply=10, # 10번 이상 자동 답변을 하지 않음\n",
    "    is_termination_msg=lambda x: x.get(\"content\", \"\").rstrip().endswith(\"TERMINATE\"),\n",
    "    code_execution_config={\n",
    "        # the executor to run the generated code\n",
    "        \"executor\": LocalCommandLineCodeExecutor(work_dir=\"coding\"), # 코드 실행을 위한 폴더 지정\n",
    "    },\n",
    "    human_input_mode=\"NEVER\",\n",
    ")\n",
    "\n",
    "chat_res = user_proxy.initiate_chat(\n",
    "    assistant,\n",
    "    message=\"\"\"100까지 소수가 어떤 것이 있는지 코드로 살펴봐주세요.\"\"\",\n",
    "    summary_method=\"reflection_with_llm\",\n",
    ")"
   ]
  },
  {
   "cell_type": "code",
   "execution_count": 4,
   "metadata": {},
   "outputs": [
    {
     "name": "stdout",
     "output_type": "stream",
     "text": [
      "Chat history: [{'content': '100까지 소수가 어떤 것이 있는지 코드로 살펴봐주세요.', 'role': 'assistant', 'name': 'user_proxy'}, {'content': '소수를 찾기 위해 1부터 100까지의 숫자를 검사하는 파이썬 코드를 작성하겠습니다. 이 코드는 소수를 판별하고, 100 이하의 모든 소수를 출력할 것입니다.\\n\\n아래 코드를 실행해 주세요.\\n\\n```python\\n# filename: find_primes.py\\ndef is_prime(n):\\n    if n <= 1:\\n        return False\\n    for i in range(2, int(n**0.5) + 1):\\n        if n % i == 0:\\n            return False\\n    return True\\n\\nprimes = [num for num in range(1, 101) if is_prime(num)]\\nprint(primes)\\n```\\n\\n코드를 실행한 후 결과를 확인해 주세요.', 'role': 'user', 'name': 'assistant'}, {'content': 'exitcode: 0 (execution succeeded)\\nCode output: [2, 3, 5, 7, 11, 13, 17, 19, 23, 29, 31, 37, 41, 43, 47, 53, 59, 61, 67, 71, 73, 79, 83, 89, 97]\\n', 'role': 'assistant', 'name': 'user_proxy'}, {'content': '100 이하의 소수는 다음과 같습니다:\\n\\n\\\\[2, 3, 5, 7, 11, 13, 17, 19, 23, 29, 31, 37, 41, 43, 47, 53, 59, 61, 67, 71, 73, 79, 83, 89, 97\\\\]\\n\\n모든 작업이 완료되었습니다. TERMINATE', 'role': 'user', 'name': 'assistant'}]\n",
      "--------------------------------------------------\n",
      "Summary: 100 이하의 소수는 2, 3, 5, 7, 11, 13, 17, 19, 23, 29, 31, 37, 41, 43, 47, 53, 59, 61, 67, 71, 73, 79, 83, 89, 97이다.\n",
      "--------------------------------------------------\n",
      "Cost info: {'usage_including_cached_inference': {'total_cost': 0.00044054999999999995, 'gpt-4o-mini-2024-07-18': {'cost': 0.00044054999999999995, 'prompt_tokens': 1613, 'completion_tokens': 331, 'total_tokens': 1944}}, 'usage_excluding_cached_inference': {'total_cost': 0.00044054999999999995, 'gpt-4o-mini-2024-07-18': {'cost': 0.00044054999999999995, 'prompt_tokens': 1613, 'completion_tokens': 331, 'total_tokens': 1944}}}\n"
     ]
    }
   ],
   "source": [
    "print(\"Chat history:\", chat_res.chat_history) # 대화 기록\n",
    "print(\"-\" * 50)\n",
    "print(\"Summary:\", chat_res.summary) # 대화 요약\n",
    "print(\"-\" * 50)\n",
    "print(\"Cost info:\", chat_res.cost) # 대화 간에 발생했던 비용"
   ]
  },
  {
   "cell_type": "markdown",
   "metadata": {},
   "source": [
    "앞에 대화에 이어서 메시지를 보내고 싶다면???"
   ]
  },
  {
   "cell_type": "markdown",
   "metadata": {},
   "source": [
    "user_proxy가 assistant에게 메시지를 전달하면 됨"
   ]
  },
  {
   "cell_type": "code",
   "execution_count": 5,
   "metadata": {},
   "outputs": [
    {
     "name": "stdout",
     "output_type": "stream",
     "text": [
      "\u001b[33muser_proxy\u001b[0m (to assistant):\n",
      "\n",
      "예시 영어 문장을 만들고, 키워드를 추출하세요\n",
      "\n",
      "--------------------------------------------------------------------------------\n",
      "\u001b[33massistant\u001b[0m (to user_proxy):\n",
      "\n",
      "예시 영어 문장을 만들고, 그 문장에서 키워드를 추출하는 파이썬 코드를 작성하겠습니다. 이 코드는 문장을 분석하여 주요 단어를 추출할 것입니다.\n",
      "\n",
      "아래 코드를 실행해 주세요.\n",
      "\n",
      "```python\n",
      "# filename: extract_keywords.py\n",
      "from sklearn.feature_extraction.text import CountVectorizer\n",
      "\n",
      "# 예시 문장\n",
      "sentence = \"Artificial intelligence is transforming the way we live and work.\"\n",
      "\n",
      "# CountVectorizer를 사용하여 키워드 추출\n",
      "vectorizer = CountVectorizer(stop_words='english')\n",
      "X = vectorizer.fit_transform([sentence])\n",
      "keywords = vectorizer.get_feature_names_out()\n",
      "\n",
      "print(keywords)\n",
      "```\n",
      "\n",
      "코드를 실행한 후 결과를 확인해 주세요.\n",
      "\n",
      "--------------------------------------------------------------------------------\n",
      "\u001b[31m\n",
      ">>>>>>>> EXECUTING CODE BLOCK (inferred language is python)...\u001b[0m\n",
      "\u001b[33muser_proxy\u001b[0m (to assistant):\n",
      "\n",
      "exitcode: 1 (execution failed)\n",
      "Code output: Traceback (most recent call last):\n",
      "  File \"/Users/sguys99/Desktop/project/langchain-study/fc-agent/part2/ch2.autogen/coding/extract_keywords.py\", line 2, in <module>\n",
      "    from sklearn.feature_extraction.text import CountVectorizer\n",
      "ModuleNotFoundError: No module named 'sklearn'\n",
      "\n",
      "\n",
      "--------------------------------------------------------------------------------\n",
      "\u001b[33massistant\u001b[0m (to user_proxy):\n",
      "\n",
      "`sklearn` 모듈이 설치되어 있지 않아 오류가 발생했습니다. `sklearn` 대신에 기본 파이썬 라이브러리만 사용하여 키워드를 추출하는 방법으로 코드를 수정하겠습니다. 이 코드는 간단한 방법으로 문장에서 키워드를 추출할 것입니다.\n",
      "\n",
      "아래 코드를 실행해 주세요.\n",
      "\n",
      "```python\n",
      "# filename: extract_keywords.py\n",
      "import re\n",
      "from collections import Counter\n",
      "\n",
      "# 예시 문장\n",
      "sentence = \"Artificial intelligence is transforming the way we live and work.\"\n",
      "\n",
      "# 문장에서 단어 추출 및 소문자로 변환\n",
      "words = re.findall(r'\\b\\w+\\b', sentence.lower())\n",
      "\n",
      "# 불용어 제거\n",
      "stop_words = set(['is', 'the', 'and', 'we'])\n",
      "keywords = [word for word in words if word not in stop_words]\n",
      "\n",
      "# 키워드의 빈도수 계산\n",
      "keyword_counts = Counter(keywords)\n",
      "\n",
      "# 가장 흔한 키워드 출력\n",
      "print(keyword_counts.most_common())\n",
      "```\n",
      "\n",
      "코드를 실행한 후 결과를 확인해 주세요.\n",
      "\n",
      "--------------------------------------------------------------------------------\n",
      "\u001b[31m\n",
      ">>>>>>>> EXECUTING CODE BLOCK (inferred language is python)...\u001b[0m\n",
      "\u001b[33muser_proxy\u001b[0m (to assistant):\n",
      "\n",
      "exitcode: 0 (execution succeeded)\n",
      "Code output: [('artificial', 1), ('intelligence', 1), ('transforming', 1), ('way', 1), ('live', 1), ('work', 1)]\n",
      "\n",
      "\n",
      "--------------------------------------------------------------------------------\n",
      "\u001b[33massistant\u001b[0m (to user_proxy):\n",
      "\n",
      "문장에서 추출된 키워드는 다음과 같습니다:\n",
      "\n",
      "- 'artificial': 1\n",
      "- 'intelligence': 1\n",
      "- 'transforming': 1\n",
      "- 'way': 1\n",
      "- 'live': 1\n",
      "- 'work': 1\n",
      "\n",
      "각 키워드는 문장에서 1회 등장했습니다. 모든 작업이 완료되었습니다. TERMINATE\n",
      "\n",
      "--------------------------------------------------------------------------------\n",
      "\u001b[31m\n",
      ">>>>>>>> TERMINATING RUN (71ff9f2a-e190-44a3-a269-318cb074395a): Termination message condition on agent 'user_proxy' met\u001b[0m\n"
     ]
    }
   ],
   "source": [
    "# followup of the previous question\n",
    "user_proxy.send(\n",
    "    recipient=assistant, message=\"\"\"예시 영어 문장을 만들고, 키워드를 추출하세요\"\"\"\n",
    ")"
   ]
  },
  {
   "cell_type": "code",
   "execution_count": null,
   "metadata": {},
   "outputs": [],
   "source": []
  }
 ],
 "metadata": {
  "kernelspec": {
   "display_name": "fc-agent",
   "language": "python",
   "name": "python3"
  },
  "language_info": {
   "codemirror_mode": {
    "name": "ipython",
    "version": 3
   },
   "file_extension": ".py",
   "mimetype": "text/x-python",
   "name": "python",
   "nbconvert_exporter": "python",
   "pygments_lexer": "ipython3",
   "version": "3.12.11"
  }
 },
 "nbformat": 4,
 "nbformat_minor": 2
}
