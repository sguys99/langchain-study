{
 "cells": [
  {
   "cell_type": "markdown",
   "metadata": {},
   "source": [
    "## LangGraph 자세히 알아보기\n",
    "인터넷 검색툴을 결합한 Agent 만들기"
   ]
  },
  {
   "cell_type": "code",
   "execution_count": 1,
   "metadata": {},
   "outputs": [
    {
     "data": {
      "text/plain": [
       "True"
      ]
     },
     "execution_count": 1,
     "metadata": {},
     "output_type": "execute_result"
    }
   ],
   "source": [
    "from dotenv import load_dotenv\n",
    "import os\n",
    "\n",
    "load_dotenv()"
   ]
  },
  {
   "cell_type": "markdown",
   "metadata": {},
   "source": [
    "### 상태 설정"
   ]
  },
  {
   "cell_type": "code",
   "execution_count": 2,
   "metadata": {},
   "outputs": [],
   "source": [
    "from typing import Annotated, TypedDict\n",
    "from langgraph.graph.message import add_messages"
   ]
  },
  {
   "cell_type": "code",
   "execution_count": 3,
   "metadata": {},
   "outputs": [],
   "source": [
    "class State(TypedDict):\n",
    "    messages: Annotated[list, add_messages]"
   ]
  },
  {
   "cell_type": "markdown",
   "metadata": {},
   "source": [
    "### 도구 노드 구축"
   ]
  },
  {
   "cell_type": "code",
   "execution_count": 4,
   "metadata": {},
   "outputs": [
    {
     "name": "stderr",
     "output_type": "stream",
     "text": [
      "/tmp/ipykernel_31731/2074672630.py:4: LangChainDeprecationWarning: The class `TavilySearchResults` was deprecated in LangChain 0.3.25 and will be removed in 1.0. An updated version of the class exists in the :class:`~langchain-tavily package and should be used instead. To use it run `pip install -U :class:`~langchain-tavily` and import as `from :class:`~langchain_tavily import TavilySearch``.\n",
      "  tool = TavilySearchResults(max_results=2)\n"
     ]
    }
   ],
   "source": [
    "from langchain_community.tools.tavily_search import TavilySearchResults\n",
    "from langgraph.prebuilt import ToolNode, tools_condition\n",
    "\n",
    "tool = TavilySearchResults(max_results=2)\n",
    "tools = [tool]\n",
    "tool_node = ToolNode(tools)"
   ]
  },
  {
   "cell_type": "markdown",
   "metadata": {},
   "source": [
    "tool node란...\n",
    "\n",
    "```python\n",
    "import json\n",
    "\n",
    "from langchain_core.messages import ToolMessage\n",
    "\n",
    "class BasicToolNode:\n",
    "    \"\"\"A node that runs the tools requested in the last AIMessage.\"\"\"\n",
    "\n",
    "    def __init__(self, tools: list) -> None:\n",
    "        self.tools_by_name = {tool.name: tool for tool in tools}\n",
    "\n",
    "    def __call__(self, inputs: dict):\n",
    "        if messages := inputs.get(\"messages\", []):\n",
    "            message = messages[-1]\n",
    "        else:\n",
    "            raise ValueError(\"No message found in input\")\n",
    "        outputs = []\n",
    "        for tool_call in message.tool_calls:\n",
    "            tool_result = self.tools_by_name[tool_call[\"name\"]].invoke(\n",
    "                tool_call[\"args\"]\n",
    "            )\n",
    "            outputs.append(\n",
    "                ToolMessage(\n",
    "                    content=json.dumps(tool_result),\n",
    "                    name=tool_call[\"name\"],\n",
    "                    tool_call_id=tool_call[\"id\"],\n",
    "                )\n",
    "            )\n",
    "        return {\"messages\": outputs}\n",
    "\n",
    "```"
   ]
  },
  {
   "cell_type": "markdown",
   "metadata": {},
   "source": [
    "### LLM 설정"
   ]
  },
  {
   "cell_type": "code",
   "execution_count": 5,
   "metadata": {},
   "outputs": [],
   "source": [
    "from langchain_openai import ChatOpenAI\n",
    "\n",
    "llm = ChatOpenAI(model=\"gpt-4o-mini\")\n",
    "llm_with_tools = llm.bind_tools(tools)\n",
    "\n",
    "def chatbot(state: State):\n",
    "    result = llm_with_tools.invoke(state[\"messages\"])\n",
    "    return {\"messages\": [result]}\n"
   ]
  },
  {
   "cell_type": "markdown",
   "metadata": {},
   "source": [
    "### 그래프 구축"
   ]
  },
  {
   "cell_type": "code",
   "execution_count": 6,
   "metadata": {},
   "outputs": [],
   "source": [
    "from langgraph.graph import StateGraph\n",
    "\n",
    "graph_builder = StateGraph(State)\n",
    "\n",
    "graph_builder.add_node(\"chatbot\", chatbot)\n",
    "graph_builder.add_node(\"tools\", tool_node)\n",
    "\n",
    "graph_builder.add_edge(\"tools\", \"chatbot\")\n",
    "graph_builder.add_conditional_edges(\"chatbot\", tools_condition)\n",
    "\n",
    "graph_builder.set_entry_point(\"chatbot\")\n",
    "graph = graph_builder.compile()"
   ]
  },
  {
   "cell_type": "code",
   "execution_count": 7,
   "metadata": {},
   "outputs": [
    {
     "data": {
      "image/png": "[encoded data removed]",
      "text/plain": [
       "<IPython.core.display.Image object>"
      ]
     },
     "metadata": {},
     "output_type": "display_data"
    }
   ],
   "source": [
    "from IPython.display import Image, display\n",
    "\n",
    "try:\n",
    "    display(Image(graph.get_graph().draw_mermaid_png()))\n",
    "except Exception:\n",
    "    # This requires some extra dependencies and is optional\n",
    "    pass"
   ]
  },
  {
   "cell_type": "markdown",
   "metadata": {},
   "source": [
    "### 인터넷 검색이 필요한 질문"
   ]
  },
  {
   "cell_type": "code",
   "execution_count": 8,
   "metadata": {},
   "outputs": [
    {
     "data": {
      "text/plain": [
       "{'messages': [HumanMessage(content='지금 한국 대통령은 누구야?', additional_kwargs={}, response_metadata={}, id='6ab293ed-dbc9-4c40-ae9d-ac19f7a4d6a5'),\n",
       "  AIMessage(content='', additional_kwargs={'tool_calls': [{'id': 'call_84cvk4iNxMak5TNL7LsTIsoQ', 'function': {'arguments': '{\"query\":\"현재 한국 대통령\"}', 'name': 'tavily_search_results_json'}, 'type': 'function'}], 'refusal': None}, response_metadata={'token_usage': {'completion_tokens': 20, 'prompt_tokens': 87, 'total_tokens': 107, 'completion_tokens_details': {'accepted_prediction_tokens': 0, 'audio_tokens': 0, 'reasoning_tokens': 0, 'rejected_prediction_tokens': 0}, 'prompt_tokens_details': {'audio_tokens': 0, 'cached_tokens': 0}}, 'model_name': 'gpt-4o-mini-2024-07-18', 'system_fingerprint': 'fp_34a54ae93c', 'finish_reason': 'tool_calls', 'logprobs': None}, id='run--065da749-26f8-4bc5-92f3-23edee7112e4-0', tool_calls=[{'name': 'tavily_search_results_json', 'args': {'query': '현재 한국 대통령'}, 'id': 'call_84cvk4iNxMak5TNL7LsTIsoQ', 'type': 'tool_call'}], usage_metadata={'input_tokens': 87, 'output_tokens': 20, 'total_tokens': 107, 'input_token_details': {'audio': 0, 'cache_read': 0}, 'output_token_details': {'audio': 0, 'reasoning': 0}}),\n",
       "  ToolMessage(content='[{\"title\": \"대한민국 대통령 목록 - 위키백과, 우리 모두의 백과사전\", \"url\": \"https://ko.wikipedia.org/wiki/%EB%8C%80%ED%95%9C%EB%AF%BC%EA%B5%AD_%EB%8C%80%ED%86%B5%EB%A0%B9_%EB%AA%A9%EB%A1%9D\", \"content\": \"|\\\\n| --- |\\\\n| \\\\n\\\\nImage 30\\\\n\\\\n | \\\\n\\\\n   1·2·3 이승만\\\\n   4 윤보선\\\\n   5·6·7·8·9 박정희\\\\n   10 최규하\\\\n   11·12 전두환\\\\n   13 노태우\\\\n\\\\n | \\\\n\\\\nImage 31\\\\n\\\\n |\\\\n| \\\\n\\\\n   14 김영삼\\\\n   15 김대중\\\\n   16 노무현\\\\n   17 이명박\\\\n   18 박근혜\\\\n   19 문재인\\\\n   20 윤석열\\\\n\\\\n |\\\\n| \\\\n\\\\n   고조선\\\\n   부여\\\\n   고구려\\\\n   백제\\\\n   신라\\\\n   가야\\\\n   탐라\\\\n   발해\\\\n   후삼국\\\\n   고려\\\\n   조선\\\\n   대한제국\\\\n   일제강점기\\\\n   조선 이왕\\\\n   대한민국 임시정부\\\\n   대한민국\\\\n   조선민주주의인민공화국\\\\n\\\\n |\\\\n\\\\n| \\\\n   v\\\\n   t\\\\n   e\\\\n\\\\n대한민국의 대통령과 3부요인 및 헌법기관장\\\\n\\\\n |\\\\n| --- |\\\\n| \\\\n\\\\n   대통령(공석)\\\\n   국회의장(우원식)\\\\n   대법원장(조희대)\\\\n   헌법재판소장(공석)\\\\n   국무총리(한덕수)\\\\n   중앙선거관리위원장(노태악)\\\\n\\\\n |\\\\n\\\\n원본 주소 \\\\\"\\\\n\\\\n분류: [...] 16.  ↑_19-0) 대통령기록관 (박정희)).\\\\n17.  ↑_20-0) 탁양현 (2020)).\\\\n18.  ↑_22-0) 대통령기록관 (최규하)).\\\\n19.  ↑_23-0) 한국민족문화대백과사전 (박충훈)). sfnp error: 대상 없음: CITEREF한국민족문화대백과사전\\\\\\\\_(박충훈) (help)\\\\n20.  ↑_24-0) 대통령기록관 (전두환)).\\\\n21.  ↑_25-0) 대통령기록관 (노태우)).\\\\n22.  ↑_26-0) 대통령기록관 (김영삼)).\\\\n23.  ↑_27-0) 대통령기록관 (김대중)).\\\\n24.  ↑_28-0) 대통령기록관 (노무현)).\\\\n25.  ↑_29-0) 김상철 (2013)).\\\\n26.  ↑_31-0) KBS 뉴스 (2004)).\\\\n27.  ↑_32-0) 대통령기록관 (이명박)).\\\\n28.  ↑_33-0) 연합뉴스 (2012)).\\\\n29.  ↑_34-0) 대통령기록관 (박근혜)).\\\\n30.  ↑_35-0) 의안정보시스템 (2016)). [...] 2022년 5월 10일 취임한 윤석열은 비상계엄으로 비롯한 탄핵소추로 대통령 직무가 정지되었으며, 그 결과 한덕수 국무총리가 권한대행을 수행했다.[\\\\\\\\[4\\\\\\\\]]( 이후 한덕수 국무총리에 대한 탄핵소추 역시 국회에서 가결됨에 따라 한덕수의 직무도 정지되었다. 이로 인해 권한대행 2순위인 기획재정부 장관 최상목이 권한대행을 이어받아 수행하였다.[\\\\\\\\[5\\\\\\\\]]( 2025년 3월 24일 국무총리 탄핵심판이 기각되면서 한덕수가 대통령 권한대행으로 복귀했다.[\\\\\\\\[6\\\\\\\\]]( 이후 4월 4일 헌법재판소가 대통령 탄핵소추를 인용하면서 윤석열이 파면되었다.[\\\\\\\\[7\\\\\\\\]]( 현재 제21대 대통령 선거가 진행되기 전까지 한덕수 국무총리가 대통령 권한대행을 수행할 예정이다.\\\\n\\\\n대통령 목록\\\\n------\", \"score\": 0.7742597}, {\"title\": \"대한민국 대통령 - 나무위키\", \"url\": \"https://namu.wiki/w/%EB%8C%80%ED%95%9C%EB%AF%BC%EA%B5%AD%20%EB%8C%80%ED%86%B5%EB%A0%B9\", \"content\": \"현재 헌법대로 대통령직을 5년간 직무수행한 대통령은 노태우, 김영삼, 김대중, 노무현, 이명박, 문재인까지 총 6명이며, 대통령 직무수행 기간이 5년이 아닌 대통령들은 다음과 같다. [...] 대한민국 대통령은 대한민국의 대통령 기관(機關)·직위(職位) 및 이를 수행하는 인물을 가리킨다. 2025년 4월 4일 기준 대한민국의 현직 대통령은 없으며, 한덕수 국무총리가 대통령 권한을 대행하고 있다.\", \"score\": 0.7606688}]', name='tavily_search_results_json', id='f84c9133-d2fd-4e2b-b336-020773bc9910', tool_call_id='call_84cvk4iNxMak5TNL7LsTIsoQ', artifact={'query': '현재 한국 대통령', 'follow_up_questions': None, 'answer': None, 'images': [], 'results': [{'url': 'https://ko.wikipedia.org/wiki/%EB%8C%80%ED%95%9C%EB%AF%BC%EA%B5%AD_%EB%8C%80%ED%86%B5%EB%A0%B9_%EB%AA%A9%EB%A1%9D', 'title': '대한민국 대통령 목록 - 위키백과, 우리 모두의 백과사전', 'content': '|\\n| --- |\\n| \\n\\nImage 30\\n\\n | \\n\\n   1·2·3 이승만\\n   4 윤보선\\n   5·6·7·8·9 박정희\\n   10 최규하\\n   11·12 전두환\\n   13 노태우\\n\\n | \\n\\nImage 31\\n\\n |\\n| \\n\\n   14 김영삼\\n   15 김대중\\n   16 노무현\\n   17 이명박\\n   18 박근혜\\n   19 문재인\\n   20 윤석열\\n\\n |\\n| \\n\\n   고조선\\n   부여\\n   고구려\\n   백제\\n   신라\\n   가야\\n   탐라\\n   발해\\n   후삼국\\n   고려\\n   조선\\n   대한제국\\n   일제강점기\\n   조선 이왕\\n   대한민국 임시정부\\n   대한민국\\n   조선민주주의인민공화국\\n\\n |\\n\\n| \\n   v\\n   t\\n   e\\n\\n대한민국의 대통령과 3부요인 및 헌법기관장\\n\\n |\\n| --- |\\n| \\n\\n   대통령(공석)\\n   국회의장(우원식)\\n   대법원장(조희대)\\n   헌법재판소장(공석)\\n   국무총리(한덕수)\\n   중앙선거관리위원장(노태악)\\n\\n |\\n\\n원본 주소 \"\\n\\n분류: [...] 16.  ↑_19-0) 대통령기록관 (박정희)).\\n17.  ↑_20-0) 탁양현 (2020)).\\n18.  ↑_22-0) 대통령기록관 (최규하)).\\n19.  ↑_23-0) 한국민족문화대백과사전 (박충훈)). sfnp error: 대상 없음: CITEREF한국민족문화대백과사전\\\\_(박충훈) (help)\\n20.  ↑_24-0) 대통령기록관 (전두환)).\\n21.  ↑_25-0) 대통령기록관 (노태우)).\\n22.  ↑_26-0) 대통령기록관 (김영삼)).\\n23.  ↑_27-0) 대통령기록관 (김대중)).\\n24.  ↑_28-0) 대통령기록관 (노무현)).\\n25.  ↑_29-0) 김상철 (2013)).\\n26.  ↑_31-0) KBS 뉴스 (2004)).\\n27.  ↑_32-0) 대통령기록관 (이명박)).\\n28.  ↑_33-0) 연합뉴스 (2012)).\\n29.  ↑_34-0) 대통령기록관 (박근혜)).\\n30.  ↑_35-0) 의안정보시스템 (2016)). [...] 2022년 5월 10일 취임한 윤석열은 비상계엄으로 비롯한 탄핵소추로 대통령 직무가 정지되었으며, 그 결과 한덕수 국무총리가 권한대행을 수행했다.[\\\\[4\\\\]]( 이후 한덕수 국무총리에 대한 탄핵소추 역시 국회에서 가결됨에 따라 한덕수의 직무도 정지되었다. 이로 인해 권한대행 2순위인 기획재정부 장관 최상목이 권한대행을 이어받아 수행하였다.[\\\\[5\\\\]]( 2025년 3월 24일 국무총리 탄핵심판이 기각되면서 한덕수가 대통령 권한대행으로 복귀했다.[\\\\[6\\\\]]( 이후 4월 4일 헌법재판소가 대통령 탄핵소추를 인용하면서 윤석열이 파면되었다.[\\\\[7\\\\]]( 현재 제21대 대통령 선거가 진행되기 전까지 한덕수 국무총리가 대통령 권한대행을 수행할 예정이다.\\n\\n대통령 목록\\n------', 'score': 0.7742597, 'raw_content': None}, {'url': 'https://namu.wiki/w/%EB%8C%80%ED%95%9C%EB%AF%BC%EA%B5%AD%20%EB%8C%80%ED%86%B5%EB%A0%B9', 'title': '대한민국 대통령 - 나무위키', 'content': '현재 헌법대로 대통령직을 5년간 직무수행한 대통령은 노태우, 김영삼, 김대중, 노무현, 이명박, 문재인까지 총 6명이며, 대통령 직무수행 기간이 5년이 아닌 대통령들은 다음과 같다. [...] 대한민국 대통령은 대한민국의 대통령 기관(機關)·직위(職位) 및 이를 수행하는 인물을 가리킨다. 2025년 4월 4일 기준 대한민국의 현직 대통령은 없으며, 한덕수 국무총리가 대통령 권한을 대행하고 있다.', 'score': 0.7606688, 'raw_content': None}], 'response_time': 0.73}),\n",
       "  AIMessage(content='현재 대한민국의 대통령은 윤석열입니다. 그는 2022년 5월 10일에 취임하였으며, 현재까지 재임 중입니다. 더 자세한 정보는 [여기](https://ko.wikipedia.org/wiki/%EB%8C%80%ED%95%9C%EB%AF%BC%EA%B5%AD_%EB%8C%80%ED%86%B5%EB%A0%B9_%EB%AA%A9%EB%A1%9D)에서 확인하실 수 있습니다.', additional_kwargs={'refusal': None}, response_metadata={'token_usage': {'completion_tokens': 117, 'prompt_tokens': 1382, 'total_tokens': 1499, 'completion_tokens_details': {'accepted_prediction_tokens': 0, 'audio_tokens': 0, 'reasoning_tokens': 0, 'rejected_prediction_tokens': 0}, 'prompt_tokens_details': {'audio_tokens': 0, 'cached_tokens': 1280}}, 'model_name': 'gpt-4o-mini-2024-07-18', 'system_fingerprint': 'fp_34a54ae93c', 'finish_reason': 'stop', 'logprobs': None}, id='run--05b8a952-9b37-4672-985e-10c03fe1b418-0', usage_metadata={'input_tokens': 1382, 'output_tokens': 117, 'total_tokens': 1499, 'input_token_details': {'audio': 0, 'cache_read': 1280}, 'output_token_details': {'audio': 0, 'reasoning': 0}})]}"
      ]
     },
     "execution_count": 8,
     "metadata": {},
     "output_type": "execute_result"
    }
   ],
   "source": [
    "graph.invoke({\"messages\": {\"role\": \"user\", \"content\": \"지금 한국 대통령은 누구야?\"}})"
   ]
  },
  {
   "cell_type": "markdown",
   "metadata": {},
   "source": [
    "### LLM이 답할 수 있는 질문"
   ]
  },
  {
   "cell_type": "code",
   "execution_count": 9,
   "metadata": {},
   "outputs": [
    {
     "data": {
      "text/plain": [
       "{'messages': [HumanMessage(content='마이크로소프트가 어떤 회사야?', additional_kwargs={}, response_metadata={}, id='b868974b-7367-44b1-ac56-488f38a42fe1'),\n",
       "  AIMessage(content='마이크로소프트(Microsoft)는 미국의 다국적 기술 회사로, 소프트웨어, 하드웨어, 전자제품 및 서비스 분야에서 활동하고 있습니다. 1975년 빌 게이츠와 폴 앨런에 의해 설립되었으며, 본사는 워싱턴주 레드몬드에 위치하고 있습니다.\\n\\n주요 제품과 서비스로는 다음과 같은 것들이 있습니다:\\n\\n1. **운영 체제**: Microsoft Windows는 개인용 컴퓨터에서 가장 널리 사용되는 운영 체제입니다.\\n2. **오피스 소프트웨어**: Microsoft Office는 워드, 엑셀, 파워포인트 등 다양한 생산성 도구를 포함합니다.\\n3. **클라우드 서비스**: Microsoft Azure는 클라우드 컴퓨팅 플랫폼으로, 기업들이 데이터 저장 및 애플리케이션 호스팅을 할 수 있도록 지원합니다.\\n4. **게임**: Xbox는 마이크로소프트의 비디오 게임 콘솔 브랜드로, 다양한 게임과 엔터테인먼트 서비스를 제공합니다.\\n5. **기타 제품**: Surface 시리즈의 태블릿 및 노트북, LinkedIn과 같은 소셜 네트워크 서비스, 그리고 다양한 개발 도구와 API도 제공합니다.\\n\\n마이크로소프트는 기술 혁신과 사회적 책임을 강조하며, 다양한 산업에 걸쳐 디지털 전환을 지원하는 데 중점을 두고 있습니다.', additional_kwargs={'refusal': None}, response_metadata={'token_usage': {'completion_tokens': 304, 'prompt_tokens': 89, 'total_tokens': 393, 'completion_tokens_details': {'accepted_prediction_tokens': 0, 'audio_tokens': 0, 'reasoning_tokens': 0, 'rejected_prediction_tokens': 0}, 'prompt_tokens_details': {'audio_tokens': 0, 'cached_tokens': 0}}, 'model_name': 'gpt-4o-mini-2024-07-18', 'system_fingerprint': 'fp_34a54ae93c', 'finish_reason': 'stop', 'logprobs': None}, id='run--dd9f8012-d376-4a05-917d-6ff6a916890f-0', usage_metadata={'input_tokens': 89, 'output_tokens': 304, 'total_tokens': 393, 'input_token_details': {'audio': 0, 'cache_read': 0}, 'output_token_details': {'audio': 0, 'reasoning': 0}})]}"
      ]
     },
     "execution_count": 9,
     "metadata": {},
     "output_type": "execute_result"
    }
   ],
   "source": [
    "graph.invoke({\"messages\": {\"role\": \"user\", \"content\": \"마이크로소프트가 어떤 회사야?\"}})"
   ]
  },
  {
   "cell_type": "code",
   "execution_count": null,
   "metadata": {},
   "outputs": [],
   "source": []
  }
 ],
 "metadata": {
  "kernelspec": {
   "display_name": "fc-agent",
   "language": "python",
   "name": "python3"
  },
  "language_info": {
   "codemirror_mode": {
    "name": "ipython",
    "version": 3
   },
   "file_extension": ".py",
   "mimetype": "text/x-python",
   "name": "python",
   "nbconvert_exporter": "python",
   "pygments_lexer": "ipython3",
   "version": "3.12.11"
  }
 },
 "nbformat": 4,
 "nbformat_minor": 2
}
