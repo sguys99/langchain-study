{
  "cells": [
    {
      "cell_type": "markdown",
      "metadata": {},
      "source": [
        "# 2.4 생성된 답변을 여러번 검증하는 Self-RAG\n",
        "\n",
        "- [Self-RAG: Learning to Retrieve, Generate, and Critique through Self-Reflection](https://arxiv.org/abs/2310.11511)논문을 구현합니다\n",
        "- LangGraph 공식문서에 나온 흐름을 따라갑니다\n",
        "![self-rag](https://i.imgur.com/X11ND6N.png)"
      ]
    },
    {
      "cell_type": "code",
      "execution_count": 1,
      "metadata": {},
      "outputs": [
        {
          "data": {
            "text/plain": [
              "True"
            ]
          },
          "execution_count": 1,
          "metadata": {},
          "output_type": "execute_result"
        }
      ],
      "source": [
        "from dotenv import load_dotenv\n",
        "\n",
        "load_dotenv()"
      ]
    },
    {
      "cell_type": "markdown",
      "metadata": {},
      "source": [
        "앞에 작업한 것과 동일한 코드 정의"
      ]
    },
    {
      "cell_type": "code",
      "execution_count": 2,
      "metadata": {},
      "outputs": [],
      "source": [
        "from langchain_chroma import Chroma\n",
        "from langchain_openai import OpenAIEmbeddings\n",
        "\n",
        "embedding_function = OpenAIEmbeddings(model=\"text-embedding-3-large\")\n",
        "\n",
        "vector_store = Chroma(\n",
        "    embedding_function=embedding_function,\n",
        "    collection_name=\"income_tax_collection\",\n",
        "    persist_directory=\"./income_tax_collection\",\n",
        ")\n",
        "retriever = vector_store.as_retriever(search_kwargs={\"k\": 3})"
      ]
    },
    {
      "cell_type": "code",
      "execution_count": 3,
      "metadata": {},
      "outputs": [],
      "source": [
        "from typing_extensions import List, TypedDict\n",
        "from langchain_core.documents import Document\n",
        "from langgraph.graph import StateGraph\n",
        "\n",
        "\n",
        "class AgentState(TypedDict):\n",
        "    query: str\n",
        "    context: List[Document]\n",
        "    answer: str\n",
        "\n",
        "\n",
        "graph_builder = StateGraph(AgentState)"
      ]
    },
    {
      "cell_type": "code",
      "execution_count": 4,
      "metadata": {},
      "outputs": [],
      "source": [
        "def retrieve(state: AgentState) -> AgentState:\n",
        "    \"\"\"\n",
        "    사용자의 질문에 기반하여 벡터 스토어에서 관련 문서를 검색합니다.\n",
        "\n",
        "    Args:\n",
        "        state (AgentState): 사용자의 질문을 포함한 에이전트의 현재 state.\n",
        "\n",
        "    Returns:\n",
        "        AgentState: 검색된 문서가 추가된 state를 반환합니다.\n",
        "    \"\"\"\n",
        "    query = state[\"query\"]\n",
        "    docs = retriever.invoke(query)\n",
        "    return {\"context\": docs}"
      ]
    },
    {
      "cell_type": "code",
      "execution_count": 5,
      "metadata": {},
      "outputs": [],
      "source": [
        "from langchain_openai import ChatOpenAI\n",
        "\n",
        "llm = ChatOpenAI(model=\"gpt-4o\")"
      ]
    },
    {
      "cell_type": "code",
      "execution_count": 6,
      "metadata": {},
      "outputs": [],
      "source": [
        "from langchain import hub\n",
        "\n",
        "# 허브에서 RAG 프롬프트를 가져옵니다\n",
        "generate_prompt = hub.pull(\"rlm/rag-prompt\")\n",
        "\n",
        "# 지정된 매개변수로 언어 모델을 초기화합니다\n",
        "generate_llm = ChatOpenAI(model=\"gpt-4o\", max_completion_tokens=100)\n",
        "# 뒤에 할루시네이션 체크를 잘되게 하기 위해 max토큰 길이 조정\n",
        "\n",
        "\n",
        "def generate(state: AgentState) -> AgentState:\n",
        "    \"\"\"\n",
        "    주어진 state를 기반으로 RAG 체인을 사용하여 응답을 생성합니다.\n",
        "\n",
        "    Args:\n",
        "        state (AgentState): 사용자의 질문과 문맥을 포함한 에이전트의 현재 state.\n",
        "\n",
        "    Returns:\n",
        "        AgentState: 생성된 응답을 포함하는 state를 반환합니다.\n",
        "    \"\"\"\n",
        "    # state에서 컨텍스트와 쿼리를 추출합니다\n",
        "    context = state[\"context\"]\n",
        "    query = state[\"query\"]\n",
        "\n",
        "    # 작업 체인을 생성합니다: 먼저 프롬프트를 검색하고, 그 다음 응답을 생성합니다\n",
        "    rag_chain = generate_prompt | generate_llm\n",
        "\n",
        "    # 쿼리와 컨텍스트로 체인을 호출하여 응답을 얻습니다\n",
        "    response = rag_chain.invoke({\"question\": query, \"context\": context})\n",
        "\n",
        "    # 생성된 답변을 반환합니다\n",
        "    return {\"answer\": response.content}"
      ]
    },
    {
      "cell_type": "markdown",
      "metadata": {},
      "source": [
        "`retrieve` 노드는 앞에 작업한 것을 수정한다.   \n",
        "    - 문서와 관련이 없다면 질문에 답변할 수 없다고 판단하고 마무리   \n",
        "    - 문서와 관련이 있다면 `generate` 노드로 이동해서 답변을 생성"
      ]
    },
    {
      "cell_type": "markdown",
      "metadata": {},
      "source": [
        "**(중요)**   \n",
        "그런데 관련이 없을 때 END를 리턴하면 에러가 발생함.   \n",
        "END는 노드가 아니어서 선택할 수 없기 때문이다.   \n",
        "따라서 relevant와 irrelevant를 리턴하는 함수를 만들어서 사용한다."
      ]
    },
    {
      "cell_type": "code",
      "execution_count": 7,
      "metadata": {},
      "outputs": [],
      "source": [
        "from langchain import hub\n",
        "from typing import Literal\n",
        "\n",
        "doc_relevance_prompt = hub.pull(\"langchain-ai/rag-document-relevance\")\n",
        "\n",
        "\n",
        "def check_doc_relevance(state: AgentState) -> Literal[\"relevant\", \"irrelevant\"]:\n",
        "    \"\"\"\n",
        "    주어진 state를 기반으로 문서의 관련성을 판단합니다.\n",
        "\n",
        "    Args:\n",
        "        state (AgentState): 사용자의 질문과 문맥을 포함한 에이전트의 현재 state.\n",
        "\n",
        "    Returns:\n",
        "        Literal['relevant', 'irrelevant']: 문서가 관련성이 높으면 'relevant', 그렇지 않으면 'irrelevant'를 반환합니다.\n",
        "    \"\"\"\n",
        "    query = state[\"query\"]\n",
        "    context = state[\"context\"]\n",
        "\n",
        "    doc_relevance_chain = doc_relevance_prompt | llm\n",
        "    response = doc_relevance_chain.invoke({\"question\": query, \"documents\": context})\n",
        "\n",
        "    if response[\"Score\"] == 1:\n",
        "        # 2.3장과 다르게 `relevant`와 `irrelevant`를 반환합니다\n",
        "        # node를 직접 지정하는 것보다 실제 판단 결과를 리턴하면서 해당 node의 재사용성을 높일 수 있습니다.\n",
        "        return \"relevant\"\n",
        "\n",
        "    return \"irrelevant\""
      ]
    },
    {
      "cell_type": "code",
      "execution_count": 8,
      "metadata": {},
      "outputs": [],
      "source": [
        "from langchain_core.prompts import PromptTemplate\n",
        "from langchain_core.output_parsers import StrOutputParser\n",
        "\n",
        "dictionary = [\"사람과 관련된 표현 -> 거주자\"]\n",
        "\n",
        "rewrite_prompt = PromptTemplate.from_template(\n",
        "    f\"\"\"\n",
        "사용자의 질문을 보고, 우리의 사전을 참고해서 사용자의 질문을 변경해주세요 \n",
        "사전: {dictionary}                                           \n",
        "질문: {{query}}\n",
        "\"\"\"\n",
        ")\n",
        "\n",
        "\n",
        "def rewrite(state: AgentState) -> AgentState:\n",
        "    \"\"\"\n",
        "    사용자의 질문을 사전을 참고하여 변경합니다.\n",
        "\n",
        "    Args:\n",
        "        state (AgentState): 사용자의 질문을 포함한 에이전트의 현재 state.\n",
        "\n",
        "    Returns:\n",
        "        AgentState: 변경된 질문을 포함하는 state를 반환합니다.\n",
        "    \"\"\"\n",
        "    query = state[\"query\"]\n",
        "    rewrite_chain = rewrite_prompt | llm | StrOutputParser()\n",
        "\n",
        "    response = rewrite_chain.invoke({\"query\": query})\n",
        "    return {\"query\": response}"
      ]
    },
    {
      "cell_type": "markdown",
      "metadata": {},
      "source": [
        "### 추가 노드 개발"
      ]
    },
    {
      "cell_type": "markdown",
      "metadata": {},
      "source": [
        "답변이 `retrieve` 노드에서 추출된 문서와 관련이 있는지 판단하는 노드\n",
        "- 문서와 관련이 없다면 `generate` 노드로 이동해서 답변을 다시 생성\n",
        "- 문서와 관련이 있다면 `check_helpfulness` 노드로 이동해서 답변이 도움이 되는지 판단"
      ]
    },
    {
      "cell_type": "code",
      "execution_count": 9,
      "metadata": {},
      "outputs": [],
      "source": [
        "# set the LANGCHAIN_API_KEY environment variable (create key in settings)\n",
        "from langchain_core.output_parsers import StrOutputParser\n",
        "\n",
        "hallucination_prompt = PromptTemplate.from_template(\n",
        "    \"\"\"\n",
        "You are a teacher tasked with evaluating whether a student's answer is based on documents or not,\n",
        "Given documents, which are excerpts from income tax law, and a student's answer;\n",
        "If the student's answer is based on documents, respond with \"not hallucinated\",\n",
        "If the student's answer is not based on documents, respond with \"hallucinated\".\n",
        "\n",
        "documents: {documents}\n",
        "student_answer: {student_answer}\n",
        "\"\"\"\n",
        ")\n",
        "\n",
        "hallucination_llm = ChatOpenAI(model=\"gpt-4o\", temperature=0)"
      ]
    },
    {
      "cell_type": "markdown",
      "metadata": {},
      "source": [
        "- langchain hub를 참고함   \n",
        "- https://smith.langchain.com/hub/rlm/rag-answer-hallucination?organizationId=a0ac76fa-c299-507d-8cdf-5fd4bd50925c"
      ]
    },
    {
      "cell_type": "code",
      "execution_count": 10,
      "metadata": {},
      "outputs": [],
      "source": [
        "def check_hallucination(\n",
        "    state: AgentState,\n",
        ") -> Literal[\"hallucinated\", \"not hallucinated\"]:\n",
        "    answer = state[\"answer\"]\n",
        "    context = state[\"context\"]\n",
        "    context = [doc.page_content for doc in context]\n",
        "    hallucination_chain = hallucination_prompt | hallucination_llm | StrOutputParser()\n",
        "    response = hallucination_chain.invoke(\n",
        "        {\"student_answer\": answer, \"documents\": context}\n",
        "    )\n",
        "\n",
        "    return response"
      ]
    },
    {
      "cell_type": "markdown",
      "metadata": {},
      "source": [
        "테스트 해보기"
      ]
    },
    {
      "cell_type": "code",
      "execution_count": 11,
      "metadata": {},
      "outputs": [
        {
          "name": "stdout",
          "output_type": "stream",
          "text": [
            "document\n",
            "| 종합소득         | 세 율                                  |\n",
            "|------------------|---------------------------------------|\n",
            "| 1,400만원 이하   | 과세표준의 6세례셋트                      |\n",
            "| 1,400만원 초과   | 84만원 + (1,400만원을 초과하는 금액의 15%)  |\n",
            "| 5,000만원 이하   | 624만원 + (5,000만원을 초과하는 금액의 24%)  |\n",
            "| 8,800만원 이하   | 1,536만원 + (8,800만원을 초과하는 금액의 35%) |\n",
            "| 1억5천만원 이하  | 3,706만원 + (1억5천만원을 초과하는 금액의 38%) |\n",
            "| 3억 이하         | 9,460만원 + (3억을 초과하는 금액의 40%)      |\n",
            "| 5억 이하         | 1억7,406만원 + (5억을 초과하는 금액의 42%)   |\n",
            "| 10억 이하        | 3억8,406만원 + (10억을 초과하는 금액의 45%)  |\n",
            "법제처 35 \n",
            "국가법령정보센터\n",
            "소득세법\n",
            "② 거주자의 퇴직소득에 대한 소득세는 다음 각 호의 순서에 따라 계산한 금액(이하 \"퇴직소득 산출세액\"이라 한다)으로 한다.\n",
            "<개정> 2013. 1. 1, 2014. 12. 23.\n",
            "1. 해당 사업기간의 퇴직소득세표준(제1항의 세율을 적용하여 계산한 금액\n",
            "2. 제1호의 금액을 12로 나눈 금액에 근속연수를 곱한 금액\n",
            "3. 삭제<2014. 12. 23.>\n",
            "[전문개정 2009. 12. 31.]\n",
            "제2장 세액공제\n",
            "<개정> 2009. 12. 31.\n",
            "제56조(배당세액공제)\n",
            "① 거주자의 종합소득금액에 제17조제3항 각 호의 부분 단서가 적용되는 배당소득액이 합산되어 있는 경우에는 같은 항 각 호 외의 부분 단서에 따라 해당 과세기간의 총수입금액에 대한 금액에 해당하는 세액을 종합소득 산출세액에서 공제한다.\n",
            "<개정> 2009. 12. 31.\n",
            "② 제1항에 따른 공제율을 \"배당세액공제\"라 한다. <개정> 2009. 12. 31.\n",
            "③ 삭제<2006. 12. 30.>\n",
            "④ 제1항을 적용할 때 배당세액공제의 대상이 되는 배당소득금액은 제14조제1항의 종합소득세표준에 포함된 배당소득금액으로서 이자소득 등의 항목과 과세금액을 초과하는 것으로 한다. <개정> 2009. 12. 31.\n",
            "⑤ 배당세액공제의 계산 등에 필요한 사항은 대통령령으로 정한다. <개정> 2009. 12. 31.  \n",
            "제56조의2(기타세액공제)\n",
            "① 제160조제3항에 따른 간편장부대상자가 제70조 또는 제74조에 따른 과세표준청고를 한 때 복식부기를 적용받은 소득금액을 계산하여 제69 조제3항에 따른 부가세를 제외하는 경우에는 해당 장부에 의하여 계산한 기타소득금액의 종합소득금액에서 차지하는 비율을 종합소득 산출세액에 금액의 100분의 20에 해당하는 금액을 종합소득 산출세액에 공제한다. 단, 공제액이 100분의 20을 초과하는 경우에는 100만 원을 공제한다.\n",
            "| 종합소득         | 세 율                                  |\n",
            "|------------------|---------------------------------------|\n",
            "| 1,400만원 이하   | 과세표준의 6세례셋트                      |\n",
            "| 1,400만원 초과   | 84만원 + (1,400만원을 초과하는 금액의 15%)  |\n",
            "| 5,000만원 이하   | 624만원 + (5,000만원을 초과하는 금액의 24%)  |\n",
            "| 8,800만원 이하   | 1,536만원 + (8,800만원을 초과하는 금액의 35%) |\n",
            "| 1억5천만원 이하  | 3,706만원 + (1억5천만원을 초과하는 금액의 38%) |\n",
            "| 3억 이하         | 9,460만원 + (3억을 초과하는 금액의 40%)      |\n",
            "| 5억 이하         | 1억7,406만원 + (5억을 초과하는 금액의 42%)   |\n",
            "| 10억 이하        | 3억8,406만원 + (10억을 초과하는 금액의 45%)  |\n",
            "법제처 35 \n",
            "국가법령정보센터\n",
            "소득세법\n",
            "② 거주자의 퇴직소득에 대한 소득세는 다음 각 호의 순서에 따라 계산한 금액(이하 \"퇴직소득 산출세액\"이라 한다)으로 한다.\n",
            "<개정> 2013. 1. 1, 2014. 12. 23.\n",
            "1. 해당 사업기간의 퇴직소득세표준(제1항의 세율을 적용하여 계산한 금액\n",
            "2. 제1호의 금액을 12로 나눈 금액에 근속연수를 곱한 금액\n",
            "3. 삭제<2014. 12. 23.>\n",
            "[전문개정 2009. 12. 31.]\n",
            "제2장 세액공제\n",
            "<개정> 2009. 12. 31.\n",
            "제56조(배당세액공제)\n",
            "① 거주자의 종합소득금액에 제17조제3항 각 호의 부분 단서가 적용되는 배당소득액이 합산되어 있는 경우에는 같은 항 각 호 외의 부분 단서에 따라 해당 과세기간의 총수입금액에 대한 금액에 해당하는 세액을 종합소득 산출세액에서 공제한다.\n",
            "<개정> 2009. 12. 31.\n",
            "② 제1항에 따른 공제율을 \"배당세액공제\"라 한다. <개정> 2009. 12. 31.\n",
            "③ 삭제<2006. 12. 30.>\n",
            "④ 제1항을 적용할 때 배당세액공제의 대상이 되는 배당소득금액은 제14조제1항의 종합소득세표준에 포함된 배당소득금액으로서 이자소득 등의 항목과 과세금액을 초과하는 것으로 한다. <개정> 2009. 12. 31.\n",
            "⑤ 배당세액공제의 계산 등에 필요한 사항은 대통령령으로 정한다. <개정> 2009. 12. 31.  \n",
            "제56조의2(기타세액공제)\n",
            "① 제160조제3항에 따른 간편장부대상자가 제70조 또는 제74조에 따른 과세표준청고를 한 때 복식부기를 적용받은 소득금액을 계산하여 제69 조제3항에 따른 부가세를 제외하는 경우에는 해당 장부에 의하여 계산한 기타소득금액의 종합소득금액에서 차지하는 비율을 종합소득 산출세액에 금액의 100분의 20에 해당하는 금액을 종합소득 산출세액에 공제한다. 단, 공제액이 100분의 20을 초과하는 경우에는 100만 원을 공제한다.\n",
            "사항: <2013. 1. 1.>\n",
            "[전문개정 2009. 12. 31.]\n",
            "\n",
            "제49조 삭제 <2006. 12. 30.>\n",
            "제6관 종합소득공제 <개정 2009. 12. 31.>\n",
            "제50조(가산공제)\n",
            "공동소득이 있는 거주자(자연인과 법단체)에 대해서는 다음 각 호의 어느 하나에 해당하는 사람의 수에 1명당 연 150만원을 곱하여 계산한 금액을 그 거주자의 해당 과세기간의 종합소득금액에서 공제한다. <개정 2015. 12. 15, 2024. 12. 31.>\n",
            "\n",
            "해당 거주자\n",
            "거주자와 배우자보다 해도 과세기간의 소득금액이 없거나 해도 과세기간의 소득금액 합계에 100만원 이하인 사람(종합소득에 500만원 이하의 근로소득이 있는 배우자를 포함함)\n",
            "거주자과 배우자를 포함한다. 이하 이 조에서 같은 경우는 다음 각 조의 어느 하나에 해당하는 부양가족(제15조제1항제3호의 장애인에 해당되는 경우에는 나이의 제한을 받지 아니하도록 하여 기초자산의 소득금액 합계에 100만원 이하인 사람(종합소득에 500만원 이하의 근로소득이 있는 부양가족을 포함함)\n",
            "[Document(metadata={'source': './documents/income_tax.txt'}, page_content='| 종합소득         | 세 율                                  |\\n|------------------|---------------------------------------|\\n| 1,400만원 이하   | 과세표준의 6세례셋트                      |\\n| 1,400만원 초과   | 84만원 + (1,400만원을 초과하는 금액의 15%)  |\\n| 5,000만원 이하   | 624만원 + (5,000만원을 초과하는 금액의 24%)  |\\n| 8,800만원 이하   | 1,536만원 + (8,800만원을 초과하는 금액의 35%) |\\n| 1억5천만원 이하  | 3,706만원 + (1억5천만원을 초과하는 금액의 38%) |\\n| 3억 이하         | 9,460만원 + (3억을 초과하는 금액의 40%)      |\\n| 5억 이하         | 1억7,406만원 + (5억을 초과하는 금액의 42%)   |\\n| 10억 이하        | 3억8,406만원 + (10억을 초과하는 금액의 45%)  |\\n법제처 35 \\n국가법령정보센터\\n소득세법\\n② 거주자의 퇴직소득에 대한 소득세는 다음 각 호의 순서에 따라 계산한 금액(이하 \"퇴직소득 산출세액\"이라 한다)으로 한다.\\n<개정> 2013. 1. 1, 2014. 12. 23.\\n1. 해당 사업기간의 퇴직소득세표준(제1항의 세율을 적용하여 계산한 금액\\n2. 제1호의 금액을 12로 나눈 금액에 근속연수를 곱한 금액\\n3. 삭제<2014. 12. 23.>\\n[전문개정 2009. 12. 31.]\\n제2장 세액공제\\n<개정> 2009. 12. 31.\\n제56조(배당세액공제)\\n① 거주자의 종합소득금액에 제17조제3항 각 호의 부분 단서가 적용되는 배당소득액이 합산되어 있는 경우에는 같은 항 각 호 외의 부분 단서에 따라 해당 과세기간의 총수입금액에 대한 금액에 해당하는 세액을 종합소득 산출세액에서 공제한다.\\n<개정> 2009. 12. 31.\\n② 제1항에 따른 공제율을 \"배당세액공제\"라 한다. <개정> 2009. 12. 31.\\n③ 삭제<2006. 12. 30.>\\n④ 제1항을 적용할 때 배당세액공제의 대상이 되는 배당소득금액은 제14조제1항의 종합소득세표준에 포함된 배당소득금액으로서 이자소득 등의 항목과 과세금액을 초과하는 것으로 한다. <개정> 2009. 12. 31.\\n⑤ 배당세액공제의 계산 등에 필요한 사항은 대통령령으로 정한다. <개정> 2009. 12. 31.  \\n제56조의2(기타세액공제)\\n① 제160조제3항에 따른 간편장부대상자가 제70조 또는 제74조에 따른 과세표준청고를 한 때 복식부기를 적용받은 소득금액을 계산하여 제69 조제3항에 따른 부가세를 제외하는 경우에는 해당 장부에 의하여 계산한 기타소득금액의 종합소득금액에서 차지하는 비율을 종합소득 산출세액에 금액의 100분의 20에 해당하는 금액을 종합소득 산출세액에 공제한다. 단, 공제액이 100분의 20을 초과하는 경우에는 100만 원을 공제한다.'), Document(metadata={'source': './documents/income_tax.txt'}, page_content='| 종합소득         | 세 율                                  |\\n|------------------|---------------------------------------|\\n| 1,400만원 이하   | 과세표준의 6세례셋트                      |\\n| 1,400만원 초과   | 84만원 + (1,400만원을 초과하는 금액의 15%)  |\\n| 5,000만원 이하   | 624만원 + (5,000만원을 초과하는 금액의 24%)  |\\n| 8,800만원 이하   | 1,536만원 + (8,800만원을 초과하는 금액의 35%) |\\n| 1억5천만원 이하  | 3,706만원 + (1억5천만원을 초과하는 금액의 38%) |\\n| 3억 이하         | 9,460만원 + (3억을 초과하는 금액의 40%)      |\\n| 5억 이하         | 1억7,406만원 + (5억을 초과하는 금액의 42%)   |\\n| 10억 이하        | 3억8,406만원 + (10억을 초과하는 금액의 45%)  |\\n법제처 35 \\n국가법령정보센터\\n소득세법\\n② 거주자의 퇴직소득에 대한 소득세는 다음 각 호의 순서에 따라 계산한 금액(이하 \"퇴직소득 산출세액\"이라 한다)으로 한다.\\n<개정> 2013. 1. 1, 2014. 12. 23.\\n1. 해당 사업기간의 퇴직소득세표준(제1항의 세율을 적용하여 계산한 금액\\n2. 제1호의 금액을 12로 나눈 금액에 근속연수를 곱한 금액\\n3. 삭제<2014. 12. 23.>\\n[전문개정 2009. 12. 31.]\\n제2장 세액공제\\n<개정> 2009. 12. 31.\\n제56조(배당세액공제)\\n① 거주자의 종합소득금액에 제17조제3항 각 호의 부분 단서가 적용되는 배당소득액이 합산되어 있는 경우에는 같은 항 각 호 외의 부분 단서에 따라 해당 과세기간의 총수입금액에 대한 금액에 해당하는 세액을 종합소득 산출세액에서 공제한다.\\n<개정> 2009. 12. 31.\\n② 제1항에 따른 공제율을 \"배당세액공제\"라 한다. <개정> 2009. 12. 31.\\n③ 삭제<2006. 12. 30.>\\n④ 제1항을 적용할 때 배당세액공제의 대상이 되는 배당소득금액은 제14조제1항의 종합소득세표준에 포함된 배당소득금액으로서 이자소득 등의 항목과 과세금액을 초과하는 것으로 한다. <개정> 2009. 12. 31.\\n⑤ 배당세액공제의 계산 등에 필요한 사항은 대통령령으로 정한다. <개정> 2009. 12. 31.  \\n제56조의2(기타세액공제)\\n① 제160조제3항에 따른 간편장부대상자가 제70조 또는 제74조에 따른 과세표준청고를 한 때 복식부기를 적용받은 소득금액을 계산하여 제69 조제3항에 따른 부가세를 제외하는 경우에는 해당 장부에 의하여 계산한 기타소득금액의 종합소득금액에서 차지하는 비율을 종합소득 산출세액에 금액의 100분의 20에 해당하는 금액을 종합소득 산출세액에 공제한다. 단, 공제액이 100분의 20을 초과하는 경우에는 100만 원을 공제한다.'), Document(metadata={'source': './documents/income_tax.txt'}, page_content='사항: <2013. 1. 1.>\\n[전문개정 2009. 12. 31.]\\n\\n제49조 삭제 <2006. 12. 30.>\\n제6관 종합소득공제 <개정 2009. 12. 31.>\\n제50조(가산공제)\\n공동소득이 있는 거주자(자연인과 법단체)에 대해서는 다음 각 호의 어느 하나에 해당하는 사람의 수에 1명당 연 150만원을 곱하여 계산한 금액을 그 거주자의 해당 과세기간의 종합소득금액에서 공제한다. <개정 2015. 12. 15, 2024. 12. 31.>\\n\\n해당 거주자\\n거주자와 배우자보다 해도 과세기간의 소득금액이 없거나 해도 과세기간의 소득금액 합계에 100만원 이하인 사람(종합소득에 500만원 이하의 근로소득이 있는 배우자를 포함함)\\n거주자과 배우자를 포함한다. 이하 이 조에서 같은 경우는 다음 각 조의 어느 하나에 해당하는 부양가족(제15조제1항제3호의 장애인에 해당되는 경우에는 나이의 제한을 받지 아니하도록 하여 기초자산의 소득금액 합계에 100만원 이하인 사람(종합소득에 500만원 이하의 근로소득이 있는 부양가족을 포함함)')]\n",
            "answer: {'answer': '연봉 5천만 원인 거주자의 소득세는 624만 원입니다.'}\n"
          ]
        },
        {
          "data": {
            "text/plain": [
              "'hallucinated'"
            ]
          },
          "execution_count": 11,
          "metadata": {},
          "output_type": "execute_result"
        }
      ],
      "source": [
        "query = \"연봉 5천만원인 거주자의 소득세는 얼마인가요?\"\n",
        "context = retriever.invoke(query)\n",
        "print(\"document\")\n",
        "for document in context:\n",
        "    print(document.page_content)\n",
        "print(context)\n",
        "\n",
        "generate_state = {\"query\": query, \"context\": context}\n",
        "answer = generate(generate_state)\n",
        "print(f\"answer: {answer}\")\n",
        "\n",
        "hallucination_state = {\"answer\": answer, \"context\": context}\n",
        "check_hallucination(hallucination_state)"
      ]
    },
    {
      "cell_type": "markdown",
      "metadata": {},
      "source": [
        "**(중요)**  \n",
        "잘 안되면 generate 토큰 길이, temperature, 프롬프트 조정해볼 것"
      ]
    },
    {
      "cell_type": "markdown",
      "metadata": {},
      "source": [
        "-----"
      ]
    },
    {
      "cell_type": "markdown",
      "metadata": {},
      "source": [
        "생성된 답변이 사용자의 질문과 관련이 있는지 판단하는 노드\n",
        "- 질문과 관련이 있다면 사용자에게 답변을 리턴합니다\n",
        "- 질문과 관련이 없다면 `rewrite` 노드로 이동해서 사용자의 질문을 변경합니다\n",
        "    - `rewrite` 후 다시 `retrieve` 합니다\n",
        "\n",
        "섹션 3에 나오는 것처럼 `check_helpfulness` node를 생성하지 않고 `check_helpfulness_grader`만 추가해서 `conditional_edge`로 사용할 수도 있음"
      ]
    },
    {
      "cell_type": "code",
      "execution_count": 12,
      "metadata": {},
      "outputs": [],
      "source": [
        "from langchain import hub\n",
        "\n",
        "# LangChain 허브에서 유용성 프롬프트를 가져옵니다\n",
        "helpfulness_prompt = hub.pull(\"langchain-ai/rag-answer-helpfulness\")"
      ]
    },
    {
      "cell_type": "code",
      "execution_count": 13,
      "metadata": {},
      "outputs": [
        {
          "name": "stdout",
          "output_type": "stream",
          "text": [
            "You are a teacher grading a quiz. \n",
            "\n",
            "You will be given a QUESTION and a STUDENT ANSWER. \n",
            "\n",
            "Here is the grade criteria to follow:\n",
            "(1) Ensure the STUDENT ANSWER is concise and relevant to the QUESTION\n",
            "(2) Ensure the STUDENT ANSWER helps to answer the QUESTION\n",
            "\n",
            "Score:\n",
            "A score of 1 means that the student's answer meets all of the criteria. This is the highest (best) score. \n",
            "A score of 0 means that the student's answer does not meet all of the criteria. This is the lowest possible score you can give.\n",
            "\n",
            "Explain your reasoning in a step-by-step manner to ensure your reasoning and conclusion are correct. \n",
            "\n",
            "Avoid simply stating the correct answer at the outset.\n"
          ]
        }
      ],
      "source": [
        "print(helpfulness_prompt.messages[0].prompt.template)"
      ]
    },
    {
      "cell_type": "markdown",
      "metadata": {},
      "source": [
        "질문과 답변을 비교하는 노드 정의"
      ]
    },
    {
      "cell_type": "code",
      "execution_count": 14,
      "metadata": {},
      "outputs": [],
      "source": [
        "def check_helpfulness_grader(state: AgentState) -> str:\n",
        "    \"\"\"\n",
        "    사용자의 질문에 기반하여 생성된 답변의 유용성을 평가합니다.\n",
        "\n",
        "    Args:\n",
        "        state (AgentState): 사용자의 질문과 생성된 답변을 포함한 에이전트의 현재 state.\n",
        "\n",
        "    Returns:\n",
        "        str: 답변이 유용하다고 판단되면 'helpful', 그렇지 않으면 'unhelpful'을 반환합니다.\n",
        "    \"\"\"\n",
        "    # state에서 질문과 답변을 추출합니다\n",
        "    query = state[\"query\"]\n",
        "    answer = state[\"answer\"]\n",
        "\n",
        "    # 답변의 유용성을 평가하기 위한 체인을 생성합니다\n",
        "    helpfulness_chain = helpfulness_prompt | llm\n",
        "\n",
        "    # 질문과 답변으로 체인을 호출합니다\n",
        "    response = helpfulness_chain.invoke({\"question\": query, \"student_answer\": answer})\n",
        "\n",
        "    # 점수가 1이면 'helpful'을 반환하고, 그렇지 않으면 'unhelpful'을 반환합니다\n",
        "    if response[\"Score\"] == 1:\n",
        "        return \"helpful\"\n",
        "\n",
        "    return \"unhelpful\"\n"
      ]
    },
    {
      "cell_type": "code",
      "execution_count": 15,
      "metadata": {},
      "outputs": [
        {
          "data": {
            "text/plain": [
              "'helpful'"
            ]
          },
          "execution_count": 15,
          "metadata": {},
          "output_type": "execute_result"
        }
      ],
      "source": [
        "query = \"연봉 5천만원인 거주자의 소득세는 얼마인가요?\"\n",
        "context = retriever.invoke(query)\n",
        "\n",
        "generate_state = {\"query\": query, \"context\": context}\n",
        "answer = generate(generate_state)\n",
        "\n",
        "helpfulness_state = {\"query\": query, \"answer\": answer}\n",
        "check_helpfulness_grader(helpfulness_state)"
      ]
    },
    {
      "cell_type": "markdown",
      "metadata": {},
      "source": [
        "node -> conditional_edge 구성을 위해 필요"
      ]
    },
    {
      "cell_type": "code",
      "execution_count": 16,
      "metadata": {},
      "outputs": [],
      "source": [
        "def check_helpfulness(state: AgentState) -> AgentState:\n",
        "    \"\"\"\n",
        "    유용성을 확인하는 자리 표시자 함수입니다.\n",
        "    graph에서 conditional_edge를 연속으로 사용하지 않고 node를 추가해\n",
        "    가독성을 높이기 위해 사용합니다\n",
        "\n",
        "    Args:\n",
        "        state (AgentState): 에이전트의 현재 state.\n",
        "\n",
        "    Returns:\n",
        "        AgentState: 변경되지 않은 state를 반환합니다.\n",
        "    \"\"\"\n",
        "    # 이 함수는 현재 아무 작업도 수행하지 않으며 state를 그대로 반환합니다\n",
        "    return state"
      ]
    },
    {
      "cell_type": "markdown",
      "metadata": {},
      "source": [
        "### 연결 작업\n",
        "`node`를 추가하고 `edge`로 연결\n",
        "\n",
        "![self-rag](https://i.imgur.com/X11ND6N.png)"
      ]
    },
    {
      "cell_type": "markdown",
      "metadata": {},
      "source": [
        "노드 정의"
      ]
    },
    {
      "cell_type": "code",
      "execution_count": 17,
      "metadata": {},
      "outputs": [
        {
          "data": {
            "text/plain": [
              "<langgraph.graph.state.StateGraph at 0x107bce6f0>"
            ]
          },
          "execution_count": 17,
          "metadata": {},
          "output_type": "execute_result"
        }
      ],
      "source": [
        "graph_builder.add_node(\"retrieve\", retrieve)\n",
        "graph_builder.add_node(\"generate\", generate)\n",
        "graph_builder.add_node(\"rewrite\", rewrite)\n",
        "graph_builder.add_node(\"check_helpfulness\", check_helpfulness)"
      ]
    },
    {
      "cell_type": "code",
      "execution_count": 18,
      "metadata": {},
      "outputs": [
        {
          "data": {
            "text/plain": [
              "<langgraph.graph.state.StateGraph at 0x107bce6f0>"
            ]
          },
          "execution_count": 18,
          "metadata": {},
          "output_type": "execute_result"
        }
      ],
      "source": [
        "from langgraph.graph import START, END\n",
        "\n",
        "graph_builder.add_edge(START, \"retrieve\")\n",
        "graph_builder.add_conditional_edges(\n",
        "    \"retrieve\", check_doc_relevance, {\"relevant\": \"generate\", \"irrelevant\": END}\n",
        ")\n",
        "graph_builder.add_conditional_edges(\n",
        "    \"generate\",\n",
        "    check_hallucination,\n",
        "    {\"not hallucinated\": \"check_helpfulness\", \"hallucinated\": \"generate\"},\n",
        ")\n",
        "\n",
        "graph_builder.add_conditional_edges( # 중요!!!\n",
        "    \"check_helpfulness\",\n",
        "    check_helpfulness_grader,\n",
        "    {\"helpful\": END, \"unhelpful\": \"rewrite\"},\n",
        ")\n",
        "graph_builder.add_edge(\"rewrite\", \"retrieve\")"
      ]
    },
    {
      "cell_type": "code",
      "execution_count": 19,
      "metadata": {},
      "outputs": [],
      "source": [
        "graph = graph_builder.compile()"
      ]
    },
    {
      "cell_type": "code",
      "execution_count": 13,
      "metadata": {},
      "outputs": [
        {
          "data": {
            "image/png": "[encoded data removed]",
            "text/plain": [
              "<IPython.core.display.Image object>"
            ]
          },
          "metadata": {},
          "output_type": "display_data"
        }
      ],
      "source": [
        "from IPython.display import Image, display\n",
        "\n",
        "display(Image(graph.get_graph().draw_mermaid_png()))"
      ]
    },
    {
      "cell_type": "code",
      "execution_count": 20,
      "metadata": {},
      "outputs": [
        {
          "data": {
            "text/plain": [
              "{'query': '연봉 5천만원인 거주자가 납부해야 하는 소득세는 얼마인가요?',\n",
              " 'context': [Document(metadata={'source': './documents/income_tax.txt'}, page_content='| 종합소득         | 세 율                                  |\\n|------------------|---------------------------------------|\\n| 1,400만원 이하   | 과세표준의 6세례셋트                      |\\n| 1,400만원 초과   | 84만원 + (1,400만원을 초과하는 금액의 15%)  |\\n| 5,000만원 이하   | 624만원 + (5,000만원을 초과하는 금액의 24%)  |\\n| 8,800만원 이하   | 1,536만원 + (8,800만원을 초과하는 금액의 35%) |\\n| 1억5천만원 이하  | 3,706만원 + (1억5천만원을 초과하는 금액의 38%) |\\n| 3억 이하         | 9,460만원 + (3억을 초과하는 금액의 40%)      |\\n| 5억 이하         | 1억7,406만원 + (5억을 초과하는 금액의 42%)   |\\n| 10억 이하        | 3억8,406만원 + (10억을 초과하는 금액의 45%)  |\\n법제처 35 \\n국가법령정보센터\\n소득세법\\n② 거주자의 퇴직소득에 대한 소득세는 다음 각 호의 순서에 따라 계산한 금액(이하 \"퇴직소득 산출세액\"이라 한다)으로 한다.\\n<개정> 2013. 1. 1, 2014. 12. 23.\\n1. 해당 사업기간의 퇴직소득세표준(제1항의 세율을 적용하여 계산한 금액\\n2. 제1호의 금액을 12로 나눈 금액에 근속연수를 곱한 금액\\n3. 삭제<2014. 12. 23.>\\n[전문개정 2009. 12. 31.]\\n제2장 세액공제\\n<개정> 2009. 12. 31.\\n제56조(배당세액공제)\\n① 거주자의 종합소득금액에 제17조제3항 각 호의 부분 단서가 적용되는 배당소득액이 합산되어 있는 경우에는 같은 항 각 호 외의 부분 단서에 따라 해당 과세기간의 총수입금액에 대한 금액에 해당하는 세액을 종합소득 산출세액에서 공제한다.\\n<개정> 2009. 12. 31.\\n② 제1항에 따른 공제율을 \"배당세액공제\"라 한다. <개정> 2009. 12. 31.\\n③ 삭제<2006. 12. 30.>\\n④ 제1항을 적용할 때 배당세액공제의 대상이 되는 배당소득금액은 제14조제1항의 종합소득세표준에 포함된 배당소득금액으로서 이자소득 등의 항목과 과세금액을 초과하는 것으로 한다. <개정> 2009. 12. 31.\\n⑤ 배당세액공제의 계산 등에 필요한 사항은 대통령령으로 정한다. <개정> 2009. 12. 31.  \\n제56조의2(기타세액공제)\\n① 제160조제3항에 따른 간편장부대상자가 제70조 또는 제74조에 따른 과세표준청고를 한 때 복식부기를 적용받은 소득금액을 계산하여 제69 조제3항에 따른 부가세를 제외하는 경우에는 해당 장부에 의하여 계산한 기타소득금액의 종합소득금액에서 차지하는 비율을 종합소득 산출세액에 금액의 100분의 20에 해당하는 금액을 종합소득 산출세액에 공제한다. 단, 공제액이 100분의 20을 초과하는 경우에는 100만 원을 공제한다.'),\n",
              "  Document(metadata={'source': './documents/income_tax.txt'}, page_content='| 종합소득         | 세 율                                  |\\n|------------------|---------------------------------------|\\n| 1,400만원 이하   | 과세표준의 6세례셋트                      |\\n| 1,400만원 초과   | 84만원 + (1,400만원을 초과하는 금액의 15%)  |\\n| 5,000만원 이하   | 624만원 + (5,000만원을 초과하는 금액의 24%)  |\\n| 8,800만원 이하   | 1,536만원 + (8,800만원을 초과하는 금액의 35%) |\\n| 1억5천만원 이하  | 3,706만원 + (1억5천만원을 초과하는 금액의 38%) |\\n| 3억 이하         | 9,460만원 + (3억을 초과하는 금액의 40%)      |\\n| 5억 이하         | 1억7,406만원 + (5억을 초과하는 금액의 42%)   |\\n| 10억 이하        | 3억8,406만원 + (10억을 초과하는 금액의 45%)  |\\n법제처 35 \\n국가법령정보센터\\n소득세법\\n② 거주자의 퇴직소득에 대한 소득세는 다음 각 호의 순서에 따라 계산한 금액(이하 \"퇴직소득 산출세액\"이라 한다)으로 한다.\\n<개정> 2013. 1. 1, 2014. 12. 23.\\n1. 해당 사업기간의 퇴직소득세표준(제1항의 세율을 적용하여 계산한 금액\\n2. 제1호의 금액을 12로 나눈 금액에 근속연수를 곱한 금액\\n3. 삭제<2014. 12. 23.>\\n[전문개정 2009. 12. 31.]\\n제2장 세액공제\\n<개정> 2009. 12. 31.\\n제56조(배당세액공제)\\n① 거주자의 종합소득금액에 제17조제3항 각 호의 부분 단서가 적용되는 배당소득액이 합산되어 있는 경우에는 같은 항 각 호 외의 부분 단서에 따라 해당 과세기간의 총수입금액에 대한 금액에 해당하는 세액을 종합소득 산출세액에서 공제한다.\\n<개정> 2009. 12. 31.\\n② 제1항에 따른 공제율을 \"배당세액공제\"라 한다. <개정> 2009. 12. 31.\\n③ 삭제<2006. 12. 30.>\\n④ 제1항을 적용할 때 배당세액공제의 대상이 되는 배당소득금액은 제14조제1항의 종합소득세표준에 포함된 배당소득금액으로서 이자소득 등의 항목과 과세금액을 초과하는 것으로 한다. <개정> 2009. 12. 31.\\n⑤ 배당세액공제의 계산 등에 필요한 사항은 대통령령으로 정한다. <개정> 2009. 12. 31.  \\n제56조의2(기타세액공제)\\n① 제160조제3항에 따른 간편장부대상자가 제70조 또는 제74조에 따른 과세표준청고를 한 때 복식부기를 적용받은 소득금액을 계산하여 제69 조제3항에 따른 부가세를 제외하는 경우에는 해당 장부에 의하여 계산한 기타소득금액의 종합소득금액에서 차지하는 비율을 종합소득 산출세액에 금액의 100분의 20에 해당하는 금액을 종합소득 산출세액에 공제한다. 단, 공제액이 100분의 20을 초과하는 경우에는 100만 원을 공제한다.'),\n",
              "  Document(metadata={'source': './documents/income_tax.txt'}, page_content='사항: <2013. 1. 1.>\\n[전문개정 2009. 12. 31.]\\n\\n제49조 삭제 <2006. 12. 30.>\\n제6관 종합소득공제 <개정 2009. 12. 31.>\\n제50조(가산공제)\\n공동소득이 있는 거주자(자연인과 법단체)에 대해서는 다음 각 호의 어느 하나에 해당하는 사람의 수에 1명당 연 150만원을 곱하여 계산한 금액을 그 거주자의 해당 과세기간의 종합소득금액에서 공제한다. <개정 2015. 12. 15, 2024. 12. 31.>\\n\\n해당 거주자\\n거주자와 배우자보다 해도 과세기간의 소득금액이 없거나 해도 과세기간의 소득금액 합계에 100만원 이하인 사람(종합소득에 500만원 이하의 근로소득이 있는 배우자를 포함함)\\n거주자과 배우자를 포함한다. 이하 이 조에서 같은 경우는 다음 각 조의 어느 하나에 해당하는 부양가족(제15조제1항제3호의 장애인에 해당되는 경우에는 나이의 제한을 받지 아니하도록 하여 기초자산의 소득금액 합계에 100만원 이하인 사람(종합소득에 500만원 이하의 근로소득이 있는 부양가족을 포함함)')],\n",
              " 'answer': '연봉 5천만 원인 거주자가 납부해야 하는 소득세는 624만 원입니다.'}"
            ]
          },
          "execution_count": 20,
          "metadata": {},
          "output_type": "execute_result"
        }
      ],
      "source": [
        "initial_state = {\"query\": \"연봉 5천만원인 거주자가 납부해야 하는 소득세는 얼마인가요?\"}\n",
        "graph.invoke(initial_state)"
      ]
    },
    {
      "cell_type": "code",
      "execution_count": 21,
      "metadata": {},
      "outputs": [
        {
          "data": {
            "text/plain": [
              "{'query': '배가 고파요',\n",
              " 'context': [Document(metadata={'source': './documents/income_tax.txt'}, page_content='삭제<2012. 1. 1.>\\n삭제<2012. 1. 1.>'),\n",
              "  Document(metadata={'source': './documents/income_tax.txt'}, page_content='소득세법\\n제12조(주택임대소득 미등록 가산세)\\n① 주택임대소득이 있는 사업자가 제168조제1항 및 제3항에 따라 ‘부가가치세’, 제83조제1항 본문에 따른 기간까지 등록을 신청하지 아니한 경우에는 사업 개시일부터 등록을 신청하는 날이 속하는 달의 주택임대소득의 1천분의 2를 가산세로 하여 과세기간의 종합소득 결정시기에 더하여 납부하여야 한다.\\n\\xa0 - [본조순서 2019. 12. 31]\\n제13조(특정외국법인의 유보소득 계상 명세서 제출 불성실 가산세)\\n① ‘국제조세조정에 관한 법률’, 제34조제3호 에 따른 특정국법인의 유보소득 계상 명세서(이하 ‘명세서’라 한다)와 같은 조에 따라 제출하여야 하는 가산세는 다음 각 호의 어느 하나에 해당하는 경우에는 해당 특정국법인의 배당 가능 유보소득의 1분본의 5를 가산세로 하여 과세기간의 종합소득 결정시기에 더하여 납부하여야 한다.\\n1. 명세서가 적시에 제출되지 아니한 경우\\n2. 제출한 명세서가 전부 또는 일부를 적시 아니하는 경우\\n\\xa0 - [개정 2020. 12. 29]\\n제14조(업무용부동산 관련 비용 명세서 제출 불성실 가산세)\\n① 제33조의2제1항부터 제3항까지의 규정에 따라 업무용부동산 관련 비용 등을 포함하여 신고한 세무기장자(이하 ‘사업자’라 한다)와 같은 조에 따라 업무용부동산의 구분에 따른 원액을 가산세로 하여 과세기간의 종합소득 결정시기에 대하여 납부하여야 한다.\\n1. 명세서가 제출되지 아니한 경우: 해당 복식부기의무자에게 제70조의2에 따른 신용카드및업무용품 관련 비용 등으로 필요금액에 산입한 금액의 100분의 1\\n\\xa0 - [본조신설 2021. 12. 8]\\n제20조(수익과 비용)\\n① 남세기 조세적법자 또는 지방국세청장이 거주자와 과세기간 중에 각 호의 어느 하나에 해당하면 수시는 그 거주지의 사업 소득세를 포함하여 ‘수익과 비용’이라 한다고 할 수 있다.\\n1. 사업부진이나 부적 사유로 감량을 해 주로 입증 상황에 있는 데로서 소득세를 포함하는 우려가 있다는 경우\\n그 밖에 자본을 포함한 우려가 있다고 인정되는 상황인 이유가 있는 경우\\n2. 제1항을 해당 사업 개시기간의 사업 개시일부터 제7호의 각 호의 사유가 발생한 날까지를 수익과 과세기간으로 하여 적용한다. 이 경우 제1항 각 호의 사업 주체가 제70조에 따른 주체와 같으리라 인정할 경우 한 경우에는 직전 과세기간을 수익기간으로 포함한다.\\n\\xa0 - [개정 2023. 1. 1]\\n② 제1항과 제2항에 따라 수익과 관련하여 해외 세액 무임에 대해서는 ‘국세기본법’, 제47조의2 및 제74조의2를 적용하지 아니한다.\\n③ 관할세무서장은 해당 지방국세청에 주소를 두고 사업자가 이동하거나 인정되는 지역의 남세미구 있는 자에 대해서는 제1항 제9호의 조세를 종합하여 대통령령을 정하는 바에 따라 수익과 관련한다.\\n\\xa0 - [전문개정 2009. 12. 31]\\n소득세법\\n제83조(과세표준 및 세액의 통지)'),\n",
              "  Document(metadata={'source': './documents/income_tax.txt'}, page_content='소득세법\\n제12조(주택임대소득 미등록 가산세)\\n① 주택임대소득이 있는 사업자가 제168조제1항 및 제3항에 따라 ‘부가가치세’, 제83조제1항 본문에 따른 기간까지 등록을 신청하지 아니한 경우에는 사업 개시일부터 등록을 신청하는 날이 속하는 달의 주택임대소득의 1천분의 2를 가산세로 하여 과세기간의 종합소득 결정시기에 더하여 납부하여야 한다.\\n\\xa0 - [본조순서 2019. 12. 31]\\n제13조(특정외국법인의 유보소득 계상 명세서 제출 불성실 가산세)\\n① ‘국제조세조정에 관한 법률’, 제34조제3호 에 따른 특정국법인의 유보소득 계상 명세서(이하 ‘명세서’라 한다)와 같은 조에 따라 제출하여야 하는 가산세는 다음 각 호의 어느 하나에 해당하는 경우에는 해당 특정국법인의 배당 가능 유보소득의 1분본의 5를 가산세로 하여 과세기간의 종합소득 결정시기에 더하여 납부하여야 한다.\\n1. 명세서가 적시에 제출되지 아니한 경우\\n2. 제출한 명세서가 전부 또는 일부를 적시 아니하는 경우\\n\\xa0 - [개정 2020. 12. 29]\\n제14조(업무용부동산 관련 비용 명세서 제출 불성실 가산세)\\n① 제33조의2제1항부터 제3항까지의 규정에 따라 업무용부동산 관련 비용 등을 포함하여 신고한 세무기장자(이하 ‘사업자’라 한다)와 같은 조에 따라 업무용부동산의 구분에 따른 원액을 가산세로 하여 과세기간의 종합소득 결정시기에 대하여 납부하여야 한다.\\n1. 명세서가 제출되지 아니한 경우: 해당 복식부기의무자에게 제70조의2에 따른 신용카드및업무용품 관련 비용 등으로 필요금액에 산입한 금액의 100분의 1\\n\\xa0 - [본조신설 2021. 12. 8]\\n제20조(수익과 비용)\\n① 남세기 조세적법자 또는 지방국세청장이 거주자와 과세기간 중에 각 호의 어느 하나에 해당하면 수시는 그 거주지의 사업 소득세를 포함하여 ‘수익과 비용’이라 한다고 할 수 있다.\\n1. 사업부진이나 부적 사유로 감량을 해 주로 입증 상황에 있는 데로서 소득세를 포함하는 우려가 있다는 경우\\n그 밖에 자본을 포함한 우려가 있다고 인정되는 상황인 이유가 있는 경우\\n2. 제1항을 해당 사업 개시기간의 사업 개시일부터 제7호의 각 호의 사유가 발생한 날까지를 수익과 과세기간으로 하여 적용한다. 이 경우 제1항 각 호의 사업 주체가 제70조에 따른 주체와 같으리라 인정할 경우 한 경우에는 직전 과세기간을 수익기간으로 포함한다.\\n\\xa0 - [개정 2023. 1. 1]\\n② 제1항과 제2항에 따라 수익과 관련하여 해외 세액 무임에 대해서는 ‘국세기본법’, 제47조의2 및 제74조의2를 적용하지 아니한다.\\n③ 관할세무서장은 해당 지방국세청에 주소를 두고 사업자가 이동하거나 인정되는 지역의 남세미구 있는 자에 대해서는 제1항 제9호의 조세를 종합하여 대통령령을 정하는 바에 따라 수익과 관련한다.\\n\\xa0 - [전문개정 2009. 12. 31]\\n소득세법\\n제83조(과세표준 및 세액의 통지)')]}"
            ]
          },
          "execution_count": 21,
          "metadata": {},
          "output_type": "execute_result"
        }
      ],
      "source": [
        "initial_state = {\"query\": \"배가 고파요\"}\n",
        "graph.invoke(initial_state)"
      ]
    },
    {
      "cell_type": "code",
      "execution_count": null,
      "metadata": {},
      "outputs": [],
      "source": []
    }
  ],
  "metadata": {
    "kernelspec": {
      "display_name": "inflearn-langgraph",
      "language": "python",
      "name": "python3"
    },
    "language_info": {
      "codemirror_mode": {
        "name": "ipython",
        "version": 3
      },
      "file_extension": ".py",
      "mimetype": "text/x-python",
      "name": "python",
      "nbconvert_exporter": "python",
      "pygments_lexer": "ipython3",
      "version": "3.12.11"
    }
  },
  "nbformat": 4,
  "nbformat_minor": 2
}
