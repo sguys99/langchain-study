{
 "cells": [
  {
   "cell_type": "markdown",
   "metadata": {},
   "source": [
    "# 5.4 공식문서의 MCP Client 활용방법 II (feat. ClientSession)"
   ]
  },
  {
   "cell_type": "markdown",
   "metadata": {},
   "source": [
    "- 3.8 커스텀 도구(tool)를 최대한 활용하는 방법에서 생성한 에이전트가 활용하는 도구를 [MCP 서버](https://github.com/modelcontextprotocol/servers)로 이전\n",
    "\n"
   ]
  },
  {
   "cell_type": "code",
   "execution_count": 1,
   "metadata": {},
   "outputs": [
    {
     "data": {
      "text/plain": [
       "True"
      ]
     },
     "execution_count": 1,
     "metadata": {},
     "output_type": "execute_result"
    }
   ],
   "source": [
    "from dotenv import load_dotenv\n",
    "\n",
    "load_dotenv()"
   ]
  },
  {
   "cell_type": "markdown",
   "metadata": {},
   "source": [
    "- 도구(tool)을 활용하려면 [`AIMessage`](https://python.langchain.com/api_reference/core/messages/langchain_core.messages.ai.AIMessage.html)를 활용해야하기 때문에 상태에 `messages`가 필요함\n",
    "- 직접 선언하지 않고 랭그래프에서 제공하는 `MessagesState`를 사용"
   ]
  },
  {
   "cell_type": "code",
   "execution_count": 2,
   "metadata": {},
   "outputs": [],
   "source": [
    "\n",
    "from langgraph.graph import StateGraph, MessagesState\n",
    "\n",
    "class AgentState(MessagesState):\n",
    "    pass\n",
    "\n",
    "graph_builder = StateGraph(AgentState)"
   ]
  },
  {
   "cell_type": "code",
   "execution_count": 3,
   "metadata": {},
   "outputs": [],
   "source": [
    "query = '5억짜리 집 1채, 10억짜리 집 1채, 20억짜리 집 1채를 가지고 있을 때 세금을 얼마나 내나요?'"
   ]
  },
  {
   "cell_type": "code",
   "execution_count": 4,
   "metadata": {},
   "outputs": [],
   "source": [
    "from langchain_openai import ChatOpenAI\n",
    "\n",
    "llm = ChatOpenAI(\n",
    "    model='gpt-4o',\n",
    ")"
   ]
  },
  {
   "cell_type": "code",
   "execution_count": 5,
   "metadata": {},
   "outputs": [],
   "source": [
    "async def process_stream(stream_generator):\n",
    "    results = []\n",
    "    try:\n",
    "        async for chunk in stream_generator:\n",
    "\n",
    "            key = list(chunk.keys())[0]\n",
    "            \n",
    "            if key == 'agent':\n",
    "                # Agent 메시지의 내용을 가져옴. 메세지가 비어있는 경우 어떤 도구를 어떻게 호출할지 정보를 가져옴\n",
    "                content = chunk['agent']['messages'][0].content if chunk['agent']['messages'][0].content != '' else chunk['agent']['messages'][0].additional_kwargs\n",
    "                print(f\"'agent': '{content}'\")\n",
    "            \n",
    "            elif key == 'tools':\n",
    "                # 도구 메시지의 내용을 가져옴\n",
    "                for tool_msg in chunk['tools']['messages']:\n",
    "                    print(f\"'tools': '{tool_msg.content}'\")\n",
    "            \n",
    "            results.append(chunk)\n",
    "        return results\n",
    "    except Exception as e:\n",
    "        print(f\"Error processing stream: {e}\")\n",
    "        return results"
   ]
  },
  {
   "cell_type": "markdown",
   "metadata": {},
   "source": [
    "- MCP 서버와 연결하기 위한 `StidioServerParameters`"
   ]
  },
  {
   "cell_type": "code",
   "execution_count": 6,
   "metadata": {},
   "outputs": [],
   "source": [
    "from langchain_mcp_adapters.tools import load_mcp_tools\n",
    "from langchain_mcp_adapters.prompts import load_mcp_prompt\n",
    "from langchain_core.messages import HumanMessage\n",
    "from langgraph.prebuilt import create_react_agent\n",
    "from mcp import ClientSession, StdioServerParameters\n",
    "from mcp.client.stdio import stdio_client\n",
    "\n",
    "mcp_server_params = StdioServerParameters(\n",
    "    command=\"python\",\n",
    "    args=[\"./mcp_stdio_server.py\"],\n",
    ")\n",
    "async def run_agent():\n",
    "    async with stdio_client(mcp_server_params) as (read, write):\n",
    "        async with ClientSession(read, write) as session:\n",
    "            await session.initialize()\n",
    "\n",
    "            ##### AGENT #####\n",
    "            tool_list = await load_mcp_tools(session)\n",
    "            agent = create_react_agent(llm, tool_list)\n",
    "            query = '5억짜리 집 1채, 10억짜리 집 1채, 20억짜리 집 1채를 가지고 있을 때 세금을 얼마나 내나요?'\n",
    "            system_prompt = await load_mcp_prompt(\n",
    "                session, \"house_tax_system_prompt\", arguments={}\n",
    "            )\n",
    "            messages = system_prompt + [HumanMessage(content=query)]\n",
    "        \n",
    "            stream_generator = agent.astream({'messages': messages})\n",
    "\n",
    "\n",
    "            all_chunks = await process_stream(stream_generator)\n",
    "\n",
    "\n",
    "            if all_chunks:\n",
    "                final_result = all_chunks[-1]\n",
    "                print(\"\\nFinal result:\", final_result)"
   ]
  },
  {
   "cell_type": "code",
   "execution_count": 7,
   "metadata": {},
   "outputs": [],
   "source": [
    "import nest_asyncio\n",
    "nest_asyncio.apply()"
   ]
  },
  {
   "cell_type": "code",
   "execution_count": 8,
   "metadata": {},
   "outputs": [
    {
     "name": "stdout",
     "output_type": "stream",
     "text": [
      "'agent': '{'tool_calls': [{'id': 'call_STW9hNLa56j4JD9pxoP1onhC', 'function': {'arguments': '{}', 'name': 'tax_base_tool'}, 'type': 'function'}, {'id': 'call_B6vKuIHQqRcgKJKtl95wHnUw', 'function': {'arguments': '{\"question\": \"5억짜리 집 1채, 10억짜리 집 1채, 20억짜리 집 1채를 가지고 있습니다. 공제액은 얼마인가요?\"}', 'name': 'tax_deductible_tool'}, 'type': 'function'}, {'id': 'call_dpBpxnksPbD1SXqOfsQA1dUr', 'function': {'arguments': '{\"question\": \"5억짜리 집 1채, 10억짜리 집 1채, 20억짜리 집 1채를 가지고 있습니다. 공정시장가액비율은 얼마인가요?\"}', 'name': 'market_value_rate_tool'}, 'type': 'function'}], 'refusal': None}'\n",
      "'tools': '주택에 대한 종합부동산세 과세표준 = (공시지가 - 기본공제) × 세율'\n",
      "'tools': '공제액은 6억 원입니다.'\n",
      "'tools': '45%'\n",
      "'agent': '{'tool_calls': [{'id': 'call_rqZRQBujKgCc6XdJXuRZhabt', 'function': {'arguments': '{\"tax_base_question\":\"주택에 대한 종합부동산세 과세표준 = (공시지가 - 기본공제) × 세율\",\"market_value_rate\":\"45%\",\"tax_deductible\":\"6억원\",\"question\":\"5억짜리 집 1채, 10억짜리 집 1채, 20억짜리 집 1채를 가지고 있습니다.\"}', 'name': 'house_tax_tool'}, 'type': 'function'}], 'refusal': None}'\n",
      "'tools': '주택에 대한 종합부동산세를 계산하기 위해 먼저 각 집의 공시지가를 공정시장가액비율을 반영하여 계산합니다. 각 집의 공정시장가액은 공시지가의 45%입니다. 그런 다음 기본공제를 적용하여 과세표준을 계산합니다. 마지막으로 세율을 적용하여 세금을 계산합니다.\n",
      "\n",
      "1. 공시지가 계산:\n",
      "   - 5억짜리 집: 5억 원\n",
      "   - 10억짜리 집: 10억 원\n",
      "   - 20억짜리 집: 20억 원\n",
      "\n",
      "2. 공정시장가액 계산 (45% 적용):\n",
      "   - 5억짜리 집: 5억 × 0.45 = 2.25억 원\n",
      "   - 10억짜리 집: 10억 × 0.45 = 4.5억 원\n",
      "   - 20억짜리 집: 20억 × 0.45 = 9억 원\n",
      "\n",
      "3. 총 공정시장가액 합산:\n",
      "   - 총 공정시장가액 = 2.25억 + 4.5억 + 9억 = 15.75억 원\n",
      "\n",
      "4. 기본공제 적용:\n",
      "   - 공제액: 6억 원\n",
      "   - 과세표준 = 총 공정시장가액 - 공제액 = 15.75억 - 6억 = 9.75억 원\n",
      "\n",
      "5. 세율 적용:\n",
      "   - 과세표준 9.75억 원에 대한 세율은 추가적인 정보가 필요합니다. 일반적으로 한국의 종합부동산세율은 과세표준 구간에 따라 다르게 적용됩니다. 그러나 질문에 세율에 대한 명확한 정보가 주어지지 않았습니다. 세율 정보가 주어지면 그에 따라 세금을 계산할 수 있습니다.\n",
      "\n",
      "세율 정보를 제공해 주시면, 최종 세금을 계산해 드리겠습니다.'\n",
      "'agent': '현재까지의 계산을 토대로, 과세표준은 9.75억 원입니다. 각 과세구간에 따른 세율 정보가 필요합니다. 만약 세율 정보를 제공해 주시면, 이를 바탕으로 최종 종합부동산세를 계산할 수 있습니다. 세율 정보를 알려주시면 계산을 계속 진행하겠습니다.'\n",
      "\n",
      "Final result: {'agent': {'messages': [AIMessage(content='현재까지의 계산을 토대로, 과세표준은 9.75억 원입니다. 각 과세구간에 따른 세율 정보가 필요합니다. 만약 세율 정보를 제공해 주시면, 이를 바탕으로 최종 종합부동산세를 계산할 수 있습니다. 세율 정보를 알려주시면 계산을 계속 진행하겠습니다.', additional_kwargs={'refusal': None}, response_metadata={'token_usage': {'completion_tokens': 77, 'prompt_tokens': 1576, 'total_tokens': 1653, 'completion_tokens_details': {'accepted_prediction_tokens': 0, 'audio_tokens': 0, 'reasoning_tokens': 0, 'rejected_prediction_tokens': 0}, 'prompt_tokens_details': {'audio_tokens': 0, 'cached_tokens': 1024}}, 'model_name': 'gpt-4o-2024-08-06', 'system_fingerprint': 'fp_07871e2ad8', 'finish_reason': 'stop', 'logprobs': None}, id='run--1922caeb-f721-433f-92bc-70e3c3d1bd1d-0', usage_metadata={'input_tokens': 1576, 'output_tokens': 77, 'total_tokens': 1653, 'input_token_details': {'audio': 0, 'cache_read': 1024}, 'output_token_details': {'audio': 0, 'reasoning': 0}})]}}\n"
     ]
    }
   ],
   "source": [
    "import asyncio\n",
    "\n",
    "asyncio.run(run_agent())"
   ]
  },
  {
   "cell_type": "code",
   "execution_count": null,
   "metadata": {},
   "outputs": [],
   "source": []
  }
 ],
 "metadata": {
  "kernelspec": {
   "display_name": "inflearn-langgraph",
   "language": "python",
   "name": "python3"
  },
  "language_info": {
   "codemirror_mode": {
    "name": "ipython",
    "version": 3
   },
   "file_extension": ".py",
   "mimetype": "text/x-python",
   "name": "python",
   "nbconvert_exporter": "python",
   "pygments_lexer": "ipython3",
   "version": "3.12.11"
  }
 },
 "nbformat": 4,
 "nbformat_minor": 2
}
