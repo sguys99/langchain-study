{
 "cells": [
  {
   "cell_type": "markdown",
   "metadata": {},
   "source": [
    "# 2.7 병렬 처리를 통한 효율 개선 (feat. 프롬프트 엔지니어링)"
   ]
  },
  {
   "cell_type": "markdown",
   "metadata": {},
   "source": [
    "- 아주 specific한 에이전트를 개발하는 경우 유리합니다 \n",
    "- 답변을 생성할 때 다양한 정보가 필요하다면 병렬 처리를 통해 시간을 절약할 수 있습니다"
   ]
  },
  {
   "cell_type": "markdown",
   "metadata": {},
   "source": [
    "여기서는 세법 계산을 위해 병렬 처리를 위한 케이스를 예로 든다."
   ]
  },
  {
   "cell_type": "code",
   "execution_count": 1,
   "metadata": {},
   "outputs": [
    {
     "data": {
      "text/plain": [
       "True"
      ]
     },
     "execution_count": 1,
     "metadata": {},
     "output_type": "execute_result"
    }
   ],
   "source": [
    "from dotenv import load_dotenv\n",
    "\n",
    "load_dotenv()"
   ]
  },
  {
   "cell_type": "markdown",
   "metadata": {},
   "source": [
    "먼저 State를 정의"
   ]
  },
  {
   "cell_type": "code",
   "execution_count": 2,
   "metadata": {},
   "outputs": [],
   "source": [
    "from typing_extensions import TypedDict\n",
    "from langgraph.graph import StateGraph\n",
    "\n",
    "class AgentState(TypedDict):\n",
    "    query: str # 사용자 질문\n",
    "    answer: str # 세율\n",
    "    tax_base_equation: str # 과세표준 계산 수식 \n",
    "    tax_deduction: str # 공제액 \n",
    "    market_ratio: str # 공정시장가액비율\n",
    "    tax_base: str # 과세표준 계산\n",
    "    \n",
    "graph_builder = StateGraph(AgentState)"
   ]
  },
  {
   "cell_type": "code",
   "execution_count": 3,
   "metadata": {},
   "outputs": [],
   "source": [
    "import os \n",
    "\n",
    "from langchain_chroma import Chroma\n",
    "from langchain_openai import OpenAIEmbeddings\n",
    "\n",
    "embedding_function = OpenAIEmbeddings(model='text-embedding-3-large')\n",
    "\n",
    "vector_store = Chroma(\n",
    "    embedding_function=embedding_function,\n",
    "    collection_name = 'real_estate_tax',\n",
    "    persist_directory='./real_estate_tax_collection'\n",
    ")\n",
    "retriever = vector_store.as_retriever(search_kwargs={'k': 3})"
   ]
  },
  {
   "cell_type": "code",
   "execution_count": 4,
   "metadata": {},
   "outputs": [],
   "source": [
    "query = '5억짜리 집 1채, 10억짜리 집 1채, 20억짜리 집 1채를 가지고 있을 때 세금을 얼마나 내나요?'"
   ]
  },
  {
   "cell_type": "markdown",
   "metadata": {},
   "source": [
    "공용 프롬프트와 llm 정의"
   ]
  },
  {
   "cell_type": "code",
   "execution_count": 5,
   "metadata": {},
   "outputs": [],
   "source": [
    "from langchain_openai import ChatOpenAI\n",
    "from langchain import hub\n",
    "from langchain_core.output_parsers import StrOutputParser\n",
    "from langchain_core.runnables import RunnablePassthrough\n",
    "from langchain_core.prompts import ChatPromptTemplate\n",
    "\n",
    "rag_prompt = hub.pull('rlm/rag-prompt')\n",
    "\n",
    "llm = ChatOpenAI(\n",
    "    model='gpt-4o',\n",
    ")"
   ]
  },
  {
   "cell_type": "markdown",
   "metadata": {},
   "source": [
    "**(중요)** 수식을 가져오는 chain 정의"
   ]
  },
  {
   "cell_type": "code",
   "execution_count": 6,
   "metadata": {},
   "outputs": [],
   "source": [
    "tax_base_equation_prompt = ChatPromptTemplate.from_messages([\n",
    "    ('system', '사용자의 질문에서 과세표준을 계산하는 방법을 수식으로 나타내주세요. 부연설명 없이 수식만 리턴해주세요'),\n",
    "    ('human', '{tax_base_equation_information}')\n",
    "])\n",
    "\n",
    "tax_base_equation_chain = (\n",
    "    {'tax_base_equation_information': RunnablePassthrough()} # 이렇게 하면 invoke시 딕셔너리 형태로 넘어감(invoke(\"xxx\") 이렇게 사용 가능능)\n",
    "    | tax_base_equation_prompt\n",
    "    | llm\n",
    "    | StrOutputParser()\n",
    ")"
   ]
  },
  {
   "cell_type": "markdown",
   "metadata": {},
   "source": [
    "한번에 수식 추출하면 LLM이 실수를 할수 있기 때문에, 방법 찾기 -> 수식 추출 과정을 거치도록 chain을 하나더 만든다."
   ]
  },
  {
   "cell_type": "code",
   "execution_count": 7,
   "metadata": {},
   "outputs": [],
   "source": [
    "\n",
    "tax_base_retrieval_chain = (\n",
    "    {'context': retriever, 'question': RunnablePassthrough()} \n",
    "    | rag_prompt \n",
    "    | llm \n",
    "    | StrOutputParser()\n",
    ")\n",
    "\n",
    "tax_base_chain = {'tax_base_equation_information' : tax_base_retrieval_chain} | tax_base_equation_chain"
   ]
  },
  {
   "cell_type": "markdown",
   "metadata": {},
   "source": [
    "함수 정의"
   ]
  },
  {
   "cell_type": "code",
   "execution_count": 8,
   "metadata": {},
   "outputs": [],
   "source": [
    "def get_tax_base_equation(state: AgentState) -> AgentState:\n",
    "    \"\"\"\n",
    "    종합부동산세 과세표준을 계산하는 수식을 가져옵니다.\n",
    "    `node`로 활용되기 때문에 `state`를 인자로 받지만, \n",
    "    고정된 기능을 수행하기 때문에 `state`를 활용하지는 않습니다.\n",
    "\n",
    "    Args:\n",
    "        state (AgentState): 현재 에이전트의 상태를 나타내는 객체입니다.\n",
    "\n",
    "    Returns:\n",
    "        AgentState: 'tax_base_equation' 키를 포함하는 새로운 `state`를 반환합니다.\n",
    "    \"\"\"\n",
    "    # 과세표준을 계산하는 방법을 묻는 질문을 정의합니다.\n",
    "    tax_base_equation_question = '주택에 대한 종합부동산세 계산시 과세표준을 계산하는 방법을 수식으로 표현해서 알려주세요'\n",
    "    \n",
    "    # tax_base_chain을 사용하여 질문을 실행하고 결과를 얻습니다.\n",
    "    tax_base_equation = tax_base_chain.invoke(tax_base_equation_question) # 딕셔너리로 입력 필요 없음\n",
    "    \n",
    "    # state에서 'tax_base_equation' 키에 대한 값을 반환합니다.\n",
    "    return {'tax_base_equation': tax_base_equation}"
   ]
  },
  {
   "cell_type": "markdown",
   "metadata": {},
   "source": [
    "테스트 해보기"
   ]
  },
  {
   "cell_type": "code",
   "execution_count": 9,
   "metadata": {},
   "outputs": [
    {
     "data": {
      "text/plain": [
       "{'tax_base_equation': '과세표준 = 과세대상 자산의 공시가격 - 공제금액 - 감면금액'}"
      ]
     },
     "execution_count": 9,
     "metadata": {},
     "output_type": "execute_result"
    }
   ],
   "source": [
    "get_tax_base_equation({}) # 아무 것도 입력하지 않아도 됨"
   ]
  },
  {
   "cell_type": "markdown",
   "metadata": {},
   "source": [
    "비슷한 방식으로 공제액을 조회하는 chain과 함수 정의"
   ]
  },
  {
   "cell_type": "code",
   "execution_count": 10,
   "metadata": {},
   "outputs": [],
   "source": [
    "\n",
    "tax_deduction_chain = (\n",
    "    {'context': retriever, 'question': RunnablePassthrough()} \n",
    "    | rag_prompt \n",
    "    | llm \n",
    "    | StrOutputParser()\n",
    ")\n",
    "\n",
    "def get_tax_deduction(state: AgentState) -> AgentState:\n",
    "    \"\"\"\n",
    "    종합부동산세 공제금액에 관한 정보를 가져옵니다.\n",
    "    `node`로 활용되기 때문에 `state`를 인자로 받지만, \n",
    "    고정된 기능을 수행하기 때문에 `state`를 활용하지는 않습니다.\n",
    "\n",
    "    Args:\n",
    "        state (AgentState): 현재 에이전트의 state를 나타내는 객체입니다.\n",
    "\n",
    "    Returns:\n",
    "        AgentState: 'tax_deduction' 키를 포함하는 새로운 state를 반환합니다.\n",
    "    \"\"\"\n",
    "    # 공제금액을 묻는 질문을 정의합니다.\n",
    "    tax_deduction_question = '주택에 대한 종합부동산세 계산시 공제금액을 알려주세요'\n",
    "    \n",
    "    # tax_deduction_chain을 사용하여 질문을 실행하고 결과를 얻습니다.\n",
    "    tax_deduction = tax_deduction_chain.invoke(tax_deduction_question)\n",
    "    \n",
    "    # state에서 'tax_deduction' 키에 대한 값을 반환합니다.\n",
    "    return {'tax_deduction': tax_deduction}"
   ]
  },
  {
   "cell_type": "markdown",
   "metadata": {},
   "source": [
    "테스트"
   ]
  },
  {
   "cell_type": "code",
   "execution_count": 11,
   "metadata": {},
   "outputs": [
    {
     "data": {
      "text/plain": [
       "{'tax_deduction': '죄송하지만, 주택에 대한 종합부동산세 계산 시의 공제금액에 대한 정보가 제공된 문맥에서는 찾을 수 없습니다. 관련 정보를 확인하시려면 국세청 또는 관련 공식 자료를 참고하시기 바랍니다.'}"
      ]
     },
     "execution_count": 11,
     "metadata": {},
     "output_type": "execute_result"
    }
   ],
   "source": [
    "get_tax_deduction({})"
   ]
  },
  {
   "cell_type": "markdown",
   "metadata": {},
   "source": [
    "- 잘안됨. 다시 해볼 것"
   ]
  },
  {
   "cell_type": "markdown",
   "metadata": {},
   "source": [
    "웹검색 기능(예를 들어 대통령령 검색을 위해)"
   ]
  },
  {
   "cell_type": "code",
   "execution_count": 12,
   "metadata": {},
   "outputs": [],
   "source": [
    "from langchain_community.tools import TavilySearchResults\n",
    "from datetime import date\n",
    "\n",
    "tavily_search_tool = TavilySearchResults(\n",
    "    max_results=5,\n",
    "    search_depth=\"advanced\",\n",
    "    include_answer=True,\n",
    "    include_raw_content=True,\n",
    "    include_images=True,\n",
    ")\n",
    "\n",
    "tax_market_ratio_prompt = ChatPromptTemplate.from_messages([\n",
    "    ('system', f'아래 정보를 기반으로 공정시장 가액비율을 계산해주세요\\n\\nContext:\\n{{context}}'),\n",
    "    ('human', '{query}')\n",
    "])\n",
    "\n",
    "def get_market_ratio(state: AgentState) -> AgentState:\n",
    "    \"\"\"\n",
    "    web 검색을 통해 주택 공시가격에 대한 공정시장가액비율을 가져옵니다.\n",
    "    `node`로 활용되기 때문에 `state`를 인자로 받지만, \n",
    "    고정된 기능을 수행하기 때문에 `state`를 활용하지는 않습니다.\n",
    "    \n",
    "    Args:\n",
    "        state (AgentState): 현재 에이전트의 state를 나타내는 객체입니다.\n",
    "\n",
    "    Returns:\n",
    "        AgentState: 'market_ratio' 키를 포함하는 새로운 state를 반환합니다.\n",
    "    \"\"\"\n",
    "    # 오늘 날짜에 해당하는 공정시장가액비율을 묻는 쿼리를 정의합니다.\n",
    "    query = f'오늘 날짜:({date.today()})에 해당하는 주택 공시가격 공정시장가액비율은 몇%인가요?'\n",
    "    \n",
    "    # tavily_search_tool을 사용하여 쿼리를 실행하고 컨텍스트를 얻습니다.\n",
    "    context = tavily_search_tool.invoke(query)\n",
    "    \n",
    "    # tax_market_ratio_chain을 구성하여 쿼리와 컨텍스트를 처리합니다.\n",
    "    tax_market_ratio_chain = (\n",
    "        tax_market_ratio_prompt\n",
    "        | llm\n",
    "        | StrOutputParser()\n",
    "    )\n",
    "    \n",
    "    # tax_market_ratio_chain을 사용하여 시장 비율을 계산합니다.\n",
    "    market_ratio = tax_market_ratio_chain.invoke({'context': context, 'query': query})\n",
    "    \n",
    "    # state에서 'market_ratio' 키에 대한 값을 반환합니다.\n",
    "    return {'market_ratio': market_ratio}"
   ]
  },
  {
   "cell_type": "markdown",
   "metadata": {},
   "source": [
    "테스트"
   ]
  },
  {
   "cell_type": "code",
   "execution_count": 13,
   "metadata": {},
   "outputs": [
    {
     "data": {
      "text/plain": [
       "{'market_ratio': '2025년에는 1주택자를 대상으로 한 공정시장가액비율 특례가 계속 적용됩니다. 이에 따라 주택 공시가격에 따른 공정시장가액비율은 다음과 같습니다:\\n\\n- 공시가격 3억 원 이하: 43%\\n- 공시가격 3억 원 초과 ~ 6억 원 이하: 44%\\n- 공시가격 6억 원 초과: 45%'}"
      ]
     },
     "execution_count": 13,
     "metadata": {},
     "output_type": "execute_result"
    }
   ],
   "source": [
    "get_market_ratio({})"
   ]
  },
  {
   "cell_type": "markdown",
   "metadata": {},
   "source": [
    "위 결과를 기반으로 과세 표준을 계산하는 노드"
   ]
  },
  {
   "cell_type": "code",
   "execution_count": 14,
   "metadata": {},
   "outputs": [],
   "source": [
    "tax_base_calculation_prompt = ChatPromptTemplate.from_messages(\n",
    "    [\n",
    "        ('system',\"\"\"\n",
    "주어진 내용을 기반으로 과세표준을 계산해주세요\n",
    "\n",
    "과세표준 계산 공식: {tax_base_equation}\n",
    "공제금액: {tax_deduction}\n",
    "공정시장가액비율: {market_ratio}\"\"\"),\n",
    "        ('human', '사용자 주택 공시가격 정보: {query}')\n",
    "    ]\n",
    ")\n",
    "\n",
    "def calculate_tax_base(state: AgentState) -> AgentState:\n",
    "    \"\"\"\n",
    "    주어진 state에서 과세표준을 계산합니다.\n",
    "\n",
    "    Args:\n",
    "        state (AgentState): 현재 에이전트의 state를 나타내는 객체입니다.\n",
    "\n",
    "    Returns:\n",
    "        AgentState: 'tax_base' 키를 포함하는 새로운 state를 반환합니다.\n",
    "    \"\"\"\n",
    "    # state에서 필요한 정보를 추출합니다.\n",
    "    tax_base_equation = state['tax_base_equation']\n",
    "    tax_deduction = state['tax_deduction']\n",
    "    market_ratio = state['market_ratio']\n",
    "    query = state['query']\n",
    "    \n",
    "    # tax_base_calculation_chain을 구성하여 과세표준을 계산합니다.\n",
    "    tax_base_calculation_chain = (\n",
    "        tax_base_calculation_prompt\n",
    "        | llm\n",
    "        | StrOutputParser()\n",
    "    )\n",
    "    \n",
    "    # tax_base_calculation_chain을 사용하여 과세표준을 계산합니다.\n",
    "    tax_base = tax_base_calculation_chain.invoke({\n",
    "        'tax_base_equation': tax_base_equation,\n",
    "        'tax_deduction': tax_deduction,\n",
    "        'market_ratio': market_ratio,\n",
    "        'query': query\n",
    "    })\n",
    "\n",
    "    # state에서 'tax_base' 키에 대한 값을 반환합니다.\n",
    "    return {'tax_base': tax_base}"
   ]
  },
  {
   "cell_type": "markdown",
   "metadata": {},
   "source": [
    "테스트 "
   ]
  },
  {
   "cell_type": "code",
   "execution_count": 15,
   "metadata": {},
   "outputs": [
    {
     "data": {
      "text/plain": [
       "{'tax_base': '사용자가 보유한 주택의 총 공시가격을 계산해보면 다음과 같습니다:\\n\\n5억 원 + 10억 원 + 20억 원 = 35억 원\\n\\n1세대 1주택자가 아니므로 공제 금액이 적용되지 않습니다. 따라서 공제금액은 0원입니다.\\n\\n과세표준은 다음과 같이 계산됩니다:\\n\\n과세표준 = (과세대상 금액 - 공제금액) x 공정시장가액비율\\n과세표준 = (35억 원 - 0원) x 60%\\n과세표준 = 35억 원 x 0.6\\n과세표준 = 21억 원\\n\\n따라서 과세표준은 21억 원입니다. 이 과세표준을 바탕으로 세율에 따라 종합부동산세를 계산하게 됩니다. 세율은 과세표준과 주택 수에 따라 다르므로, 세율 정보를 추가로 확인해야 정확한 세금 금액을 계산할 수 있습니다.'}"
      ]
     },
     "execution_count": 15,
     "metadata": {},
     "output_type": "execute_result"
    }
   ],
   "source": [
    "initial_state = {\n",
    "    \"query\": query,\n",
    "    \"tax_base_equation\": \"과세표준 = (과세대상 금액 - 공제금액) x 공정시장가액비율\",\n",
    "    \"tax_deduction\": \"주택에 대한 종합부동산세 계산 시 공제 금액은 1세대 1주택자의 경우 12억원\",\n",
    "    \"market_ratio\": \"2024년 주택 공시가격의 공정시장가액 비율은 60%\",\n",
    "}\n",
    "\n",
    "calculate_tax_base(initial_state)"
   ]
  },
  {
   "cell_type": "markdown",
   "metadata": {},
   "source": [
    "마지막으로 세율을 계산하는 노드"
   ]
  },
  {
   "cell_type": "code",
   "execution_count": 16,
   "metadata": {},
   "outputs": [],
   "source": [
    "tax_rate_calculation_prompt = ChatPromptTemplate.from_messages([\n",
    "    ('system', '''당신은 종합부동산세 계산 전문가입니다. 아래 문서를 참고해서 사용자의 질문에 대한 종합부동산세를 계산해주세요\n",
    "\n",
    "종합부동산세 세율:{context}'''),\n",
    "    ('human', '''과세표준과 사용자가 소지한 주택의 수가 아래와 같을 때 종합부동산세를 계산해주세요\n",
    "\n",
    "과세표준: {tax_base}\n",
    "주택 수:{query}''')\n",
    "])\n",
    "\n",
    "def calculate_tax_rate(state: AgentState):\n",
    "    \"\"\"\n",
    "    주어진 state에서 세율을 계산합니다.\n",
    "\n",
    "    Args:\n",
    "        state (AgentState): 현재 에이전트의 state를 나타내는 객체입니다.\n",
    "\n",
    "    Returns:\n",
    "        dict: 'answer' 키를 포함하는 새로운 state를 반환합니다.\n",
    "    \"\"\"\n",
    "    # state에서 필요한 정보를 추출합니다.\n",
    "    query = state['query']\n",
    "    tax_base = state['tax_base']\n",
    "    \n",
    "    # retriever를 사용하여 쿼리를 실행하고 컨텍스트를 얻습니다.\n",
    "    context = retriever.invoke(query)\n",
    "    \n",
    "    # tax_rate_chain을 구성하여 세율을 계산합니다.\n",
    "    tax_rate_chain = (\n",
    "        tax_rate_calculation_prompt\n",
    "        | llm\n",
    "        | StrOutputParser()\n",
    "    )\n",
    "    \n",
    "    # tax_rate_chain을 사용하여 세율을 계산합니다.\n",
    "    tax_rate = tax_rate_chain.invoke({\n",
    "        'context': context, \n",
    "        'tax_base': tax_base, \n",
    "        'query': query\n",
    "    })\n",
    "\n",
    "    # state에서 'answer' 키에 대한 값을 반환합니다.\n",
    "    return {'answer': tax_rate}"
   ]
  },
  {
   "cell_type": "markdown",
   "metadata": {},
   "source": [
    "### 그래프만들기"
   ]
  },
  {
   "cell_type": "markdown",
   "metadata": {},
   "source": [
    "- `node`를 추가하고 `edge`로 연결합니다\n",
    "- 하나의 `node`에서 `edge`를 활영해서 다양한 `node`들을 연결하면 병렬로 작업이 가능합니다"
   ]
  },
  {
   "cell_type": "code",
   "execution_count": 17,
   "metadata": {},
   "outputs": [
    {
     "data": {
      "text/plain": [
       "<langgraph.graph.state.StateGraph at 0x7f89fe18adb0>"
      ]
     },
     "execution_count": 17,
     "metadata": {},
     "output_type": "execute_result"
    }
   ],
   "source": [
    "graph_builder.add_node('get_tax_base_equation', get_tax_base_equation)\n",
    "graph_builder.add_node('get_tax_deduction', get_tax_deduction)\n",
    "graph_builder.add_node('get_market_ratio', get_market_ratio)\n",
    "graph_builder.add_node('calculate_tax_base', calculate_tax_base)\n",
    "graph_builder.add_node('calculate_tax_rate', calculate_tax_rate)"
   ]
  },
  {
   "cell_type": "code",
   "execution_count": 18,
   "metadata": {},
   "outputs": [
    {
     "data": {
      "text/plain": [
       "<langgraph.graph.state.StateGraph at 0x7f89fe18adb0>"
      ]
     },
     "execution_count": 18,
     "metadata": {},
     "output_type": "execute_result"
    }
   ],
   "source": [
    "from langgraph.graph import START, END\n",
    "\n",
    "graph_builder.add_edge(START, 'get_tax_base_equation')\n",
    "graph_builder.add_edge(START, 'get_tax_deduction')\n",
    "graph_builder.add_edge(START, 'get_market_ratio')\n",
    "graph_builder.add_edge('get_tax_base_equation', 'calculate_tax_base')\n",
    "graph_builder.add_edge('get_tax_deduction', 'calculate_tax_base')\n",
    "graph_builder.add_edge('get_market_ratio', 'calculate_tax_base')\n",
    "graph_builder.add_edge('calculate_tax_base', 'calculate_tax_rate')\n",
    "graph_builder.add_edge('calculate_tax_rate', END)"
   ]
  },
  {
   "cell_type": "code",
   "execution_count": 19,
   "metadata": {},
   "outputs": [],
   "source": [
    "graph = graph_builder.compile()"
   ]
  },
  {
   "cell_type": "code",
   "execution_count": 20,
   "metadata": {},
   "outputs": [
    {
     "data": {
      "image/png": "[encoded data removed]",
      "text/plain": [
       "<IPython.core.display.Image object>"
      ]
     },
     "metadata": {},
     "output_type": "display_data"
    }
   ],
   "source": [
    "from IPython.display import Image, display\n",
    "\n",
    "display(Image(graph.get_graph().draw_mermaid_png()))"
   ]
  },
  {
   "cell_type": "code",
   "execution_count": 21,
   "metadata": {},
   "outputs": [
    {
     "data": {
      "text/plain": [
       "{'query': '5억짜리 집 1채, 10억짜리 집 1채, 20억짜리 집 1채를 가지고 있을 때 세금을 얼마나 내나요?',\n",
       " 'answer': '종합부동산세를 계산하기 위해서는 주택 수에 따른 공제금액과 과세표준에 따른 세율 정보가 필요합니다. 사용자가 5억, 10억, 20억 원짜리 집 각각 1채씩 총 3채를 소유하고 있다고 가정하겠습니다.\\n\\n**과세표준 계산:**\\n- 5억 원짜리 집: \\\\((5억 원 - 공제금액) \\\\times 44%\\\\)\\n- 10억 원짜리 집: \\\\((10억 원 - 공제금액) \\\\times 45%\\\\)\\n- 20억 원짜리 집: \\\\((20억 원 - 공제금액) \\\\times 45%\\\\)\\n\\n**총 과세표준 합산:**\\n- \\\\((5억 원 - 공제금액) \\\\times 44\\\\% + (10억 원 - 공제금액) \\\\times 45\\\\% + (20억 원 - 공제금액) \\\\times 45\\\\%\\\\)\\n\\n**주택 수에 따른 공제금액:**\\n주택 수가 3채인 경우, 공제금액은 6억 원입니다. 따라서 각 주택의 공제금액을 동일하게 6억 원으로 가정하고 계산합니다.\\n\\n1. 5억 원짜리 집: 과세표준 = \\\\( (5억 원 - 6억 원) \\\\times 44\\\\% = 0\\\\) (음수이므로 과세표준 0)\\n2. 10억 원짜리 집: 과세표준 = \\\\( (10억 원 - 6억 원) \\\\times 45\\\\% = 4억 원 \\\\times 45\\\\% = 1.8억 원\\\\)\\n3. 20억 원짜리 집: 과세표준 = \\\\( (20억 원 - 6억 원) \\\\times 45\\\\% = 14억 원 \\\\times 45\\\\% = 6.3억 원\\\\)\\n\\n**총 과세표준:**\\n- 0 + 1.8억 원 + 6.3억 원 = 8.1억 원\\n\\n**세율 적용:**\\n과세표준에 따른 종합부동산세율은 누진세율로 적용됩니다. 2023년 기준, 주택에 대한 종합부동산세율은 대략적으로 다음과 같습니다 (정확한 세율은 해당 연도의 세법에 따라 다를 수 있습니다):\\n\\n- 과세표준 6억 원 초과 ~ 12억 원 이하: 1.2%\\n\\n따라서, 8.1억 원에 대해 1.2%의 세율을 적용하면:\\n\\n- 종합부동산세 = 8.1억 원 × 1.2% = 0.0972억 원 = 972만 원\\n\\n따라서, 사용자가 5억 원, 10억 원, 20억 원짜리 주택을 각각 1채씩 소유하고 있을 경우, 종합부동산세는 대략적으로 972만 원이 됩니다. 정확한 계산을 위해서는 해당 연도의 세법과 세율을 참고하시기 바랍니다.',\n",
       " 'tax_base_equation': '과세표준 = (과세대상 자산의 시가 - 공제금액) × 공정시장가액비율',\n",
       " 'tax_deduction': '죄송하지만, 주어진 문맥에서 종합부동산세의 공제금액에 대한 정보를 찾을 수 없습니다. 최신 정보를 확인하시려면 관련 세무 기관이나 공식 웹사이트를 참고하시기 바랍니다.',\n",
       " 'market_ratio': '2025년의 1주택자에 대한 공정시장가액비율은 다음과 같이 적용됩니다:\\n\\n- 공시가격 3억 원 이하: 43%\\n- 공시가격 3억 원 초과 ~ 6억 원 이하: 44%\\n- 공시가격 6억 원 초과: 45%\\n\\n따라서, 해당하는 주택 공시가격에 따라 위의 비율 중 하나가 적용됩니다.',\n",
       " 'tax_base': '종합부동산세를 계산하기 위해서는 과세표준을 계산해야 합니다. 각 주택에 대해 과세표준을 계산해보겠습니다. 다만, 공제금액에 대한 정보가 부족하므로 실제 세금 계산은 어렵습니다. 대신 과세표준만 계산해 드리겠습니다.\\n\\n1. **5억 원짜리 집:**\\n   - 공시가격: 5억 원\\n   - 공정시장가액비율: 44% (3억 초과 ~ 6억 이하)\\n   - 과세표준 = (5억 원 - 공제금액) × 44%\\n\\n2. **10억 원짜리 집:**\\n   - 공시가격: 10억 원\\n   - 공정시장가액비율: 45% (6억 초과)\\n   - 과세표준 = (10억 원 - 공제금액) × 45%\\n\\n3. **20억 원짜리 집:**\\n   - 공시가격: 20억 원\\n   - 공정시장가액비율: 45% (6억 초과)\\n   - 과세표준 = (20억 원 - 공제금액) × 45%\\n\\n각각의 집에 대해 공제금액을 제외한 나머지 부분에 공정시장가액비율을 곱해서 과세표준을 구할 수 있습니다. 각 주택의 과세표준을 합산하여 최종 과세표준을 구하고, 해당 과세표준에 따라 세율을 적용하여 종합부동산세를 계산할 수 있습니다.\\n\\n정확한 세금 계산을 위해서는 해당 연도의 공제금액 정보 및 세율을 확인해야 합니다. 이를 위해 관련 세무 기관이나 공식 웹사이트를 참고하시기 바랍니다.'}"
      ]
     },
     "execution_count": 21,
     "metadata": {},
     "output_type": "execute_result"
    }
   ],
   "source": [
    "initial_state = {'query': query}\n",
    "graph.invoke(initial_state)"
   ]
  },
  {
   "cell_type": "code",
   "execution_count": null,
   "metadata": {},
   "outputs": [],
   "source": []
  }
 ],
 "metadata": {
  "kernelspec": {
   "display_name": "inflearn-langgraph",
   "language": "python",
   "name": "python3"
  },
  "language_info": {
   "codemirror_mode": {
    "name": "ipython",
    "version": 3
   },
   "file_extension": ".py",
   "mimetype": "text/x-python",
   "name": "python",
   "nbconvert_exporter": "python",
   "pygments_lexer": "ipython3",
   "version": "3.12.11"
  }
 },
 "nbformat": 4,
 "nbformat_minor": 2
}
