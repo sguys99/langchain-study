{
 "cells": [
  {
   "cell_type": "markdown",
   "metadata": {},
   "source": [
    "# 5.3 공식문서의 MCP Client 활용방법 I (feat. MultiServerMCPClient)"
   ]
  },
  {
   "cell_type": "markdown",
   "metadata": {},
   "source": [
    "- 3.8 커스텀 도구(tool)를 최대한 활용하는 방법에서 생성한 에이전트가 활용하는 도구를 [MCP 서버](https://github.com/modelcontextprotocol/servers)로 이전\n",
    "\n"
   ]
  },
  {
   "cell_type": "code",
   "execution_count": 1,
   "metadata": {},
   "outputs": [
    {
     "data": {
      "text/plain": [
       "True"
      ]
     },
     "execution_count": 1,
     "metadata": {},
     "output_type": "execute_result"
    }
   ],
   "source": [
    "from dotenv import load_dotenv\n",
    "\n",
    "load_dotenv()"
   ]
  },
  {
   "cell_type": "code",
   "execution_count": 3,
   "metadata": {},
   "outputs": [],
   "source": [
    "query = '5억짜리 집 1채, 10억짜리 집 1채, 20억짜리 집 1채를 가지고 있을 때 세금을 얼마나 내나요?'"
   ]
  },
  {
   "cell_type": "code",
   "execution_count": 4,
   "metadata": {},
   "outputs": [],
   "source": [
    "from langchain_openai import AzureChatOpenAI\n",
    "\n",
    "llm = AzureChatOpenAI(\n",
    "    azure_deployment='gpt-4o-2024-11-20',\n",
    "    api_version='2024-08-01-preview',   \n",
    "    temperature=0\n",
    ")"
   ]
  },
  {
   "cell_type": "code",
   "execution_count": 5,
   "metadata": {},
   "outputs": [],
   "source": [
    "async def process_stream(stream_generator):\n",
    "    results = []\n",
    "    try:\n",
    "        async for chunk in stream_generator:\n",
    "\n",
    "            key = list(chunk.keys())[0]\n",
    "            \n",
    "            if key == 'agent':\n",
    "                # Agent 메시지의 내용을 가져옴. 메세지가 비어있는 경우 어떤 도구를 어떻게 호출할지 정보를 가져옴\n",
    "                content = chunk['agent']['messages'][0].content if chunk['agent']['messages'][0].content != '' else chunk['agent']['messages'][0].additional_kwargs\n",
    "                print(f\"'agent': '{content}'\")\n",
    "            \n",
    "            elif key == 'tools':\n",
    "                # 도구 메시지의 내용을 가져옴\n",
    "                for tool_msg in chunk['tools']['messages']:\n",
    "                    print(f\"'tools': '{tool_msg.content}'\")\n",
    "            \n",
    "            results.append(chunk)\n",
    "        return results\n",
    "    except Exception as e:\n",
    "        print(f\"Error processing stream: {e}\")\n",
    "        return results"
   ]
  },
  {
   "cell_type": "markdown",
   "metadata": {},
   "source": [
    "- MCP 서버와 연결하기 위한 MCP 클라이언트 생성\n",
    "    - LangChain에서 제공하는 [langchain-mcp-adapters](https://github.com/langchain-ai/langchain-mcp-adapters)활용\n",
    "    - `MultiServerMCPClient`를 활용하면 복수의 MCP 서버와 연결할 수 있음"
   ]
  },
  {
   "cell_type": "code",
   "execution_count": 6,
   "metadata": {},
   "outputs": [
    {
     "name": "stdout",
     "output_type": "stream",
     "text": [
      "=====PROMPT=====\n",
      "=====RESPONSE=====\n",
      "'agent': '{'tool_calls': [{'id': 'call_cDiRDAaKaml4M6hB7HCSS4sI', 'function': {'arguments': '{}', 'name': 'tax_base_tool'}, 'type': 'function'}, {'id': 'call_ZKOqqhaALkRVWzI2oZfK0kA3', 'function': {'arguments': '{\"question\": \"5억짜리 집 1채, 10억짜리 집 1채, 20억짜리 집 1채를 가지고 있습니다. 공정시장가액비율은 얼마인가요?\"}', 'name': 'market_value_rate_tool'}, 'type': 'function'}, {'id': 'call_sHRjrKZ5HSnSnuzjUmUSGUpz', 'function': {'arguments': '{\"question\": \"5억짜리 집 1채, 10억짜리 집 1채, 20억짜리 집 1채를 가지고 있습니다. 공제액은 얼마인가요?\"}', 'name': 'tax_deductible_tool'}, 'type': 'function'}], 'refusal': None}'\n",
      "'tools': '과세표준 = (주택의 공시가격 합산 - 공제금액) × 공정시장가액비율'\n",
      "'tools': '공정시장가액비율은 60%입니다.'\n",
      "'tools': '9억 원'\n",
      "'agent': '{'tool_calls': [{'id': 'call_lFN1VmMOwE12DB6rGbiym3vt', 'function': {'arguments': '{\"tax_base_question\":\"과세표준 = (주택의 공시가격 합산 - 공제금액) × 공정시장가액비율\",\"market_value_rate\":\"60%\",\"tax_deductible\":\"9억원\",\"question\":\"5억짜리 집 1채, 10억짜리 집 1채, 20억짜리 집 1채를 가지고 있을 때 세금을 얼마나 내나요?\"}', 'name': 'house_tax_tool'}, 'type': 'function'}], 'refusal': None}'\n",
      "'tools': '주어진 조건에 따라 종합부동산세를 계산해 보겠습니다. \n",
      "\n",
      "### 1. 주어진 정보\n",
      "- 주택 3채를 소유하고 있음.\n",
      "- 주택의 공시가격: 5억 원, 10억 원, 20억 원.\n",
      "- 공정시장가액비율: 60%.\n",
      "- 공제액: 9억 원.\n",
      "- 3주택 이상 소유자에 해당하므로 3주택 이상 소유자에 대한 세율을 적용.\n",
      "\n",
      "---\n",
      "\n",
      "### 2. 과세표준 계산\n",
      "과세표준 공식:\n",
      "\\[\n",
      "\\text{과세표준} = (\\text{공시가격 합산} - \\text{공제액}) \\times \\text{공정시장가액비율}\n",
      "\\]\n",
      "\n",
      "1) 공시가격 합산:\n",
      "\\[\n",
      "5억 + 10억 + 20억 = 35억 원\n",
      "\\]\n",
      "\n",
      "2) 공제액:\n",
      "\\[\n",
      "35억 - 9억 = 26억 원\n",
      "\\]\n",
      "\n",
      "3) 공정시장가액비율 적용:\n",
      "\\[\n",
      "26억 \\times 0.6 = 15.6억 원\n",
      "\\]\n",
      "\n",
      "따라서, 과세표준은 **15.6억 원**입니다.\n",
      "\n",
      "---\n",
      "\n",
      "### 3. 세율 적용\n",
      "3주택 이상 소유자의 세율표에 따라 계산합니다.\n",
      "\n",
      "#### 세율표 (3주택 이상 소유자):\n",
      "| 과세표준              | 세율                                  |\n",
      "|---------------------|-------------------------------------|\n",
      "| 3억 원 이하           | 1천분의 5                              |\n",
      "| 3억 원 초과 6억 원 이하 | 150만 원 + (3억 원을 초과하는 금액의 1천분의 7)  |\n",
      "| 6억 원 초과 12억 원 이하 | 360만 원 + (6억 원을 초과하는 금액의 1천분의 10) |\n",
      "| 12억 원 초과 25억 원 이하 | 960만 원 + (12억 원을 초과하는 금액의 1천분의 20)|\n",
      "\n",
      "과세표준이 15.6억 원이므로, **12억 원 초과 25억 원 이하** 구간에 해당합니다.\n",
      "\n",
      "#### 세금 계산:\n",
      "\\[\n",
      "960만 원 + (15.6억 - 12억) \\times 0.002\n",
      "\\]\n",
      "\n",
      "1) 초과 금액:\n",
      "\\[\n",
      "15.6억 - 12억 = 3.6억 원\n",
      "\\]\n",
      "\n",
      "2) 초과 금액에 대한 세율 적용:\n",
      "\\[\n",
      "3.6억 \\times 0.002 = 720만 원\n",
      "\\]\n",
      "\n",
      "3) 총 세금:\n",
      "\\[\n",
      "960만 원 + 720만 원 = 1,680만 원\n",
      "\\]\n",
      "\n",
      "---\n",
      "\n",
      "### 4. 최종 결과\n",
      "주택 3채(5억 원, 10억 원, 20억 원)를 소유한 경우, **종합부동산세는 1,680만 원**입니다.'\n",
      "'agent': '주택 3채(5억 원, 10억 원, 20억 원)를 소유한 경우, 종합부동산세는 **1,680만 원**입니다. \n",
      "\n",
      "세금 계산은 다음과 같은 단계로 이루어졌습니다:\n",
      "1. **공시가격 합산**: 35억 원\n",
      "2. **공제액 적용**: 9억 원을 공제하여 26억 원\n",
      "3. **공정시장가액비율 적용**: 60%를 곱하여 과세표준은 15.6억 원\n",
      "4. **세율표에 따른 세금 계산**: 12억 원 초과 구간에 해당하여 최종 세금은 1,680만 원\n",
      "\n",
      "추가 질문이 있으시면 알려주세요!'\n",
      "\n",
      "Final result: {'agent': {'messages': [AIMessage(content='주택 3채(5억 원, 10억 원, 20억 원)를 소유한 경우, 종합부동산세는 **1,680만 원**입니다. \\n\\n세금 계산은 다음과 같은 단계로 이루어졌습니다:\\n1. **공시가격 합산**: 35억 원\\n2. **공제액 적용**: 9억 원을 공제하여 26억 원\\n3. **공정시장가액비율 적용**: 60%를 곱하여 과세표준은 15.6억 원\\n4. **세율표에 따른 세금 계산**: 12억 원 초과 구간에 해당하여 최종 세금은 1,680만 원\\n\\n추가 질문이 있으시면 알려주세요!', additional_kwargs={'refusal': None}, response_metadata={'token_usage': {'completion_tokens': 172, 'prompt_tokens': 1688, 'total_tokens': 1860, 'completion_tokens_details': {'accepted_prediction_tokens': 0, 'audio_tokens': 0, 'reasoning_tokens': 0, 'rejected_prediction_tokens': 0}, 'prompt_tokens_details': {'audio_tokens': 0, 'cached_tokens': 0}}, 'model_name': 'gpt-4o-2024-11-20', 'system_fingerprint': 'fp_ee1d74bde0', 'prompt_filter_results': [{'prompt_index': 0, 'content_filter_results': {'hate': {'filtered': False, 'severity': 'safe'}, 'jailbreak': {'filtered': False, 'detected': False}, 'self_harm': {'filtered': False, 'severity': 'safe'}, 'sexual': {'filtered': False, 'severity': 'safe'}, 'violence': {'filtered': False, 'severity': 'safe'}}}], 'finish_reason': 'stop', 'logprobs': None, 'content_filter_results': {'hate': {'filtered': False, 'severity': 'safe'}, 'protected_material_code': {'filtered': False, 'detected': False}, 'protected_material_text': {'filtered': False, 'detected': False}, 'self_harm': {'filtered': False, 'severity': 'safe'}, 'sexual': {'filtered': False, 'severity': 'safe'}, 'violence': {'filtered': False, 'severity': 'safe'}}}, id='run-18ecfeea-4ec1-45e3-b457-938adaf03621-0', usage_metadata={'input_tokens': 1688, 'output_tokens': 172, 'total_tokens': 1860, 'input_token_details': {'audio': 0, 'cache_read': 0}, 'output_token_details': {'audio': 0, 'reasoning': 0}})]}}\n"
     ]
    }
   ],
   "source": [
    "from langchain_core.messages import HumanMessage\n",
    "from langgraph.prebuilt import create_react_agent\n",
    "from langchain_mcp_adapters.client import MultiServerMCPClient\n",
    "\n",
    "async with MultiServerMCPClient(\n",
    "    {\n",
    "        \"house_tax\": {\n",
    "            \"command\": \"python\",\n",
    "            \"args\": [\"./mcp_stdio_server.py\"],\n",
    "            \"transport\": \"stdio\",\n",
    "        },\n",
    "    }\n",
    ") as client:\n",
    "\n",
    "    ##### AGENT #####\n",
    "    tool_list = client.get_tools()\n",
    "    agent = create_react_agent(llm, tool_list)\n",
    "    query = '5억짜리 집 1채, 10억짜리 집 1채, 20억짜리 집 1채를 가지고 있을 때 세금을 얼마나 내나요?'\n",
    "    system_prompt = client.get_prompt(server_name=\"house_tax\", prompt_name=\"house_tax_system_prompt\", arguments={})\n",
    "    messages = await system_prompt + [HumanMessage(content=query)]\n",
    "    print(\"=====RESPONSE=====\")\n",
    "    stream_generator = agent.astream({'messages': messages})\n",
    "\n",
    "\n",
    "    all_chunks = await process_stream(stream_generator)\n",
    "\n",
    "\n",
    "    if all_chunks:\n",
    "        final_result = all_chunks[-1]\n",
    "        print(\"\\nFinal result:\", final_result)"
   ]
  },
  {
   "cell_type": "code",
   "execution_count": null,
   "metadata": {},
   "outputs": [],
   "source": []
  }
 ],
 "metadata": {
  "kernelspec": {
   "display_name": "inflearn-langgraph",
   "language": "python",
   "name": "python3"
  },
  "language_info": {
   "codemirror_mode": {
    "name": "ipython",
    "version": 3
   },
   "file_extension": ".py",
   "mimetype": "text/x-python",
   "name": "python",
   "nbconvert_exporter": "python",
   "pygments_lexer": "ipython3",
   "version": "3.12.11"
  }
 },
 "nbformat": 4,
 "nbformat_minor": 2
}
