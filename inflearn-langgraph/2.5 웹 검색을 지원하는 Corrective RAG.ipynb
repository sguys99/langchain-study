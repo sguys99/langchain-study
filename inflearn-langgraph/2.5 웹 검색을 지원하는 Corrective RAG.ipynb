{
  "cells": [
    {
      "cell_type": "markdown",
      "metadata": {},
      "source": [
        "# 2.5 웹 검색을 지원하는 Corrective RAG"
      ]
    },
    {
      "cell_type": "markdown",
      "metadata": {},
      "source": [
        "- [Corrective Retrieval Augmented Generation](https://arxiv.org/pdf/2401.15884)논문을 구현합니다\n",
        "- LangGraph 공식문서에 나온 흐름을 따라갑니다\n",
        "    - 공식문서의 흐름은 간소화된 버전입니다.\n",
        "    - 실제 논문과 유사한 구현은 3.3강을 참고해주세요\n",
        "![corrective-rag](https://i.imgur.com/IzvmbWN.png)"
      ]
    },
    {
      "cell_type": "markdown",
      "metadata": {},
      "source": [
        "- 여기서 rewrite 노드는 앞에 것과 약간 차이가 있는데, web search를 잘하도록 하도록 쿼리를 수정한다."
      ]
    },
    {
      "cell_type": "code",
      "execution_count": 1,
      "metadata": {},
      "outputs": [
        {
          "data": {
            "text/plain": [
              "True"
            ]
          },
          "execution_count": 1,
          "metadata": {},
          "output_type": "execute_result"
        }
      ],
      "source": [
        "from dotenv import load_dotenv\n",
        "\n",
        "load_dotenv()"
      ]
    },
    {
      "cell_type": "markdown",
      "metadata": {},
      "source": [
        "### 기존과 동일한 코드"
      ]
    },
    {
      "cell_type": "code",
      "execution_count": 2,
      "metadata": {},
      "outputs": [],
      "source": [
        "from langchain_chroma import Chroma\n",
        "from langchain_openai import OpenAIEmbeddings\n",
        "\n",
        "embedding_function = OpenAIEmbeddings(model='text-embedding-3-large')\n",
        "\n",
        "vector_store = Chroma(\n",
        "    embedding_function=embedding_function,\n",
        "    collection_name = 'income_tax_collection',\n",
        "    persist_directory = './income_tax_collection'\n",
        ")\n",
        "retriever = vector_store.as_retriever(search_kwargs={'k': 3})"
      ]
    },
    {
      "cell_type": "code",
      "execution_count": 3,
      "metadata": {},
      "outputs": [],
      "source": [
        "from typing_extensions import TypedDict\n",
        "from langgraph.graph import StateGraph\n",
        "\n",
        "class AgentState(TypedDict):\n",
        "    query: str\n",
        "    context: list # 웹 검색 결과가 들어 갈수 있어서 list[Document]로 명시하지 않았다.\n",
        "    answer: str\n",
        "    \n",
        "graph_builder = StateGraph(AgentState)"
      ]
    },
    {
      "cell_type": "code",
      "execution_count": 4,
      "metadata": {},
      "outputs": [],
      "source": [
        "def retrieve(state: AgentState) -> AgentState:\n",
        "    \"\"\"\n",
        "    사용자의 질문에 기반하여 벡터 스토어에서 관련 문서를 검색합니다.\n",
        "\n",
        "    Args:\n",
        "        state (AgentState): 사용자의 질문을 포함한 에이전트의 현재 state.\n",
        "\n",
        "    Returns:\n",
        "        AgentState: 검색된 문서가 추가된 state를 반환합니다.\n",
        "    \"\"\"\n",
        "    query = state['query']\n",
        "    docs = retriever.invoke(query)\n",
        "    return {'context': docs}"
      ]
    },
    {
      "cell_type": "code",
      "execution_count": 5,
      "metadata": {},
      "outputs": [],
      "source": [
        "from langchain_openai import ChatOpenAI\n",
        "\n",
        "llm = ChatOpenAI(model='gpt-4o')"
      ]
    },
    {
      "cell_type": "code",
      "execution_count": 6,
      "metadata": {},
      "outputs": [],
      "source": [
        "from langchain import hub\n",
        "\n",
        "# 허브에서 RAG 프롬프트를 가져옵니다\n",
        "generate_prompt = hub.pull(\"rlm/rag-prompt\")\n",
        "\n",
        "# 지정된 매개변수로 언어 모델을 초기화합니다\n",
        "generate_llm = ChatOpenAI(model='gpt-4o', max_completion_tokens=100)\n",
        "\n",
        "def generate(state: AgentState) -> AgentState:\n",
        "    \"\"\"\n",
        "    주어진 state를 기반으로 RAG 체인을 사용하여 응답을 생성합니다.\n",
        "\n",
        "    Args:\n",
        "        state (AgentState): 사용자의 질문과 문맥을 포함한 에이전트의 현재 state.\n",
        "\n",
        "    Returns:\n",
        "        AgentState: 생성된 응답을 포함하는 state를 반환합니다.\n",
        "    \"\"\"\n",
        "    context = state['context']\n",
        "    query = state['query']\n",
        "    \n",
        "    rag_chain = generate_prompt | generate_llm\n",
        "    \n",
        "    response = rag_chain.invoke({'question': query, 'context': context})\n",
        "    \n",
        "    return {'answer': response.content} # 앞과 다르게 content를 반환하여 string 출력"
      ]
    },
    {
      "cell_type": "markdown",
      "metadata": {},
      "source": [
        "`retrieve` 노드에서 추출된 문서와 사용자의 질문이 관련이 있는지 판단\n",
        "- 문서와 관련이 없다면 `rewrite` 노드로 이동해서 사용자의 질문을 변경\n",
        "    - `rewrite` 후 다시 `web_search` 노드로 이동해서 웹 검색\n",
        "- 문서와 관련이 있다면 `generate` 노드로 이동해서 답변을 생성"
      ]
    },
    {
      "cell_type": "code",
      "execution_count": 7,
      "metadata": {},
      "outputs": [],
      "source": [
        "# set the LANGCHAIN_API_KEY environment variable (create key in settings)\n",
        "from langchain import hub\n",
        "from typing import Literal\n",
        "doc_relevance_prompt = hub.pull(\"langchain-ai/rag-document-relevance\")\n",
        "\n",
        "def check_doc_relevance(state: AgentState) -> Literal['relevant', 'irrelvant']:\n",
        "    \"\"\"\n",
        "    주어진 state를 기반으로 문서의 관련성을 판단합니다.\n",
        "\n",
        "    Args:\n",
        "        state (AgentState): 사용자의 질문과 문맥을 포함한 에이전트의 현재 state.\n",
        "\n",
        "    Returns:\n",
        "        Literal['relevant', 'irrelevant']: 문서가 관련성이 높으면 'relevant', 그렇지 않으면 'irrelevant'를 반환합니다.\n",
        "    \"\"\"\n",
        "    query = state['query']\n",
        "    context = state['context']\n",
        "\n",
        "    doc_relevance_chain = doc_relevance_prompt | llm\n",
        "    response = doc_relevance_chain.invoke({'question': query, 'documents': context})\n",
        "\n",
        "    if response['Score'] == 1:\n",
        "        return 'relevant'\n",
        "    \n",
        "    return 'irrelvant'"
      ]
    },
    {
      "cell_type": "markdown",
      "metadata": {},
      "source": [
        "### 추가 노드 구현"
      ]
    },
    {
      "cell_type": "markdown",
      "metadata": {},
      "source": [
        "rewrite는 웹검색에 용이하게..."
      ]
    },
    {
      "cell_type": "code",
      "execution_count": 8,
      "metadata": {},
      "outputs": [],
      "source": [
        "from langchain_core.prompts import PromptTemplate\n",
        "from langchain_core.output_parsers import StrOutputParser\n",
        "\n",
        "rewrite_prompt = PromptTemplate.from_template(\"\"\"사용자의 질문을 보고, 웹 검색에 용이하게 사용자의 질문을 수정해주세요\n",
        "질문: {query}\n",
        "\"\"\")\n",
        "\n",
        "def rewrite(state: AgentState):\n",
        "    \"\"\"\n",
        "    사용자의 질문을 사전을 참고하여 변경합니다.\n",
        "\n",
        "    Args:\n",
        "        state (AgentState): 사용자의 질문을 포함한 에이전트의 현재 state.\n",
        "\n",
        "    Returns:\n",
        "        AgentState: 변경된 질문을 포함하는 state를 반환합니다.\n",
        "    \"\"\"\n",
        "    query = state['query']\n",
        "    rewrite_chain = rewrite_prompt | llm | StrOutputParser()\n",
        "\n",
        "    response = rewrite_chain.invoke({'query': query})\n",
        "\n",
        "    return {'query': response}\n"
      ]
    },
    {
      "cell_type": "markdown",
      "metadata": {},
      "source": [
        "`web_search` 노드에서 웹 검색 진행\n",
        "- `retrieve` 결과 대신 웹 검색 결과를 사용\n",
        "- 웹 검색 결과는 [TavilySearchResults](https://tavily.com/) 툴을 사용"
      ]
    },
    {
      "cell_type": "code",
      "execution_count": 9,
      "metadata": {},
      "outputs": [],
      "source": [
        "from langchain_community.tools import TavilySearchResults\n",
        "\n",
        "tavily_search_tool = TavilySearchResults(\n",
        "    max_results=3,\n",
        "    search_depth=\"advanced\",\n",
        "    include_answer=True,\n",
        "    include_raw_content=True,\n",
        "    include_images=True,\n",
        ")\n",
        "\n",
        "def web_search(state: AgentState) -> AgentState:\n",
        "    \"\"\"\n",
        "    주어진 state를 기반으로 웹 검색을 수행합니다.\n",
        "\n",
        "    Args:\n",
        "        state (AgentState): 사용자의 질문을 포함한 에이전트의 현재 state.\n",
        "\n",
        "    Returns:\n",
        "        AgentState: 웹 검색 결과가 추가된 state를 반환합니다.\n",
        "    \"\"\"\n",
        "    query = state['query']\n",
        "    results = tavily_search_tool.invoke(query)\n",
        "\n",
        "    return {'context': results}"
      ]
    },
    {
      "cell_type": "markdown",
      "metadata": {},
      "source": [
        "`node`를 추가하고 `edge`로 연결"
      ]
    },
    {
      "cell_type": "code",
      "execution_count": 10,
      "metadata": {},
      "outputs": [
        {
          "data": {
            "text/plain": [
              "<langgraph.graph.state.StateGraph at 0x13e952b40>"
            ]
          },
          "execution_count": 10,
          "metadata": {},
          "output_type": "execute_result"
        }
      ],
      "source": [
        "graph_builder.add_node('retrieve', retrieve)\n",
        "graph_builder.add_node('generate', generate)\n",
        "# graph_builder.add_node('rewrite', rewrite) # rewrite를 여기서는 재외해보았음. 결국 web search를 위한 rewrite는 필요 없을 수도\n",
        "graph_builder.add_node('web_search', web_search)"
      ]
    },
    {
      "cell_type": "code",
      "execution_count": 11,
      "metadata": {},
      "outputs": [
        {
          "data": {
            "text/plain": [
              "<langgraph.graph.state.StateGraph at 0x13e952b40>"
            ]
          },
          "execution_count": 11,
          "metadata": {},
          "output_type": "execute_result"
        }
      ],
      "source": [
        "from langgraph.graph import START, END\n",
        "\n",
        "graph_builder.add_edge(START, 'retrieve')\n",
        "graph_builder.add_conditional_edges(\n",
        "    'retrieve',\n",
        "    check_doc_relevance,\n",
        "    {\n",
        "        'relevant': 'generate',\n",
        "        'irrelvant': 'web_search'\n",
        "    }\n",
        ")\n",
        "# graph_builder.add_edge('rewrite', 'web_search')\n",
        "graph_builder.add_edge('web_search', 'generate')\n",
        "graph_builder.add_edge('generate', END)"
      ]
    },
    {
      "cell_type": "code",
      "execution_count": 12,
      "metadata": {},
      "outputs": [],
      "source": [
        "graph = graph_builder.compile()"
      ]
    },
    {
      "cell_type": "code",
      "execution_count": 13,
      "metadata": {},
      "outputs": [
        {
          "data": {
            "image/png": "[encoded data removed]",
            "text/plain": [
              "<IPython.core.display.Image object>"
            ]
          },
          "metadata": {},
          "output_type": "display_data"
        }
      ],
      "source": [
        "from IPython.display import Image, display\n",
        "\n",
        "display(Image(graph.get_graph().draw_mermaid_png()))"
      ]
    },
    {
      "cell_type": "code",
      "execution_count": 14,
      "metadata": {},
      "outputs": [
        {
          "data": {
            "text/plain": [
              "{'query': '연봉 5천만원 거주자의 소득세는 얼마인가요?',\n",
              " 'context': [Document(metadata={'source': './documents/income_tax.txt'}, page_content='| 종합소득         | 세 율                                  |\\n|------------------|---------------------------------------|\\n| 1,400만원 이하   | 과세표준의 6세례셋트                      |\\n| 1,400만원 초과   | 84만원 + (1,400만원을 초과하는 금액의 15%)  |\\n| 5,000만원 이하   | 624만원 + (5,000만원을 초과하는 금액의 24%)  |\\n| 8,800만원 이하   | 1,536만원 + (8,800만원을 초과하는 금액의 35%) |\\n| 1억5천만원 이하  | 3,706만원 + (1억5천만원을 초과하는 금액의 38%) |\\n| 3억 이하         | 9,460만원 + (3억을 초과하는 금액의 40%)      |\\n| 5억 이하         | 1억7,406만원 + (5억을 초과하는 금액의 42%)   |\\n| 10억 이하        | 3억8,406만원 + (10억을 초과하는 금액의 45%)  |\\n법제처 35 \\n국가법령정보센터\\n소득세법\\n② 거주자의 퇴직소득에 대한 소득세는 다음 각 호의 순서에 따라 계산한 금액(이하 \"퇴직소득 산출세액\"이라 한다)으로 한다.\\n<개정> 2013. 1. 1, 2014. 12. 23.\\n1. 해당 사업기간의 퇴직소득세표준(제1항의 세율을 적용하여 계산한 금액\\n2. 제1호의 금액을 12로 나눈 금액에 근속연수를 곱한 금액\\n3. 삭제<2014. 12. 23.>\\n[전문개정 2009. 12. 31.]\\n제2장 세액공제\\n<개정> 2009. 12. 31.\\n제56조(배당세액공제)\\n① 거주자의 종합소득금액에 제17조제3항 각 호의 부분 단서가 적용되는 배당소득액이 합산되어 있는 경우에는 같은 항 각 호 외의 부분 단서에 따라 해당 과세기간의 총수입금액에 대한 금액에 해당하는 세액을 종합소득 산출세액에서 공제한다.\\n<개정> 2009. 12. 31.\\n② 제1항에 따른 공제율을 \"배당세액공제\"라 한다. <개정> 2009. 12. 31.\\n③ 삭제<2006. 12. 30.>\\n④ 제1항을 적용할 때 배당세액공제의 대상이 되는 배당소득금액은 제14조제1항의 종합소득세표준에 포함된 배당소득금액으로서 이자소득 등의 항목과 과세금액을 초과하는 것으로 한다. <개정> 2009. 12. 31.\\n⑤ 배당세액공제의 계산 등에 필요한 사항은 대통령령으로 정한다. <개정> 2009. 12. 31.  \\n제56조의2(기타세액공제)\\n① 제160조제3항에 따른 간편장부대상자가 제70조 또는 제74조에 따른 과세표준청고를 한 때 복식부기를 적용받은 소득금액을 계산하여 제69 조제3항에 따른 부가세를 제외하는 경우에는 해당 장부에 의하여 계산한 기타소득금액의 종합소득금액에서 차지하는 비율을 종합소득 산출세액에 금액의 100분의 20에 해당하는 금액을 종합소득 산출세액에 공제한다. 단, 공제액이 100분의 20을 초과하는 경우에는 100만 원을 공제한다.'),\n",
              "  Document(metadata={'source': './documents/income_tax.txt'}, page_content='| 종합소득         | 세 율                                  |\\n|------------------|---------------------------------------|\\n| 1,400만원 이하   | 과세표준의 6세례셋트                      |\\n| 1,400만원 초과   | 84만원 + (1,400만원을 초과하는 금액의 15%)  |\\n| 5,000만원 이하   | 624만원 + (5,000만원을 초과하는 금액의 24%)  |\\n| 8,800만원 이하   | 1,536만원 + (8,800만원을 초과하는 금액의 35%) |\\n| 1억5천만원 이하  | 3,706만원 + (1억5천만원을 초과하는 금액의 38%) |\\n| 3억 이하         | 9,460만원 + (3억을 초과하는 금액의 40%)      |\\n| 5억 이하         | 1억7,406만원 + (5억을 초과하는 금액의 42%)   |\\n| 10억 이하        | 3억8,406만원 + (10억을 초과하는 금액의 45%)  |\\n법제처 35 \\n국가법령정보센터\\n소득세법\\n② 거주자의 퇴직소득에 대한 소득세는 다음 각 호의 순서에 따라 계산한 금액(이하 \"퇴직소득 산출세액\"이라 한다)으로 한다.\\n<개정> 2013. 1. 1, 2014. 12. 23.\\n1. 해당 사업기간의 퇴직소득세표준(제1항의 세율을 적용하여 계산한 금액\\n2. 제1호의 금액을 12로 나눈 금액에 근속연수를 곱한 금액\\n3. 삭제<2014. 12. 23.>\\n[전문개정 2009. 12. 31.]\\n제2장 세액공제\\n<개정> 2009. 12. 31.\\n제56조(배당세액공제)\\n① 거주자의 종합소득금액에 제17조제3항 각 호의 부분 단서가 적용되는 배당소득액이 합산되어 있는 경우에는 같은 항 각 호 외의 부분 단서에 따라 해당 과세기간의 총수입금액에 대한 금액에 해당하는 세액을 종합소득 산출세액에서 공제한다.\\n<개정> 2009. 12. 31.\\n② 제1항에 따른 공제율을 \"배당세액공제\"라 한다. <개정> 2009. 12. 31.\\n③ 삭제<2006. 12. 30.>\\n④ 제1항을 적용할 때 배당세액공제의 대상이 되는 배당소득금액은 제14조제1항의 종합소득세표준에 포함된 배당소득금액으로서 이자소득 등의 항목과 과세금액을 초과하는 것으로 한다. <개정> 2009. 12. 31.\\n⑤ 배당세액공제의 계산 등에 필요한 사항은 대통령령으로 정한다. <개정> 2009. 12. 31.  \\n제56조의2(기타세액공제)\\n① 제160조제3항에 따른 간편장부대상자가 제70조 또는 제74조에 따른 과세표준청고를 한 때 복식부기를 적용받은 소득금액을 계산하여 제69 조제3항에 따른 부가세를 제외하는 경우에는 해당 장부에 의하여 계산한 기타소득금액의 종합소득금액에서 차지하는 비율을 종합소득 산출세액에 금액의 100분의 20에 해당하는 금액을 종합소득 산출세액에 공제한다. 단, 공제액이 100분의 20을 초과하는 경우에는 100만 원을 공제한다.'),\n",
              "  Document(metadata={'source': './documents/income_tax.txt'}, page_content='사항: <2013. 1. 1.>\\n[전문개정 2009. 12. 31.]\\n\\n제49조 삭제 <2006. 12. 30.>\\n제6관 종합소득공제 <개정 2009. 12. 31.>\\n제50조(가산공제)\\n공동소득이 있는 거주자(자연인과 법단체)에 대해서는 다음 각 호의 어느 하나에 해당하는 사람의 수에 1명당 연 150만원을 곱하여 계산한 금액을 그 거주자의 해당 과세기간의 종합소득금액에서 공제한다. <개정 2015. 12. 15, 2024. 12. 31.>\\n\\n해당 거주자\\n거주자와 배우자보다 해도 과세기간의 소득금액이 없거나 해도 과세기간의 소득금액 합계에 100만원 이하인 사람(종합소득에 500만원 이하의 근로소득이 있는 배우자를 포함함)\\n거주자과 배우자를 포함한다. 이하 이 조에서 같은 경우는 다음 각 조의 어느 하나에 해당하는 부양가족(제15조제1항제3호의 장애인에 해당되는 경우에는 나이의 제한을 받지 아니하도록 하여 기초자산의 소득금액 합계에 100만원 이하인 사람(종합소득에 500만원 이하의 근로소득이 있는 부양가족을 포함함)')],\n",
              " 'answer': '연봉 5천만원 거주자의 소득세는 624만원입니다. 5천만원 이하 소득에 대해 적용되는 세율은 해당 금액 내에서 추가 과세 없이 고정됩니다.'}"
            ]
          },
          "execution_count": 14,
          "metadata": {},
          "output_type": "execute_result"
        }
      ],
      "source": [
        "initial_state = {'query': '연봉 5천만원 거주자의 소득세는 얼마인가요?'}\n",
        "graph.invoke(initial_state)"
      ]
    },
    {
      "cell_type": "code",
      "execution_count": 15,
      "metadata": {},
      "outputs": [
        {
          "data": {
            "text/plain": [
              "{'query': '역삼역 맛집을 추천해주세요',\n",
              " 'context': [{'url': 'https://www.diningcode.com/list.dc?query=%EC%97%AD%EC%82%BC%EC%97%AD%20%ED%98%84%EC%A7%80%EC%9D%B8%EC%B6%94%EC%B2%9C',\n",
              "   'content': '역삼역 현지인추천맛집 (60곳) · 1. 논현손칼국수 언주역 · 2. 십원집 강남역점 · 3. 온수반 역삼점 · 4. 서울깍두기 강남역삼점 · 5. 이여곰탕 역삼점 · 6. 온심옥 역삼'},\n",
              "  {'url': 'https://baby.tali.kr/201',\n",
              "   'content': '솥밥인데 그냥 솥밥이 아니라 고급스러운 재료들로 푸짐하게 올려진 솥밥입니다. 스테이크, 도미관자, 장어, 전복 솥밥과 같은 메뉴가 준비되어 있습니다. 건강하고 든든하게 드시고 싶을때 추천하는 역삼역 직장인 입소문 맛집입니다.\\n\\n대표 메뉴 : 스테이크솥밥 17,000원\\n\\n주소 : 서울특별시 강남구 논현로94길 23 지상1층 101, 102호\\n\\n전화번호 : 010-6724-8858\\n\\n## [3위] 츄라우미 역삼본점\\n\\n창가쪽 자리에 앉으시면 분위기가 더욱 좋습니다. 매콤 해산물 나베와 같은 맛있는 안주들이 있는 이자카야입니다. 강남에서 퇴근하고 가볍게 한 잔 걸치는 직장인, 멋지지 않나요? 다이닝 이자카야 츄라우미 역삼본점이 3위입니다.\\n\\n대표 메뉴 : 세이로무시 65,000원\\n\\n주소 : 서울특별시 강남구 언주로93길 21 남전타운\\n\\n전화번호 : 0507-1425-7771\\n\\n## [4위] 신동궁감자탕 역삼직영점 [...] 오늘처럼 주륵주륵 비내리는 날이면 생각나는 곳입니다. 따뜻한 국물과 얼큰한 김치칼국수 정말 너무 맛있네요. 역삼역 근처 직장인들 사이에서 낮술의 성지로 소문난 맛집이기도 합니다.\\n\\n대표 메뉴 : 선덕 닭곰탕 12,000원\\n\\n주소 : 서울특별시 강남구 테헤란로27길 29 주암빌딩 B1\\n\\n전화번호 : 0507-1367-5322\\n\\n## [9위] 진미평양냉면\\n\\n역삼역 근처 맛집 베스트10 다음은 미쉐린 가이드 서울 2023에 선정된 진미평양냉면입니다. 다만 회전율이 좋은 여름에 방문하시는게 좀 더 제대로 된 맛을 즐길 수 있다는 평들이 있습니다.\\n\\n대표 메뉴 : 어복쟁반 소 60,000원\\n\\n주소 : 서울특별시 강남구 학동로 305-3\\n\\n전화번호 : 02-515-3469\\n\\n## [10위] 땀땀\\n\\n양도 엄청나고 맛도 엄청난 곳입니다. 혼밥 맛집으로도 괜찮은 베트남쌀국수집. 매운소곱창 쌀국수는 꼭 한번 드셔보시면 좋겠습니다.\\n\\n대표 메뉴 : 짜조 넴람 (2ea) 3,000원 [...] 비행테라스\\n\\nHome » Uncategorized\\n\\n# 역삼역 근처 맛집 베스트10 직장인들의 원픽 모임장소는?\\n\\n강남 직장인들의 성지 역삼역 근처 맛집 베스트 10곳 알아보겠습니다. 거리는 가까운데 강남역 맛집들과는 또 다른 분위기가 있는 곳이네요. 아무래도 젊은이들 모임장소와 직장인들 앞마당의 차이일까요?\\n\\n## [1위] 트라가 역삼점\\n\\n이베리코 목살 스테이크를 비롯해서 빠에야 같은 스페인 요리를 맛볼 수 있는 곳입니다. 지역정보에 역삼점이라고 나오지만 정확히는 여기가 본점입니다. 이색적인 요리로 특별한 날이나 데이트 코스로 방문하기에도 좋습니다.\\n\\n대표 메뉴 : 트라가세트(2인) 69,000원\\n\\n주소 : 서울특별시 강남구 테헤란로25길 46\\n\\n전화번호 : 0507-1337-0608\\n\\n## [2위] 솔솥 역삼점'},\n",
              "  {'url': 'https://www.diningcode.com/list.dc?query=%EC%97%AD%EC%82%BC',\n",
              "   'content': '역삼맛집 (1,147곳) · 1. 돝고기506 역삼역 · 2. 대우부대찌개 역삼 · 3. 불이아 역삼점 · 4. 육전식당 강남역 · 5. 이도곰탕 본점 · 6. 나이스샤워 강남역 · 7. 바스버거'}],\n",
              " 'answer': \"역삼역 맛집으로는 '트라가 역삼점', '츄라우미 역삼본점', 그리고 '신동궁감자탕 역삼직영점'을 추천합니다. 트라가 역삼점은 이베리코 목살 스테이크와 스페인 요리를 제공하며, 츄라우미는 분위기 좋은 이자카야로 매콤 해산물 나베를 즐길 수 있습니다. 신동궁감자\"}"
            ]
          },
          "execution_count": 15,
          "metadata": {},
          "output_type": "execute_result"
        }
      ],
      "source": [
        "initial_state = {'query': '역삼역 맛집을 추천해주세요'}\n",
        "graph.invoke(initial_state)"
      ]
    },
    {
      "cell_type": "code",
      "execution_count": null,
      "metadata": {},
      "outputs": [],
      "source": []
    }
  ],
  "metadata": {
    "kernelspec": {
      "display_name": "inflearn-langgraph",
      "language": "python",
      "name": "python3"
    },
    "language_info": {
      "codemirror_mode": {
        "name": "ipython",
        "version": 3
      },
      "file_extension": ".py",
      "mimetype": "text/x-python",
      "name": "python",
      "nbconvert_exporter": "python",
      "pygments_lexer": "ipython3",
      "version": "3.12.11"
    }
  },
  "nbformat": 4,
  "nbformat_minor": 2
}
