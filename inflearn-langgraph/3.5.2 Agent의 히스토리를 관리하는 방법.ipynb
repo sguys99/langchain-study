{
 "cells": [
  {
   "cell_type": "markdown",
   "metadata": {},
   "source": [
    "# 3.5.2 Agent의 히스토리를 관리하는 방법"
   ]
  },
  {
   "cell_type": "markdown",
   "metadata": {},
   "source": [
    "### 세번째 방법 : 삭제하기 전에 요약 노드 추가"
   ]
  },
  {
   "cell_type": "markdown",
   "metadata": {},
   "source": [
    "- 에이전트의 히스토리를 관리해서 대화를 이어나가는 방법을 알아봅니다\n",
    "- 히스토리를 관리를 위해 `checkpointer`를 사용합니다.\n",
    "- `checkpointer`는 두 가지 방법을 제공합니다\n",
    "    - 메모리에 저장하는 방법\n",
    "    - 데이터베이스에 저장하는 방법\n",
    "- 이 강의에서는 메모리에 저장하는 방법을 알아봅니다\n",
    "    - 다양한 [`checkpointer`](https://langchain-ai.github.io/langgraph/concepts/persistence/#checkpointer-libraries)를 확인해보세요  \n",
    "\n",
    "즉 checkpoint는 statesnapshot이다."
   ]
  },
  {
   "cell_type": "markdown",
   "metadata": {},
   "source": [
    "여기서는 MemorySaver를 사용"
   ]
  },
  {
   "cell_type": "markdown",
   "metadata": {},
   "source": [
    "### 메시지 외에 요약 내용도 담아야 하므로 state를 수정해야한다."
   ]
  },
  {
   "cell_type": "code",
   "execution_count": 1,
   "metadata": {},
   "outputs": [
    {
     "data": {
      "text/plain": [
       "True"
      ]
     },
     "execution_count": 1,
     "metadata": {},
     "output_type": "execute_result"
    }
   ],
   "source": [
    "from dotenv import load_dotenv\n",
    "\n",
    "load_dotenv()"
   ]
  },
  {
   "cell_type": "code",
   "execution_count": 2,
   "metadata": {},
   "outputs": [],
   "source": [
    "from langchain_openai import ChatOpenAI\n",
    "\n",
    "llm = ChatOpenAI(model=\"gpt-4o\")\n",
    "\n",
    "small_llm = ChatOpenAI(model=\"gpt-4o-mini\")"
   ]
  },
  {
   "cell_type": "code",
   "execution_count": 3,
   "metadata": {},
   "outputs": [],
   "source": [
    "from langchain_core.tools import tool\n",
    "\n",
    "\n",
    "@tool\n",
    "def add(a: int, b: int) -> int:\n",
    "    \"\"\"숫자 a와 b를 더합니다.\"\"\"\n",
    "    return a + b\n",
    "\n",
    "\n",
    "@tool\n",
    "def multiply(a: int, b: int) -> int:\n",
    "    \"\"\"숫자 a와 b를 곱합니다.\"\"\"\n",
    "    return a * b"
   ]
  },
  {
   "cell_type": "code",
   "execution_count": 4,
   "metadata": {},
   "outputs": [],
   "source": [
    "from langchain_community.tools import DuckDuckGoSearchRun\n",
    "\n",
    "search_tool = DuckDuckGoSearchRun()"
   ]
  },
  {
   "cell_type": "code",
   "execution_count": 5,
   "metadata": {},
   "outputs": [],
   "source": [
    "from langchain_google_community import GmailToolkit\n",
    "\n",
    "from langchain_google_community.gmail.utils import (\n",
    "    build_resource_service,\n",
    "    get_gmail_credentials,\n",
    ")\n",
    "\n",
    "# Can review scopes here https://developers.google.com/gmail/api/auth/scopes\n",
    "# For instance, readonly scope is 'https://www.googleapis.com/auth/gmail.readonly'\n",
    "credentials = get_gmail_credentials(\n",
    "    token_file=\"./google/gmail_token.json\",\n",
    "    scopes=[\"https://mail.google.com/\"],\n",
    "    client_secrets_file=\"./google/gmail_credentials.json\",\n",
    ")\n",
    "api_resource = build_resource_service(credentials=credentials)\n",
    "gmail_toolkit = GmailToolkit(api_resource=api_resource)\n",
    "gmail_tool_list = gmail_toolkit.get_tools()"
   ]
  },
  {
   "cell_type": "code",
   "execution_count": 6,
   "metadata": {},
   "outputs": [
    {
     "data": {
      "text/plain": [
       "[GmailCreateDraft(api_resource=<googleapiclient.discovery.Resource object at 0x136fd1ca0>),\n",
       " GmailSendMessage(api_resource=<googleapiclient.discovery.Resource object at 0x136fd1ca0>),\n",
       " GmailSearch(api_resource=<googleapiclient.discovery.Resource object at 0x136fd1ca0>),\n",
       " GmailGetMessage(api_resource=<googleapiclient.discovery.Resource object at 0x136fd1ca0>),\n",
       " GmailGetThread(api_resource=<googleapiclient.discovery.Resource object at 0x136fd1ca0>)]"
      ]
     },
     "execution_count": 6,
     "metadata": {},
     "output_type": "execute_result"
    }
   ],
   "source": [
    "gmail_tool_list"
   ]
  },
  {
   "cell_type": "code",
   "execution_count": 7,
   "metadata": {},
   "outputs": [],
   "source": [
    "from langchain.agents import load_tools\n",
    "\n",
    "loaded_tool_list = load_tools(\n",
    "    [\"arxiv\"],\n",
    ")"
   ]
  },
  {
   "cell_type": "code",
   "execution_count": 8,
   "metadata": {},
   "outputs": [],
   "source": [
    "import os\n",
    "\n",
    "from langchain_chroma import Chroma\n",
    "from langchain_openai import OpenAIEmbeddings\n",
    "from langchain_core.tools.retriever import create_retriever_tool\n",
    "\n",
    "embedding_function = OpenAIEmbeddings(\n",
    "    model=\"text-embedding-3-large\",\n",
    ")\n",
    "vector_store = Chroma(\n",
    "    embedding_function=embedding_function,\n",
    "    collection_name=\"real_estate_tax\",\n",
    "    persist_directory=\"./real_estate_tax_collection\",\n",
    ")\n",
    "retriever = vector_store.as_retriever(search_kwargs={\"k\": 3})\n",
    "retriever_tool = create_retriever_tool(\n",
    "    retriever=retriever,\n",
    "    name=\"real_estate_tax_retriever\",\n",
    "    description=\"Contains information about real estate tax up to December 2024\",\n",
    ")"
   ]
  },
  {
   "cell_type": "code",
   "execution_count": 9,
   "metadata": {},
   "outputs": [],
   "source": [
    "from langgraph.prebuilt import ToolNode\n",
    "\n",
    "tool_list = (\n",
    "    [add, multiply, search_tool, retriever_tool] + gmail_tool_list + loaded_tool_list\n",
    ")\n",
    "llm_with_tools = small_llm.bind_tools(tool_list)\n",
    "tool_node = ToolNode(tool_list)"
   ]
  },
  {
   "cell_type": "code",
   "execution_count": 10,
   "metadata": {},
   "outputs": [],
   "source": [
    "from langgraph.graph import MessagesState, StateGraph\n",
    "\n",
    "\n",
    "class AgentState(MessagesState):\n",
    "    summary: str\n",
    "\n",
    "\n",
    "graph_builder = StateGraph(AgentState)"
   ]
  },
  {
   "cell_type": "markdown",
   "metadata": {},
   "source": [
    "- (중요) 즉, MessageState를 상속 받았으므로 state 내부에 messages, summary 두개가 있다."
   ]
  },
  {
   "cell_type": "code",
   "execution_count": 11,
   "metadata": {},
   "outputs": [],
   "source": [
    "from langchain_core.messages import SystemMessage\n",
    "\n",
    "\n",
    "def agent(state: AgentState) -> AgentState:\n",
    "    \"\"\"\n",
    "    주어진 `state`에서 메시지를 가져와\n",
    "    LLM과 도구를 사용하여 응답 메시지를 생성합니다.\n",
    "\n",
    "    Args:\n",
    "        state (AgentState): 메시지 기록과 요약을 포함하는 state.\n",
    "\n",
    "    Returns:\n",
    "        MessagesState: 응답 메시지를 포함하는 새로운 state.\n",
    "    \"\"\"\n",
    "    # 메시지와 요약을 state에서 가져옵니다.\n",
    "    messages = state[\"messages\"]\n",
    "    summary = state[\"summary\"]\n",
    "\n",
    "    # 요약이 비어있지 않으면, 요약을 메시지 앞에 추가합니다.\n",
    "    if summary != \"\":\n",
    "        messages = [\n",
    "            SystemMessage(\n",
    "                content=f\"Here is the summary of the earlier conversation: {summary}\"\n",
    "            )\n",
    "        ] + messages\n",
    "\n",
    "    # LLM과 도구를 사용하여 메시지에 대한 응답을 생성합니다.\n",
    "    response = llm_with_tools.invoke(messages)\n",
    "\n",
    "    # 응답 메시지를 포함하는 새로운 state를 반환합니다.\n",
    "    return {\"messages\": [response]}"
   ]
  },
  {
   "cell_type": "code",
   "execution_count": 12,
   "metadata": {},
   "outputs": [],
   "source": [
    "def summarize_messages(state: AgentState) -> AgentState:\n",
    "    \"\"\"\n",
    "    주어진 state의 메시지를 요약합니다.\n",
    "\n",
    "    Args:\n",
    "        state (AgentState): 메시지와 요약을 포함하는 state.\n",
    "\n",
    "    Returns:\n",
    "        AgentState: 요약된 메시지를 포함하는 딕셔너리.\n",
    "    \"\"\"\n",
    "    # state에서 메시지와 요약을 가져옵니다.\n",
    "    messages = state[\"messages\"]\n",
    "    summary = state[\"summary\"]\n",
    "\n",
    "    # 요약 프롬프트를 생성합니다.\n",
    "    summary_prompt = f\"summarize this chat history below: \\n\\nchat_history:{messages}\"\n",
    "\n",
    "    # 기존 요약이 있으면, 요약을 포함한 프롬프트를 생성합니다.\n",
    "    if summary != \"\":\n",
    "        summary_prompt = f\"\"\"summarize this chat history below while looking at the summary of earlier conversations\n",
    "chat_history:{messages}\n",
    "summary:{summary}\"\"\"\n",
    "\n",
    "    # LLM을 사용하여 요약을 생성합니다.\n",
    "    summary = small_llm.invoke(summary_prompt)\n",
    "\n",
    "    # 요약된 메시지를 반환합니다.\n",
    "    return {\"summary\": summary.content}"
   ]
  },
  {
   "cell_type": "code",
   "execution_count": 13,
   "metadata": {},
   "outputs": [],
   "source": [
    "from langchain_core.messages import RemoveMessage\n",
    "\n",
    "\n",
    "def delete_messages(state: AgentState) -> AgentState:\n",
    "    \"\"\"\n",
    "    주어진 state에서 오래된 메시지를 삭제합니다.\n",
    "\n",
    "    Args:\n",
    "        state (AgentState): 메시지를 포함하는 state.\n",
    "\n",
    "    Returns:\n",
    "        AgentState: 삭제된 메시지를 포함하는 새로운 state.\n",
    "    \"\"\"\n",
    "    # state에서 메시지를 가져옵니다.\n",
    "    messages = state[\"messages\"]\n",
    "    # 마지막 세 개의 메시지를 제외한 나머지 메시지를 삭제합니다.\n",
    "    delete_messages = [RemoveMessage(id=message.id) for message in messages[:-3]]\n",
    "    # 삭제된 메시지를 포함하는 새로운 state를 반환합니다.\n",
    "    return {\"messages\": delete_messages}"
   ]
  },
  {
   "cell_type": "markdown",
   "metadata": {},
   "source": [
    "- 영상에는 수정하면서 누락된 부분입니다 (MessagesState -> AgentState)\n",
    "- `should_continue`는 `summary`를 바라보지 않기 때문에 에러가 발생하지는 않습니다"
   ]
  },
  {
   "cell_type": "code",
   "execution_count": 14,
   "metadata": {},
   "outputs": [],
   "source": [
    "from typing import Literal\n",
    "\n",
    "\n",
    "def should_continue(state: AgentState) -> Literal[\"tools\", \"summarize_messages\"]:\n",
    "    \"\"\"\n",
    "    주어진 state에 따라 다음 단계로 진행할지를 결정합니다.\n",
    "\n",
    "    Args:\n",
    "        state (AgentState): 메시지와 도구 호출 정보를 포함하는 state.\n",
    "\n",
    "    Returns:\n",
    "        Literal['tools', 'summarize_messages']: 다음 단계로 'tools' 또는 'summarize_messages'를 반환합니다.\n",
    "    \"\"\"\n",
    "    # state에서 메시지를 가져옵니다.\n",
    "    messages = state[\"messages\"]\n",
    "    # 마지막 AI 메시지를 확인합니다.\n",
    "    last_ai_message = messages[-1]\n",
    "\n",
    "    # 마지막 AI 메시지가 도구 호출을 포함하고 있는지 확인합니다.\n",
    "    if last_ai_message.tool_calls:\n",
    "        # 도구 호출이 있으면 'tools'를 반환합니다.\n",
    "        return \"tools\"\n",
    "\n",
    "    # 도구 호출이 없으면 'summarize_messages'를 반환합니다.\n",
    "    return \"summarize_messages\""
   ]
  },
  {
   "cell_type": "markdown",
   "metadata": {},
   "source": [
    "- `node`를 추가하고 `edge`로 연결합니다"
   ]
  },
  {
   "cell_type": "code",
   "execution_count": 15,
   "metadata": {},
   "outputs": [
    {
     "data": {
      "text/plain": [
       "<langgraph.graph.state.StateGraph at 0x1424a1490>"
      ]
     },
     "execution_count": 15,
     "metadata": {},
     "output_type": "execute_result"
    }
   ],
   "source": [
    "graph_builder.add_node(\"agent\", agent)\n",
    "graph_builder.add_node(\"tools\", tool_node)\n",
    "graph_builder.add_node(delete_messages)\n",
    "graph_builder.add_node(summarize_messages)"
   ]
  },
  {
   "cell_type": "code",
   "execution_count": 16,
   "metadata": {},
   "outputs": [
    {
     "data": {
      "text/plain": [
       "<langgraph.graph.state.StateGraph at 0x1424a1490>"
      ]
     },
     "execution_count": 16,
     "metadata": {},
     "output_type": "execute_result"
    }
   ],
   "source": [
    "from langgraph.graph import START, END\n",
    "\n",
    "\n",
    "graph_builder.add_edge(START, \"agent\")\n",
    "graph_builder.add_conditional_edges(\n",
    "    \"agent\", should_continue, [\"tools\", \"summarize_messages\"]\n",
    ")\n",
    "graph_builder.add_edge(\"tools\", \"agent\")\n",
    "graph_builder.add_edge(\"summarize_messages\", \"delete_messages\")\n",
    "graph_builder.add_edge(\"delete_messages\", END)"
   ]
  },
  {
   "cell_type": "markdown",
   "metadata": {},
   "source": [
    "**(중요)** 히스토리 추가 부분  \n",
    "\n",
    "히스토리 관리를 위해 `checkpointer`를 사용\n",
    "- `MemorySaver`는 메모리에 저장하는 방법"
   ]
  },
  {
   "cell_type": "code",
   "execution_count": 17,
   "metadata": {},
   "outputs": [],
   "source": [
    "from langgraph.checkpoint.memory import MemorySaver\n",
    "\n",
    "checkpointer = MemorySaver()\n",
    "\n",
    "graph = graph_builder.compile(checkpointer=checkpointer)"
   ]
  },
  {
   "cell_type": "code",
   "execution_count": 18,
   "metadata": {},
   "outputs": [
    {
     "data": {
      "image/png": "[encoded data removed]",
      "text/plain": [
       "<IPython.core.display.Image object>"
      ]
     },
     "metadata": {},
     "output_type": "display_data"
    }
   ],
   "source": [
    "from IPython.display import Image, display\n",
    "\n",
    "display(Image(graph.get_graph().draw_mermaid_png()))"
   ]
  },
  {
   "cell_type": "markdown",
   "metadata": {},
   "source": [
    "- `checkpointer`를 사용하는 경우, 관리를 위해 `thread_id`를 사용합니다"
   ]
  },
  {
   "cell_type": "code",
   "execution_count": 19,
   "metadata": {},
   "outputs": [
    {
     "name": "stdout",
     "output_type": "stream",
     "text": [
      "================================\u001b[1m Human Message \u001b[0m=================================\n",
      "\n",
      "sguys99@gmail.com으로 Attention Is All You Need 논문을 요약해서 이메일 초안을 작성해주세요\n",
      "==================================\u001b[1m Ai Message \u001b[0m==================================\n",
      "Tool Calls:\n",
      "  arxiv (call_c3Z7OhRjjTmKs35CQ9pjLXfB)\n",
      " Call ID: call_c3Z7OhRjjTmKs35CQ9pjLXfB\n",
      "  Args:\n",
      "    query: Attention Is All You Need\n",
      "=================================\u001b[1m Tool Message \u001b[0m=================================\n",
      "Name: arxiv\n",
      "\n",
      "Published: 2024-07-22\n",
      "Title: Attention Is All You Need But You Don't Need All Of It For Inference of Large Language Models\n",
      "Authors: Georgy Tyukin, Gbetondji J-S Dovonon, Jean Kaddour, Pasquale Minervini\n",
      "Summary: The inference demand for LLMs has skyrocketed in recent months, and serving\n",
      "models with low latencies remains challenging due to the quadratic input length\n",
      "complexity of the attention layers. In this work, we investigate the effect of\n",
      "dropping MLP and attention layers at inference time on the performance of\n",
      "Llama-v2 models. We find that dropping dreeper attention layers only marginally\n",
      "decreases performance but leads to the best speedups alongside dropping entire\n",
      "layers. For example, removing 33\\% of attention layers in a 13B Llama2 model\n",
      "results in a 1.8\\% drop in average performance over the OpenLLM benchmark. We\n",
      "also observe that skipping layers except the latter layers reduces performances\n",
      "for more layers skipped, except for skipping the attention layers.\n",
      "\n",
      "Published: 2021-07-16\n",
      "Title: All the attention you need: Global-local, spatial-channel attention for image retrieval\n",
      "Authors: Chull Hwan Song, Hye Joo Han, Yannis Avrithis\n",
      "Summary: We address representation learning for large-scale instance-level image\n",
      "retrieval. Apart from backbone, training pipelines and loss functions, popular\n",
      "approaches have focused on different spatial pooling and attention mechanisms,\n",
      "which are at the core of learning a powerful global image representation. There\n",
      "are different forms of attention according to the interaction of elements of\n",
      "the feature tensor (local and global) and the dimensions where it is applied\n",
      "(spatial and channel). Unfortunately, each study addresses only one or two\n",
      "forms of attention and applies it to different problems like classification,\n",
      "detection or retrieval.\n",
      "  We present global-local attention module (GLAM), which is attached at the end\n",
      "of a backbone network and incorporates all four forms of attention: local and\n",
      "global, spatial and channel. We obtain a new feature tensor and, by spatial\n",
      "pooling, we learn a powerful embedding for image retrieval. Focusing on global\n",
      "descriptors, we provide empirical evidence of the interaction of all forms of\n",
      "attention and improve the state of the art on standard benchmarks.\n",
      "\n",
      "Published: 2023-06-02\n",
      "Title: RITA: Group Attention is All You Need for Timeseries Analytics\n",
      "Authors: Jiaming Liang, Lei Cao, Samuel Madden, Zachary Ives, Guoliang Li\n",
      "Summary: Timeseries analytics is of great importance in many real-world applications.\n",
      "Recently, the Transformer model, popular in natural language processing, has\n",
      "been leveraged to learn high quality feature embeddings from timeseries, core\n",
      "to the performance of various timeseries analytics tasks. However, the\n",
      "quadratic time and space complexities limit Transformers' scalability,\n",
      "especially for long timeseries. To address these issues, we develop a\n",
      "timeseries analytics tool, RITA, which uses a novel attention mechanism, named\n",
      "group attention, to address this scalability issue. Group attention dynamically\n",
      "clusters the objects based on their similarity into a small number of groups\n",
      "and approximately computes the attention at the coarse group granularity. It\n",
      "thus significantly reduces the time and space complexity, yet provides a\n",
      "theoretical guarantee on the quality of the computed attention. The dynamic\n",
      "scheduler of RITA continuously adapts the number of groups and the batch size\n",
      "in the training process, ensuring group attention always uses the fewest groups\n",
      "needed to meet the approximation quality requirement. Extensive experiments on\n",
      "various timeseries datasets and analytics tasks demonstrate that RITA\n",
      "outperforms the state-of-the-art in accuracy and is significantly faster --\n",
      "with speedups of up to 63X.\n",
      "==================================\u001b[1m Ai Message \u001b[0m==================================\n",
      "Tool Calls:\n",
      "  create_gmail_draft (call_UYvDrYL1V5EX2wGyN8ALsAy3)\n",
      " Call ID: call_UYvDrYL1V5EX2wGyN8ALsAy3\n",
      "  Args:\n",
      "    message: 안녕하세요,\n",
      "\n",
      "\"Attention Is All You Need\" 논문에 대한 요약을 공유드립니다:\n",
      "\n",
      "이 논문은 Transformer 모델을 기반으로 하는 딥러닝 아키텍처를 소개합니다. Transformer는 자연어 처리(NLP)에서 주로 사용되며, 특히 주목(attention) 메커니즘을 통해 이전의 RNN이나 CNN 기반 접근 방식보다 더 높은 성능을 보여주고 있습니다. \n",
      "\n",
      "주요 내용:\n",
      "1. **Attention Mechanism**: 입력 데이터의 모든 단어 간의 관계를 고려하여 중요한 정보에 더 많은 가중치를 두는 메커니즘을 설명합니다.\n",
      "2. **Self-Attention**: 입력의 각 단어가 다른 모든 단어와의 관계를 학습하여 표현력을 극대화합니다.\n",
      "3. **Positional Encoding**: 순서 정보를 유지하기 위해 입력에 위치 정보를 추가합니다.\n",
      "4. **Multi-Head Attention**: 여러 개의 attention heads를 사용하여 다양한 표현을 학습합니다.\n",
      "5. **Performance**: NLP 작업에서 기존 모델들 대비 뛰어난 성능을 보여줍니다.\n",
      "\n",
      "이 논문은 NLP 분야에 혁신적인 변화를 가져왔으며, 다양한 후속 연구의 기초가 되었습니다.\n",
      "\n",
      "감사합니다.\n",
      "    to: ['sguys99@gmail.com']\n",
      "    subject: Attention Is All You Need 논문 요약\n",
      "=================================\u001b[1m Tool Message \u001b[0m=================================\n",
      "Name: create_gmail_draft\n",
      "\n",
      "Draft created. Draft Id: r187251637046130595\n",
      "==================================\u001b[1m Ai Message \u001b[0m==================================\n",
      "\n",
      "이메일 초안이 생성되었습니다. \"Attention Is All You Need\" 논문에 대한 요약이 포함되어 있습니다. 이메일을 확인하고 필요에 따라 수정한 후 발송하실 수 있습니다.\n",
      "==================================\u001b[1m Ai Message \u001b[0m==================================\n",
      "\n",
      "이메일 초안이 생성되었습니다. \"Attention Is All You Need\" 논문에 대한 요약이 포함되어 있습니다. 이메일을 확인하고 필요에 따라 수정한 후 발송하실 수 있습니다.\n",
      "==================================\u001b[1m Ai Message \u001b[0m==================================\n",
      "\n",
      "이메일 초안이 생성되었습니다. \"Attention Is All You Need\" 논문에 대한 요약이 포함되어 있습니다. 이메일을 확인하고 필요에 따라 수정한 후 발송하실 수 있습니다.\n"
     ]
    }
   ],
   "source": [
    "from langchain_core.messages import HumanMessage\n",
    "\n",
    "config = {\"configurable\": {\"thread_id\": \"summarize_paper\"}}\n",
    "\n",
    "query = \"sguys99@gmail.com으로 Attention Is All You Need 논문을 요약해서 이메일 초안을 작성해주세요\"\n",
    "for chunk in graph.stream(\n",
    "    {\"messages\": [HumanMessage(query)], \"summary\": \"\"},\n",
    "    config=config,\n",
    "    stream_mode=\"values\",\n",
    "):\n",
    "    chunk[\"messages\"][-1].pretty_print()"
   ]
  },
  {
   "cell_type": "code",
   "execution_count": 20,
   "metadata": {},
   "outputs": [
    {
     "data": {
      "text/plain": [
       "[AIMessage(content='', additional_kwargs={'tool_calls': [{'id': 'call_UYvDrYL1V5EX2wGyN8ALsAy3', 'function': {'arguments': '{\"message\":\"안녕하세요,\\\\n\\\\n\\\\\"Attention Is All You Need\\\\\" 논문에 대한 요약을 공유드립니다:\\\\n\\\\n이 논문은 Transformer 모델을 기반으로 하는 딥러닝 아키텍처를 소개합니다. Transformer는 자연어 처리(NLP)에서 주로 사용되며, 특히 주목(attention) 메커니즘을 통해 이전의 RNN이나 CNN 기반 접근 방식보다 더 높은 성능을 보여주고 있습니다. \\\\n\\\\n주요 내용:\\\\n1. **Attention Mechanism**: 입력 데이터의 모든 단어 간의 관계를 고려하여 중요한 정보에 더 많은 가중치를 두는 메커니즘을 설명합니다.\\\\n2. **Self-Attention**: 입력의 각 단어가 다른 모든 단어와의 관계를 학습하여 표현력을 극대화합니다.\\\\n3. **Positional Encoding**: 순서 정보를 유지하기 위해 입력에 위치 정보를 추가합니다.\\\\n4. **Multi-Head Attention**: 여러 개의 attention heads를 사용하여 다양한 표현을 학습합니다.\\\\n5. **Performance**: NLP 작업에서 기존 모델들 대비 뛰어난 성능을 보여줍니다.\\\\n\\\\n이 논문은 NLP 분야에 혁신적인 변화를 가져왔으며, 다양한 후속 연구의 기초가 되었습니다.\\\\n\\\\n감사합니다.\",\"to\":[\"sguys99@gmail.com\"],\"subject\":\"Attention Is All You Need 논문 요약\"}', 'name': 'create_gmail_draft'}, 'type': 'function'}], 'refusal': None}, response_metadata={'token_usage': {'completion_tokens': 316, 'prompt_tokens': 1571, 'total_tokens': 1887, 'completion_tokens_details': {'accepted_prediction_tokens': 0, 'audio_tokens': 0, 'reasoning_tokens': 0, 'rejected_prediction_tokens': 0}, 'prompt_tokens_details': {'audio_tokens': 0, 'cached_tokens': 0}}, 'model_name': 'gpt-4o-mini-2024-07-18', 'system_fingerprint': 'fp_34a54ae93c', 'finish_reason': 'tool_calls', 'logprobs': None}, id='run-ed9b2b9f-afe0-40e9-8747-be6a007f1b72-0', tool_calls=[{'name': 'create_gmail_draft', 'args': {'message': '안녕하세요,\\n\\n\"Attention Is All You Need\" 논문에 대한 요약을 공유드립니다:\\n\\n이 논문은 Transformer 모델을 기반으로 하는 딥러닝 아키텍처를 소개합니다. Transformer는 자연어 처리(NLP)에서 주로 사용되며, 특히 주목(attention) 메커니즘을 통해 이전의 RNN이나 CNN 기반 접근 방식보다 더 높은 성능을 보여주고 있습니다. \\n\\n주요 내용:\\n1. **Attention Mechanism**: 입력 데이터의 모든 단어 간의 관계를 고려하여 중요한 정보에 더 많은 가중치를 두는 메커니즘을 설명합니다.\\n2. **Self-Attention**: 입력의 각 단어가 다른 모든 단어와의 관계를 학습하여 표현력을 극대화합니다.\\n3. **Positional Encoding**: 순서 정보를 유지하기 위해 입력에 위치 정보를 추가합니다.\\n4. **Multi-Head Attention**: 여러 개의 attention heads를 사용하여 다양한 표현을 학습합니다.\\n5. **Performance**: NLP 작업에서 기존 모델들 대비 뛰어난 성능을 보여줍니다.\\n\\n이 논문은 NLP 분야에 혁신적인 변화를 가져왔으며, 다양한 후속 연구의 기초가 되었습니다.\\n\\n감사합니다.', 'to': ['sguys99@gmail.com'], 'subject': 'Attention Is All You Need 논문 요약'}, 'id': 'call_UYvDrYL1V5EX2wGyN8ALsAy3', 'type': 'tool_call'}], usage_metadata={'input_tokens': 1571, 'output_tokens': 316, 'total_tokens': 1887, 'input_token_details': {'audio': 0, 'cache_read': 0}, 'output_token_details': {'audio': 0, 'reasoning': 0}}),\n",
       " ToolMessage(content='Draft created. Draft Id: r187251637046130595', name='create_gmail_draft', id='724bfa7a-2a79-4111-8db1-a86eb46d44b1', tool_call_id='call_UYvDrYL1V5EX2wGyN8ALsAy3'),\n",
       " AIMessage(content='이메일 초안이 생성되었습니다. \"Attention Is All You Need\" 논문에 대한 요약이 포함되어 있습니다. 이메일을 확인하고 필요에 따라 수정한 후 발송하실 수 있습니다.', additional_kwargs={'refusal': None}, response_metadata={'token_usage': {'completion_tokens': 44, 'prompt_tokens': 1911, 'total_tokens': 1955, 'completion_tokens_details': {'accepted_prediction_tokens': 0, 'audio_tokens': 0, 'reasoning_tokens': 0, 'rejected_prediction_tokens': 0}, 'prompt_tokens_details': {'audio_tokens': 0, 'cached_tokens': 1792}}, 'model_name': 'gpt-4o-mini-2024-07-18', 'system_fingerprint': 'fp_34a54ae93c', 'finish_reason': 'stop', 'logprobs': None}, id='run-ea18921a-2e90-4e80-9113-ee5914037535-0', usage_metadata={'input_tokens': 1911, 'output_tokens': 44, 'total_tokens': 1955, 'input_token_details': {'audio': 0, 'cache_read': 1792}, 'output_token_details': {'audio': 0, 'reasoning': 0}})]"
      ]
     },
     "execution_count": 20,
     "metadata": {},
     "output_type": "execute_result"
    }
   ],
   "source": [
    "current_message_list = graph.get_state(config).values[\"messages\"]\n",
    "current_message_list"
   ]
  },
  {
   "cell_type": "code",
   "execution_count": 21,
   "metadata": {},
   "outputs": [
    {
     "data": {
      "text/plain": [
       "'In the chat, the user requested a summary of the \"Attention Is All You Need\" paper to be drafted into an email addressed to \"sguys99@gmail.com.\" The AI executed a tool call to gather relevant information about the paper. It then summarized key aspects of the paper, which discusses the Transformer model and its attention mechanism, highlighting features like self-attention, positional encoding, and multi-head attention, emphasizing its superior performance in natural language processing tasks.\\n\\nThe AI created an email draft containing this summary, and confirmed that the draft was made, allowing the user to review and modify it before sending.'"
      ]
     },
     "execution_count": 21,
     "metadata": {},
     "output_type": "execute_result"
    }
   ],
   "source": [
    "graph.get_state(config).values[\"summary\"]"
   ]
  },
  {
   "cell_type": "code",
   "execution_count": 22,
   "metadata": {},
   "outputs": [],
   "source": [
    "# from langchain_core.messages import RemoveMessage\n",
    "\n",
    "# for index, message in enumerate(current_message_list):\n",
    "#     if index < len(current_message_list) - 1:\n",
    "#         graph.update_state(config, {'messages': RemoveMessage(id=message.id)})"
   ]
  },
  {
   "cell_type": "code",
   "execution_count": 23,
   "metadata": {},
   "outputs": [],
   "source": [
    "# current_message_list = graph.get_state(config).values['messages']\n",
    "# current_message_list"
   ]
  },
  {
   "cell_type": "code",
   "execution_count": 24,
   "metadata": {},
   "outputs": [
    {
     "name": "stdout",
     "output_type": "stream",
     "text": [
      "================================\u001b[1m Human Message \u001b[0m=================================\n",
      "\n",
      "논문의 출처 URL을 포함시켜주세요\n",
      "==================================\u001b[1m Ai Message \u001b[0m==================================\n",
      "Tool Calls:\n",
      "  create_gmail_draft (call_Ut7dbjWk7DLn4Ib3z1nyg4oL)\n",
      " Call ID: call_Ut7dbjWk7DLn4Ib3z1nyg4oL\n",
      "  Args:\n",
      "    message: 안녕하세요,\n",
      "\n",
      "\"Attention Is All You Need\" 논문에 대한 요약을 공유드립니다:\n",
      "\n",
      "이 논문은 Transformer 모델을 기반으로 하는 딥러닝 아키텍처를 소개합니다. Transformer는 자연어 처리(NLP)에서 주로 사용되며, 특히 주목(attention) 메커니즘을 통해 이전의 RNN이나 CNN 기반 접근 방식보다 더 높은 성능을 보여주고 있습니다. \n",
      "\n",
      "주요 내용:\n",
      "1. **Attention Mechanism**: 입력 데이터의 모든 단어 간의 관계를 고려하여 중요한 정보에 더 많은 가중치를 두는 메커니즘을 설명합니다.\n",
      "2. **Self-Attention**: 입력의 각 단어가 다른 모든 단어와의 관계를 학습하여 표현력을 극대화합니다.\n",
      "3. **Positional Encoding**: 순서 정보를 유지하기 위해 입력에 위치 정보를 추가합니다.\n",
      "4. **Multi-Head Attention**: 여러 개의 attention heads를 사용하여 다양한 표현을 학습합니다.\n",
      "5. **Performance**: NLP 작업에서 기존 모델들 대비 뛰어난 성능을 보여줍니다.\n",
      "\n",
      "이 논문은 NLP 분야에 혁신적인 변화를 가져왔으며, 다양한 후속 연구의 기초가 되었습니다.\n",
      "\n",
      "논문 출처: [Attention Is All You Need](https://arxiv.org/abs/1706.03762)\n",
      "\n",
      "감사합니다.\n",
      "    to: ['sguys99@gmail.com']\n",
      "    subject: Attention Is All You Need 논문 요약\n",
      "=================================\u001b[1m Tool Message \u001b[0m=================================\n",
      "Name: create_gmail_draft\n",
      "\n",
      "Draft created. Draft Id: r-5944627291206483811\n",
      "==================================\u001b[1m Ai Message \u001b[0m==================================\n",
      "\n",
      "논문 출처 URL이 포함된 이메일 초안이 새로 생성되었습니다. 이제 요약과 함께 [Attention Is All You Need](https://arxiv.org/abs/1706.03762) 링크가 포함되어 있습니다. 확인 후 수정하고 발송하실 수 있습니다.\n",
      "==================================\u001b[1m Ai Message \u001b[0m==================================\n",
      "\n",
      "논문 출처 URL이 포함된 이메일 초안이 새로 생성되었습니다. 이제 요약과 함께 [Attention Is All You Need](https://arxiv.org/abs/1706.03762) 링크가 포함되어 있습니다. 확인 후 수정하고 발송하실 수 있습니다.\n",
      "==================================\u001b[1m Ai Message \u001b[0m==================================\n",
      "\n",
      "논문 출처 URL이 포함된 이메일 초안이 새로 생성되었습니다. 이제 요약과 함께 [Attention Is All You Need](https://arxiv.org/abs/1706.03762) 링크가 포함되어 있습니다. 확인 후 수정하고 발송하실 수 있습니다.\n"
     ]
    }
   ],
   "source": [
    "from langchain_core.messages import HumanMessage\n",
    "\n",
    "config = {\"configurable\": {\"thread_id\": \"summarize_paper\"}}\n",
    "\n",
    "update_query = \"논문의 출처 URL을 포함시켜주세요\"\n",
    "for chunk in graph.stream(\n",
    "    {\"messages\": [HumanMessage(update_query)]}, config=config, stream_mode=\"values\"\n",
    "):\n",
    "    chunk[\"messages\"][-1].pretty_print()"
   ]
  },
  {
   "cell_type": "code",
   "execution_count": 25,
   "metadata": {},
   "outputs": [
    {
     "data": {
      "text/plain": [
       "'In the chat, the user asked for a summary of the \"Attention Is All You Need\" paper to be drafted into an email for \"sguys99@gmail.com.\" The AI generated a comprehensive summary detailing the Transformer model, its attention mechanisms, including self-attention, positional encoding, and multi-head attention, and noted its enhanced performance in natural language processing. Following this, the AI created an email draft with the summary, confirming its creation and allowing the user to review and modify it before sending. The user later requested the inclusion of the paper\\'s URL, prompting the AI to update the draft with a link to the paper.'"
      ]
     },
     "execution_count": 25,
     "metadata": {},
     "output_type": "execute_result"
    }
   ],
   "source": [
    "graph.get_state(config).values[\"summary\"]"
   ]
  },
  {
   "cell_type": "code",
   "execution_count": 26,
   "metadata": {},
   "outputs": [],
   "source": [
    "# send_query = '이메일을 전송해주세요'\n",
    "# for chunk in graph.stream({'messages': [HumanMessage(send_query)]}, config=config, stream_mode='values'):\n",
    "#     chunk['messages'][-1].pretty_print()"
   ]
  },
  {
   "cell_type": "markdown",
   "metadata": {},
   "source": [
    "- 다시 해볼것 "
   ]
  }
 ],
 "metadata": {
  "kernelspec": {
   "display_name": "inflearn-langgraph",
   "language": "python",
   "name": "python3"
  },
  "language_info": {
   "codemirror_mode": {
    "name": "ipython",
    "version": 3
   },
   "file_extension": ".py",
   "mimetype": "text/x-python",
   "name": "python",
   "nbconvert_exporter": "python",
   "pygments_lexer": "ipython3",
   "version": "3.12.11"
  }
 },
 "nbformat": 4,
 "nbformat_minor": 2
}
