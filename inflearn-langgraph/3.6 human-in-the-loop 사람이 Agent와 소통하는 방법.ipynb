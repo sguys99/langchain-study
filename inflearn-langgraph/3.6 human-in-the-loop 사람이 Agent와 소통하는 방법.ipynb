{
 "cells": [
  {
   "cell_type": "markdown",
   "metadata": {},
   "source": [
    "# 3.6 human-in-the-loop: 사람이 Agent와 소통하는 방법"
   ]
  },
  {
   "cell_type": "markdown",
   "metadata": {},
   "source": [
    "- AI는 100%의 정확도를 보장하지 않기 때문에, 경우에 따라 사람의 개입이 필요합니다\n",
    "- LangGraph의 [`interrupt`](https://langchain-ai.github.io/langgraph/cloud/how-tos/interrupt_concurrent/) 를 사용하여 사람의 개입을 처리할 수 있습니다"
   ]
  },
  {
   "cell_type": "markdown",
   "metadata": {},
   "source": [
    "HIP의 예\n",
    "- Approve or Reject\n",
    "- Review & Edit state\n",
    "- Review Tool Calls"
   ]
  },
  {
   "cell_type": "markdown",
   "metadata": {},
   "source": [
    "Review Tool Calls의 사람 체크 요소\n",
    "- 그냥 go\n",
    "- 도구는 잘 골랐으나 query 이상\n",
    "- 도구 자체를 잘못 고른 경우"
   ]
  },
  {
   "cell_type": "markdown",
   "metadata": {},
   "source": [
    "이를 위해 Interrupt와 Command(진행) 클래스를 사용한다."
   ]
  },
  {
   "cell_type": "markdown",
   "metadata": {},
   "source": [
    "Interrupt를 사용하려면 checkpointer가 반드시 필요하다.   \n",
    "정지된 시점을 기억했다가 진행해야하기 때문이다.  \n",
    "checkpointer 없이 Interrupt를 사용하면 에러 발생"
   ]
  },
  {
   "cell_type": "code",
   "execution_count": 1,
   "metadata": {},
   "outputs": [
    {
     "data": {
      "text/plain": [
       "True"
      ]
     },
     "execution_count": 1,
     "metadata": {},
     "output_type": "execute_result"
    }
   ],
   "source": [
    "from dotenv import load_dotenv\n",
    "\n",
    "load_dotenv()"
   ]
  },
  {
   "cell_type": "code",
   "execution_count": 2,
   "metadata": {},
   "outputs": [],
   "source": [
    "from langchain_openai import ChatOpenAI\n",
    "\n",
    "llm = ChatOpenAI(model=\"gpt-4o\")\n",
    "\n",
    "small_llm = ChatOpenAI(model=\"gpt-4o-mini\")"
   ]
  },
  {
   "cell_type": "code",
   "execution_count": 3,
   "metadata": {},
   "outputs": [],
   "source": [
    "from langchain_core.tools import tool\n",
    "\n",
    "\n",
    "@tool\n",
    "def add(a: int, b: int) -> int:\n",
    "    \"\"\"숫자 a와 b를 더합니다.\"\"\"\n",
    "    return a + b\n",
    "\n",
    "\n",
    "@tool\n",
    "def multiply(a: int, b: int) -> int:\n",
    "    \"\"\"숫자 a와 b를 곱합니다.\"\"\"\n",
    "    return a * b"
   ]
  },
  {
   "cell_type": "code",
   "execution_count": 4,
   "metadata": {},
   "outputs": [],
   "source": [
    "from langchain_community.tools import DuckDuckGoSearchRun\n",
    "\n",
    "search_tool = DuckDuckGoSearchRun()"
   ]
  },
  {
   "cell_type": "code",
   "execution_count": 5,
   "metadata": {},
   "outputs": [],
   "source": [
    "from langchain_google_community import GmailToolkit\n",
    "\n",
    "from langchain_google_community.gmail.utils import (\n",
    "    build_resource_service,\n",
    "    get_gmail_credentials,\n",
    ")\n",
    "\n",
    "# Can review scopes here https://developers.google.com/gmail/api/auth/scopes\n",
    "# For instance, readonly scope is 'https://www.googleapis.com/auth/gmail.readonly'\n",
    "credentials = get_gmail_credentials(\n",
    "    token_file=\"./google/gmail_token.json\",\n",
    "    scopes=[\"https://mail.google.com/\"],\n",
    "    client_secrets_file=\"./google/gmail_credentials.json\",\n",
    ")\n",
    "api_resource = build_resource_service(credentials=credentials)\n",
    "gmail_toolkit = GmailToolkit(api_resource=api_resource)\n",
    "gmail_tool_list = gmail_toolkit.get_tools()"
   ]
  },
  {
   "cell_type": "code",
   "execution_count": 6,
   "metadata": {},
   "outputs": [
    {
     "data": {
      "text/plain": [
       "[GmailCreateDraft(api_resource=<googleapiclient.discovery.Resource object at 0x12a706240>),\n",
       " GmailSendMessage(api_resource=<googleapiclient.discovery.Resource object at 0x12a706240>),\n",
       " GmailSearch(api_resource=<googleapiclient.discovery.Resource object at 0x12a706240>),\n",
       " GmailGetMessage(api_resource=<googleapiclient.discovery.Resource object at 0x12a706240>),\n",
       " GmailGetThread(api_resource=<googleapiclient.discovery.Resource object at 0x12a706240>)]"
      ]
     },
     "execution_count": 6,
     "metadata": {},
     "output_type": "execute_result"
    }
   ],
   "source": [
    "gmail_tool_list"
   ]
  },
  {
   "cell_type": "code",
   "execution_count": 7,
   "metadata": {},
   "outputs": [],
   "source": [
    "from langchain.agents import load_tools\n",
    "\n",
    "loaded_tool_list = load_tools(\n",
    "    [\"arxiv\"],\n",
    ")"
   ]
  },
  {
   "cell_type": "code",
   "execution_count": 8,
   "metadata": {},
   "outputs": [],
   "source": [
    "import os\n",
    "\n",
    "from langchain_chroma import Chroma\n",
    "from langchain_openai import OpenAIEmbeddings\n",
    "from langchain_core.tools.retriever import create_retriever_tool\n",
    "\n",
    "embedding_function = OpenAIEmbeddings(\n",
    "    model=\"text-embedding-3-large\",\n",
    ")\n",
    "vector_store = Chroma(\n",
    "    embedding_function=embedding_function,\n",
    "    collection_name=\"real_estate_tax\",\n",
    "    persist_directory=\"./real_estate_tax_collection\",\n",
    ")\n",
    "retriever = vector_store.as_retriever(search_kwargs={\"k\": 3})\n",
    "retriever_tool = create_retriever_tool(\n",
    "    retriever=retriever,\n",
    "    name=\"real_estate_tax_retriever\",\n",
    "    description=\"Contains information about real estate tax up to December 2024\",\n",
    ")"
   ]
  },
  {
   "cell_type": "code",
   "execution_count": 9,
   "metadata": {},
   "outputs": [],
   "source": [
    "from langgraph.prebuilt import ToolNode\n",
    "\n",
    "tool_list = (\n",
    "    [add, multiply, search_tool, retriever_tool] + gmail_tool_list + loaded_tool_list\n",
    ")\n",
    "llm_with_tools = small_llm.bind_tools(tool_list)\n",
    "tool_node = ToolNode(tool_list)"
   ]
  },
  {
   "cell_type": "code",
   "execution_count": 10,
   "metadata": {},
   "outputs": [],
   "source": [
    "from langgraph.graph import MessagesState, StateGraph\n",
    "\n",
    "\n",
    "class AgentState(MessagesState):\n",
    "    summary: str\n",
    "\n",
    "\n",
    "graph_builder = StateGraph(AgentState)"
   ]
  },
  {
   "cell_type": "code",
   "execution_count": 11,
   "metadata": {},
   "outputs": [],
   "source": [
    "from langchain_core.messages import SystemMessage\n",
    "\n",
    "\n",
    "def agent(state: AgentState) -> AgentState:\n",
    "    \"\"\"\n",
    "    이 에이전트 함수는 주어진 상태에서 메시지를 가져와\n",
    "    LLM과 도구를 사용하여 응답 메시지를 생성합니다.\n",
    "\n",
    "    Args:\n",
    "        state (MessagesState): 메시지 기록과 요약을 포함하는 상태.\n",
    "\n",
    "    Returns:\n",
    "        MessagesState: 응답 메시지를 포함하는 새로운 상태.\n",
    "    \"\"\"\n",
    "    messages = state[\"messages\"]\n",
    "    summary = state[\"summary\"]\n",
    "    if summary != \"\":\n",
    "        messages = [\n",
    "            SystemMessage(\n",
    "                content=f\"Here is the summary of the earlier conversation: {summary}\"\n",
    "            )\n",
    "        ] + messages\n",
    "    response = llm_with_tools.invoke(messages)\n",
    "    return {\"messages\": [response]}"
   ]
  },
  {
   "cell_type": "markdown",
   "metadata": {},
   "source": [
    "사람이 리뷰하고 관여하는 humman_review 노드 추가"
   ]
  },
  {
   "cell_type": "markdown",
   "metadata": {},
   "source": [
    "- `interrupt`에는 사용자에게 보여주고자 하는 메시지를 dictionary 형태로 작성합니다"
   ]
  },
  {
   "cell_type": "code",
   "execution_count": 13,
   "metadata": {},
   "outputs": [],
   "source": [
    "from typing import Literal\n",
    "from langgraph.types import interrupt, Command\n",
    "\n",
    "\n",
    "def human_review(state: AgentState) -> Command[Literal[\"tools\", \"agent\"]]: # return value를 잘 정의해야 그래프라 잘 그려짐\n",
    "    \"\"\"\n",
    "    human_review node는 LLM의 도구 호출에 대해 사람의 검토를 요청합니다.\n",
    "\n",
    "    Args:\n",
    "        state (AgentState): 메시지 기록을 포함하는 state.\n",
    "\n",
    "    Returns:\n",
    "        Command: 다음 node로 이동하기 위한 Command를 반환합니다.\n",
    "    \"\"\"\n",
    "    messages = state[\"messages\"]\n",
    "    last_message = messages[-1]\n",
    "    tool_call = last_message.tool_calls[-1]\n",
    "    human_review = interrupt(\n",
    "        {\"question\": \"이렇게 진행하면 될까요?\", \"tool_call\": tool_call}\n",
    "    )\n",
    "    review_action = human_review[\"action\"]\n",
    "    # action은 3가지가 있은: 잘한경우/ 도구는 잘골랐으나 args가 잘못된경우/ 도구가 잘못골라진 경우\n",
    "    review_data = human_review.get(\"data\", None) # 도구호출시 사용할 args, query를 담는곳\n",
    "    # get을 사용하는 이유,\n",
    "    # llm이 잘한 경우에는 \"data\" 키가 없을 것이다. 이를 고려해 None을 넣어줌\n",
    "\n",
    "    if review_action == \"continue\":\n",
    "        # 에이전트의 판단이 맞다면, 도구를 사용하기 위해 아무것도 수정하지 않고 `tools` 노드로 이동합니다\n",
    "        return Command(goto=\"tools\")\n",
    "\n",
    "    if review_action == \"update_args\":\n",
    "        # 도구를 더 효율적으로 사용하기 위해 AIMessage의 `tool_calls` 필드를 업데이트합니다\n",
    "        updated_ai_message = {\n",
    "            \"id\": last_message.id,\n",
    "            \"role\": \"ai\",\n",
    "            \"content\": last_message.content,\n",
    "            \"tool_calls\": [\n",
    "                {\"id\": tool_call[\"id\"], \"name\": tool_call[\"name\"], \"args\": review_data}\n",
    "            ],\n",
    "        }\n",
    "        return Command(goto=\"tools\", update={\"messages\": [updated_ai_message]})\n",
    "\n",
    "    if review_action == \"update_tool\":\n",
    "        # 다른 도구를 사용하기 위해 `ToolMessage`를 업데이트합니다\n",
    "        updated_tool_message = {\n",
    "            \"tool_call_id\": tool_call[\"id\"],\n",
    "            \"name\": tool_call[\"name\"],\n",
    "            \"role\": \"tool\",\n",
    "            \"content\": review_data,\n",
    "        }\n",
    "        return Command(goto=\"agent\", update={\"messages\": [updated_tool_message]})"
   ]
  },
  {
   "cell_type": "code",
   "execution_count": 14,
   "metadata": {},
   "outputs": [],
   "source": [
    "def summarize_messages(state: AgentState):\n",
    "    \"\"\"\n",
    "    주어진 state의 메시지를 요약합니다.\n",
    "\n",
    "    Args:\n",
    "        state (AgentState): 메시지와 요약을 포함하는 state.\n",
    "\n",
    "    Returns:\n",
    "        AgentState: 요약된 메시지를 포함하는 딕셔너리.\n",
    "    \"\"\"\n",
    "    messages = state[\"messages\"]\n",
    "    summary = state[\"summary\"]\n",
    "    summary_prompt = f\"summarize this chat history below: \\n\\nchat_history:{messages}\"\n",
    "    if summary != \"\":\n",
    "        summary_prompt = f\"\"\"summarize this chat history below while looking at the summary of earlier conversations\n",
    "chat_history:{messages}\n",
    "summary:{summary}\"\"\"\n",
    "\n",
    "    summary = small_llm.invoke(summary_prompt)\n",
    "    response = llm_with_tools.invoke(messages)\n",
    "    return {\"summary\": response.content}"
   ]
  },
  {
   "cell_type": "code",
   "execution_count": 15,
   "metadata": {},
   "outputs": [],
   "source": [
    "from langchain_core.messages import RemoveMessage\n",
    "\n",
    "\n",
    "def delete_messages(state: AgentState):\n",
    "    \"\"\"\n",
    "    주어진 state에서 오래된 메시지를 삭제합니다.\n",
    "\n",
    "    Args:\n",
    "        state (AgentState): 메시지를 포함하는 state.\n",
    "\n",
    "    Returns:\n",
    "        AgentState: 삭제된 메시지를 포함하는 새로운 state.\n",
    "    \"\"\"\n",
    "    messages = state[\"messages\"]\n",
    "    delete_messages = [RemoveMessage(id=message.id) for message in messages[:-3]]\n",
    "    return {\"messages\": delete_messages}"
   ]
  },
  {
   "cell_type": "code",
   "execution_count": 16,
   "metadata": {},
   "outputs": [],
   "source": [
    "def should_continue(state: MessagesState):\n",
    "    \"\"\"\n",
    "    주어진 state에 따라 다음 단계로 진행할지를 결정합니다.\n",
    "\n",
    "    Args:\n",
    "        state (AgentState): 메시지와 도구 호출 정보를 포함하는 state.\n",
    "\n",
    "    Returns:\n",
    "        Literal['tools', 'summarize_messages']: 다음 단계로 'tools' 또는 'summarize_messages'를 반환합니다.\n",
    "    \"\"\"\n",
    "    messages = state[\"messages\"]\n",
    "    last_ai_message = messages[-1]\n",
    "    if last_ai_message.tool_calls:\n",
    "        return \"human_review\"\n",
    "\n",
    "    return \"summarize_messages\""
   ]
  },
  {
   "cell_type": "markdown",
   "metadata": {},
   "source": [
    "- `node`를 추가하고 `edge`로 연결합니다"
   ]
  },
  {
   "cell_type": "code",
   "execution_count": 17,
   "metadata": {},
   "outputs": [
    {
     "data": {
      "text/plain": [
       "<langgraph.graph.state.StateGraph at 0x11becb3e0>"
      ]
     },
     "execution_count": 17,
     "metadata": {},
     "output_type": "execute_result"
    }
   ],
   "source": [
    "graph_builder.add_node(\"agent\", agent)\n",
    "graph_builder.add_node(\"tools\", tool_node)\n",
    "graph_builder.add_node(human_review)\n",
    "graph_builder.add_node(delete_messages)\n",
    "graph_builder.add_node(summarize_messages)"
   ]
  },
  {
   "cell_type": "code",
   "execution_count": 18,
   "metadata": {},
   "outputs": [
    {
     "data": {
      "text/plain": [
       "<langgraph.graph.state.StateGraph at 0x11becb3e0>"
      ]
     },
     "execution_count": 18,
     "metadata": {},
     "output_type": "execute_result"
    }
   ],
   "source": [
    "from langgraph.graph import START, END\n",
    "\n",
    "\n",
    "graph_builder.add_edge(START, \"agent\")\n",
    "graph_builder.add_conditional_edges(\n",
    "    \"agent\", should_continue, [\"human_review\", \"summarize_messages\"]\n",
    ")\n",
    "graph_builder.add_edge(\"tools\", \"agent\")\n",
    "graph_builder.add_edge(\"summarize_messages\", \"delete_messages\")\n",
    "graph_builder.add_edge(\"delete_messages\", END)"
   ]
  },
  {
   "cell_type": "markdown",
   "metadata": {},
   "source": [
    "- `interrupt`로 중단된 시점부터 다시 워크플로우를 재개하기 위해 `checkpointer`가 필요합니다"
   ]
  },
  {
   "cell_type": "code",
   "execution_count": 19,
   "metadata": {},
   "outputs": [],
   "source": [
    "from langgraph.checkpoint.memory import MemorySaver\n",
    "\n",
    "checkpointer = MemorySaver()\n",
    "\n",
    "graph = graph_builder.compile(checkpointer=checkpointer)"
   ]
  },
  {
   "cell_type": "code",
   "execution_count": 20,
   "metadata": {},
   "outputs": [
    {
     "data": {
      "image/png": "[encoded data removed]",
      "text/plain": [
       "<IPython.core.display.Image object>"
      ]
     },
     "metadata": {},
     "output_type": "display_data"
    }
   ],
   "source": [
    "from IPython.display import Image, display\n",
    "\n",
    "display(Image(graph.get_graph().draw_mermaid_png()))"
   ]
  },
  {
   "cell_type": "code",
   "execution_count": 21,
   "metadata": {},
   "outputs": [
    {
     "name": "stdout",
     "output_type": "stream",
     "text": [
      "================================\u001b[1m Human Message \u001b[0m=================================\n",
      "\n",
      "LLM Survey 논문의 내용을 검색해서 요약해주세요\n",
      "==================================\u001b[1m Ai Message \u001b[0m==================================\n",
      "Tool Calls:\n",
      "  arxiv (call_xSLLYCSjCB8Oz1eBi9LY0l99)\n",
      " Call ID: call_xSLLYCSjCB8Oz1eBi9LY0l99\n",
      "  Args:\n",
      "    query: LLM Survey\n"
     ]
    }
   ],
   "source": [
    "from langchain_core.messages import HumanMessage\n",
    "\n",
    "config = {\"configurable\": {\"thread_id\": \"summarize_paper\"}}\n",
    "\n",
    "query = \"LLM Survey 논문의 내용을 검색해서 요약해주세요\"\n",
    "for chunk in graph.stream(\n",
    "    {\"messages\": [HumanMessage(query)], \"summary\": \"\"},\n",
    "    config=config,\n",
    "    stream_mode=\"values\",\n",
    "):\n",
    "    chunk[\"messages\"][-1].pretty_print()"
   ]
  },
  {
   "cell_type": "code",
   "execution_count": 23,
   "metadata": {},
   "outputs": [
    {
     "name": "stdout",
     "output_type": "stream",
     "text": [
      "{'agent': {'messages': [AIMessage(content='', additional_kwargs={'tool_calls': [{'id': 'call_wDAbNibHeO6gFk3mMDBBaUOS', 'function': {'arguments': '{\"query\":\"LLM Survey 논문 요약\"}', 'name': 'duckduckgo_search'}, 'type': 'function'}], 'refusal': None}, response_metadata={'token_usage': {'completion_tokens': 23, 'prompt_tokens': 779, 'total_tokens': 802, 'completion_tokens_details': {'accepted_prediction_tokens': 0, 'audio_tokens': 0, 'reasoning_tokens': 0, 'rejected_prediction_tokens': 0}, 'prompt_tokens_details': {'audio_tokens': 0, 'cached_tokens': 0}}, 'model_name': 'gpt-4o-mini-2024-07-18', 'system_fingerprint': 'fp_5154047bf2', 'prompt_filter_results': [{'prompt_index': 0, 'content_filter_results': {'hate': {'filtered': False, 'severity': 'safe'}, 'jailbreak': {'filtered': False, 'detected': False}, 'self_harm': {'filtered': False, 'severity': 'safe'}, 'sexual': {'filtered': False, 'severity': 'safe'}, 'violence': {'filtered': False, 'severity': 'safe'}}}], 'finish_reason': 'tool_calls', 'logprobs': None, 'content_filter_results': {}}, id='run-4896142d-e5b8-4bb2-8292-0c53159b9efb-0', tool_calls=[{'name': 'duckduckgo_search', 'args': {'query': 'LLM Survey 논문 요약'}, 'id': 'call_wDAbNibHeO6gFk3mMDBBaUOS', 'type': 'tool_call'}], usage_metadata={'input_tokens': 779, 'output_tokens': 23, 'total_tokens': 802, 'input_token_details': {'audio': 0, 'cache_read': 0}, 'output_token_details': {'audio': 0, 'reasoning': 0}})]}}\n",
      "{'__interrupt__': (Interrupt(value={'question': '이렇게 진행하면 될까요?', 'tool_call': {'name': 'duckduckgo_search', 'args': {'query': 'LLM Survey 논문 요약'}, 'id': 'call_wDAbNibHeO6gFk3mMDBBaUOS', 'type': 'tool_call'}}, resumable=True, ns=['human_review:facccace-d57b-ba64-a3e1-a719c63f2632'], when='during'),)}\n"
     ]
    }
   ],
   "source": [
    "for chunk in graph.stream(\n",
    "    Command(resume={\"action\": \"update_tool\", \"data\": \"arxiv말고 web에서 검색해주세요\"}),\n",
    "    config,\n",
    "    stream_mode=\"updates\",\n",
    "):\n",
    "    print(chunk)"
   ]
  },
  {
   "cell_type": "code",
   "execution_count": 24,
   "metadata": {},
   "outputs": [
    {
     "name": "stdout",
     "output_type": "stream",
     "text": [
      "chunk == {'human_review': None}\n"
     ]
    },
    {
     "name": "stderr",
     "output_type": "stream",
     "text": [
      "/Users/jasonkang/.pyenv/versions/3.12.2/envs/inflearn-langgraph-lecture/lib/python3.12/site-packages/langchain_community/utilities/duckduckgo_search.py:64: UserWarning: 'api' backend is deprecated, using backend='auto'\n",
      "  ddgs_gen = ddgs.text(\n"
     ]
    },
    {
     "name": "stdout",
     "output_type": "stream",
     "text": [
      "chunk == {'tools': {'messages': [ToolMessage(content='단어 시퀀스에서 다음 단어를 예측하는 분야인 언어 모델링 (LM)은 크게 4가지 발전 단계로 나눌 수 있습니다: 통계적 언어 모델링 (SLM): 1990년대부터 사용된 방법으로, 간단한 n-그램 모델이 최근 문맥을 기반으로 다음 단어를 예측합니다 (마르코프 가정). 신경망 언어 모델 (NLM): RNN, LSTM, GRU, word2vec과 같은 신경망을 사용합니다. The paper describes 3 characteristics of LLMs that differentiate them from PLMs: 이 논문에서는 새로운 데이터셋을 개발하고, 다섯 가지 다른 요약 작업에 대한 LLMs의 요약 생성 능력을 평가하기 위해 인간 평가 실험을 수행하였습니다. 실험 결과, LLMs가 생성한 요약은 인간이 작성한 요약보다 더 많은 사실적 일관성과 외생적 환각 (extrinsic hallucinations)이 적은 것으로 나타났습니다. 이 논문은 텍스트 요약 분야에서 LLMs의 활용 가능성을 보여주며, 미래에는 더 높은 품질의 데이터셋과 평가 방법을 개발하여 텍스트 요약 분야에서 더 나은 성과를 이루기 위한 연구가 필요하다는 결론을 내리고 있습니다. ELMO는 고정된 단어 representation 대신 양방향 LSTM (biLSTM)을 사전학습해서 문맥을 잘 아는 단어 표현을 포착하도록 고안되었다. Self attention 메커니즘은 병렬처리가 가능한 Transformer 아키텍쳐 기반으로 BERT는 대량의 unlabeled copora로 양방향의 언어모델을 사전학습한다. 사전학습 된 context-aware word representation은 문맥적인 feature로 매우 효과적이다. LLM. GPT-3는 incontext learning을 통해 few shot task를 해결한다. 1. 이 리뷰 논문은 대규모 언어 모델의 한계를 극복하기 위해 검색-증강 생성 (RAG) 기술의 발전을 다루고 있습니다. RAG는 외부 데이터베이스의 지식을 통합하여 모델의 정확성과 신뢰성을 향상시키고, 지속적인 지식 업데이트와 특정 분야 정보의 통합을 가능하게 합니다. 논문은 RAG의 다양한 형태와 그 구성 요소인 검색, 생성, 증강 기술을 상세히 분석하고, RAG 모델 평가를 위한 최신 메트릭과 벤치마크를 소개하며, 향후 연구 방향을 제시합니다. In this survey, we review the recent advances of LLMs by introducing the background, key findings, and mainstream techniques. In particular, we focus on four major aspects of LLMs, namely pre-training, adaptation tuning, utilization, and capacity evaluation.', name='duckduckgo_search', id='dfaa098a-c41a-4da9-b4e2-98dc9eb5905b', tool_call_id='call_wDAbNibHeO6gFk3mMDBBaUOS')]}}\n",
      "chunk == {'agent': {'messages': [AIMessage(content='LLM (Large Language Model) Survey 논문은 대규모 언어 모델의 발전과 그 특성에 대해 다루고 있습니다. 다음은 주요 내용의 요약입니다:\\n\\n1. **발전 단계**: 언어 모델링은 통계적 언어 모델링(SLM), 신경망 언어 모델(NLM), 그리고 최근의 대규모 언어 모델(LLM)로 크게 나뉘어 발전해왔습니다.\\n\\n2. **LLM의 특성**: LLM은 기존의 PLM(Pre-trained Language Model)과 구별되는 세 가지 주요 특성을 가지고 있습니다. 이는 데이터셋의 개발과 다섯 가지 요약 작업에 대한 LLM의 성능 평가를 포함합니다.\\n\\n3. **실험 결과**: LLM이 생성한 요약은 인간이 작성한 요약에 비해 더 많은 사실적 일관성을 보였으며, 외생적 환각(extrinsic hallucinations)이 적은 것으로 나타났습니다.\\n\\n4. **미래 연구 방향**: 텍스트 요약 분야에서 LLM의 활용 가능성을 보여주며, 더 높은 품질의 데이터셋과 평가 방법 개발이 필요하다는 결론을 내리고 있습니다.\\n\\n5. **RAG 기술**: 검색-증강 생성(Research-Augmented Generation) 기술의 발전을 다루고 있으며, 이는 외부 데이터베이스의 지식을 통합하여 모델의 정확성과 신뢰성을 높이는 방법입니다.\\n\\n6. **주요 측면**: LLM의 주요 측면으로는 사전학습(pre-training), 적응 튜닝(adaptation tuning), 활용(utilization), 능력 평가(capacity evaluation)를 포함합니다.\\n\\n이 논문은 LLM의 최신 발전을 리뷰하고, 이를 통해 향후 연구 방향에 대한 통찰을 제공합니다.', additional_kwargs={'refusal': None}, response_metadata={'token_usage': {'completion_tokens': 386, 'prompt_tokens': 1418, 'total_tokens': 1804, 'completion_tokens_details': {'accepted_prediction_tokens': 0, 'audio_tokens': 0, 'reasoning_tokens': 0, 'rejected_prediction_tokens': 0}, 'prompt_tokens_details': {'audio_tokens': 0, 'cached_tokens': 0}}, 'model_name': 'gpt-4o-mini-2024-07-18', 'system_fingerprint': 'fp_5154047bf2', 'prompt_filter_results': [{'prompt_index': 0, 'content_filter_results': {'hate': {'filtered': False, 'severity': 'safe'}, 'jailbreak': {'filtered': False, 'detected': False}, 'self_harm': {'filtered': False, 'severity': 'safe'}, 'sexual': {'filtered': False, 'severity': 'safe'}, 'violence': {'filtered': False, 'severity': 'safe'}}}], 'finish_reason': 'stop', 'logprobs': None, 'content_filter_results': {'hate': {'filtered': False, 'severity': 'safe'}, 'protected_material_code': {'filtered': False, 'detected': False}, 'protected_material_text': {'filtered': False, 'detected': False}, 'self_harm': {'filtered': False, 'severity': 'safe'}, 'sexual': {'filtered': False, 'severity': 'safe'}, 'violence': {'filtered': False, 'severity': 'safe'}}}, id='run-f81c35c0-e489-4140-94fb-8b3e682169fa-0', usage_metadata={'input_tokens': 1418, 'output_tokens': 386, 'total_tokens': 1804, 'input_token_details': {'audio': 0, 'cache_read': 0}, 'output_token_details': {'audio': 0, 'reasoning': 0}})]}}\n",
      "chunk == {'summarize_messages': {'summary': 'LLM (Large Language Model) Survey 논문은 대규모 언어 모델의 발전과 그 특성에 대해 다루고 있습니다. 다음은 주요 내용의 요약입니다:\\n\\n1. **발전 단계**: 언어 모델링은 통계적 언어 모델링(SLM), 신경망 언어 모델(NLM), 그리고 최근의 대규모 언어 모델(LLM)로 크게 나뉘어 발전해왔습니다.\\n\\n2. **LLM의 특성**: LLM은 기존의 PLM(Pre-trained Language Model)과 구별되는 세 가지 주요 특성을 가지고 있습니다. 이는 데이터셋의 개발과 다섯 가지 요약 작업에 대한 LLM의 성능 평가를 포함합니다.\\n\\n3. **실험 결과**: LLM이 생성한 요약은 인간이 작성한 요약에 비해 더 많은 사실적 일관성을 보였으며, 외생적 환각(extrinsic hallucinations)이 적은 것으로 나타났습니다.\\n\\n4. **미래 연구 방향**: 텍스트 요약 분야에서 LLM의 활용 가능성을 보여주며, 더 높은 품질의 데이터셋과 평가 방법 개발이 필요하다는 결론을 내리고 있습니다.\\n\\n5. **RAG 기술**: 검색-증강 생성(Research-Augmented Generation) 기술의 발전을 다루고 있으며, 이는 외부 데이터베이스의 지식을 통합하여 모델의 정확성과 신뢰성을 높이는 방법입니다.\\n\\n6. **주요 측면**: LLM의 주요 측면으로는 사전학습(pre-training), 적응 튜닝(adaptation tuning), 활용(utilization), 능력 평가(capacity evaluation)를 포함합니다.\\n\\n이 논문은 LLM의 최신 발전을 리뷰하고, 이를 통해 향후 연구 방향에 대한 통찰을 제공합니다.'}}\n",
      "chunk == {'delete_messages': {'messages': [RemoveMessage(content='', additional_kwargs={}, response_metadata={}, id='9d2aa83a-e817-4b24-ae6c-a8f830661640'), RemoveMessage(content='', additional_kwargs={}, response_metadata={}, id='run-f9beb937-8a1e-49dc-bb51-75025980f831-0'), RemoveMessage(content='', additional_kwargs={}, response_metadata={}, id='08c8ea72-9872-4d3e-8d44-d7cc560ca7d7')]}}\n"
     ]
    }
   ],
   "source": [
    "for chunk in graph.stream(\n",
    "    Command(resume={\"action\": \"continue\"}),\n",
    "    config,\n",
    "    stream_mode=\"updates\",\n",
    "):\n",
    "    print(f\"chunk == {chunk}\")"
   ]
  },
  {
   "cell_type": "code",
   "execution_count": 25,
   "metadata": {},
   "outputs": [
    {
     "data": {
      "text/plain": [
       "[AIMessage(content='', additional_kwargs={'tool_calls': [{'id': 'call_wDAbNibHeO6gFk3mMDBBaUOS', 'function': {'arguments': '{\"query\":\"LLM Survey 논문 요약\"}', 'name': 'duckduckgo_search'}, 'type': 'function'}], 'refusal': None}, response_metadata={'token_usage': {'completion_tokens': 23, 'prompt_tokens': 779, 'total_tokens': 802, 'completion_tokens_details': {'accepted_prediction_tokens': 0, 'audio_tokens': 0, 'reasoning_tokens': 0, 'rejected_prediction_tokens': 0}, 'prompt_tokens_details': {'audio_tokens': 0, 'cached_tokens': 0}}, 'model_name': 'gpt-4o-mini-2024-07-18', 'system_fingerprint': 'fp_5154047bf2', 'prompt_filter_results': [{'prompt_index': 0, 'content_filter_results': {'hate': {'filtered': False, 'severity': 'safe'}, 'jailbreak': {'filtered': False, 'detected': False}, 'self_harm': {'filtered': False, 'severity': 'safe'}, 'sexual': {'filtered': False, 'severity': 'safe'}, 'violence': {'filtered': False, 'severity': 'safe'}}}], 'finish_reason': 'tool_calls', 'logprobs': None, 'content_filter_results': {}}, id='run-4896142d-e5b8-4bb2-8292-0c53159b9efb-0', tool_calls=[{'name': 'duckduckgo_search', 'args': {'query': 'LLM Survey 논문 요약'}, 'id': 'call_wDAbNibHeO6gFk3mMDBBaUOS', 'type': 'tool_call'}], usage_metadata={'input_tokens': 779, 'output_tokens': 23, 'total_tokens': 802, 'input_token_details': {'audio': 0, 'cache_read': 0}, 'output_token_details': {'audio': 0, 'reasoning': 0}}),\n",
       " ToolMessage(content='단어 시퀀스에서 다음 단어를 예측하는 분야인 언어 모델링 (LM)은 크게 4가지 발전 단계로 나눌 수 있습니다: 통계적 언어 모델링 (SLM): 1990년대부터 사용된 방법으로, 간단한 n-그램 모델이 최근 문맥을 기반으로 다음 단어를 예측합니다 (마르코프 가정). 신경망 언어 모델 (NLM): RNN, LSTM, GRU, word2vec과 같은 신경망을 사용합니다. The paper describes 3 characteristics of LLMs that differentiate them from PLMs: 이 논문에서는 새로운 데이터셋을 개발하고, 다섯 가지 다른 요약 작업에 대한 LLMs의 요약 생성 능력을 평가하기 위해 인간 평가 실험을 수행하였습니다. 실험 결과, LLMs가 생성한 요약은 인간이 작성한 요약보다 더 많은 사실적 일관성과 외생적 환각 (extrinsic hallucinations)이 적은 것으로 나타났습니다. 이 논문은 텍스트 요약 분야에서 LLMs의 활용 가능성을 보여주며, 미래에는 더 높은 품질의 데이터셋과 평가 방법을 개발하여 텍스트 요약 분야에서 더 나은 성과를 이루기 위한 연구가 필요하다는 결론을 내리고 있습니다. ELMO는 고정된 단어 representation 대신 양방향 LSTM (biLSTM)을 사전학습해서 문맥을 잘 아는 단어 표현을 포착하도록 고안되었다. Self attention 메커니즘은 병렬처리가 가능한 Transformer 아키텍쳐 기반으로 BERT는 대량의 unlabeled copora로 양방향의 언어모델을 사전학습한다. 사전학습 된 context-aware word representation은 문맥적인 feature로 매우 효과적이다. LLM. GPT-3는 incontext learning을 통해 few shot task를 해결한다. 1. 이 리뷰 논문은 대규모 언어 모델의 한계를 극복하기 위해 검색-증강 생성 (RAG) 기술의 발전을 다루고 있습니다. RAG는 외부 데이터베이스의 지식을 통합하여 모델의 정확성과 신뢰성을 향상시키고, 지속적인 지식 업데이트와 특정 분야 정보의 통합을 가능하게 합니다. 논문은 RAG의 다양한 형태와 그 구성 요소인 검색, 생성, 증강 기술을 상세히 분석하고, RAG 모델 평가를 위한 최신 메트릭과 벤치마크를 소개하며, 향후 연구 방향을 제시합니다. In this survey, we review the recent advances of LLMs by introducing the background, key findings, and mainstream techniques. In particular, we focus on four major aspects of LLMs, namely pre-training, adaptation tuning, utilization, and capacity evaluation.', name='duckduckgo_search', id='dfaa098a-c41a-4da9-b4e2-98dc9eb5905b', tool_call_id='call_wDAbNibHeO6gFk3mMDBBaUOS'),\n",
       " AIMessage(content='LLM (Large Language Model) Survey 논문은 대규모 언어 모델의 발전과 그 특성에 대해 다루고 있습니다. 다음은 주요 내용의 요약입니다:\\n\\n1. **발전 단계**: 언어 모델링은 통계적 언어 모델링(SLM), 신경망 언어 모델(NLM), 그리고 최근의 대규모 언어 모델(LLM)로 크게 나뉘어 발전해왔습니다.\\n\\n2. **LLM의 특성**: LLM은 기존의 PLM(Pre-trained Language Model)과 구별되는 세 가지 주요 특성을 가지고 있습니다. 이는 데이터셋의 개발과 다섯 가지 요약 작업에 대한 LLM의 성능 평가를 포함합니다.\\n\\n3. **실험 결과**: LLM이 생성한 요약은 인간이 작성한 요약에 비해 더 많은 사실적 일관성을 보였으며, 외생적 환각(extrinsic hallucinations)이 적은 것으로 나타났습니다.\\n\\n4. **미래 연구 방향**: 텍스트 요약 분야에서 LLM의 활용 가능성을 보여주며, 더 높은 품질의 데이터셋과 평가 방법 개발이 필요하다는 결론을 내리고 있습니다.\\n\\n5. **RAG 기술**: 검색-증강 생성(Research-Augmented Generation) 기술의 발전을 다루고 있으며, 이는 외부 데이터베이스의 지식을 통합하여 모델의 정확성과 신뢰성을 높이는 방법입니다.\\n\\n6. **주요 측면**: LLM의 주요 측면으로는 사전학습(pre-training), 적응 튜닝(adaptation tuning), 활용(utilization), 능력 평가(capacity evaluation)를 포함합니다.\\n\\n이 논문은 LLM의 최신 발전을 리뷰하고, 이를 통해 향후 연구 방향에 대한 통찰을 제공합니다.', additional_kwargs={'refusal': None}, response_metadata={'token_usage': {'completion_tokens': 386, 'prompt_tokens': 1418, 'total_tokens': 1804, 'completion_tokens_details': {'accepted_prediction_tokens': 0, 'audio_tokens': 0, 'reasoning_tokens': 0, 'rejected_prediction_tokens': 0}, 'prompt_tokens_details': {'audio_tokens': 0, 'cached_tokens': 0}}, 'model_name': 'gpt-4o-mini-2024-07-18', 'system_fingerprint': 'fp_5154047bf2', 'prompt_filter_results': [{'prompt_index': 0, 'content_filter_results': {'hate': {'filtered': False, 'severity': 'safe'}, 'jailbreak': {'filtered': False, 'detected': False}, 'self_harm': {'filtered': False, 'severity': 'safe'}, 'sexual': {'filtered': False, 'severity': 'safe'}, 'violence': {'filtered': False, 'severity': 'safe'}}}], 'finish_reason': 'stop', 'logprobs': None, 'content_filter_results': {'hate': {'filtered': False, 'severity': 'safe'}, 'protected_material_code': {'filtered': False, 'detected': False}, 'protected_material_text': {'filtered': False, 'detected': False}, 'self_harm': {'filtered': False, 'severity': 'safe'}, 'sexual': {'filtered': False, 'severity': 'safe'}, 'violence': {'filtered': False, 'severity': 'safe'}}}, id='run-f81c35c0-e489-4140-94fb-8b3e682169fa-0', usage_metadata={'input_tokens': 1418, 'output_tokens': 386, 'total_tokens': 1804, 'input_token_details': {'audio': 0, 'cache_read': 0}, 'output_token_details': {'audio': 0, 'reasoning': 0}})]"
      ]
     },
     "execution_count": 25,
     "metadata": {},
     "output_type": "execute_result"
    }
   ],
   "source": [
    "graph.get_state(config).values[\"messages\"]"
   ]
  },
  {
   "cell_type": "markdown",
   "metadata": {},
   "source": [
    "- 다시 볼것 "
   ]
  }
 ],
 "metadata": {
  "kernelspec": {
   "display_name": "inflearn-langgraph",
   "language": "python",
   "name": "python3"
  },
  "language_info": {
   "codemirror_mode": {
    "name": "ipython",
    "version": 3
   },
   "file_extension": ".py",
   "mimetype": "text/x-python",
   "name": "python",
   "nbconvert_exporter": "python",
   "pygments_lexer": "ipython3",
   "version": "3.12.11"
  }
 },
 "nbformat": 4,
 "nbformat_minor": 2
}
