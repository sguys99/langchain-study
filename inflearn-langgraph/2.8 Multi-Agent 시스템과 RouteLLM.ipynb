{
 "cells": [
  {
   "cell_type": "markdown",
   "metadata": {},
   "source": [
    "# 2.8 Multi-Agent 시스템과 RouteLLM"
   ]
  },
  {
   "cell_type": "markdown",
   "metadata": {},
   "source": [
    "- 앞에서 개발한 `소득세 에이전트`와 `종합부동산세 에이전트`를 활용해서 다중 에이전트 시스템을 구현합니다"
   ]
  },
  {
   "cell_type": "code",
   "execution_count": 1,
   "metadata": {},
   "outputs": [
    {
     "data": {
      "text/plain": [
       "True"
      ]
     },
     "execution_count": 1,
     "metadata": {},
     "output_type": "execute_result"
    }
   ],
   "source": [
    "from dotenv import load_dotenv\n",
    "\n",
    "load_dotenv()"
   ]
  },
  {
   "cell_type": "code",
   "execution_count": 2,
   "metadata": {},
   "outputs": [],
   "source": [
    "from langchain_openai import AzureChatOpenAI\n",
    "\n",
    "llm = AzureChatOpenAI(\n",
    "    azure_deployment='gpt-4o-2024-11-20',\n",
    "    api_version='2024-08-01-preview',   \n",
    ")\n",
    "\n",
    "small_llm = AzureChatOpenAI(\n",
    "    azure_deployment='gpt-4o-mini-2024-07-18',\n",
    "    api_version='2024-08-01-preview',\n",
    ")"
   ]
  },
  {
   "cell_type": "code",
   "execution_count": 3,
   "metadata": {},
   "outputs": [],
   "source": [
    "from typing_extensions import TypedDict\n",
    "from langgraph.graph import StateGraph\n",
    "\n",
    "class AgentState(TypedDict):\n",
    "    query: str\n",
    "    context: list\n",
    "    answer: str\n",
    "    \n",
    "graph_builder = StateGraph(AgentState)"
   ]
  },
  {
   "cell_type": "code",
   "execution_count": 4,
   "metadata": {},
   "outputs": [],
   "source": [
    "from langchain_core.prompts import ChatPromptTemplate\n",
    "from pydantic import BaseModel, Field\n",
    "from typing import Literal\n",
    "\n",
    "class Route(BaseModel):\n",
    "    target: Literal['income_tax', 'llm', 'real_estate_tax'] = Field(\n",
    "        description=\"The target for the query to answer\"\n",
    "    )\n",
    "\n",
    "router_system_prompt = \"\"\"\n",
    "You are an expert at routing a user's question to 'income_tax', 'llm', or 'real_estate_tax'.\n",
    "'income_tax' contains information about income tax up to December 2024.\n",
    "'real_estate_tax' contains information about real estate tax up to December 2024.\n",
    "if you think the question is not related to either 'income_tax' or 'real_estate_tax';\n",
    "you can route it to 'llm'.\"\"\"\n",
    "\n",
    "\n",
    "router_prompt = ChatPromptTemplate.from_messages([\n",
    "    ('system', router_system_prompt),\n",
    "    ('user', '{query}')\n",
    "])\n",
    "\n",
    "structured_router_llm = small_llm.with_structured_output(Route)\n",
    "\n",
    "def router(state: AgentState) -> Literal['income_tax', 'real_estate_tax', 'llm']:\n",
    "    \"\"\"\n",
    "    주어진 state에서 쿼리를 기반으로 적절한 경로를 결정합니다.\n",
    "\n",
    "    Args:\n",
    "        state (AgentState): 현재 에이전트의 state를 나타내는 객체입니다.\n",
    "\n",
    "    Returns:\n",
    "        Literal['income_tax', 'real_estate_tax', 'llm']: 쿼리에 따라 선택된 경로를 반환합니다.\n",
    "    \"\"\"\n",
    "    query = state['query']\n",
    "    router_chain = router_prompt | structured_router_llm \n",
    "    route = router_chain.invoke({'query': query})\n",
    "\n",
    "    return route.target"
   ]
  },
  {
   "cell_type": "code",
   "execution_count": 5,
   "metadata": {},
   "outputs": [],
   "source": [
    "from langchain_core.output_parsers import StrOutputParser\n",
    "\n",
    "def call_llm(state: AgentState) -> AgentState:\n",
    "    \"\"\"\n",
    "    주어진 state에서 쿼리를 LLM에 전달하여 응답을 얻습니다.\n",
    "\n",
    "    Args:\n",
    "        state (AgentState): 현재 에이전트의 state를 나타내는 객체입니다.\n",
    "\n",
    "    Returns:\n",
    "        AgentState: 'answer' 키를 포함하는 새로운 state를 반환합니다.\n",
    "    \"\"\"\n",
    "    query = state['query']\n",
    "    llm_chain = small_llm | StrOutputParser()\n",
    "    llm_answer = llm_chain.invoke(query)\n",
    "    return {'answer': llm_answer}"
   ]
  },
  {
   "cell_type": "markdown",
   "metadata": {},
   "source": [
    "- `node`를 추가하고 `edge`로 연결합니다\n",
    "    - 앞에서 개발한 `agent`들을 `node`로 활용할 수 있습니다"
   ]
  },
  {
   "cell_type": "code",
   "execution_count": 6,
   "metadata": {},
   "outputs": [
    {
     "name": "stderr",
     "output_type": "stream",
     "text": [
      "/Users/jasonkang/.pyenv/versions/3.12.2/envs/inflearn-langgraph-lecture/lib/python3.12/site-packages/langsmith/client.py:256: LangSmithMissingAPIKeyWarning: API key must be provided when using hosted LangSmith API\n",
      "  warnings.warn(\n",
      "/Users/jasonkang/.pyenv/versions/3.12.2/envs/inflearn-langgraph-lecture/lib/python3.12/site-packages/langsmith/client.py:256: LangSmithMissingAPIKeyWarning: API key must be provided when using hosted LangSmith API\n",
      "  warnings.warn(\n",
      "/Users/jasonkang/.pyenv/versions/3.12.2/envs/inflearn-langgraph-lecture/lib/python3.12/site-packages/langsmith/client.py:256: LangSmithMissingAPIKeyWarning: API key must be provided when using hosted LangSmith API\n",
      "  warnings.warn(\n",
      "/Users/jasonkang/.pyenv/versions/3.12.2/envs/inflearn-langgraph-lecture/lib/python3.12/site-packages/langsmith/client.py:256: LangSmithMissingAPIKeyWarning: API key must be provided when using hosted LangSmith API\n",
      "  warnings.warn(\n"
     ]
    },
    {
     "data": {
      "text/plain": [
       "<langgraph.graph.state.StateGraph at 0x107b71ee0>"
      ]
     },
     "execution_count": 6,
     "metadata": {},
     "output_type": "execute_result"
    }
   ],
   "source": [
    "from income_tax_graph import graph as income_tax_agent\n",
    "from real_estate_tax_graph import graph as real_estate_tax_agent\n",
    "\n",
    "graph_builder.add_node('income_tax', income_tax_agent)\n",
    "graph_builder.add_node('real_estate_tax', real_estate_tax_agent)\n",
    "graph_builder.add_node('llm', call_llm)"
   ]
  },
  {
   "cell_type": "code",
   "execution_count": 7,
   "metadata": {},
   "outputs": [
    {
     "data": {
      "text/plain": [
       "<langgraph.graph.state.StateGraph at 0x107b71ee0>"
      ]
     },
     "execution_count": 7,
     "metadata": {},
     "output_type": "execute_result"
    }
   ],
   "source": [
    "from langgraph.graph import START, END\n",
    "\n",
    "graph_builder.add_conditional_edges(\n",
    "    START,\n",
    "    router,\n",
    "    {\n",
    "        'income_tax': 'income_tax',\n",
    "        'real_estate_tax': 'real_estate_tax',\n",
    "        'llm': 'llm'\n",
    "    }\n",
    ")\n",
    "graph_builder.add_edge('income_tax', END)\n",
    "graph_builder.add_edge('real_estate_tax', END)\n",
    "graph_builder.add_edge('llm', END)"
   ]
  },
  {
   "cell_type": "code",
   "execution_count": 8,
   "metadata": {},
   "outputs": [],
   "source": [
    "graph = graph_builder.compile()"
   ]
  },
  {
   "cell_type": "code",
   "execution_count": 9,
   "metadata": {},
   "outputs": [
    {
     "data": {
      "image/png": "[encoded data removed]",
      "text/plain": [
       "<IPython.core.display.Image object>"
      ]
     },
     "metadata": {},
     "output_type": "display_data"
    }
   ],
   "source": [
    "from IPython.display import Image, display\n",
    "\n",
    "display(Image(graph.get_graph().draw_mermaid_png()))"
   ]
  },
  {
   "cell_type": "code",
   "execution_count": 10,
   "metadata": {},
   "outputs": [
    {
     "name": "stdout",
     "output_type": "stream",
     "text": [
      "context == [Document(metadata={'source': './documents/income_tax.txt'}, page_content='①조 세특례제한법, 또는 이 법 제12조에 따른 과세제외 소득  \\n대통령령으로 정하는 임금소득(이하 “임금소득”이라 한다)과 근로소득  \\n\\n제12조제2항의 세호에 따라 원천징수하는 이자소득 및 배당소득과 제16조제1항제10호에 따른 직장공제회초 관련소득  \\n\\n\\n법인으로 보는 단체 외의 단체 중 소득을 구성함에 배분하지 아니하는 단체로서 단체를 표기하는 금융거래를 하는 단체가 “금융신용기관” 및 비임금소득에 관한 법령이 제20조제1항 목의 이후에 해당하는 금융사업을 하는 단체(이하 “금융회사”等이란)로부터 받은 이자소득 및 배당소득  \\n\\n\\n①조 세특례제한법에 따른 보통계소득  \\n\\n\\n제30조부터 제35조까지의 규정 외의 이자소득과 배당소득(제17조제1항제8호에 따른 배당소득을 제외한다)으로서 그 소득의 합계액이 2천만원(이하 “이자소득의 종합세액기준금액”이라 한다) 이하인 경우 제17조에 따른 원천징수된 소득  \\n\\n\\n해당 과세기간에 배당행정을 정하는 총수입금액의 합계액이 2천만원 이하인 자의 주택임대소득(이하 “분리과세 주택임대소득”이라 한다). 이 경우 주택임대소득이 산정 등에 필요한 대책행령으로 정한다.  \\n\\n\\n다음 각 목 외의 기타소득(이하 “분리과세 기타소득”이라 한다)  \\n\\n\\n가. 제21조제1항제3호 제4항, 제19조, 제20조제1항, 제22조제2항, 제26조 및 제26조의2 및 제 127조에 따라 원천징수(제21조제19항에 의하여 원천징수되지 아니하는 경우를 포함한다) 소득. 다만, 해당 소득이 있는 거주자가 종합소득과세표준을 계산해 고소득을 합산하는 경우 그 소득은 분리과세로 세액계산에 제외한다.  \\n나. 제21조제19항제2조 및 같은 조 제2항에 따른 기타소득  \\n다. 제21조제19항제20호에 따른 기타소득 중 복리복리금, 제20조 제3회 복리 당정\\n마. 밖에 제21조제21항에 따른 기타소득 중 납부유상 소득으로 대행행령으로 정하는 기타소득  \\n\\n제20조제31항제3호 및 제31조에 따른 연금소득과 다음 각 목에 해당하는 연금소득(다음 과세 종합소득과세표준을 계산할 때 이를 합산하는 경우에 하여야 하며, 이하 “분리과세연금소득”이라 한다)  \\n\\n가. 제20조제31항제1과의 연금퇴직소득을 연금소득하는 연금소득\\n나. 제20조제31항제1과목 및 다음의 금액이 물어복역, 전혀부족이나 그 밖의 부득이한 경우를 대행행령으로 정하는 경우 2천만원 연금소득  \\n\\n삭제 <2013. 1. 1.>'), Document(metadata={'source': './documents/income_tax.txt'}, page_content='제10조(납세지의 변동신고) 거주자나 비거주자는 제6조부터 제9조까지의 규정에 따른 납세지가 변경된 경우 변경된 날부터 15일 이내에 대변동형을 정하는 바에 따라 그 변경 후의 납세지 관할 세무서장에게 신고하여야 한다.\\n  [전문개정 2009. 12. 31.]\\n제11조(세무 관할) 즉서는 제6조부터 제10조까지의 규정에 따른 납세지를 관할하는 세무서장 또는 지방국세청장이 과세한다.\\n  [전문개정 2009. 12. 31.]\\n제2장 거주자의 종합소득 및 퇴직소득에 대한 납세의무 <개정 2009. 12. 31.>\\n제3절 비과세\\n  [제3절 비과세 2009. 12. 31.]\\n제12조(비과세소득) 다음 각 호의 소득에 대해서는 소득세를 과세하지 아니한다. <개정 2010. 12. 27. 2011. 7. 25., 2011. 9. 15, 2012. 1. 1, 2013. 1. 1, 2013. 2. 2, 2014. 1. 1, 2014. 3. 18, 2014. 12. 15, 2016. 12. 20., 2018. 3. 20, 2018. 12. 31, 2019. 12. 10., 2019. 12. 31, 2020. 12. 29, 2022. 8. 12, 2022. 12. 31, 2023. 8. 8, 2023. 12. 31.>\\n1. ‘공익신탁법’에 따른 공익재단의 이익\\n  가. 농. 임. 반을 작업 생산에 이용하여 물로서 발생하는 소득\\n  나. 1개 국의 주택임대소득자 주택임대소득(제99조의 규정에 따른 기준시가가 12억원을 초과하는 주택 및 국외에 소재하는 주택의 임대소득을 제외한다) 또는 해상 주택세기금의 정하는 충분금액의 합계금이 2천 만원 이하인 자의 주택임대소득의 산정 또는 해당 과세기간까지 발생하는 소득으로 한정한다.\\n  다. 대변동형으로 정하는 통의가 발행하는 소득\\n  라. 대변동형으로 정하는 전종주제 제도를 통해 발생하는 소득\\n  마. 조정기간이 1년 이상인 임차(賃) 노임(賃) 발생 또는 양도소득으로 연 600만원 이하 금액, 이 경우 조정기간 및 세액의 필요사항은 대변동형으로 정한다.\\n  바. 대변동형으로 정하는 작목재배업에 발생하는 소득\\n  사. 대변동형으로 정하는 사업이 아닌 소득이 발생하는 소득\\n  가. 근로소득 퇴직소득 즉 다음 각 목의 이산에 해당하는 소득\\n  나. 납부에 따라 동일한 사람이 5동의 직종에서 받은 급여\\n  다. ‘단위적법에정하고’, 이에 따라 수급권자가 받는 용역요금 여, 협의금액, 장해급여, 유족급여, 유직특별급여, 장해특별급여, 장비나 또는 근로소득에 대한 부수 및 질병, 사망과 관련하여 고용이나 유족이 받는...\\n소총세편\\n배상·보상 또는 위자(慰資)의 성질이 있는 급여'), Document(metadata={'source': './documents/income_tax.txt'}, page_content='② 제70조제1항, 제70조의2에 따른 제74조에 따라 차례로 할 것이 제70조제1항제2호에 따르며 서류를 제출하여야 한다는 경우에는 기준소득 중 거주자 본인이 된다(분산)과 제70조제2와 제74조에 따른 제료 및 제대법을 포함한다. 단, 차별제표청정인 그 업체를 남겨 제출한 경우로 그에 대하여 아니하다.<개정 2013. 1. 1.>\\n  ③ 제80조에 따른 수익과 관련의 경우에는 기초공제 중 거주자 본인이 된다(분산)과 그에 관한 적지사항을 분명히 한다.\\n[전문개정 2009. 12. 31.]\\n[제목개정 2014. 1. 1.]\\n제54조의2(공동사업에 대한 소득공제 등 특례) 제51조의3 또는 「조세특례제한법」에 따른 소득공제를 적용하거나 제59조의2에 따른 세액감면을 적용하는 경우 제54조제3항에 따라 공동사업자의 소득에 합산과세되는 특별세액거래의 지출․납입․투자 등의 금액이 있을 경우 주된 공동사업자의 소득에 합산과세되는 소득금액에 합산되어 주된 공동사업자의 합산과세세액은 공동사업소득액 또는 공동사업창출세액을 계산할 때 소득공제 또는 세액공제를 받을 수 있다. \\n[개정 2014. 1. 1.]\\n[전문개정 2009. 12. 31.]\\n[제목개정 2014. 1. 1.]\\n제2절 세액의 계산 <개정 2009. 12. 31.>\\n제1관 세율 <개정 2009. 12. 31.>\\n제55조(세율) 거주자의 종합소득에 대한 소득세는 해당 연도의 종합소득과세표준에 다음의 세율을 적용하여 계산한 금액(이하 \"종합소득과세표준세액\"이라 한다)을 그 세액으로 한다. <개정 2014. 1. 1., 2016. 12. 20., 2017. 12. 19., 2020. 12. 29., 2022. 12. 31.>\\n종합소득\\n┌───────────────┐\\n│ 과세표준의 6개 구간 │\\n├───────────────┤\\n│ 1,400만원 이하        │ 84만원 + (1,400만원을 초과하는 금액의 15%)  │\\n│ 1,400만원 초과        │ 84만원 + (5,000만원을 초과하는 금액의 24%)  │\\n│ 8,800만원 이하        │ 624만원 + (5,000만원을 초과하는 금액의 24%)  │\\n│ 8,800만원 초과        │ 1,536만원 + (8,800만원을 초과하는 금액의 35%)  │\\n│ 1.5억원 초과          │ 4,046만원 + (1,500만원을 초과하는 금액의 38%)  │\\n│ 3억원 초과            │ 6,460만원 + (3억원을 초과하는 금액의 40%)  │\\n│ 5억원 초과            │ 14,760만원 + (5억원을 초과하는 금액의 42%)  │\\n│ 10억원 초과           │ 38,406만원 + (10억원을 초과하는 금액의 45%)  │\\n└───────────────┘\\n② 거주자의 퇴직소득에 대한 소득세는 다음 각 호의 순서에 따라 계산한 금액(이하 ‘퇴직소득 산출세액’이라 한다)으로 한다. <개정 2013. 1. 1., 2014. 12. 23.>')]\n",
      "doc relevance response: {'Score': 1, 'Explanation': \"The provided facts include extensive information about income tax regulations, exemptions, and computations, which are directly related to the concept of '소득세' (income tax). The facts address various income types, tax exemptions, tax rates, and the processes surrounding income tax, all of which are relevant to the question about what income tax is. Therefore, the facts are relevant.\"}\n",
      "hallucination response: not hallucinated\n",
      "answer == 소득세는 개인이나 법인이 얻은 소득에 대해 부과되는 세금으로, 근로소득, 이자소득, 배당소득, 임대소득 등 다양한 소득을 과세 대상으로 합니다. 세율은 소득 구간에 따라 차등 적용되며, 일정 조건을 충족하면 비과세나 소득공제가 가능합니다. 이는 국가의 재정 수입을 확보하고 소득 재분배를 목적으로 합니다.\n",
      "helpfulness response: {'Score': 1, 'Explanation': \"The student's answer is concise and directly addresses the question by defining what '소득세' (income tax) is. It explains the types of income that are subject to taxation, how the tax rate is applied, and the purpose of income tax. The response is relevant and fully answers the question, meeting all grading criteria.\"}\n"
     ]
    },
    {
     "data": {
      "text/plain": [
       "{'query': '소득세란 무엇인가요?',\n",
       " 'context': [Document(metadata={'source': './documents/income_tax.txt'}, page_content='①조 세특례제한법, 또는 이 법 제12조에 따른 과세제외 소득  \\n대통령령으로 정하는 임금소득(이하 “임금소득”이라 한다)과 근로소득  \\n\\n제12조제2항의 세호에 따라 원천징수하는 이자소득 및 배당소득과 제16조제1항제10호에 따른 직장공제회초 관련소득  \\n\\n\\n법인으로 보는 단체 외의 단체 중 소득을 구성함에 배분하지 아니하는 단체로서 단체를 표기하는 금융거래를 하는 단체가 “금융신용기관” 및 비임금소득에 관한 법령이 제20조제1항 목의 이후에 해당하는 금융사업을 하는 단체(이하 “금융회사”等이란)로부터 받은 이자소득 및 배당소득  \\n\\n\\n①조 세특례제한법에 따른 보통계소득  \\n\\n\\n제30조부터 제35조까지의 규정 외의 이자소득과 배당소득(제17조제1항제8호에 따른 배당소득을 제외한다)으로서 그 소득의 합계액이 2천만원(이하 “이자소득의 종합세액기준금액”이라 한다) 이하인 경우 제17조에 따른 원천징수된 소득  \\n\\n\\n해당 과세기간에 배당행정을 정하는 총수입금액의 합계액이 2천만원 이하인 자의 주택임대소득(이하 “분리과세 주택임대소득”이라 한다). 이 경우 주택임대소득이 산정 등에 필요한 대책행령으로 정한다.  \\n\\n\\n다음 각 목 외의 기타소득(이하 “분리과세 기타소득”이라 한다)  \\n\\n\\n가. 제21조제1항제3호 제4항, 제19조, 제20조제1항, 제22조제2항, 제26조 및 제26조의2 및 제 127조에 따라 원천징수(제21조제19항에 의하여 원천징수되지 아니하는 경우를 포함한다) 소득. 다만, 해당 소득이 있는 거주자가 종합소득과세표준을 계산해 고소득을 합산하는 경우 그 소득은 분리과세로 세액계산에 제외한다.  \\n나. 제21조제19항제2조 및 같은 조 제2항에 따른 기타소득  \\n다. 제21조제19항제20호에 따른 기타소득 중 복리복리금, 제20조 제3회 복리 당정\\n마. 밖에 제21조제21항에 따른 기타소득 중 납부유상 소득으로 대행행령으로 정하는 기타소득  \\n\\n제20조제31항제3호 및 제31조에 따른 연금소득과 다음 각 목에 해당하는 연금소득(다음 과세 종합소득과세표준을 계산할 때 이를 합산하는 경우에 하여야 하며, 이하 “분리과세연금소득”이라 한다)  \\n\\n가. 제20조제31항제1과의 연금퇴직소득을 연금소득하는 연금소득\\n나. 제20조제31항제1과목 및 다음의 금액이 물어복역, 전혀부족이나 그 밖의 부득이한 경우를 대행행령으로 정하는 경우 2천만원 연금소득  \\n\\n삭제 <2013. 1. 1.>'),\n",
       "  Document(metadata={'source': './documents/income_tax.txt'}, page_content='제10조(납세지의 변동신고) 거주자나 비거주자는 제6조부터 제9조까지의 규정에 따른 납세지가 변경된 경우 변경된 날부터 15일 이내에 대변동형을 정하는 바에 따라 그 변경 후의 납세지 관할 세무서장에게 신고하여야 한다.\\n  [전문개정 2009. 12. 31.]\\n제11조(세무 관할) 즉서는 제6조부터 제10조까지의 규정에 따른 납세지를 관할하는 세무서장 또는 지방국세청장이 과세한다.\\n  [전문개정 2009. 12. 31.]\\n제2장 거주자의 종합소득 및 퇴직소득에 대한 납세의무 <개정 2009. 12. 31.>\\n제3절 비과세\\n  [제3절 비과세 2009. 12. 31.]\\n제12조(비과세소득) 다음 각 호의 소득에 대해서는 소득세를 과세하지 아니한다. <개정 2010. 12. 27. 2011. 7. 25., 2011. 9. 15, 2012. 1. 1, 2013. 1. 1, 2013. 2. 2, 2014. 1. 1, 2014. 3. 18, 2014. 12. 15, 2016. 12. 20., 2018. 3. 20, 2018. 12. 31, 2019. 12. 10., 2019. 12. 31, 2020. 12. 29, 2022. 8. 12, 2022. 12. 31, 2023. 8. 8, 2023. 12. 31.>\\n1. ‘공익신탁법’에 따른 공익재단의 이익\\n  가. 농. 임. 반을 작업 생산에 이용하여 물로서 발생하는 소득\\n  나. 1개 국의 주택임대소득자 주택임대소득(제99조의 규정에 따른 기준시가가 12억원을 초과하는 주택 및 국외에 소재하는 주택의 임대소득을 제외한다) 또는 해상 주택세기금의 정하는 충분금액의 합계금이 2천 만원 이하인 자의 주택임대소득의 산정 또는 해당 과세기간까지 발생하는 소득으로 한정한다.\\n  다. 대변동형으로 정하는 통의가 발행하는 소득\\n  라. 대변동형으로 정하는 전종주제 제도를 통해 발생하는 소득\\n  마. 조정기간이 1년 이상인 임차(賃) 노임(賃) 발생 또는 양도소득으로 연 600만원 이하 금액, 이 경우 조정기간 및 세액의 필요사항은 대변동형으로 정한다.\\n  바. 대변동형으로 정하는 작목재배업에 발생하는 소득\\n  사. 대변동형으로 정하는 사업이 아닌 소득이 발생하는 소득\\n  가. 근로소득 퇴직소득 즉 다음 각 목의 이산에 해당하는 소득\\n  나. 납부에 따라 동일한 사람이 5동의 직종에서 받은 급여\\n  다. ‘단위적법에정하고’, 이에 따라 수급권자가 받는 용역요금 여, 협의금액, 장해급여, 유족급여, 유직특별급여, 장해특별급여, 장비나 또는 근로소득에 대한 부수 및 질병, 사망과 관련하여 고용이나 유족이 받는...\\n소총세편\\n배상·보상 또는 위자(慰資)의 성질이 있는 급여'),\n",
       "  Document(metadata={'source': './documents/income_tax.txt'}, page_content='② 제70조제1항, 제70조의2에 따른 제74조에 따라 차례로 할 것이 제70조제1항제2호에 따르며 서류를 제출하여야 한다는 경우에는 기준소득 중 거주자 본인이 된다(분산)과 제70조제2와 제74조에 따른 제료 및 제대법을 포함한다. 단, 차별제표청정인 그 업체를 남겨 제출한 경우로 그에 대하여 아니하다.<개정 2013. 1. 1.>\\n  ③ 제80조에 따른 수익과 관련의 경우에는 기초공제 중 거주자 본인이 된다(분산)과 그에 관한 적지사항을 분명히 한다.\\n[전문개정 2009. 12. 31.]\\n[제목개정 2014. 1. 1.]\\n제54조의2(공동사업에 대한 소득공제 등 특례) 제51조의3 또는 「조세특례제한법」에 따른 소득공제를 적용하거나 제59조의2에 따른 세액감면을 적용하는 경우 제54조제3항에 따라 공동사업자의 소득에 합산과세되는 특별세액거래의 지출․납입․투자 등의 금액이 있을 경우 주된 공동사업자의 소득에 합산과세되는 소득금액에 합산되어 주된 공동사업자의 합산과세세액은 공동사업소득액 또는 공동사업창출세액을 계산할 때 소득공제 또는 세액공제를 받을 수 있다. \\n[개정 2014. 1. 1.]\\n[전문개정 2009. 12. 31.]\\n[제목개정 2014. 1. 1.]\\n제2절 세액의 계산 <개정 2009. 12. 31.>\\n제1관 세율 <개정 2009. 12. 31.>\\n제55조(세율) 거주자의 종합소득에 대한 소득세는 해당 연도의 종합소득과세표준에 다음의 세율을 적용하여 계산한 금액(이하 \"종합소득과세표준세액\"이라 한다)을 그 세액으로 한다. <개정 2014. 1. 1., 2016. 12. 20., 2017. 12. 19., 2020. 12. 29., 2022. 12. 31.>\\n종합소득\\n┌───────────────┐\\n│ 과세표준의 6개 구간 │\\n├───────────────┤\\n│ 1,400만원 이하        │ 84만원 + (1,400만원을 초과하는 금액의 15%)  │\\n│ 1,400만원 초과        │ 84만원 + (5,000만원을 초과하는 금액의 24%)  │\\n│ 8,800만원 이하        │ 624만원 + (5,000만원을 초과하는 금액의 24%)  │\\n│ 8,800만원 초과        │ 1,536만원 + (8,800만원을 초과하는 금액의 35%)  │\\n│ 1.5억원 초과          │ 4,046만원 + (1,500만원을 초과하는 금액의 38%)  │\\n│ 3억원 초과            │ 6,460만원 + (3억원을 초과하는 금액의 40%)  │\\n│ 5억원 초과            │ 14,760만원 + (5억원을 초과하는 금액의 42%)  │\\n│ 10억원 초과           │ 38,406만원 + (10억원을 초과하는 금액의 45%)  │\\n└───────────────┘\\n② 거주자의 퇴직소득에 대한 소득세는 다음 각 호의 순서에 따라 계산한 금액(이하 ‘퇴직소득 산출세액’이라 한다)으로 한다. <개정 2013. 1. 1., 2014. 12. 23.>')],\n",
       " 'answer': '소득세는 개인이나 법인이 얻은 소득에 대해 부과되는 세금으로, 근로소득, 이자소득, 배당소득, 임대소득 등 다양한 소득을 과세 대상으로 합니다. 세율은 소득 구간에 따라 차등 적용되며, 일정 조건을 충족하면 비과세나 소득공제가 가능합니다. 이는 국가의 재정 수입을 확보하고 소득 재분배를 목적으로 합니다.'}"
      ]
     },
     "execution_count": 10,
     "metadata": {},
     "output_type": "execute_result"
    }
   ],
   "source": [
    "initial_state = {'query': '소득세란 무엇인가요?'}\n",
    "graph.invoke(initial_state)"
   ]
  },
  {
   "cell_type": "code",
   "execution_count": 11,
   "metadata": {},
   "outputs": [
    {
     "name": "stdout",
     "output_type": "stream",
     "text": [
      "tax_base == 주어진 정보를 바탕으로 사용자의 집에 대한 과세표준을 계산하고, 대략적인 과세 금액을 추정할 수 있습니다. 하지만, 종합부동산세는 과세표준에 세율을 적용해 계산되며, 세율은 과세표준 구간에 따라 누진적으로 적용됩니다. 여기서는 과세표준을 계산하는 과정만 설명드리며, 세율에 대한 정보는 제공되지 않았으므로 과세 금액은 추정하지 않겠습니다.\n",
      "\n",
      "---\n",
      "\n",
      "### **1. 주어진 정보**\n",
      "- **주택 공시가격**: 15억 원\n",
      "- **공제금액**:\n",
      "  - 1세대 1주택자: 12억 원\n",
      "  - 일반 납세자: 9억 원\n",
      "  - 법인 또는 법인으로 보는 단체: 6억 원\n",
      "- **공정시장가액비율**: 60% (추정)\n",
      "\n",
      "---\n",
      "\n",
      "### **2. 과세표준 계산**\n",
      "과세표준 계산 공식:\n",
      "\n",
      "\\[\n",
      "\\text{과세표준} = (\\text{공시가격} - \\text{공제금액}) \\times \\text{공정시장가액비율}\n",
      "\\]\n",
      "\n",
      "**(1) 1세대 1주택자 (공제금액 12억 원)**\n",
      "\\[\n",
      "\\text{과세표준} = (15억 - 12억) \\times 60\\%\n",
      "\\]\n",
      "\\[\n",
      "\\text{과세표준} = 3억 \\times 60\\% = 1.8억 원\n",
      "\\]\n",
      "\n",
      "**(2) 일반 납세자 (공제금액 9억 원)**\n",
      "\\[\n",
      "\\text{과세표준} = (15억 - 9억) \\times 60\\%\n",
      "\\]\n",
      "\\[\n",
      "\\text{과세표준} = 6억 \\times 60\\% = 3.6억 원\n",
      "\\]\n",
      "\n",
      "**(3) 법인 또는 법인으로 보는 단체 (공제금액 6억 원)**\n",
      "\\[\n",
      "\\text{과세표준} = (15억 - 6억) \\times 60\\%\n",
      "\\]\n",
      "\\[\n",
      "\\text{과세표준} = 9억 \\times 60\\% = 5.4억 원\n",
      "\\]\n",
      "\n",
      "---\n",
      "\n",
      "### **3. 결과 요약**\n",
      "- **1세대 1주택자**: 과세표준 1.8억 원\n",
      "- **일반 납세자**: 과세표준 3.6억 원\n",
      "- **법인 또는 법인으로 보는 단체**: 과세표준 5.4억 원\n",
      "\n",
      "---\n",
      "\n",
      "### **4. 주의**\n",
      "위 계산은 **공정시장가액비율을 60%로 가정**하여 추정한 결과입니다. 실제 공정시장가액비율은 국세청에서 매년 발표하며, 2025년 기준으로 다를 수 있습니다.\n",
      "\n",
      "세율을 적용해 종합부동산세를 계산하려면, 해당 연도의 **종합부동산세율 표**를 확인해야 합니다. 세율은 과세표준 구간별로 누진적으로 적용되므로, 구체적인 세금 계산은 세율 정보를 추가로 확인해야 합니다.\n",
      "tax_rate == 주택 공시가격이 15억 원이고, 주택 소유자 유형 및 주택 수에 따라 공제금액과 세율이 달라집니다. 아래에서 과세표준을 계산하고, 세율을 적용하여 종합부동산세를 산출하겠습니다. 계산은 **1세대 1주택자**, **2주택 이하 소유자(일반 납세자)**, **법인 또는 3주택 이상 소유자**로 나누어 진행합니다.\n",
      "\n",
      "---\n",
      "\n",
      "### **1. 가정**\n",
      "- **주택 공시가격**: 15억 원\n",
      "- **공정시장가액비율**: 60% (2023년 기준)\n",
      "- **공제금액**:\n",
      "  - 1세대 1주택자: 12억 원\n",
      "  - 일반 납세자: 9억 원\n",
      "  - 법인 또는 3주택 이상 소유자: 6억 원\n",
      "\n",
      "---\n",
      "\n",
      "### **2. 과세표준 계산**\n",
      "과세표준 계산 공식:\n",
      "\\[\n",
      "\\text{과세표준} = (\\text{공시가격} - \\text{공제금액}) \\times \\text{공정시장가액비율}\n",
      "\\]\n",
      "\n",
      "#### (1) 1세대 1주택자:\n",
      "\\[\n",
      "\\text{과세표준} = (15억 - 12억) \\times 60\\% = 3억 \\times 60\\% = 1.8억 원\n",
      "\\]\n",
      "\n",
      "#### (2) 일반 납세자:\n",
      "\\[\n",
      "\\text{과세표준} = (15억 - 9억) \\times 60\\% = 6억 \\times 60\\% = 3.6억 원\n",
      "\\]\n",
      "\n",
      "#### (3) 법인 또는 3주택 이상 소유자:\n",
      "\\[\n",
      "\\text{과세표준} = (15억 - 6억) \\times 60\\% = 9억 \\times 60\\% = 5.4억 원\n",
      "\\]\n",
      "\n",
      "---\n",
      "\n",
      "### **3. 세율 적용 및 종합부동산세 계산**\n",
      "세율은 과세표준 구간에 따라 다음과 같이 적용됩니다.\n",
      "\n",
      "#### (1) 1세대 1주택자 (과세표준 1.8억 원)\n",
      "- 1.8억 원은 **3억 원 이하** 구간에 속하므로:\n",
      "\\[\n",
      "\\text{세액} = 1.8억 × 0.5\\% = 90만 원\n",
      "\\]\n",
      "\n",
      "#### (2) 일반 납세자 (과세표준 3.6억 원)\n",
      "- 3.6억 원은 **3억 원 초과 6억 원 이하** 구간에 속하므로:\n",
      "\\[\n",
      "\\text{세액} = 150만 원 + (3.6억 - 3억) × 0.7\\%\n",
      "\\]\n",
      "\\[\n",
      "\\text{세액} = 150만 원 + 0.6억 × 0.7\\% = 150만 원 + 42만 원 = 192만 원\n",
      "\\]\n",
      "\n",
      "#### (3) 법인 또는 3주택 이상 소유자 (과세표준 5.4억 원)\n",
      "- 5.4억 원은 **3억 원 초과 6억 원 이하** 구간에 속하므로:\n",
      "\\[\n",
      "\\text{세액} = 150만 원 + (5.4억 - 3억) × 0.7\\%\n",
      "\\]\n",
      "\\[\n",
      "\\text{세액} = 150만 원 + 2.4억 × 0.7\\% = 150만 원 + 168만 원 = 318만 원\n",
      "\\]\n",
      "\n",
      "---\n",
      "\n",
      "### **4. 결과 요약**\n",
      "- **1세대 1주택자**: 90만 원\n",
      "- **일반 납세자 (2주택 이하)**: 192만 원\n",
      "- **법인 또는 3주택 이상 소유자**: 318만 원\n",
      "\n",
      "---\n",
      "\n",
      "### **5. 주의사항**\n",
      "1. 위 계산은 **공정시장가액비율 60%**를 기준으로 하였습니다. 공정시장가액비율은 매년 변동될 수 있으니 최신 자료를 확인하세요.\n",
      "2. 지역 및 기타 공제 항목에 따라 최종 세액은 달라질 수 있습니다.\n",
      "3. 계산된 금액은 참고용이며, 정확한 금액은 국세청의 세무 시스템을 통해 확인하시기 바랍니다.\n"
     ]
    },
    {
     "data": {
      "text/plain": [
       "{'query': '집 15억은 세금을 얼마나 내나요?',\n",
       " 'answer': '주택 공시가격이 15억 원이고, 주택 소유자 유형 및 주택 수에 따라 공제금액과 세율이 달라집니다. 아래에서 과세표준을 계산하고, 세율을 적용하여 종합부동산세를 산출하겠습니다. 계산은 **1세대 1주택자**, **2주택 이하 소유자(일반 납세자)**, **법인 또는 3주택 이상 소유자**로 나누어 진행합니다.\\n\\n---\\n\\n### **1. 가정**\\n- **주택 공시가격**: 15억 원\\n- **공정시장가액비율**: 60% (2023년 기준)\\n- **공제금액**:\\n  - 1세대 1주택자: 12억 원\\n  - 일반 납세자: 9억 원\\n  - 법인 또는 3주택 이상 소유자: 6억 원\\n\\n---\\n\\n### **2. 과세표준 계산**\\n과세표준 계산 공식:\\n\\\\[\\n\\\\text{과세표준} = (\\\\text{공시가격} - \\\\text{공제금액}) \\\\times \\\\text{공정시장가액비율}\\n\\\\]\\n\\n#### (1) 1세대 1주택자:\\n\\\\[\\n\\\\text{과세표준} = (15억 - 12억) \\\\times 60\\\\% = 3억 \\\\times 60\\\\% = 1.8억 원\\n\\\\]\\n\\n#### (2) 일반 납세자:\\n\\\\[\\n\\\\text{과세표준} = (15억 - 9억) \\\\times 60\\\\% = 6억 \\\\times 60\\\\% = 3.6억 원\\n\\\\]\\n\\n#### (3) 법인 또는 3주택 이상 소유자:\\n\\\\[\\n\\\\text{과세표준} = (15억 - 6억) \\\\times 60\\\\% = 9억 \\\\times 60\\\\% = 5.4억 원\\n\\\\]\\n\\n---\\n\\n### **3. 세율 적용 및 종합부동산세 계산**\\n세율은 과세표준 구간에 따라 다음과 같이 적용됩니다.\\n\\n#### (1) 1세대 1주택자 (과세표준 1.8억 원)\\n- 1.8억 원은 **3억 원 이하** 구간에 속하므로:\\n\\\\[\\n\\\\text{세액} = 1.8억 × 0.5\\\\% = 90만 원\\n\\\\]\\n\\n#### (2) 일반 납세자 (과세표준 3.6억 원)\\n- 3.6억 원은 **3억 원 초과 6억 원 이하** 구간에 속하므로:\\n\\\\[\\n\\\\text{세액} = 150만 원 + (3.6억 - 3억) × 0.7\\\\%\\n\\\\]\\n\\\\[\\n\\\\text{세액} = 150만 원 + 0.6억 × 0.7\\\\% = 150만 원 + 42만 원 = 192만 원\\n\\\\]\\n\\n#### (3) 법인 또는 3주택 이상 소유자 (과세표준 5.4억 원)\\n- 5.4억 원은 **3억 원 초과 6억 원 이하** 구간에 속하므로:\\n\\\\[\\n\\\\text{세액} = 150만 원 + (5.4억 - 3억) × 0.7\\\\%\\n\\\\]\\n\\\\[\\n\\\\text{세액} = 150만 원 + 2.4억 × 0.7\\\\% = 150만 원 + 168만 원 = 318만 원\\n\\\\]\\n\\n---\\n\\n### **4. 결과 요약**\\n- **1세대 1주택자**: 90만 원\\n- **일반 납세자 (2주택 이하)**: 192만 원\\n- **법인 또는 3주택 이상 소유자**: 318만 원\\n\\n---\\n\\n### **5. 주의사항**\\n1. 위 계산은 **공정시장가액비율 60%**를 기준으로 하였습니다. 공정시장가액비율은 매년 변동될 수 있으니 최신 자료를 확인하세요.\\n2. 지역 및 기타 공제 항목에 따라 최종 세액은 달라질 수 있습니다.\\n3. 계산된 금액은 참고용이며, 정확한 금액은 국세청의 세무 시스템을 통해 확인하시기 바랍니다.'}"
      ]
     },
     "execution_count": 11,
     "metadata": {},
     "output_type": "execute_result"
    }
   ],
   "source": [
    "initial_state = {\n",
    "    'query': '집 15억은 세금을 얼마나 내나요?'\n",
    "}\n",
    "\n",
    "graph.invoke(initial_state)"
   ]
  },
  {
   "cell_type": "code",
   "execution_count": 12,
   "metadata": {},
   "outputs": [
    {
     "data": {
      "text/plain": [
       "{'query': '떡볶이는 어디가 맛있나요?',\n",
       " 'answer': '떡볶이는 한국의 대표적인 길거리 음식으로, 많은 곳에서 맛있는 떡볶이를 찾을 수 있습니다. 지역마다 유명한 떡볶이 가게가 다르지만, 몇 군데 추천해드릴게요.\\n\\n1. **신당동 떡볶이**: 서울의 신당동은 떡볶이 골목으로 유명합니다. 여러 가게에서 다양한 스타일의 떡볶이를 맛볼 수 있습니다.\\n\\n2. **이태원**: 이태원에도 맛있는 떡볶이 가게가 많습니다. 특히 외국인 관광객들에게도 인기가 높습니다.\\n\\n3. **부산**: 부산의 자갈치 시장 근처에는 해산물 떡볶이로 유명한 가게들이 있습니다. 매콤한 떡볶이를 해산물과 함께 즐길 수 있습니다.\\n\\n4. **전주**: 전주 한옥마을 주변에도 맛있는 떡볶이 가게가 많습니다. 전통적인 맛을 느낄 수 있는 곳이 많습니다.\\n\\n각 지역마다 특색 있는 떡볶이를 맛볼 수 있으니, 방문하는 지역에 따라 다양한 떡볶이를 즐겨보세요!'}"
      ]
     },
     "execution_count": 12,
     "metadata": {},
     "output_type": "execute_result"
    }
   ],
   "source": [
    "initial_state = {'query': '떡볶이는 어디가 맛있나요?'}\n",
    "graph.invoke(initial_state)"
   ]
  },
  {
   "cell_type": "code",
   "execution_count": null,
   "metadata": {},
   "outputs": [],
   "source": []
  }
 ],
 "metadata": {
  "kernelspec": {
   "display_name": "inflearn-langgraph-lecture",
   "language": "python",
   "name": "python3"
  },
  "language_info": {
   "codemirror_mode": {
    "name": "ipython",
    "version": 3
   },
   "file_extension": ".py",
   "mimetype": "text/x-python",
   "name": "python",
   "nbconvert_exporter": "python",
   "pygments_lexer": "ipython3",
   "version": "3.12.2"
  }
 },
 "nbformat": 4,
 "nbformat_minor": 2
}
