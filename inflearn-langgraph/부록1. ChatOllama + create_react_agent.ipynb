{
 "cells": [
  {
   "cell_type": "markdown",
   "metadata": {},
   "source": [
    "# 부록 1. ChatOllama + create_react_agent"
   ]
  },
  {
   "cell_type": "markdown",
   "metadata": {},
   "source": [
    "- [강의 질문: create_react_agent, retriever요약 문제점](https://www.inflearn.com/community/questions/1609482) 디버깅입니다\n",
    "- [create_retriever_tool](https://python.langchain.com/api_reference/core/tools/langchain_core.tools.retriever.create_retriever_tool.html#create-retriever-tool) + [create_react_agent](https://python.langchain.com/api_reference/langchain/agents/langchain.agents.react.agent.create_react_agent.html)의 조합이 사용자의 질문에 답변을 생성하지 않고, 문서를 요약하는 케이스를 디버깅합니다"
   ]
  },
  {
   "cell_type": "code",
   "execution_count": 3,
   "metadata": {},
   "outputs": [],
   "source": [
    "import os\n",
    "\n",
    "from langchain_chroma import Chroma\n",
    "from langchain_openai import AzureOpenAIEmbeddings\n",
    "from langchain_core.tools.retriever import create_retriever_tool\n",
    "\n",
    "embedding_function = AzureOpenAIEmbeddings(\n",
    "    model='text-embedding-3-large',\n",
    "    azure_endpoint=os.getenv('AZURE_OPENAI_EMBEDDING_ENDPOINT'),\n",
    "    api_key=os.getenv('AZURE_OPENAI_EMBEDDING_API_KEY')\n",
    ")\n",
    "vector_store = Chroma(\n",
    "    embedding_function=embedding_function,\n",
    "    collection_name = 'real_estate_tax',\n",
    "    persist_directory='./real_estate_tax_collection'\n",
    ")\n",
    "retriever = vector_store.as_retriever(search_kwargs={'k': 3})\n",
    "retriever_tool = create_retriever_tool(\n",
    "    retriever=retriever,\n",
    "    name='real_estate_tax_retriever',\n",
    "    description='Contains information about real estate tax up to December 2024',\n",
    ")"
   ]
  },
  {
   "cell_type": "markdown",
   "metadata": {},
   "source": [
    "## ChatOllama 활용방법\n",
    "\n",
    "- 먼저 필요한 패키지를 설치합니다 (`uv sync`를 하셨다면 자동으로 설치)\n",
    "    - `langchain-ollama`, `ollama` 설치 필요\n",
    "- `ollama pull <모델이름>` 을 통해 활용할 모델을 다운로드 후 사용 가능"
   ]
  },
  {
   "cell_type": "code",
   "execution_count": 4,
   "metadata": {},
   "outputs": [],
   "source": [
    "from langchain_ollama import ChatOllama\n",
    "\n",
    "llm = ChatOllama(\n",
    "    model=\"llama3.1:latest\",\n",
    "    temperature=0,\n",
    "    # extract_reasoning = True\n",
    ")  "
   ]
  },
  {
   "cell_type": "code",
   "execution_count": null,
   "metadata": {},
   "outputs": [],
   "source": [
    "from langchain_core.messages import HumanMessage\n",
    "from langgraph.prebuilt import create_react_agent\n",
    "\n",
    "tools = [retriever_tool]\n",
    "\n",
    "graph = create_react_agent(\n",
    "            model = llm,\n",
    "            tools = tools,\n",
    "            # 최근 버전에서는 `state_modifier`가 `prompt`로 변경됨\n",
    "            state_modifier=(\"\"\"당신은 문서 담당자자 입니다. 주어진 질문에 답변하세요. 의견이 아닌 사실만 제공하세요\n",
    "                    문서 관련련 질문은 retriever_tool 도구를 사용하세요.\n",
    "                    반환된 문서의 내용을 요약하지 말고 질문에 직접 답변하세요.\n",
    "                    문서의 내용이 충분하지 않으면 '정보 부족'이라고 답하고, 확신 없는 내용을 만들어내지 마세요.\"\"\"),\n",
    "             )\n",
    "\n"
   ]
  },
  {
   "cell_type": "code",
   "execution_count": 7,
   "metadata": {},
   "outputs": [
    {
     "data": {
      "text/plain": [
       "{'messages': [HumanMessage(content='종합부동산세를 계산하는 방법을 알려주세요', additional_kwargs={}, response_metadata={}, id='e3b09a19-1eeb-4fd5-92e3-638128e838e0'),\n",
       "  AIMessage(content='', additional_kwargs={}, response_metadata={'model': 'llama3.1:latest', 'created_at': '2025-06-06T07:56:30.640786Z', 'done': True, 'done_reason': 'stop', 'total_duration': 9009694500, 'load_duration': 22084458, 'prompt_eval_count': 275, 'prompt_eval_duration': 7313094041, 'eval_count': 30, 'eval_duration': 1672908709, 'model_name': 'llama3.1:latest'}, id='run-f98f8a53-2d98-4b95-8ea0-cd2963646f8b-0', tool_calls=[{'name': 'real_estate_tax_retriever', 'args': {'query': '종합부동산세 계산 방법'}, 'id': '9d313eab-13ae-4673-8e33-95c0bef604c2', 'type': 'tool_call'}], usage_metadata={'input_tokens': 275, 'output_tokens': 30, 'total_tokens': 305}),\n",
       "  ToolMessage(content='납세의무자가 2주택 이하를 소유한 경우\\n\\n| 과세표준              | 세율                                  |\\n|---------------------|-------------------------------------|\\n| 3억 원 이하           | 1천분의 5                              |\\n| 3억 원 초과 6억 원 이하 | 150만 원 + (3억 원을 초과하는 금액의 1천분의 7)  |\\n| 6억 원 초과 12억 원 이하 | 360만 원 + (6억 원을 초과하는 금액의 1천분의 10) |\\n| 12억 원 초과 25억 원 이하 | 960만 원 + (12억 원을 초과하는 금액의 1천분의 13)|\\n| 25억 원 초과 50억 원 이하 | 2천650만 원 + (25억 원을 초과하는 금액의 1천분의 15)|\\n| 50억 원 초과 94억 원 이하 | 6천400만 원 + (50억 원을 초과하는 금액의 1천분의 20)|\\n| 94억 원 초과          | 1억 5천200만 원 + (94억 원을 초과하는 금액의 1천분의 27)|\\n\\n납세의무자가 3주택 이상을 소유한 경우\\n\\n| 과세표준              | 세율                                  |\\n|---------------------|-------------------------------------|\\n| 3억 원 이하           | 1천분의 5                              |\\n| 3억 원 초과 6억 원 이하 | 150만 원 + (3억 원을 초과하는 금액의 1천분의 7)  |\\n| 6억 원 초과 12억 원 이하 | 360만 원 + (6억 원을 초과하는 금액의 1천분의 10) |\\n| 12억 원 초과 25억 원 이하 | 960만 원 + (12억 원을 초과하는 금액의 1천분의 20)|\\n| 25억 원 초과 50억 원 이하 | 3천560만 원 + (25억 원을 초과하는 금액의 1천분의 30)|\\n| 50억 원 초과 94억 원 이하 | 1억1천600만 원 + (50억 원을 초과하는 금액의 1천분의 40)|\\n| 94억 원 초과          | 2억8천660만 원 + (94억 원을 초과하는 금액의 1천분의 50)|\\n\\n② 납세의무자가 법인 또는 법인으로 보는 단체인 경우 제1항에도 불구하고 과세표준에 다음 각 호에 따른 세율을 적용하여 계산한 금액을 주택분 종합부동산세액으로 한다. <신설 2020. 8. 18., 2020. 12. 29., 2022. 12. 31., 2023. 4. 18.>\\n법제처 3 국가법령정보센터\\n종합부동산세법\\n\\n종합부동산세법\\n[시행 2023. 4. 18] [법률 제19342호, 2023. 4. 18, 일부개정]\\n기획재정부 (재산세제과) 044-215-4313\\n제1장 총칙\\n제1조(목적) 이 법은 고액의 부동산 보유자에 대하여 종합부동산세를 부과하여 부동산보유에 대한 조세부담의 형평성을 제고하고, 부동산의 가격안정을 도모함으로써 지방재정의 균형발전과 국민경제의 건전한 발전에 이바지함을 목적으로 한다.\\n제2조(정의) 이 법에서 사용하는 용어의 정의는 다음 각호와 같다. <개정 2005. 12. 31., 2010. 3. 31., 2016. 1. 19., 2018. 12. 31., 2020. 6. 9., 2023. 3. 14.>\\n1. \"시·군·구\"란 함은 「지방자치법」 제2조에 따른 지방자치단체인 시·군 및 자치구(이하 \"시·군·구\"이라 한다)를 말한다.\\n2. \"시장·군수·구청장\"이라 함은 지방자치단체의 장인 시장·군수 및 자치구의 구청장(이하 \"시장·군수·구청장\"이라 한다)를 말한다.\\n3. \"주택\"이라 함은 「지방세법」 제104조제3호에 의한 주택을 말한다.\\n4. \"토지\"라 함은 「지방세법」 제104조제1호에 따른 토지를 말한다.\\n5. \"주택분 재산세\"라 함은 「지방세법」 제105조 및 제107조에 따라 주택에 대하여 부과하는 재산세를 말한다.\\n6. \"토지분 재산세\"라 함은 「지방세법」 제105조 및 제107조에 따라 토지에 대하여 부과하는 재산세를 말한다. <삭제 2005. 12. 31.>\\n7. \"세대\"라 함은 주택 또는 토지의 소유자 및 그 배우자와 그들과 생계를 같이하는 가족으로서 대통령령으로 정하는 것을 말한다.\\n8. \"공시가격\"이라 함은 「부동산 가격공시에 관한 법률」에 따라 가격이 공시되는 주택 및 토지에 대하여 같은 법에 따라 공시된 가격을 말한다. 다만, 같은 법에 따라 가격이 공시되지 아니한 경우에는 「지방세법」 제4조제1항 단서 및 같은 조 제2항에 따른 가액으로 한다.\\n제3조(과세기준) 종합부동산세의 과세기준일은 「지방세법」 제114조에 따른 재산세의 과세기준일로 한다. <개정 2010. 3. 31.>\\n제4조(납세의무자) ① 종합부동산세의 납세의무자가 개인 또는 법인으로 보지 아니하는 단체인 경우에는 소득세법 제6조의 규정을 준용하여 법인세를 정한다.\\n② 종합부동산세의 납세의무자가 법인 또는 법인으로 보는 단체인 경우에는 「법인세법」 제9조제1항부터 제3항까지 규정을 준용하여 납세지를 정한다. <개정 2020. 6. 9.>\\n③ 종합부동산세의 납세의무자가 비거주자와 개인 또는 외국법인으로서 국내사업장이 없고 국내원천소득이 발생하지 아니하는 주택 및 토지를 소유한 경우에는 그 주택 또는 토지의 소재지(주택 또는 토지가 둘 이상인 경우에는 공시가격이 가장 많은 주택 또는 토지 소재지를 말한다)를 납세지로 정한다. <신설 2008. 12. 26.>\\n제5조(세액구분 및 세율) ① 종합부동산세는 주택에 대한 종합부동산세와 토지에 대한 종합부동산세로서 세액을 합한 금액을 그 세액으로 한다.\\n\\n법제처              4             국가법령정보센터\\n종합부동산세법\\n[2008. 12. 26. 법률 제9273호에 의하여 2008. 11. 13. 헌법재판소에서 위헌 결정된 이 조를 개정함]\\n제10조(세부담의 상한) 종합부동산세의 납세의무자가 해당 연도에 납부하여야 할 주택분 재산세상당액(신탁주택의 경우 재산세의 납세의무자가 납부하여야 할 주택분 재산세상당액을 말한다)과 주택분 종합부동산세액상당액의 합계액(이하 이 조에서 \"주택에 대한 총세액상당액\"이라 한다)으로서 대통령령으로 정하는 바에 따라 계산한 세액이 해당 납세의무자에게 직전년도에 해당 주택에 부과된 주택에 대한 총세액상당액으로서 대통령령으로 정하는 바에 따라 계산한 세액의 100분의 150을 초과하는 경우에는 그 초과하는 세액에 대하여서는 제9조에도 불구하고 이를 없는 것으로 본다. 다만, 납세의무자가 법인으로 보는 단체로서 제9조제2항제3호 각 목의 세율이 적용되는 경우는 그러하지 아니하다. <개정 2005. 12. 31., 2008. 12. 26., 2018. 12. 31., 2020. 8. 18., 2020. 12. 29., 2022. 12. 31., 2023. 4. 18.>\\n1. 삭제 <2022. 12. 31.>\\n2. 삭제 <2022. 12. 31.>\\n   가. 삭제 <2020. 8. 18.>\\n   나. 삭제 <2020. 8. 18.>\\n제10조의2(공동명의 1주택자의 납세의무 등에 관한 특례) ① 제7조제1항에도 불구하고 과세기준일 현재 세대원 중 1인이 그 배우자와 공동으로 1주택을 소유하고 해당 세대원 및 다른 세대원의 다른 주택(제8조제2항 각 호의 어느 하나에 해당하는 주택 중 대통령령으로 정하는 주택을 제외한다)을 소유하지 아니한 경우로서 대통령령으로 정하는 경우에는 배우자와 공동으로 1주택을 소유한 자도 그 배우자 중 대통령령으로 정하는 자(이하 \"공동명의 1주택자\"라 한다)는 해당 1주택에 대한 납세의무자로 할 수 있다.\\n② 제1항을 적용받으려는 납세의무자는 당해 연도 9월 16일부터 9월 30일까지 대통령령으로 정하는 바에 따라 관할 세무서장에게 신청하여야 한다.\\n③ 제1항을 적용하는 경우에는 공동명의 1주택자를 1세대 1주택자로 보아 제8조에 따른 과세표준과 제9조에 따른 세율 및 세액을 계산한다.\\n④ 제1항부터 제3항까지를 적용할 때 해당 주택에 대한 과세표준의 계산, 세율 및 세액, 세부담의 구체적인 계산방식, 부과절차 및 그 밖에 필요한 사항은 대통령령으로 정한다.\\n[본조신설 2020. 12. 29.]\\n제3장 토지에 대한 과세\\n제11조(일반세범) 토지에 대한 종합부동산세는 국내에 소재하는 토지에 대하여 「지방세법」 제106조제1항제1호에 따른 종합합산과세대상(이하 \"종합합산과세대상\"이라 한다)과 같은 법 제106조제1항제2호에 따른 별도합산과세대상(이하 \"별도합산과세대상\"이라 한다)으로 구분하여 과세한다. <개정 2010. 3. 31.>', name='real_estate_tax_retriever', id='7a9b1aa1-887b-43d0-a74d-c92a3de1d9f7', tool_call_id='9d313eab-13ae-4673-8e33-95c0bef604c2'),\n",
       "  AIMessage(content='종합부동산세는 주택과 토지에 대한 세금입니다. 종합부동산세의 세율은 2%에서 3%까지로, 납세의무자가 해당 연도에 납부해야 할 주택분 재산세상당액과 주택분 종합부동산세액상당액의 합계액을 계산하여야 합니다.', additional_kwargs={}, response_metadata={'model': 'llama3.1:latest', 'created_at': '2025-06-06T07:56:36.284321Z', 'done': True, 'done_reason': 'stop', 'total_duration': 4977254417, 'load_duration': 34020875, 'prompt_eval_count': 2048, 'prompt_eval_duration': 67616750, 'eval_count': 88, 'eval_duration': 4870106208, 'model_name': 'llama3.1:latest'}, id='run-e9e771c7-5954-41b2-8ef1-06b0285729b4-0', usage_metadata={'input_tokens': 2048, 'output_tokens': 88, 'total_tokens': 2136})]}"
      ]
     },
     "execution_count": 7,
     "metadata": {},
     "output_type": "execute_result"
    }
   ],
   "source": [
    "inputs = {'messages': [HumanMessage(\"종합부동산세를 계산하는 방법을 알려주세요\")]}\n",
    "graph.invoke(inputs)"
   ]
  },
  {
   "cell_type": "code",
   "execution_count": null,
   "metadata": {},
   "outputs": [],
   "source": []
  }
 ],
 "metadata": {
  "kernelspec": {
   "display_name": ".venv",
   "language": "python",
   "name": "python3"
  },
  "language_info": {
   "codemirror_mode": {
    "name": "ipython",
    "version": 3
   },
   "file_extension": ".py",
   "mimetype": "text/x-python",
   "name": "python",
   "nbconvert_exporter": "python",
   "pygments_lexer": "ipython3",
   "version": "3.13.2"
  }
 },
 "nbformat": 4,
 "nbformat_minor": 2
}
