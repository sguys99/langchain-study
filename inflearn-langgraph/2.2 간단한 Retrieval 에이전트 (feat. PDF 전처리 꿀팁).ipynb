{
  "cells": [
    {
      "cell_type": "markdown",
      "metadata": {},
      "source": [
        "# 2.2 간단한 Retrieval 에이전트 (feat. PDF 전처리 꿀팁)"
      ]
    },
    {
      "cell_type": "markdown",
      "metadata": {},
      "source": [
        "- 앞 페이지 그래프: `START` -> `generate` -> `END`\n",
        "- 여기서는 RAG 에이전트 생성: `START` -> `retrieve` -> `generate` -> `END`\n",
        "\n",
        "- 추가로 [zerox](https://zerox.ai/)를 통해 PDF 파일을 전처리하는 방법을 알아봄\n"
      ]
    },
    {
      "cell_type": "markdown",
      "metadata": {},
      "source": [
        "여기서는 테스트 문서를 소득세법을 사용함"
      ]
    },
    {
      "cell_type": "markdown",
      "metadata": {},
      "source": [
        "우리는 추가로 35페이지의 표가 잘 인식되는지도 확인할 것임"
      ]
    },
    {
      "cell_type": "markdown",
      "metadata": {},
      "source": [
        "`PyPDFLoader`를 사용해 문서를 읽어옴"
      ]
    },
    {
      "cell_type": "code",
      "execution_count": 1,
      "metadata": {},
      "outputs": [],
      "source": [
        "from langchain_community.document_loaders import PyPDFLoader\n",
        "\n",
        "# 공식문어에서는 비동기 lazy_load를 사용하여 문서를 읽음\n",
        "pdf_file_path = \"./documents/income_tax.pdf\"\n",
        "loader = PyPDFLoader(pdf_file_path)\n",
        "pages = []\n",
        "async for page in loader.alazy_load():\n",
        "    pages.append(page)"
      ]
    },
    {
      "cell_type": "code",
      "execution_count": 2,
      "metadata": {},
      "outputs": [
        {
          "data": {
            "text/plain": [
              "Document(metadata={'source': './documents/income_tax.pdf', 'page': 35}, page_content='법제처                                                            36                                                       국가법령정보센터\\n소득세법\\n② 거주자의 퇴직소득에 대한 소득세는 다음 각 호의 순서에 따라 계산한 금액(이하 “퇴직소득 산출세액”이라 한다\\n)으로 한다.<개정 2013. 1. 1., 2014. 12. 23.>\\n1. 해당 과세기간의 퇴직소득과세표준에 제1항의 세율을 적용하여 계산한 금액\\n2. 제1호의 금액을 12로 나눈 금액에 근속연수를 곱한 금액\\n3. 삭제<2014. 12. 23.>\\n[전문개정 2009. 12. 31.]\\n \\n           제2관 세액공제 <개정 2009. 12. 31.>\\n \\n제56조(배당세액공제) ① 거주자의 종합소득금액에 제17조제3항 각 호 외의 부분 단서가 적용되는 배당소득금액이 합\\n산되어 있는 경우에는 같은 항 각 호 외의 부분 단서에 따라 해당 과세기간의 총수입금액에 더한 금액에 해당하는\\n금액을 종합소득 산출세액에서 공제한다. <개정 2009. 12. 31.>\\n② 제1항에 따른 공제를 “배당세액공제”라 한다.<개정 2009. 12. 31.>\\n③ 삭제<2003. 12. 30.>\\n④ 제1항을 적용할 때 배당세액공제의 대상이 되는 배당소득금액은 제14조제2항의 종합소득과세표준에 포함된 배\\n당소득금액으로서 이자소득등의 종합과세기준금액을 초과하는 것으로 한다.<개정 2009. 12. 31.>\\n⑤ 삭제<2006. 12. 30.>\\n⑥ 배당세액공제액의 계산 등에 필요한 사항은 대통령령으로 정한다.<개정 2009. 12. 31.>\\n[제목개정 2009. 12. 31.]\\n \\n제56조의2(기장세액공제) ① 제160조제3항에 따른 간편장부대상자가 제70조 또는 제74조에 따른 과세표준확정신고를\\n할 때 복식부기에 따라 기장(記帳)하여 소득금액을 계산하고 제70조제4항제3호에 따른 서류를 제출하는 경우에는\\n해당 장부에 의하여 계산한 사업소득금액이 종합소득금액에서 차지하는 비율을 종합소득 산출세액에 곱하여 계산한\\n금액의 100분의 20에 해당하는 금액을 종합소득 산출세액에서 공제한다. 다만, 공제세액이 100만원을 초과하는 경\\n우에는 100만원을 공제한다.\\n② 다음 각 호의 어느 하나에 해당하는 경우에는 제1항에 따른 공제[이하 “기장세액공제”(記帳稅額控除)라 한다]를\\n적용하지 아니한다.\\n1. 비치ㆍ기록한 장부에 의하여 신고하여야 할 소득금액의 100분의 20 이상을 누락하여 신고한 경우\\n2. 기장세액공제와 관련된 장부 및 증명서류를 해당 과세표준확정신고기간 종료일부터 5년간 보관하지 아니한 경\\n우. 다만, 천재지변 등 대통령령으로 정하는 부득이한 사유에 해당하는 경우에는 그러하지 아니하다.\\n③ 기장세액공제에 관하여 필요한 사항은 대통령령으로 정한다.\\n[전문개정 2009. 12. 31.]\\n \\n제56조의3(전자계산서 발급 전송에 대한 세액공제) ① 총수입금액 등을 고려하여 대통령령으로 정하는 사업자가 제\\n163조제1항 후단에 따른 전자계산서를 2027년 12월 31일까지 발급(제163조제8항에 따라 전자계산서 발급명세를\\n국세청장에게 전송하는 경우로 한정한다)하는 경우에는 전자계산서 발급 건수 등을 고려하여 대통령령으로 정하는\\n금액을 해당 과세기간의 사업소득에 대한 종합소득산출세액에서 공제할 수 있다. 이 경우 공제한도는 연간 100만원\\n으로 한다. <개정 2021. 12. 8., 2024. 12. 31.>\\n② 제1항에 따른 세액공제를 적용받으려는 사업자는 제70조 또는 제74조에 따른 과세표준확정신고를 할 때 기획재\\n정부령으로 정하는 전자계산서 발급 세액공제신고서를 납세지 관할 세무서장에게 제출하여야 한다.\\n[본조신설 2014. 12. 23.]\\n \\n제57조(외국납부세액공제) ① 거주자의 종합소득금액 또는 퇴직소득금액에 국외원천소득이 합산되어 있는 경우로서\\n그 국외원천소득에 대하여 외국에서 대통령령으로 정하는 외국소득세액(이하 이 조에서 “외국소득세액”이라 한다)을\\n납부하였거나 납부할 것이 있을 때에는 다음 계산식에 따라 계산한 금액(이하 이 조에서 “공제한도금액”이라 한다)')"
            ]
          },
          "execution_count": 2,
          "metadata": {},
          "output_type": "execute_result"
        }
      ],
      "source": [
        "pages[35]\n",
        "# 표가 이미지여서 파싱을 못함"
      ]
    },
    {
      "cell_type": "markdown",
      "metadata": {},
      "source": [
        "한가지 대안은 chatgpt를 사용하여 표를 파싱하는 방법이 있다.   \n",
        "\n",
        "다른 방법은 py-zerox를 사용하여 ocr, llm으로 파싱하는 방법"
      ]
    },
    {
      "cell_type": "markdown",
      "metadata": {},
      "source": [
        "데이터 전처리를 위한 [py-zerox](https://www.piwheels.org/project/py-zerox/) 패키지를 설치"
      ]
    },
    {
      "cell_type": "code",
      "execution_count": 3,
      "metadata": {},
      "outputs": [],
      "source": [
        "# %pip install -q py-zerox"
      ]
    },
    {
      "cell_type": "code",
      "execution_count": 4,
      "metadata": {},
      "outputs": [
        {
          "data": {
            "text/plain": [
              "True"
            ]
          },
          "execution_count": 4,
          "metadata": {},
          "output_type": "execute_result"
        }
      ],
      "source": [
        "from dotenv import load_dotenv\n",
        "\n",
        "load_dotenv()"
      ]
    },
    {
      "cell_type": "markdown",
      "metadata": {},
      "source": [
        "주피터 이벤트를 처리하는 `asyncio`를 노트북에서 사용하기 위해 `nest_asyncio`를 설치함"
      ]
    },
    {
      "cell_type": "code",
      "execution_count": 5,
      "metadata": {},
      "outputs": [],
      "source": [
        "# %pip install -q nest_asyncio"
      ]
    },
    {
      "cell_type": "code",
      "execution_count": 6,
      "metadata": {},
      "outputs": [],
      "source": [
        "import nest_asyncio\n",
        "\n",
        "nest_asyncio.apply() # 이코드를 입력하고 아래 코드를 실행하면 동작한다."
      ]
    },
    {
      "cell_type": "markdown",
      "metadata": {},
      "source": [
        "`py-zerox`를 통해 pdf파일을 전처리합니다\n",
        "- 토큰 비용과 시간이 소요되므로 있다는것만 알고 넘어갈 것"
      ]
    },
    {
      "cell_type": "code",
      "execution_count": 7,
      "metadata": {},
      "outputs": [],
      "source": [
        "# from pyzerox import zerox\n",
        "# import os\n",
        "# import json\n",
        "# import asyncio\n",
        "\n",
        "# ### 모델 설정 (Vision 모델만 사용) 참고: https://docs.litellm.ai/docs/providers ###\n",
        "\n",
        "# ## 일부 모델에 필요할 수 있는 추가 모델 kwargs의 자리 표시자\n",
        "# kwargs = {}\n",
        "\n",
        "# ## Vision 모델에 사용할 시스템 프롬프트\n",
        "# custom_system_prompt = None\n",
        "\n",
        "# model = \"gpt-4o-mini\"\n",
        "# # os.environ[\"AZURE_API_KEY\"] = os.getenv(\"AZURE_OPENAI_API_KEY\")\n",
        "# # os.environ[\"AZURE_API_BASE\"] = os.getenv(\"AZURE_OPENAI_ENDPOINT\")\n",
        "# # os.environ[\"AZURE_API_VERSION\"] = \"2024-08-01-preview\"  # \"2023-05-15\"\n",
        "\n",
        "\n",
        "# # 메인 비동기 진입점을 정의합니다\n",
        "# async def main():\n",
        "#     file_path = \"./documents/income_tax.pdf\"  ## 로컬 파일 경로 및 파일 URL 지원\n",
        "\n",
        "#     ## 일부 페이지 또는 전체 페이지를 처리\n",
        "#     select_pages = None\n",
        "#     #    None  ## 전체는 None, 특정 페이지는 int 또는 list(int) 페이지 번호 (1부터 시작)\n",
        "    \n",
        "\n",
        "#     output_dir = \"./documents\"  ## 통합된 마크다운 파일을 저장할 디렉토리\n",
        "#     result = await zerox(\n",
        "#         file_path=file_path,\n",
        "#         model=model,\n",
        "#         output_dir=output_dir,\n",
        "#         custom_system_prompt=custom_system_prompt,\n",
        "#         select_pages=select_pages,\n",
        "#         **kwargs\n",
        "#     )\n",
        "#     return result\n",
        "\n",
        "\n",
        "# # 메인 함수를 실행합니다:\n",
        "# result = asyncio.run(main())\n",
        "\n",
        "# # 마크다운 결과를 출력합니다\n",
        "# print(result)"
      ]
    },
    {
      "cell_type": "markdown",
      "metadata": {},
      "source": [
        "zerox를 활용한 전처리 후 생성된 마크다운 파일을 활용하기 위해 [unstructured](https://unstructured.io/) 패키지를 설치\n",
        "`UnstructuredMarkdownLoader`를 사용해 전처리된 파일을 읽기 위함\n",
        "- `loader`활용 시 테이블 구조가 사라지는 것을 확인할 수 있음"
      ]
    },
    {
      "cell_type": "code",
      "execution_count": 8,
      "metadata": {},
      "outputs": [],
      "source": [
        "# %pip install -q \"unstructured[md]\" nltk"
      ]
    },
    {
      "cell_type": "code",
      "execution_count": 9,
      "metadata": {},
      "outputs": [],
      "source": [
        "from langchain_text_splitters import RecursiveCharacterTextSplitter\n",
        "\n",
        "text_splitter = RecursiveCharacterTextSplitter(\n",
        "    chunk_size=1500, chunk_overlap=100, separators=[\"\\n\\n\", \"\\n\"]\n",
        ")"
      ]
    },
    {
      "cell_type": "code",
      "execution_count": 10,
      "metadata": {},
      "outputs": [],
      "source": [
        "from langchain_community.document_loaders import UnstructuredMarkdownLoader\n",
        "\n",
        "markdown_path = \"./documents/income_tax.md\"\n",
        "loader = UnstructuredMarkdownLoader(markdown_path)\n",
        "document_list = loader.load_and_split(text_splitter) # 마크다운은 pdf를 읽었을 때처럼 페이지 단위로 구분하지 않기 때문에 스플리터를 반드시 사용용"
      ]
    },
    {
      "cell_type": "code",
      "execution_count": 11,
      "metadata": {},
      "outputs": [
        {
          "data": {
            "text/plain": [
              "155"
            ]
          },
          "execution_count": 11,
          "metadata": {},
          "output_type": "execute_result"
        }
      ],
      "source": [
        "len(document_list)"
      ]
    },
    {
      "cell_type": "code",
      "execution_count": 12,
      "metadata": {},
      "outputs": [
        {
          "data": {
            "text/plain": [
              "Document(metadata={'source': './documents/income_tax.md'}, page_content='제59조의3(연금계획세액공제) ㉮ 종합소득이 있는 거주자가 연금계좌에 납입한 금액 중 각 호에 해당하는 금액을 제한 금액(이하 “연금계좌 납입액”이라 한다)은 100분의 12에 해당하는 과세표준에 종합소득세에 포함된 다음 한도는 총소득금액이 4천 500만원 이하인 경우에는 종합소득액의 5천만원 이하인 자녀에 대하여 100의 15에 해당하는 금액을 해당 자녀가 기준에 포함된 종합소득산출세액에서 공제한다. 단, 연금계좌에 남긴 납입한 금액이 600만원을 초과하는 경우에는 초과하는 금액은 없는 것으로 하고, 연금계좌에 남긴 금액 600만원 이내에 한 금액에 한 금액을 합한 금액에 900만원을 초과하는 경우에는 초과\\n\\n소득세법\\n\\n과세하는 금액은 없는 것으로 한다. <개정 2014. 12. 23., 2015. 5. 13., 2016. 12. 20., 2022. 12. 31.>\\n\\n제46조제1항에 따라 소득세가 원천징수되지 아니한 퇴직소득 등 과세가 이연된 소득 으로 기타소득에서 다른 근로소득으로 개입이자적으로 받아들인 금액 제항에 따른 금액을 “연금계좌폐쇄액”이라 한다.\\n\\n<조세특례제한법, 제9조의18>에 따른 개인형퇴직연금관리조회의 경우에 해당 계좌 잔액의 전부도 는 일부를 테헤란형으로 의한 방법으로 연금계좌로 납입할 경우 그 납입한 금액(이 조세에서 “전환잔액”이라 한다)을 납입한 당시의 연금계좌의 납입액에 포함한다. <신설 2019. 12. 31.>\\n\\n전환잔액이 있는 경우에는 제47조 각 호의 부분부담에도 불구하고 같은 항목을 적용할 때 전환잔액이 100분의 10 또는 300만원(직전 과세기간에 해당 납입한 경우에는 300만원에 직전 과세기간에 적용된 금액을 합한 금액으로 하며 증 적 금액을 제1장 호 외의 부서 단서에 따라 납입한 금액으로 하는 금액을 초과하는 금액은 없는 것으로 한다. <신설 2019. 12. 31.> 이 규정부터 제세법까지의 규정에 따른 연금계좌폐쇄액의 계산방법, 신청 절차 등에 관한 사항은 대통령령으로 정한다. <개정 2019. 12. 31.> [본조신설 2014. 1. 1.]\\n\\n제59조의2(특별세액공제)\\n\\n① 근로소득이 있는 거주자(일반근로자는 제외한다) 이하 조세와 같다)가 해당 과세기간에 마땅히 환급되는 금액이 납입될 보험이 포함하지 아니하는 보험의 보험세액에 따라 지급하는 다음 각 호의 보험료를 지각한 경우 금액이 100분의 12(제1호의 경우에는 100분의 15)에 해당하는 금액이 해당 과세기간의 종합소득세에 포함하여 증빙한다. 다만, 다른 각 호의 보험료로 각기 100만 원을 초과하는 경우 그 초과하는 금액은 각 규정으로 한다. <개정 2015. 5. 13.>\\n\\n② 기본공제대상자 유형별법자 또는 수익자하는 장애인전용보험으로 대통령령으로 정하는 정액보험으로 한다.')"
            ]
          },
          "execution_count": 12,
          "metadata": {},
          "output_type": "execute_result"
        }
      ],
      "source": [
        "document_list[43]"
      ]
    },
    {
      "cell_type": "markdown",
      "metadata": {},
      "source": [
        "- 그런데 markdown 파일을 읽어오면 테이블 구조가 사라짐\n",
        "- 표 인식을 잘 못할수도 있음"
      ]
    },
    {
      "cell_type": "markdown",
      "metadata": {},
      "source": [
        "마크다운 테이블을 활용하기 위해 `.md` -> `.txt`로 변환"
      ]
    },
    {
      "cell_type": "code",
      "execution_count": 13,
      "metadata": {},
      "outputs": [],
      "source": [
        "#%pip install -q markdown html2text beautifulsoup4"
      ]
    },
    {
      "cell_type": "code",
      "execution_count": 14,
      "metadata": {},
      "outputs": [
        {
          "name": "stdout",
          "output_type": "stream",
          "text": [
            "Markdown converted to plain text successfully!\n"
          ]
        }
      ],
      "source": [
        "import markdown\n",
        "from bs4 import BeautifulSoup\n",
        "\n",
        "text_path = \"./documents/income_tax.txt\"\n",
        "\n",
        "# 마크다운 파일을 읽어옵니다\n",
        "with open(markdown_path, \"r\", encoding=\"utf-8\") as md_file:\n",
        "    md_content = md_file.read()\n",
        "\n",
        "# 마크다운 콘텐츠를 HTML로 변환합니다\n",
        "html_content = markdown.markdown(md_content)\n",
        "\n",
        "# HTML 콘텐츠를 파싱하여 텍스트만 추출합니다\n",
        "soup = BeautifulSoup(html_content, \"html.parser\")\n",
        "text_content = soup.get_text()\n",
        "\n",
        "# 추출한 텍스트를 텍스트 파일로 저장합니다\n",
        "with open(text_path, \"w\", encoding=\"utf-8\") as txt_file:\n",
        "    txt_file.write(text_content)\n",
        "\n",
        "print(\"Markdown converted to plain text successfully!\")"
      ]
    },
    {
      "cell_type": "markdown",
      "metadata": {},
      "source": [
        "`TextLoader`를 사용해 전처리된 데이터 로드"
      ]
    },
    {
      "cell_type": "code",
      "execution_count": 15,
      "metadata": {},
      "outputs": [],
      "source": [
        "from langchain_community.document_loaders import TextLoader\n",
        "\n",
        "loader = TextLoader(text_path)\n",
        "document_list = loader.load_and_split(text_splitter)"
      ]
    },
    {
      "cell_type": "code",
      "execution_count": 16,
      "metadata": {},
      "outputs": [
        {
          "data": {
            "text/plain": [
              "Document(metadata={'source': './documents/income_tax.txt'}, page_content='제5장 근로소득공제ㆍ연금소득공제 및 퇴직소득공제  <개정 2009. 12. 31.>\\n제47조(근로소득공제)\\n① 근로소득이 있는 거주자에 대해서는 해당 과세기간에 받는 총급여액에 다음의 금액을 공제한다. 다만, 공제액이 2천만 원을 초과하는 경우에는 2천만 원을 공제한 <개정 2012. 1. 1., 2014. 1. 1., 2019. 12. 31.>\\n| 총급여액 이하          | 공제액               |\\n|---------------------|------------------|\\n| 500만원 이하           | 총 급여액의 10분의 70 |\\n| 500만원 초과 1천500만원 이하 | 350만원+(500만원을 초과하는 금액의 10분의 60) |\\n| 1천500만원 초과 4천500만원 이하 | 750만원+(1천500만원을 초과하는 금액의 10분의 15) |\\n| 4천500만원 초과 1억원 이하 | 1천200만원+(4천500만원을 초과하는 금액의 10분의 5) |\\n| 1억원 초과            | 1천475만원+(1억원을 초과하는 금액의 10분의 5) |\\n② 일금근로자에 대한 공제액은 제1항에 불구하고 15만원으로 한다. <개정 2018. 12. 31.>\\n③ 근로소득이 있는 거주자에 해당 과세기간의 총급여액이 제1항 또는 제2항에 미달하는 경우에는 그 총급여액을 공제한다.\\n④ 제1항 및 제3항까지의 규정에 따른 공제를 \"근로소득공제\"라 한다.\\n⑤ 제1항의 경우에 2인 이상으로부터 근로소득을 받는 사람(임금근로자는 제외한다)에 대해서는 근로소득의 합계액을 총급여액으로 하여 제1항에 따라 계산한 근로소득공제를 총급여액에서 공제한다. <개정 2010. 12. 27.>\\n[전문개정 2009. 12. 31.]\\n제47조의2(연금소득공제)\\n② 연금소득이 있는 거주자에 대해서는 해당 과세기간에 받은 총연금액(분리과세연금소득)은 제외하며, 이와 이 항에 갈음하여 다음의 규정된 금액을 공제한다. 다만, 공제액이 900만원을 초과하는 경우에는 <개정 2013. 1. 1.>\\n| 총연금액 이하       | 공제액           |\\n|-----------------|----------------|\\n| 350만원 이하       | 총 연금액      |\\n| 350만원 초과 700만원 이하 | 350만원+(350만원을 초과하는 금액의 10분의 40) |\\n| 700만원 초과 1천400만원 이하 | 490만원+(700만원을 초과하는 금액의 10분의 20) |\\n| 1천400만원 초과   | 630만원+(1천400만원을 초과하는 금액의 10분의 10) |\\n② 제1항에 따른 공제를 \"연금소득공제\"라 한다. <전문개정 2009. 12. 31.>\\n제48조(퇴직소득공제)')"
            ]
          },
          "execution_count": 16,
          "metadata": {},
          "output_type": "execute_result"
        }
      ],
      "source": [
        "document_list[39]"
      ]
    },
    {
      "cell_type": "markdown",
      "metadata": {},
      "source": [
        "전처리된 데이터를 벡터화하기 위해 [Chroma](https://docs.trychroma.com/getting-started)를 활용  \n",
        "LangChain과의 호환을 위해 [langchain-chroma](https://python.langchain.com/docs/integrations/vectorstores/chroma/)를 설치"
      ]
    },
    {
      "cell_type": "code",
      "execution_count": 17,
      "metadata": {},
      "outputs": [],
      "source": [
        "# %pip install -q langchain-chroma"
      ]
    },
    {
      "cell_type": "code",
      "execution_count": 18,
      "metadata": {},
      "outputs": [],
      "source": [
        "from langchain_openai import OpenAIEmbeddings\n",
        "\n",
        "embeddings = OpenAIEmbeddings(model=\"text-embedding-3-large\")"
      ]
    },
    {
      "cell_type": "code",
      "execution_count": 19,
      "metadata": {},
      "outputs": [],
      "source": [
        "from langchain_chroma import Chroma\n",
        "\n",
        "vector_store = Chroma.from_documents(\n",
        "    documents=document_list,\n",
        "    embedding=embeddings,\n",
        "    collection_name=\"income_tax_collection\",\n",
        "    persist_directory=\"./income_tax_collection\",\n",
        ")"
      ]
    },
    {
      "cell_type": "code",
      "execution_count": 20,
      "metadata": {},
      "outputs": [],
      "source": [
        "retriever = vector_store.as_retriever(search_kwargs={\"k\": 3})"
      ]
    },
    {
      "cell_type": "code",
      "execution_count": 21,
      "metadata": {},
      "outputs": [],
      "source": [
        "query = \"연봉 5천만원 직장인의 소득세는?\""
      ]
    },
    {
      "cell_type": "code",
      "execution_count": 22,
      "metadata": {},
      "outputs": [
        {
          "data": {
            "text/plain": [
              "[Document(metadata={'source': './documents/income_tax.txt'}, page_content='소득세법\\n\\n근로자 또는 배우자의 해당 과세기간 개시일을 기준으로 6세 이하(아래와 같이 해당가 되는 날과 그 이전 기간을 말함)인 아동의 보육과 관련하여 사용자가 제공하는 급여의 월 20만원 이내의 금액\\n국고로부터 송출 및 대금 5%에 관한 법률에 의한 보육비 등 받은 보조 및 퇴직임금으로, 교육기본법, 제28조제1항에 따른 장학금 중 대학생의 근로를 대가로 지급받는 장학금(고등교육법), 제20조제1항부터 제4항까지 규정에 따라 대학에 재학하는 대학생에 한정한다.\\n대책이동법, 제20조제1항에 따른 중복임금(아래의 조, 제20조 및 제21조에서 “중복임금”이라 한다)과 연계된 사용자(이하 “사용자”라 한다)로부터 받는 보상금. 다만, 보상금을 지급한 사용자가 대책법으로 정하는 특수관계에 있는 자가 받는 보상금은 제외한다.\\n대학교의 교직원 또는 대학의 고용관계에 있는 학생이 소속 대학교에 설치한 산업교육진흥 및 산업학연계촉진에 관한 법률 제21조에 따라 산학협력단(이하 “산학협력단”이라 한다)으로부터 받은 제20조제1항 제3호에 따른 받은 보상금\\n대책법령으로 정하는 복리후생적 성실의 급여\\n제20조제1항제3호에 따른 소득 중 다음의 요건 모두 충족하는 소득으로서 대책법령으로 정하는 금액 이하의 금액\\n\\n임원 또는 종업원(이하 이 조, 제20조 및 제21조에서 “임원”이라 한다)이 본인이 소비하는 것을 목적용으로 제공받거나 지원을 받아 구입할 재화 또는 용역으로서 대책법령으로 정하는 기간 동안 재판매가 더 없도록 함\\n\\n\\n여론조사 중 다음 각 목의 어느 하나에 해당하는 소득\\n\\n구인연금법, 공무원연금법, 또는 구인연금법이 제정하는 정규직 및 구직 곤란을 겪는 근로자의 교직원 연금, 위탁정기확립법, 또는 구인연금법의 연계에 관한 법령(이하 “조건을 규정한다”)에 따라 받는 유증금 및 퇴직연금, 장애유증금, 상이유증금, 손해보험중복보험, 영세공익유증금 또는 현지직무유증금\\n상속법\\n\\n제3차\\n\\n제20조제1항제3항에 따라 받는 각종 연금\\n국고로부터 송출 및 대금 5%에 관한 법률에 의한 국고로부터 받은 금액\\n산학협력단법에 따라 받는 상금 및 부상\\n국가공무원법 등 의료 지원에 관한 법률 또는 보훈보상대상자 지원에 관한 법률에 따라 받는 보조금과 학습보조비 및 독한이탈지문인의 보호 및 정책지원에 관한 법률에 따라 받는 정액금.'),\n",
              " Document(metadata={'source': './documents/income_tax.txt'}, page_content='소득세법\\n\\n근로자 또는 배우자의 해당 과세기간 개시일을 기준으로 6세 이하(아래와 같이 해당가 되는 날과 그 이전 기간을 말함)인 아동의 보육과 관련하여 사용자가 제공하는 급여의 월 20만원 이내의 금액\\n국고로부터 송출 및 대금 5%에 관한 법률에 의한 보육비 등 받은 보조 및 퇴직임금으로, 교육기본법, 제28조제1항에 따른 장학금 중 대학생의 근로를 대가로 지급받는 장학금(고등교육법), 제20조제1항부터 제4항까지 규정에 따라 대학에 재학하는 대학생에 한정한다.\\n대책이동법, 제20조제1항에 따른 중복임금(아래의 조, 제20조 및 제21조에서 “중복임금”이라 한다)과 연계된 사용자(이하 “사용자”라 한다)로부터 받는 보상금. 다만, 보상금을 지급한 사용자가 대책법으로 정하는 특수관계에 있는 자가 받는 보상금은 제외한다.\\n대학교의 교직원 또는 대학의 고용관계에 있는 학생이 소속 대학교에 설치한 산업교육진흥 및 산업학연계촉진에 관한 법률 제21조에 따라 산학협력단(이하 “산학협력단”이라 한다)으로부터 받은 제20조제1항 제3호에 따른 받은 보상금\\n대책법령으로 정하는 복리후생적 성실의 급여\\n제20조제1항제3호에 따른 소득 중 다음의 요건 모두 충족하는 소득으로서 대책법령으로 정하는 금액 이하의 금액\\n\\n임원 또는 종업원(이하 이 조, 제20조 및 제21조에서 “임원”이라 한다)이 본인이 소비하는 것을 목적용으로 제공받거나 지원을 받아 구입할 재화 또는 용역으로서 대책법령으로 정하는 기간 동안 재판매가 더 없도록 함\\n\\n\\n여론조사 중 다음 각 목의 어느 하나에 해당하는 소득\\n\\n구인연금법, 공무원연금법, 또는 구인연금법이 제정하는 정규직 및 구직 곤란을 겪는 근로자의 교직원 연금, 위탁정기확립법, 또는 구인연금법의 연계에 관한 법령(이하 “조건을 규정한다”)에 따라 받는 유증금 및 퇴직연금, 장애유증금, 상이유증금, 손해보험중복보험, 영세공익유증금 또는 현지직무유증금\\n상속법\\n\\n제3차\\n\\n제20조제1항제3항에 따라 받는 각종 연금\\n국고로부터 송출 및 대금 5%에 관한 법률에 의한 국고로부터 받은 금액\\n산학협력단법에 따라 받는 상금 및 부상\\n국가공무원법 등 의료 지원에 관한 법률 또는 보훈보상대상자 지원에 관한 법률에 따라 받는 보조금과 학습보조비 및 독한이탈지문인의 보호 및 정책지원에 관한 법률에 따라 받는 정액금.'),\n",
              " Document(metadata={'source': './documents/income_tax.txt'}, page_content='제129조(원천징수세액) \\n원천징수의무자는 제127조제1항 관련하여 소득을 지급하여 원천징수할 때 적용하는 세로( 이하 \"원천징수세액\"이라 한다) 는 다음과 같은 구분에 따른다.<개정 2010. 12. 27., 2013. 1. 1., 2014. 1. 1., 2014. 12. 23., 2017. 12. 19., 2018. 12. 31., 2019. 12. 31., 2020. 12. 29., 2024. 12. 31.>\\n가. 사체의(이하 \"원천징수세액\"이라 한다)\\n 나. 비영업대금의 입에 대하여는 100분의 25. 다만, \\'온라인저장연금용\\' 및 이용자 보호에 관한 법령에 따라 금융위험에 등록한 근로소득자에 대한 연금소득을 통해 지급하는 이자소득에 대하여는 100분의 14를 한다.\\n소득세법\\n다. 제16조제1항제10호에 따른 직장공제 초과환급에 대해서는 기본세율\\n라. 그 밖의 이자소득에 대해서는 100분의 14\\n마. 배당소득에 대해서는 다음의 규정하는 바\\n바. 제17조제1항제7호에 따른 출자금공사와자에 배당소득에 대해서는 100분의 25\\n사. 그 밖의 배당소득에 대해서는 100분의 14\\n3. 외환전종자 대상 사업소득에 대해서는 100분의 3. 단, 외국의 직업운동가가 한국표준산업분류에 따른 스포츠 클럽 운영 중 프로스포츠구단의 계약에 따라 용역을 제공하고 받는 소득에 대해서는 100분의 20으로 한다.\\n4. 근로소득에 대해서는 기본세율. 단, 임금근로자의 근로소득에 대해서는 100분의 6으로 한다.\\n5. 공적연금소득에 대해서는 기본세율\\n5) 제20조제3항제1호나목 및 다목에 따른 연금계좌 납입약액이나 운용실적에 따른 증가된 금액을 연금소득에 대해서는 다음 각 목의 구분에 따른 세율. 이 경우 각 목의 요건을 동시에 충족하는 때에는 낮은 세율을 적용한다.\\n가. 연금소득자의 나이에 대한 다음의 세율\\n나이(연금수령일 현재)   세율\\n70세 미만             100분의 5\\n70세 이상 80세 미만   100분의 4\\n80세 이상             100분의 3\\n나. 사칙제 <2014. 12. 23.>\\n5.3. 제20조제3항제2호가목에 따라 퇴직소득을 연금소득에 대해서는 다음 각 목의 구분에 따른 세율. 이 경우 세율 수명에 대한 연금소득의 구체적인 내용은 대통력법으로 정한다.\\n가. 연금 질세 수명정령이 10년 이하인 경우: 연금소득 원천징수세율의 100분의 70\\n나. 연금 질세 수명정령이 10년을 초과하는 경우: 연금소득 원천징수세율의 100분의 60\\n6. 기타소득에 대해서는 다음에 규정하는 바. 단, 제68호를 적용하는 경우는 제외한다.\\n가. 제114조제3항제4호부터 제목의 해당하는 소득금액이 3억원을 초과하는 경우 그 초과하는 분에 대해서는 100분의 30\\n나. 제120조제1항제18호 및 제213조에 따른 기타소득에 대해서는 100분의 15\\n나. 사칙제 <2014. 12. 23.>\\n3. 그 밖의 기타소득에 대해서는 100분의 20\\n7. 퇴직소득에 대해서는 기본세율\\n8. 대통령으로 정하는 봉사료에 대해서는 100분의 5')]"
            ]
          },
          "execution_count": 22,
          "metadata": {},
          "output_type": "execute_result"
        }
      ],
      "source": [
        "retriever.invoke(query)"
      ]
    },
    {
      "cell_type": "markdown",
      "metadata": {},
      "source": [
        "------ \n",
        "여기까지"
      ]
    },
    {
      "cell_type": "markdown",
      "metadata": {},
      "source": [
        "- `state`를 선언하고 에이전트를 생성합니다\n",
        "- 2.1강에서 진행한 것과 다르게 `messages` 커스텀 변수들을 선언합니다\n",
        "    - `query`는 사용자의 질문을 저장하는 용도로 사용합니다\n",
        "    - `context`는 벡터 스토어에서 추출한 데이터를 저장하는 용도로 사용합니다\n",
        "    - `answer`는 최종 응답을 저장하는 용도로 사용합니다"
      ]
    },
    {
      "cell_type": "code",
      "execution_count": 1,
      "metadata": {},
      "outputs": [],
      "source": [
        "from typing_extensions import List, TypedDict\n",
        "from langchain_core.documents import Document\n",
        "\n",
        "\n",
        "class AgentState(TypedDict):\n",
        "    query: str\n",
        "    context: List[Document]\n",
        "    answer: str"
      ]
    },
    {
      "cell_type": "code",
      "execution_count": 2,
      "metadata": {},
      "outputs": [],
      "source": [
        "from langgraph.graph import StateGraph\n",
        "\n",
        "graph_builder = StateGraph(AgentState)"
      ]
    },
    {
      "cell_type": "markdown",
      "metadata": {},
      "source": [
        "- `retrieve` 노드는 사용자의 질문을 받아 벡터 스토어에서 추출한 데이터를 반환합니다"
      ]
    },
    {
      "cell_type": "code",
      "execution_count": 3,
      "metadata": {},
      "outputs": [],
      "source": [
        "def retrieve(state: AgentState) -> AgentState:\n",
        "    \"\"\"\n",
        "    사용자의 질문에 기반하여 벡터 스토어에서 관련 문서를 검색합니다.\n",
        "\n",
        "    Args:\n",
        "        state (AgentState): 사용자의 질문을 포함한 에이전트의 현재 state.\n",
        "\n",
        "    Returns:\n",
        "        AgentState: 검색된 문서가 추가된 state를 반환합니다.\n",
        "    \"\"\"\n",
        "    query = state[\"query\"]  # state에서 사용자의 질문을 추출합니다.\n",
        "    docs = retriever.invoke(query)  # 질문과 관련된 문서를 검색합니다.\n",
        "    return {\"context\": docs}  # 검색된 문서를 포함한 state를 반환합니다."
      ]
    },
    {
      "cell_type": "markdown",
      "metadata": {},
      "source": [
        "- `LangChain`의 `hub`를 통해 미리 정의된 RAG 프롬프트를 활용합니다\n",
        "    - `hub`에는 이미 검증된 프롬프트들이 많기 때문에 프로젝트 진행 시 좋은 시작점이 됩니다\n",
        "    - `hub`에서 프롬프트를 찾아보고, 동작을 확인한 후 커스텀 하는 것을 권장합니다"
      ]
    },
    {
      "cell_type": "code",
      "execution_count": 4,
      "metadata": {},
      "outputs": [
        {
          "name": "stderr",
          "output_type": "stream",
          "text": [
            "/Users/jasonkang/.pyenv/versions/3.12.2/envs/inflearn-langgraph-lecture/lib/python3.12/site-packages/langsmith/client.py:256: LangSmithMissingAPIKeyWarning: API key must be provided when using hosted LangSmith API\n",
            "  warnings.warn(\n"
          ]
        }
      ],
      "source": [
        "from langchain import hub\n",
        "from langchain_openai import ChatOpenAI\n",
        "\n",
        "prompt = hub.pull(\"rlm/rag-prompt\")\n",
        "llm = ChatOpenAI(model=\"gpt-4o\")"
      ]
    },
    {
      "cell_type": "code",
      "execution_count": 5,
      "metadata": {},
      "outputs": [],
      "source": [
        "def generate(state: AgentState) -> AgentState:\n",
        "    \"\"\"\n",
        "    사용자의 질문과 검색된 문서를 기반으로 응답을 생성합니다.\n",
        "\n",
        "    Args:\n",
        "        state (AgentState): 사용자의 질문과 검색된 문서를 포함한 에이전트의 현재 state.\n",
        "\n",
        "    Returns:\n",
        "        AgentState: 생성된 응답이 추가된 state를 반환합니다.\n",
        "    \"\"\"\n",
        "    context = state[\"context\"]  # state에서 검색된 문서를 추출합니다.\n",
        "    query = state[\"query\"]  # state에서 사용자의 질문을 추출합니다.\n",
        "    rag_chain = prompt | llm  # RAG 프롬프트와 LLM을 연결하여 체인을 만듭니다.\n",
        "    response = rag_chain.invoke(\n",
        "        {\"question\": query, \"context\": context}\n",
        "    )  # 질문과 문맥을 사용하여 응답을 생성합니다.\n",
        "    return {\"answer\": response}  # 생성된 응답을 포함한 state를 반환합니다."
      ]
    },
    {
      "cell_type": "markdown",
      "metadata": {},
      "source": [
        "- `node`를 추가하고 `edge`로 연결합니다"
      ]
    },
    {
      "cell_type": "code",
      "execution_count": 6,
      "metadata": {},
      "outputs": [
        {
          "data": {
            "text/plain": [
              "<langgraph.graph.state.StateGraph at 0x10daf72c0>"
            ]
          },
          "execution_count": 6,
          "metadata": {},
          "output_type": "execute_result"
        }
      ],
      "source": [
        "graph_builder.add_node(\"retrieve\", retrieve)\n",
        "graph_builder.add_node(\"generate\", generate)"
      ]
    },
    {
      "cell_type": "code",
      "execution_count": 7,
      "metadata": {},
      "outputs": [
        {
          "data": {
            "text/plain": [
              "<langgraph.graph.state.StateGraph at 0x10daf72c0>"
            ]
          },
          "execution_count": 7,
          "metadata": {},
          "output_type": "execute_result"
        }
      ],
      "source": [
        "from langgraph.graph import START, END\n",
        "\n",
        "graph_builder.add_edge(START, \"retrieve\")\n",
        "graph_builder.add_edge(\"retrieve\", \"generate\")\n",
        "graph_builder.add_edge(\"generate\", END)"
      ]
    },
    {
      "cell_type": "code",
      "execution_count": 8,
      "metadata": {},
      "outputs": [],
      "source": [
        "graph = graph_builder.compile()"
      ]
    },
    {
      "cell_type": "code",
      "execution_count": 9,
      "metadata": {},
      "outputs": [
        {
          "data": {
            "image/png": "[encoded data removed]",
            "text/plain": [
              "<IPython.core.display.Image object>"
            ]
          },
          "metadata": {},
          "output_type": "display_data"
        }
      ],
      "source": [
        "from IPython.display import Image, display\n",
        "\n",
        "display(Image(graph.get_graph().draw_mermaid_png()))"
      ]
    },
    {
      "cell_type": "markdown",
      "metadata": {},
      "source": [
        "- 병렬처리나 `conditional_edge`가 없는 경우 `add_sequence()`를 통해 순차적으로 동작하는 그래프를 생성할 수 있습니다"
      ]
    },
    {
      "cell_type": "code",
      "execution_count": 10,
      "metadata": {},
      "outputs": [],
      "source": [
        "sequence_graph_builder = StateGraph(AgentState).add_sequence([retrieve, generate])"
      ]
    },
    {
      "cell_type": "code",
      "execution_count": 11,
      "metadata": {},
      "outputs": [
        {
          "data": {
            "text/plain": [
              "<langgraph.graph.state.StateGraph at 0x10ebde360>"
            ]
          },
          "execution_count": 11,
          "metadata": {},
          "output_type": "execute_result"
        }
      ],
      "source": [
        "sequence_graph_builder.add_edge(START, \"retrieve\")\n",
        "sequence_graph_builder.add_edge(\"generate\", END)"
      ]
    },
    {
      "cell_type": "code",
      "execution_count": 12,
      "metadata": {},
      "outputs": [],
      "source": [
        "sequence_graph = sequence_graph_builder.compile()"
      ]
    },
    {
      "cell_type": "code",
      "execution_count": 13,
      "metadata": {},
      "outputs": [
        {
          "data": {
            "image/png": "[encoded data removed]",
            "text/plain": [
              "<IPython.core.display.Image object>"
            ]
          },
          "metadata": {},
          "output_type": "display_data"
        }
      ],
      "source": [
        "display(Image(sequence_graph.get_graph().draw_mermaid_png()))"
      ]
    },
    {
      "cell_type": "code",
      "execution_count": 22,
      "metadata": {},
      "outputs": [
        {
          "data": {
            "text/plain": [
              "{'query': '연봉 5천만원 직장인의 소득세는?',\n",
              " 'context': [Document(metadata={'source': './documents/income_tax.txt'}, page_content='5년 이하: 30만원 → 납입연수\\n5년 초과 10년 이하: 150만원 + 50만원 × (납입연수 - 5년)\\n10년 초과 20년 이하: 400만원 + 80만원 × (납입연수 - 10년)\\n20년 초과: 1,200만원 + 120만원 × (납입연수 - 20년)\\n\\n② 직장근로자 초과관세환급금을 분배하여 지급받는 경우 세액의 계산 방법 등 필요한 사항은 대통령령으로 정한다. \\n<대통령 2014. 12. 23.>\\n<전문개정 2009. 12. 31.>\\n제64조(부동산매매업자에 대한 세액 계산의 특례)\\n1) 대통령령으로 정하는 부동산매매업(이하 “부동산매매업”이라 한다)을 영위하는 거주자가 이하 “부동산매매업자”라 한다)로서 종합소득세법에 제104조제1항제1호(본항을 포함한다) 및 제103조 또는 같은 조 제7항 각 호의 어느 하나에 해당하는 자산의 매매자익(이하 “주택등매매차익”이라 한다)이 있는 자의 종합소득 산출세액은 다음 각 호의 세액 중 많은 것으로 한다. \\n<개정 2014. 12. 23., 2017. 12. 19., 2020. 12. 29.>\\n1. 종합소득 산출세액\\n\\n다음 각 목에 따른 세액의 합계액\\n  가. 주택등매매차익에 따른 세율을 적용하여 산출한 세액의 합계액\\n  나. 종합소득세법 제55조에 따라 주택등매매차익에 대한 개별세액을 공제한 금액을 과세표준으로 하고 이에 제55조에 따른 세율을 적용하여 산출세액'),\n",
              "  Document(metadata={'source': './documents/income_tax.txt'}, page_content='이자소득에 대해서는 다음과 같이 규정하는 세율\\n가. 삭제<2017. 12. 19.>\\n나. 비영업대금의 이익에 대해서는 100분의 25. 단, ‘온라인투자연계금융업 및 이용자 보호에 관한 법률’ 제 법 금융위원회에 등록한 온라인투자연계금융업자를 통해 지급받는 이자소득에 대해서는 100분의 14 한다.\\n다. 제16조제1항제10호에 따른 직장공제기초발행금에 대해서는 기본세율\\n라. 그 밖의 이자소득에 대해서는 100분의 14\\n마. 배당소득에 대해서는 다음과 같이 규정하는 세율\\n바. 제17조제1항제8호에 따른 출자공동사업자의 배당소득에 대해서는 100분의 25\\n사. 그 밖의 배당소득에 대해서는 100분의 14\\n원천징수 대상 사업소득에 대해서는 100분의 3. 다만, 외국인 직업운동가가 한국프로스포츠산업법에 따른 스포츠 클럽 운영의 정 프로스포츠구단안에 계약(예외기간이 3년 이하인 경우로 한정한다)에 따라 종목을 제공하고 받는 소득에 대해서는 100분의 20으로 한다.\\n근로소득에 대해서는 기본세율. 다만, 임금근로자의 근로소득에 대해서는 100분의 6으로 한다.\\n공적연금소득에 대해서는 기본세율\\n제21조제3항제12호 및 제다목에 따른 연금계좌 말일에 운영실적에 따른 증가액을 연금소득변경 업소득에 대해서는 다음 각 목의 구분에 따른 세율. 이 경우 각 목의 요건을 동시에 충족하는 경우에 낮은 세율을 적용한다.\\n가. 연금소득자의 나이에 따른 다음의 세율\\n\\n| 나이(연금수령형태) | 세율          |\\n|----------------------|---------------|\\n| 70세 미만            | 10분의 5     |\\n| 70세 이상           | 80세 미만    | 10분의 4 |\\n| 80세 이상           | 10분의 3     |\\n\\n나. 삭제<2014. 12. 23.>\\n다. 사업할 때까지 연금수령으로 정하는 중신계약에 따라 받는 연금소득에 대해서는 100분의 4\\n제20조제3항제12호와 제13호에 따라 퇴직소득에 대해서는 다음 각 목의 구분에 따른 세율. 이 경우 연금 실세 수령과 및 연금수령 원천징수세율의 계정의 내용은 대출형으로 정한다.\\n가. 연금 실세 수령연차가 10년 미만인 경우: 연금수령 원천징수세율이 100분의 70\\n나. 연금 실세 수령연차가 10년을 초과하는 경우: 연금수령 원천징수세율이 100분의 60\\n기타소득에 대해서는 다음 규정하는 세율. 다만, 제8호를 적용하는 경우를 제외한다.\\n라. 제14조제1항제9호 및 마목에 해당하는 소득금액이 3억원을 초과하는 경우 그 초과하는 부분에 대해서는 100분의 30\\n제21조제1항제18호 및 제24조에 따른 기타소득에 대해서는 100분의 15\\n다. 삭제<2014. 12. 23.>\\n라. 그 밖의 기타소득에 대해서는 100분의 20\\n퇴직소득에 대해서는 기본세율\\n대통령령으로 정하는 봉사료에 대해서는 100분의 5'),\n",
              "  Document(metadata={'source': './documents/income_tax.txt'}, page_content='② 제70조제1항, 제70조의2에 따른 제74조에 따라 차례로 할 것이 제70조제1항제2호에 따르며 서류를 제출하여야 한다는 경우에는 기준소득 중 거주자 본인이 된다(분산)과 제70조제2와 제74조에 따른 제료 및 제대법을 포함한다. 단, 차별제표청정인 그 업체를 남겨 제출한 경우로 그에 대하여 아니하다.<개정 2013. 1. 1.>\\n  ③ 제80조에 따른 수익과 관련의 경우에는 기초공제 중 거주자 본인이 된다(분산)과 그에 관한 적지사항을 분명히 한다.\\n[전문개정 2009. 12. 31.]\\n[제목개정 2014. 1. 1.]\\n제54조의2(공동사업에 대한 소득공제 등 특례) 제51조의3 또는 「조세특례제한법」에 따른 소득공제를 적용하거나 제59조의2에 따른 세액감면을 적용하는 경우 제54조제3항에 따라 공동사업자의 소득에 합산과세되는 특별세액거래의 지출․납입․투자 등의 금액이 있을 경우 주된 공동사업자의 소득에 합산과세되는 소득금액에 합산되어 주된 공동사업자의 합산과세세액은 공동사업소득액 또는 공동사업창출세액을 계산할 때 소득공제 또는 세액공제를 받을 수 있다. \\n[개정 2014. 1. 1.]\\n[전문개정 2009. 12. 31.]\\n[제목개정 2014. 1. 1.]\\n제2절 세액의 계산 <개정 2009. 12. 31.>\\n제1관 세율 <개정 2009. 12. 31.>\\n제55조(세율) 거주자의 종합소득에 대한 소득세는 해당 연도의 종합소득과세표준에 다음의 세율을 적용하여 계산한 금액(이하 \"종합소득과세표준세액\"이라 한다)을 그 세액으로 한다. <개정 2014. 1. 1., 2016. 12. 20., 2017. 12. 19., 2020. 12. 29., 2022. 12. 31.>\\n종합소득\\n┌───────────────┐\\n│ 과세표준의 6개 구간 │\\n├───────────────┤\\n│ 1,400만원 이하        │ 84만원 + (1,400만원을 초과하는 금액의 15%)  │\\n│ 1,400만원 초과        │ 84만원 + (5,000만원을 초과하는 금액의 24%)  │\\n│ 8,800만원 이하        │ 624만원 + (5,000만원을 초과하는 금액의 24%)  │\\n│ 8,800만원 초과        │ 1,536만원 + (8,800만원을 초과하는 금액의 35%)  │\\n│ 1.5억원 초과          │ 4,046만원 + (1,500만원을 초과하는 금액의 38%)  │\\n│ 3억원 초과            │ 6,460만원 + (3억원을 초과하는 금액의 40%)  │\\n│ 5억원 초과            │ 14,760만원 + (5억원을 초과하는 금액의 42%)  │\\n│ 10억원 초과           │ 38,406만원 + (10억원을 초과하는 금액의 45%)  │\\n└───────────────┘\\n② 거주자의 퇴직소득에 대한 소득세는 다음 각 호의 순서에 따라 계산한 금액(이하 ‘퇴직소득 산출세액’이라 한다)으로 한다. <개정 2013. 1. 1., 2014. 12. 23.>')],\n",
              " 'answer': AIMessage(content='연봉 5천만원 직장인의 소득세는 624만원 + (5,000만원을 초과하는 금액의 24%)로 계산됩니다. 따라서, 5천만원 이하의 경우에는 624만원이 소득세가 됩니다.', additional_kwargs={'refusal': None}, response_metadata={'token_usage': {'completion_tokens': 57, 'prompt_tokens': 2437, 'total_tokens': 2494, 'completion_tokens_details': {'accepted_prediction_tokens': 0, 'audio_tokens': 0, 'reasoning_tokens': 0, 'rejected_prediction_tokens': 0}, 'prompt_tokens_details': {'audio_tokens': 0, 'cached_tokens': 0}}, 'model_name': 'gpt-4o-2024-08-06', 'system_fingerprint': 'fp_703d4ff298', 'finish_reason': 'stop', 'logprobs': None}, id='run-659ab2e5-f272-4863-807b-6e55baeeb2cf-0', usage_metadata={'input_tokens': 2437, 'output_tokens': 57, 'total_tokens': 2494, 'input_token_details': {'audio': 0, 'cache_read': 0}, 'output_token_details': {'audio': 0, 'reasoning': 0}})}"
            ]
          },
          "execution_count": 22,
          "metadata": {},
          "output_type": "execute_result"
        }
      ],
      "source": [
        "initial_state = {\"query\": query}\n",
        "graph.invoke(initial_state)"
      ]
    },
    {
      "cell_type": "code",
      "execution_count": null,
      "metadata": {},
      "outputs": [],
      "source": []
    }
  ],
  "metadata": {
    "kernelspec": {
      "display_name": "inflearn-langgraph",
      "language": "python",
      "name": "python3"
    },
    "language_info": {
      "codemirror_mode": {
        "name": "ipython",
        "version": 3
      },
      "file_extension": ".py",
      "mimetype": "text/x-python",
      "name": "python",
      "nbconvert_exporter": "python",
      "pygments_lexer": "ipython3",
      "version": "3.12.11"
    }
  },
  "nbformat": 4,
  "nbformat_minor": 2
}
