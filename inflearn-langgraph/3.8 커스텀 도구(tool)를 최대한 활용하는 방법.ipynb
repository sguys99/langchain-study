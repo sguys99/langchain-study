{
 "cells": [
  {
   "cell_type": "markdown",
   "metadata": {},
   "source": [
    "# 3.8 커스텀 도구(tool)를 최대한 활용하는 방법"
   ]
  },
  {
   "cell_type": "markdown",
   "metadata": {},
   "source": [
    "- 2.7 병렬 처리를 통한 효율 개선 (feat. 프롬프트 엔지니어링) 에서 작업한 워크플로우를 에이전트로 변환\n",
    "- 작성했던 노드(node)들을 도구(tool)로 변환하여 사용합니다\n",
    "    - 도구(tool)는 고정된 기능을 수행하기 때문에 상태(state)를 활용하지 않는 경우가 많음\n"
   ]
  },
  {
   "cell_type": "code",
   "execution_count": 1,
   "metadata": {},
   "outputs": [
    {
     "data": {
      "text/plain": [
       "True"
      ]
     },
     "execution_count": 1,
     "metadata": {},
     "output_type": "execute_result"
    }
   ],
   "source": [
    "from dotenv import load_dotenv\n",
    "\n",
    "load_dotenv()"
   ]
  },
  {
   "cell_type": "markdown",
   "metadata": {},
   "source": [
    "**(중요)**도구(tool)을 활용하려면 [`AIMessage`](https://python.langchain.com/api_reference/core/messages/langchain_core.messages.ai.AIMessage.html)를 활용해야하기 때문에 상태에 `messages`가 필요하다.  \n",
    "\n",
    "직접 선언하지 않고 랭그래프에서 제공하는 `MessagesState`를 사용해보자."
   ]
  },
  {
   "cell_type": "code",
   "execution_count": 2,
   "metadata": {},
   "outputs": [],
   "source": [
    "\n",
    "from langgraph.graph import StateGraph, MessagesState\n",
    "\n",
    "class AgentState(MessagesState):\n",
    "    pass\n",
    "\n",
    "graph_builder = StateGraph(AgentState)"
   ]
  },
  {
   "cell_type": "code",
   "execution_count": 3,
   "metadata": {},
   "outputs": [],
   "source": [
    "import os \n",
    "\n",
    "from langchain_chroma import Chroma\n",
    "from langchain_openai import OpenAIEmbeddings\n",
    "\n",
    "embedding_function = OpenAIEmbeddings(\n",
    "    model='text-embedding-3-large',\n",
    ")\n",
    "vector_store = Chroma(\n",
    "    embedding_function=embedding_function,\n",
    "    collection_name = 'real_estate_tax',\n",
    "    persist_directory='./real_estate_tax_collection'\n",
    ")\n",
    "retriever = vector_store.as_retriever(search_kwargs={'k': 3})"
   ]
  },
  {
   "cell_type": "code",
   "execution_count": 4,
   "metadata": {},
   "outputs": [],
   "source": [
    "query = '5억짜리 집 1채, 10억짜리 집 1채, 20억짜리 집 1채를 가지고 있을 때 세금을 얼마나 내나요?'"
   ]
  },
  {
   "cell_type": "code",
   "execution_count": 5,
   "metadata": {},
   "outputs": [],
   "source": [
    "from langchain_openai import ChatOpenAI\n",
    "from langchain import hub\n",
    "from langchain_core.output_parsers import StrOutputParser\n",
    "from langchain_core.runnables import RunnablePassthrough\n",
    "from langchain_core.prompts import ChatPromptTemplate\n",
    "\n",
    "rag_prompt = hub.pull('rlm/rag-prompt')\n",
    "\n",
    "llm = ChatOpenAI(\n",
    "    model = 'gpt-4o',\n",
    ")\n",
    "\n",
    "small_llm = ChatOpenAI(\n",
    "    model = 'gpt-4o-mini',\n",
    ")"
   ]
  },
  {
   "cell_type": "markdown",
   "metadata": {},
   "source": [
    "- [How to create tools](https://python.langchain.com/docs/how_to/custom_tools/)\n",
    "    - Custom 도구(tool)를 활용하려면 `@tool` decorator를 사용함\n",
    "    - 도구(tool)의 이름(함수이름)과 설명(docstring)을 정의해야함\n",
    "    - 도구(tool)의 인자를 정의해야함\n",
    "        - 인자로 사용되는 변수명도 중요함\n",
    "        - LLM이 Args를 직접 판단해서 도구를 호출하기 때문\n",
    "    - 도구(tool)의 반환값을 정의해야함  "
   ]
  },
  {
   "cell_type": "code",
   "execution_count": 6,
   "metadata": {},
   "outputs": [],
   "source": [
    "# 필요한 라이브러리들을 임포트\n",
    "from langchain_core.output_parsers import StrOutputParser\n",
    "from langchain_core.prompts import PromptTemplate\n",
    "from langchain_core.runnables import RunnablePassthrough\n",
    "from langchain import hub\n",
    "from langchain_core.tools import tool\n",
    "rag_prompt = hub.pull(\"rlm/rag-prompt\")\n",
    "\n",
    "# 문서 포맷팅을 위한 헬퍼 함수\n",
    "def format_docs(docs):\n",
    "    return \"\\n\\n\".join(doc.page_content for doc in docs)\n",
    "\n",
    "# 세금 공제액 정보를 검색하기 위한 체인 구성\n",
    "tax_deductible_chain = (\n",
    "    {\"context\": retriever | format_docs, \"question\": RunnablePassthrough()}\n",
    "    | rag_prompt\n",
    "    | small_llm\n",
    "    | StrOutputParser()\n",
    ")\n",
    "\n",
    "# 공제액 관련 기본 질문 정의\n",
    "deductible_question = f'주택에 대한 종합부동산세 과세표준의 공제액을 알려주세요'\n",
    "\n",
    "# 사용자별 공제액 계산을 위한 프롬프트 템플릿\n",
    "user_deduction_prompt = \"\"\"아래 [Context]는 주택에 대한 종합부동산세의 공제액에 관한 내용입니다. \n",
    "사용자의 질문을 통해서 가지고 있는 주택수에 대한 공제액이 얼마인지 금액만 반환해주세요\n",
    "\n",
    "[Context]\n",
    "{tax_deductible_response}\n",
    "\n",
    "[Question]\n",
    "질문: {question}\n",
    "답변: \n",
    "\"\"\"\n",
    "\n",
    "# 프롬프트 템플릿 객체 생성\n",
    "user_deduction_prompt_template = PromptTemplate(\n",
    "    template=user_deduction_prompt,\n",
    "    input_variables=['tax_deductible_response', 'question']\n",
    ")\n",
    "\n",
    "# 사용자별 공제액 계산을 위한 체인 구성\n",
    "user_deduction_chain = (user_deduction_prompt_template\n",
    "    | small_llm\n",
    "    | StrOutputParser()\n",
    ")\n",
    "\n",
    "# 세금 공제액 계산을 위한 커스텀 도구\n",
    "@tool\n",
    "def tax_deduction_tool(question: str) -> str: # 노드일때는 인자가 state였다. 그런데 노드일때는 question을 인자로 넣는다. 그러면 LLM이 도구를 사용할 때 question에 맞게 질문을 알아서 생성한다.\n",
    "    \"\"\"사용자의 부동산 소유 현황에 대한 질문을 기반으로 세금 공제액을 계산합니다.\n",
    "    \n",
    "    이 도구는 다음 두 단계로 작동합니다:\n",
    "    1. tax_deductible_chain을 사용하여 일반적인 세금 공제 규칙을 검색\n",
    "    2. user_deduction_chain을 사용하여 사용자의 특정 상황에 규칙을 적용\n",
    "\n",
    "    Args:\n",
    "        question (str): 부동산 소유에 대한 사용자의 질문\n",
    "        \n",
    "    Returns:\n",
    "        str: 세금 공제액 (예: '9억원', '12억원')\n",
    "    \"\"\"\n",
    "    # 일반적인 세금 공제 규칙 검색\n",
    "    tax_deductible_response = tax_deductible_chain.invoke(deductible_question)\n",
    "    \n",
    "    # 사용자의 특정 상황에 규칙 적용\n",
    "    tax_deductible = user_deduction_chain.invoke({\n",
    "        'tax_deductible_response': tax_deductible_response, \n",
    "        'question': question\n",
    "    })\n",
    "    return tax_deductible"
   ]
  },
  {
   "cell_type": "markdown",
   "metadata": {},
   "source": [
    "테스트: 도구이니까 invoke를 호출하면 된다."
   ]
  },
  {
   "cell_type": "code",
   "execution_count": 7,
   "metadata": {},
   "outputs": [
    {
     "data": {
      "text/plain": [
       "'9억 원입니다.'"
      ]
     },
     "execution_count": 7,
     "metadata": {},
     "output_type": "execute_result"
    }
   ],
   "source": [
    "tax_deduction_tool.invoke(query)"
   ]
  },
  {
   "cell_type": "markdown",
   "metadata": {},
   "source": [
    "### 수학공식을 호출하는 도구"
   ]
  },
  {
   "cell_type": "code",
   "execution_count": 8,
   "metadata": {},
   "outputs": [],
   "source": [
    "# 사전 구축된 프롬프트를 사용하기 위해 langchain의 hub 모듈을 임포트\n",
    "from langchain import hub\n",
    "\n",
    "# hub에서 RAG(Retrieval Augmented Generation) 프롬프트 템플릿을 가져옴\n",
    "rag_prompt = hub.pull(\"rlm/rag-prompt\")\n",
    "\n",
    "def format_docs(docs):\n",
    "    \"\"\"\n",
    "    여러 문서를 하나의 문자열로 결합하는 포맷팅 함수\n",
    "    \n",
    "    Args:\n",
    "        docs: page_content를 포함하는 Document 객체 리스트\n",
    "        \n",
    "    Returns:\n",
    "        str: 줄바꿈으로 구분된 문서 내용을 하나로 합친 문자열\n",
    "    \"\"\"\n",
    "    return \"\\n\\n\".join(doc.page_content for doc in docs)\n",
    "\n",
    "# 과세표준 정보를 검색하고 처리하기 위한 체인 생성\n",
    "# 이 체인은 다음 단계로 실행됨:\n",
    "# 1. 질문을 받아 관련 문서를 검색\n",
    "# 2. format_docs를 사용하여 문서 포맷팅\n",
    "# 3. RAG 프롬프트를 통해 포맷된 컨텍스트와 질문을 처리\n",
    "# 4. LLM으로 처리 후 문자열로 파싱\n",
    "tax_base_chain = (\n",
    "    {\"context\": retriever | format_docs, \"question\": RunnablePassthrough()}\n",
    "    | rag_prompt\n",
    "    | small_llm\n",
    "    | StrOutputParser()\n",
    ")\n",
    "\n",
    "# 과세표준 계산 방법을 검색하기 위한 표준 질문 정의\n",
    "tax_base_question = '주택에 대한 종합부동산세 과세표준을 계산하는 방법은 무엇인가요? 수식으로 표현해서 수식만 반환해주세요'\n",
    "\n",
    "# @tool 데코레이터를 사용하여 과세표준 계산을 위한 커스텀 도구 정의\n",
    "@tool\n",
    "def tax_base_tool() -> str: # 인자가 없으면 LLM이 인자를 넣지않고 알아서 함수를 호출한다.\n",
    "    \"\"\"종합부동산세 과세표준을 계산하기 위한 공식을 검색하고 형식화합니다.\n",
    "    \n",
    "    이 도구는 RAG(Retrieval Augmented Generation) 방식을 사용하여:\n",
    "    1. 지식 베이스에서 과세표준 계산 규칙을 검색\n",
    "    2. 검색한 규칙을 수학 공식으로 형식화\n",
    "\n",
    "    Args:\n",
    "        question (str): 사용자의 질문 (미리 정의된 질문이 사용됨)\n",
    "        \n",
    "    Returns:\n",
    "        str: 과세표준 계산 공식\n",
    "    \"\"\"\n",
    "    # 미리 정의된 질문으로 tax_base_chain을 실행하여 계산 공식 획득\n",
    "    tax_base_response = tax_base_chain.invoke(tax_base_question)\n",
    "    return tax_base_response"
   ]
  },
  {
   "cell_type": "markdown",
   "metadata": {},
   "source": [
    "### 공정시장가액비율 검색 함수"
   ]
  },
  {
   "cell_type": "code",
   "execution_count": 9,
   "metadata": {},
   "outputs": [
    {
     "name": "stderr",
     "output_type": "stream",
     "text": [
      "/home/sguys99/anaconda3/envs/inflearn-langgraph/lib/python3.12/site-packages/langchain_community/utilities/duckduckgo_search.py:64: UserWarning: 'api' backend is deprecated, using backend='auto'\n",
      "  ddgs_gen = ddgs.text(\n"
     ]
    }
   ],
   "source": [
    "from langchain_core.prompts import PromptTemplate\n",
    "from langchain_core.output_parsers import StrOutputParser\n",
    "from datetime import datetime\n",
    "from langchain_community.tools import DuckDuckGoSearchRun\n",
    "\n",
    "# DuckDuckGo 검색 도구 초기화\n",
    "search = DuckDuckGoSearchRun()\n",
    "\n",
    "# 현재 공정시장가액비율 검색을 위한 함수\n",
    "def get_market_value_rate_search():\n",
    "    \"\"\"\n",
    "    현재 연도의 공정시장가액비율을 웹에서 검색합니다.\n",
    "    \n",
    "    Returns:\n",
    "        str: 현재 공정시장가액비율 정보를 포함한 검색 결과\n",
    "    \"\"\"\n",
    "    return search.invoke(f\"{datetime.now().year}년도 공정시장가액비율은?\")\n",
    "\n",
    "# 검색 결과 저장\n",
    "market_value_rate_search = get_market_value_rate_search()\n",
    "\n",
    "# 공정시장가액비율 추출을 위한 프롬프트 템플릿 정의\n",
    "# Context에서 관련 정보를 추출하고 사용자 상황에 맞는 비율을 반환하도록 설계\n",
    "market_value_rate_prompt = PromptTemplate.from_template(\"\"\"아래 [Context]는 공정시장가액비율에 관한 내용입니다. \n",
    "당신에게 주어진 공정시장가액비율에 관한 내용을 기반으로, 사용자의 상황에 대한 공정시장가액비율을 알려주세요.\n",
    "별도의 설명 없이 공정시장가액비율만 반환해주세요.\n",
    "\n",
    "[Context]\n",
    "{context}\n",
    "\n",
    "[Question]\n",
    "질문: {question}\n",
    "답변: \n",
    "\"\"\")\n",
    "\n",
    "# 공정시장가액비율 계산을 위한 체인 구성\n",
    "# 프롬프트 -> LLM -> 문자열 파서 순으로 처리\n",
    "market_value_rate_chain = (\n",
    "    market_value_rate_prompt\n",
    "    | small_llm\n",
    "    | StrOutputParser()\n",
    ")\n",
    "\n",
    "# 공정시장가액비율 계산을 위한 커스텀 도구\n",
    "@tool\n",
    "def market_value_rate_tool(question: str) -> str:\n",
    "    \"\"\"사용자의 부동산 상황에 적용되는 공정시장가액비율을 결정합니다.\n",
    "    \n",
    "    이 도구는:\n",
    "    1. 현재 공정시장가액비율 정보가 포함된 검색 결과를 사용\n",
    "    2. 사용자의 특정 상황(보유 부동산 수, 부동산 가치)을 분석\n",
    "    3. 적절한 공정시장가액비율을 백분율로 반환\n",
    "\n",
    "    Args:\n",
    "        question (str): 부동산 소유에 대한 사용자의 질문\n",
    "        \n",
    "    Returns:\n",
    "        str: 공정시장가액비율 백분율 (예: '60%', '45%')\n",
    "    \"\"\"\n",
    "    # 검색된 정보와 사용자 질문을 기반으로 공정시장가액비율 계산\n",
    "    market_value_rate = market_value_rate_chain.invoke({\n",
    "        'context': market_value_rate_search, \n",
    "        'question': question\n",
    "    })\n",
    "    return market_value_rate"
   ]
  },
  {
   "cell_type": "markdown",
   "metadata": {},
   "source": [
    "### 최종계산"
   ]
  },
  {
   "cell_type": "code",
   "execution_count": 10,
   "metadata": {},
   "outputs": [],
   "source": [
    "from langchain_core.prompts import ChatPromptTemplate\n",
    "\n",
    "@tool\n",
    "def house_tax_tool(tax_base_question: str, market_value_rate_question: str, tax_deductible_question: str, question: str) -> str: \n",
    "    # 이 인자들은 도구 실행 결과이므로 ToolMessage에 포함되어 있을 것이다. # LLM이 ToolMessage를 조회해서 인자를 찾아서 알아서 넣는다.\n",
    "    \"\"\"수집된 모든 정보를 사용하여 최종 종합부동산세액을 계산합니다.\n",
    "    \n",
    "    이 도구는 다음 정보들을 결합하여 최종 세액을 계산합니다:\n",
    "    1. 과세표준 계산 공식\n",
    "    2. 공정시장가액비율\n",
    "    3. 공제액\n",
    "    4. 세율표\n",
    "\n",
    "    Args:\n",
    "        tax_base_question (str): 과세표준 계산 공식\n",
    "        market_value_rate_question (str): 공정시장가액비율\n",
    "        tax_deductible_question (str): 공제액\n",
    "        question (str): 부동산 세금 계산에 대한 사용자의 질문\n",
    "        \n",
    "    Returns:\n",
    "        str: 설명이 포함된 최종 세금 계산액\n",
    "    \"\"\"\n",
    "    # 세금 계산을 위한 프롬프트 템플릿 생성\n",
    "    # system 메시지에는 계산에 필요한 기본 정보들을 포함\n",
    "    # human 메시지에는 사용자의 질문을 전달\n",
    "    house_tax_prompt = ChatPromptTemplate.from_messages([\n",
    "    ('system', f'''과세표준 계산방법: {tax_base_question}\n",
    "    공정시장가액비율: {market_value_rate_question}\n",
    "    공제액: {tax_deductible_question}\n",
    "\n",
    "    위의 공식과 아래 세율에 관한 정보를 활용해서 세금을 계산해주세요.\n",
    "    세율: {{tax_rate}}\n",
    "    '''),\n",
    "        ('human', '{question}')\n",
    "    ])\n",
    "\n",
    "    # 세금 계산을 위한 체인 구성\n",
    "    # 1. retriever를 통해 세율 정보를 가져옴\n",
    "    # 2. 프롬프트에 세율 정보와 질문을 전달\n",
    "    # 3. LLM으로 계산 수행\n",
    "    # 4. 결과를 문자열로 변환\n",
    "    house_tax_chain = (\n",
    "        {\n",
    "            'tax_rate': retriever | format_docs,  # 벡터 DB에서 세율 정보 검색\n",
    "            'question': RunnablePassthrough()     # 사용자 질문 그대로 전달\n",
    "        }\n",
    "        | house_tax_prompt    # 프롬프트 템플릿에 정보 전달\n",
    "        | llm                 # LLM으로 계산 수행\n",
    "        | StrOutputParser()   # 결과를 문자열로 변환\n",
    "    )\n",
    "\n",
    "    # 체인 실행하여 최종 세금 계산 결과 반환\n",
    "    house_tax = house_tax_chain.invoke(question)\n",
    "    return house_tax"
   ]
  },
  {
   "cell_type": "markdown",
   "metadata": {},
   "source": [
    "- `node`를 추가하고 `edge`로 연결합니다\n",
    "- 하나의 `node`에서 `edge`를 활영해서 다양한 `node`들을 연결하면 병렬로 작업이 가능합니다"
   ]
  },
  {
   "cell_type": "code",
   "execution_count": 11,
   "metadata": {},
   "outputs": [],
   "source": [
    "from langgraph.prebuilt import ToolNode\n",
    "\n",
    "tool_list = [tax_deduction_tool, tax_base_tool, market_value_rate_tool, house_tax_tool]\n",
    "llm_with_tools = small_llm.bind_tools(tool_list)\n",
    "tool_node = ToolNode(tool_list)"
   ]
  },
  {
   "cell_type": "code",
   "execution_count": 12,
   "metadata": {},
   "outputs": [],
   "source": [
    "from langchain_core.messages import SystemMessage\n",
    "\n",
    "\n",
    "def agent(state: MessagesState) -> MessagesState:\n",
    "    \"\"\"\n",
    "    에이전트 함수는 주어진 상태에서 메시지를 가져와\n",
    "    LLM과 도구를 사용하여 응답 메시지를 생성합니다.\n",
    "\n",
    "    Args:\n",
    "        state (MessagesState): 메시지 상태를 포함하는 state.\n",
    "\n",
    "    Returns:\n",
    "        MessagesState: 응답 메시지를 포함하는 새로운 state.\n",
    "    \"\"\"\n",
    "    system_message_content = \"\"\"당신의 역할은 주택에 대한 종합부동산세를 계산하는 것입니다. \n",
    "    사용자의 질문이 들어오면, 사용자의 질문을 바탕으로 종합부동산세를 계산해주세요.\n",
    "    종합부동산세를 계산하기 위해서는 과세표준을 어떻게 계산할지 파악해야하고, \n",
    "    사용자에 질문에 따른 공제액을 파악해야 하고, \n",
    "    사용자에 질문에 따른 공정시장가액비율을 파악해야 합니다.\n",
    "    이 세가지를 파악하고 나면, 종합부동산세를 계산해주세요.\n",
    "    \"\"\"\n",
    "    system_message = SystemMessage(content=system_message_content)\n",
    "    messages = [system_message] + state['messages']\n",
    "    response = llm_with_tools.invoke(messages)\n",
    "    return {'messages': [response]}"
   ]
  },
  {
   "cell_type": "code",
   "execution_count": 13,
   "metadata": {},
   "outputs": [
    {
     "data": {
      "text/plain": [
       "<langgraph.graph.state.StateGraph at 0x7fa8abace630>"
      ]
     },
     "execution_count": 13,
     "metadata": {},
     "output_type": "execute_result"
    }
   ],
   "source": [
    "graph_builder.add_node('agent', agent)\n",
    "graph_builder.add_node('tools', tool_node)"
   ]
  },
  {
   "cell_type": "code",
   "execution_count": 14,
   "metadata": {},
   "outputs": [
    {
     "data": {
      "text/plain": [
       "<langgraph.graph.state.StateGraph at 0x7fa8abace630>"
      ]
     },
     "execution_count": 14,
     "metadata": {},
     "output_type": "execute_result"
    }
   ],
   "source": [
    "from langgraph.graph import START, END\n",
    "from langgraph.prebuilt import tools_condition\n",
    "\n",
    "\n",
    "graph_builder.add_edge(START, 'agent')\n",
    "graph_builder.add_conditional_edges(\n",
    "    'agent',\n",
    "    tools_condition\n",
    ")\n",
    "graph_builder.add_edge('tools', 'agent')"
   ]
  },
  {
   "cell_type": "code",
   "execution_count": 15,
   "metadata": {},
   "outputs": [],
   "source": [
    "graph = graph_builder.compile()"
   ]
  },
  {
   "cell_type": "code",
   "execution_count": 16,
   "metadata": {},
   "outputs": [
    {
     "data": {
      "image/png": "[encoded data removed]",
      "text/plain": [
       "<langgraph.graph.state.CompiledStateGraph object at 0x7fa875212bd0>"
      ]
     },
     "execution_count": 16,
     "metadata": {},
     "output_type": "execute_result"
    }
   ],
   "source": [
    "graph"
   ]
  },
  {
   "cell_type": "code",
   "execution_count": 17,
   "metadata": {},
   "outputs": [
    {
     "data": {
      "image/png": "[encoded data removed]",
      "text/plain": [
       "<IPython.core.display.Image object>"
      ]
     },
     "metadata": {},
     "output_type": "display_data"
    }
   ],
   "source": [
    "from IPython.display import Image, display\n",
    "\n",
    "display(Image(graph.get_graph().draw_mermaid_png()))"
   ]
  },
  {
   "cell_type": "code",
   "execution_count": 18,
   "metadata": {},
   "outputs": [
    {
     "name": "stdout",
     "output_type": "stream",
     "text": [
      "================================\u001b[1m Human Message \u001b[0m=================================\n",
      "\n",
      "5억짜리 집 1채, 10억짜리 집 1채, 20억짜리 집 1채를 가지고 있을 때 세금을 얼마나 내나요?\n",
      "==================================\u001b[1m Ai Message \u001b[0m==================================\n",
      "Tool Calls:\n",
      "  tax_deduction_tool (call_CQHIWJQxQ3IroSf35S4sjSmK)\n",
      " Call ID: call_CQHIWJQxQ3IroSf35S4sjSmK\n",
      "  Args:\n",
      "    question: 5억짜리 집 1채, 10억짜리 집 1채, 20억짜리 집 1채를 가지고 있을 때 세금 공제액은 얼마인가요?\n",
      "  tax_base_tool (call_HsDJCHhTvAyFx7etsbXK2zSP)\n",
      " Call ID: call_HsDJCHhTvAyFx7etsbXK2zSP\n",
      "  Args:\n",
      "  market_value_rate_tool (call_m51Y3oAV58GKpJ6E3Dhj73ua)\n",
      " Call ID: call_m51Y3oAV58GKpJ6E3Dhj73ua\n",
      "  Args:\n",
      "    question: 5억짜리 집 1채, 10억짜리 집 1채, 20억짜리 집 1채를 가지고 있을 때 공정시장가액비율은 얼마인가요?\n",
      "=================================\u001b[1m Tool Message \u001b[0m=================================\n",
      "Name: market_value_rate_tool\n",
      "\n",
      "45%\n",
      "==================================\u001b[1m Ai Message \u001b[0m==================================\n",
      "Tool Calls:\n",
      "  house_tax_tool (call_LFI3bc8hkmCiCz5dJJcCPc9Q)\n",
      " Call ID: call_LFI3bc8hkmCiCz5dJJcCPc9Q\n",
      "  Args:\n",
      "    tax_base_question: 주택에 따른 최고세율과 최저세율은 다음과 같이 적용됩니다: \n",
      "공시지가 = (주택 시가 - 기본공제) × 세율.\n",
      "    market_value_rate_question: 45%\n",
      "    tax_deductible_question: 6채 원합니다.\n",
      "    question: 5억짜리 집 1채, 10억짜리 집 1채, 20억짜리 집 1채를 가지고 있을 때 종합부동산세는 얼마인가요?\n",
      "=================================\u001b[1m Tool Message \u001b[0m=================================\n",
      "Name: house_tax_tool\n",
      "\n",
      "주어진 정보를 바탕으로 각 주택에 대한 종합부동산세를 계산해보겠습니다. \n",
      "\n",
      "기본공제액은 6채로 주어졌지만, 문제에서의 의도는 명확하지 않으므로 일반적인 공제액을 가정하여 계산해보겠습니다. 일반적으로 공정시장가액비율과 공제액은 고정된 값으로 사용되며, 문제에서 주어진 공정시장가액비율 45%를 사용하고 기본공제액을 가정하여 계산합니다.\n",
      "\n",
      "1. 5억짜리 집:\n",
      "   - 공시지가 = (5억 - 공제액) × 0.45\n",
      "   - 공제액을 6억으로 가정할 경우, 공시지가 = (5억 - 6억) × 0.45 = 0 (공제 후 남는 과세표준이 없으므로 세금 없음)\n",
      "\n",
      "2. 10억짜리 집:\n",
      "   - 공시지가 = (10억 - 6억) × 0.45 = 1.8억\n",
      "\n",
      "3. 20억짜리 집:\n",
      "   - 공시지가 = (20억 - 6억) × 0.45 = 6.3억\n",
      "\n",
      "이제 세율을 적용해야 하지만, 문제에서 특정 세율을 제공하지 않았습니다. 일반적으로 종합부동산세율은 과세표준에 따라 0.6%에서 3.2%까지 다양한 구간으로 적용됩니다. 각 집에 대해 세율을 가정할 수 있습니다.\n",
      "\n",
      "- 1.8억의 공시지가에 기본 세율 0.6%를 적용할 경우: 1.8억 × 0.006 = 108만 원\n",
      "- 6.3억의 공시지가에 높은 세율 1.2%를 가정할 경우: 6.3억 × 0.012 = 756만 원\n",
      "\n",
      "따라서 총 종합부동산세는 108만 원 + 756만 원 = 864만 원이 됩니다.\n",
      "\n",
      "세율은 가정한 값임을 유의하시고, 실제 세율은 관할 세무서나 관련 법령을 참조하시기 바랍니다.\n",
      "==================================\u001b[1m Ai Message \u001b[0m==================================\n",
      "\n",
      "주어진 부동산을 기반으로 종합부동산세를 계산한 결과는 다음과 같습니다:\n",
      "\n",
      "1. **5억짜리 집**:\n",
      "   - 공시지가 = (5억 - 6억) × 0.45 = 0\n",
      "   - **세금 없음** (과세표준이 남지 않음)\n",
      "\n",
      "2. **10억짜리 집**:\n",
      "   - 공시지가 = (10억 - 6억) × 0.45 = 1.8억\n",
      "   - 세율을 0.6%로 가정할 경우: 1.8억 × 0.006 = **108만 원**\n",
      "\n",
      "3. **20억짜리 집**:\n",
      "   - 공시지가 = (20억 - 6억) × 0.45 = 6.3억\n",
      "   - 세율을 1.2%로 가정할 경우: 6.3억 × 0.012 = **756만 원**\n",
      "\n",
      "### 총 종합부동산세:\n",
      "- 108만 원 (10억짜리 집) + 756만 원 (20억짜리 집) = **864만 원**\n",
      "\n",
      "이 계산은 가정된 세율을 기반으로 하였으며, 실제 세율은 관할 세무서나 관련 법령에 따라 다를 수 있습니다.\n"
     ]
    }
   ],
   "source": [
    "from langchain_core.messages import HumanMessage\n",
    "\n",
    "for chunk in graph.stream({'messages': [HumanMessage(query)]}, stream_mode='values'):\n",
    "    chunk['messages'][-1].pretty_print()"
   ]
  },
  {
   "cell_type": "code",
   "execution_count": null,
   "metadata": {},
   "outputs": [],
   "source": []
  }
 ],
 "metadata": {
  "kernelspec": {
   "display_name": "inflearn-langgraph",
   "language": "python",
   "name": "python3"
  },
  "language_info": {
   "codemirror_mode": {
    "name": "ipython",
    "version": 3
   },
   "file_extension": ".py",
   "mimetype": "text/x-python",
   "name": "python",
   "nbconvert_exporter": "python",
   "pygments_lexer": "ipython3",
   "version": "3.12.11"
  }
 },
 "nbformat": 4,
 "nbformat_minor": 2
}
