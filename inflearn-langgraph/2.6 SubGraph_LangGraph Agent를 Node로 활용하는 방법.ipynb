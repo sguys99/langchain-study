{
 "cells": [
  {
   "cell_type": "markdown",
   "metadata": {},
   "source": [
    "# 2.6 SubGraph: LangGraph Agent를 Node로 활용하는 방법"
   ]
  },
  {
   "cell_type": "markdown",
   "metadata": {},
   "source": [
    "- [Adaptive-RAG: Learning to Adapt Retrieval-Augmented Large Language Models through Question Complexity](https://arxiv.org/abs/2403.14403)논문을 구현합니다\n",
    "- LangGraph 공식문서의 흐름을 따라갑니다\n",
    "    - 공식문서의 흐름은 간소화된 버전입니다\n",
    "    - 실제 논문과 유사한 구현은 3.3강을 참고해주세요\n",
    "\n",
    "![adaptive-rag](https://i.imgur.com/tbICSxY.png)"
   ]
  },
  {
   "cell_type": "code",
   "execution_count": 1,
   "metadata": {},
   "outputs": [
    {
     "data": {
      "text/plain": [
       "True"
      ]
     },
     "execution_count": 1,
     "metadata": {},
     "output_type": "execute_result"
    }
   ],
   "source": [
    "from dotenv import load_dotenv\n",
    "\n",
    "load_dotenv()"
   ]
  },
  {
   "cell_type": "markdown",
   "metadata": {},
   "source": [
    "### 기존 구현 부분"
   ]
  },
  {
   "cell_type": "code",
   "execution_count": 2,
   "metadata": {},
   "outputs": [],
   "source": [
    "from typing_extensions import TypedDict\n",
    "from langgraph.graph import StateGraph\n",
    "\n",
    "class AgentState(TypedDict):\n",
    "    query: str\n",
    "    context: list # document 또는 web search 결과\n",
    "    answer: str\n",
    "    \n",
    "graph_builder = StateGraph(AgentState)"
   ]
  },
  {
   "cell_type": "code",
   "execution_count": 3,
   "metadata": {},
   "outputs": [],
   "source": [
    "from langchain_community.tools import TavilySearchResults\n",
    "\n",
    "tavily_search_tool = TavilySearchResults(\n",
    "    max_results=3,\n",
    "    search_depth=\"advanced\",\n",
    "    include_answer=True,\n",
    "    include_raw_content=True,\n",
    "    include_images=True,\n",
    ")\n",
    "\n",
    "def web_search(state: AgentState) -> AgentState:\n",
    "    \"\"\"\n",
    "    주어진 state를 기반으로 웹 검색을 수행합니다.\n",
    "\n",
    "    Args:\n",
    "        state (AgentState): 사용자의 질문을 포함한 에이전트의 현재 state.\n",
    "\n",
    "    Returns:\n",
    "        AgentState: 웹 검색 결과가 추가된 state를 반환합니다.\n",
    "    \"\"\"\n",
    "    query = state['query']\n",
    "    results = tavily_search_tool.invoke(query)\n",
    "\n",
    "    return {'context': results}"
   ]
  },
  {
   "cell_type": "code",
   "execution_count": 4,
   "metadata": {},
   "outputs": [],
   "source": [
    "from langchain import hub\n",
    "from langchain_openai import ChatOpenAI\n",
    "from langchain_core.output_parsers import StrOutputParser\n",
    "\n",
    "# LangChain 허브에서 프롬프트를 가져옵니다\n",
    "generate_prompt = hub.pull(\"rlm/rag-prompt\")\n",
    "# OpenAI의 GPT-4o 모델을 사용합니다\n",
    "generate_llm = ChatOpenAI(model=\"gpt-4o\")\n",
    "\n",
    "def web_generate(state: AgentState) -> AgentState:\n",
    "    \"\"\"\n",
    "    주어진 문맥과 질문을 기반으로 답변을 생성합니다.\n",
    "\n",
    "    Args:\n",
    "        state (AgentState): 문맥과 질문을 포함한 에이전트의 현재 state.\n",
    "\n",
    "    Returns:\n",
    "        AgentState: 생성된 답변을 포함한 state를 반환합니다.\n",
    "    \"\"\"\n",
    "    # state에서 문맥과 질문을 추출합니다\n",
    "    context = state['context']\n",
    "    query = state['query']\n",
    "    \n",
    "    # 프롬프트와 모델, 출력 파서를 연결하여 체인을 생성합니다\n",
    "    rag_chain = generate_prompt | generate_llm | StrOutputParser()\n",
    "    \n",
    "    # 체인을 사용하여 답변을 생성합니다\n",
    "    response = rag_chain.invoke({'question': query, 'context': context})\n",
    "    \n",
    "    # 생성된 답변을 'answer'로 반환합니다\n",
    "    return {'answer': response}"
   ]
  },
  {
   "cell_type": "markdown",
   "metadata": {},
   "source": [
    "### 추가로 구현하는 부분"
   ]
  },
  {
   "cell_type": "markdown",
   "metadata": {},
   "source": [
    "간단한 질문에 답변을 하는 경우 작은 모델을 활용해서 비용을 저감하고, 답변 생성 속도를 향상시킬 수 있음"
   ]
  },
  {
   "cell_type": "code",
   "execution_count": 5,
   "metadata": {},
   "outputs": [],
   "source": [
    "from langchain_openai import ChatOpenAI\n",
    "from langchain_core.output_parsers import StrOutputParser\n",
    "\n",
    "# OpenAI의 GPT-4o-mini 모델을 사용합니다\n",
    "basic_llm = ChatOpenAI(model=\"gpt-4o-mini\")\n",
    "\n",
    "def basic_generate(state: AgentState) -> AgentState:\n",
    "    \"\"\"\n",
    "    사용자의 질문에 기반하여 기본 답변을 생성합니다.\n",
    "\n",
    "    Args:\n",
    "        state (AgentState): 사용자의 질문을 포함한 에이전트의 현재 state.\n",
    "\n",
    "    Returns:\n",
    "        AgentState: 생성된 답변을 포함한 state를 반환합니다.\n",
    "    \"\"\"\n",
    "    # state에서 질문을 추출합니다\n",
    "    query = state['query']\n",
    "    \n",
    "    # 기본 LLM 체인을 생성합니다\n",
    "    basic_llm_chain = basic_llm | StrOutputParser()\n",
    "    \n",
    "    # 체인을 사용하여 답변을 생성합니다\n",
    "    llm_response = basic_llm_chain.invoke(query)\n",
    "    \n",
    "    # 생성된 답변을 'answer'로 반환합니다\n",
    "    return {'answer': llm_response}"
   ]
  },
  {
   "cell_type": "markdown",
   "metadata": {},
   "source": [
    "Query Analysis는 라우터와 같은 개념"
   ]
  },
  {
   "cell_type": "markdown",
   "metadata": {},
   "source": [
    "사용자의 질문이 들어오면 `router` 노드에서 사용자의 질문을 분석해서 적절한 노드로 이동\n",
    "- 사용자의 질문에 관한 내용이 vector store에 있는 경우 `income_tax_agent` 노드로 이동\n",
    "- 사용자의 질문이 간단한 경우 `basic_generate` 노드로 이동\n",
    "- 사용자의 질문이 웹 검색을 통해 답변을 얻을 수 있는 경우 `web_search` 노드로 이동"
   ]
  },
  {
   "cell_type": "markdown",
   "metadata": {},
   "source": [
    "라우터 출력 선택을 위한 데이터 타입 클래스 정의"
   ]
  },
  {
   "cell_type": "code",
   "execution_count": 6,
   "metadata": {},
   "outputs": [],
   "source": [
    "from langchain_core.prompts import ChatPromptTemplate\n",
    "from pydantic import BaseModel, Field\n",
    "from typing import Literal\n",
    "\n",
    "class Route(BaseModel):\n",
    "    target: Literal['vector_store', 'llm', 'web_search'] = Field(\n",
    "        description=\"The target for the query to answer\"\n",
    "    )"
   ]
  },
  {
   "cell_type": "code",
   "execution_count": 7,
   "metadata": {},
   "outputs": [],
   "source": [
    "router_system_prompt = \"\"\"\n",
    "You are an expert at routing a user's question to 'vector_store', 'llm', or 'web_search'.\n",
    "'vector_store' contains information about income tax up to December 2024.\n",
    "if you think the question is simple enough use 'llm'\n",
    "if you think you need to search the web to answer the question use 'web_search'\n",
    "\"\"\"\n",
    "\n",
    "\n",
    "router_prompt = ChatPromptTemplate.from_messages([\n",
    "    ('system', router_system_prompt),\n",
    "    ('user', '{query}')\n",
    "])\n",
    "\n",
    "router_llm = ChatOpenAI(model=\"gpt-4o-mini\")\n",
    "structured_router_llm = router_llm.with_structured_output(Route)"
   ]
  },
  {
   "cell_type": "markdown",
   "metadata": {},
   "source": [
    "라우터는 컨디셔널 엣지이다."
   ]
  },
  {
   "cell_type": "code",
   "execution_count": 8,
   "metadata": {},
   "outputs": [],
   "source": [
    "def router(state: AgentState) -> Literal['vector_store', 'llm', 'web_search']:\n",
    "    \"\"\"\n",
    "    사용자의 질문에 기반하여 적절한 경로를 결정합니다.\n",
    "\n",
    "    Args:\n",
    "        state (AgentState): 사용자의 질문을 포함한 에이전트의 현재 state.\n",
    "\n",
    "    Returns:\n",
    "        Literal['vector_store', 'llm', 'web_search']: 질문을 처리하기 위한 적절한 경로를 나타내는 문자열.\n",
    "    \"\"\"\n",
    "    # state에서 질문을 추출합니다\n",
    "    query = state['query']\n",
    "    \n",
    "    # 프롬프트와 구조화된 라우터 LLM을 연결하여 체인을 생성합니다\n",
    "    router_chain = router_prompt | structured_router_llm \n",
    "    \n",
    "    # 체인을 사용하여 경로를 결정합니다\n",
    "    route = router_chain.invoke({'query': query})\n",
    "\n",
    "    # 결정된 경로의 타겟을 반환합니다\n",
    "    return route.target"
   ]
  },
  {
   "cell_type": "markdown",
   "metadata": {},
   "source": [
    "### 연결 작업"
   ]
  },
  {
   "cell_type": "markdown",
   "metadata": {},
   "source": [
    "`node`를 추가하고 `edge`로 연결   \n",
    "- 앞에서 구현한 그래프를 .py 코드로 변환하여 가져옴"
   ]
  },
  {
   "cell_type": "code",
   "execution_count": 9,
   "metadata": {},
   "outputs": [
    {
     "data": {
      "text/plain": [
       "<langgraph.graph.state.StateGraph at 0x105a5a510>"
      ]
     },
     "execution_count": 9,
     "metadata": {},
     "output_type": "execute_result"
    }
   ],
   "source": [
    "from income_tax_graph import graph as income_tax_subgraph\n",
    "\n",
    "graph_builder.add_node('income_tax_agent', income_tax_subgraph)\n",
    "graph_builder.add_node('web_search', web_search)\n",
    "graph_builder.add_node('web_generate', web_generate)\n",
    "graph_builder.add_node('basic_generate', basic_generate)"
   ]
  },
  {
   "cell_type": "code",
   "execution_count": 10,
   "metadata": {},
   "outputs": [
    {
     "data": {
      "text/plain": [
       "<langgraph.graph.state.StateGraph at 0x105a5a510>"
      ]
     },
     "execution_count": 10,
     "metadata": {},
     "output_type": "execute_result"
    }
   ],
   "source": [
    "from langgraph.graph import START, END\n",
    "\n",
    "graph_builder.add_conditional_edges(\n",
    "    START, \n",
    "    router,\n",
    "    {\n",
    "        'vector_store': 'income_tax_agent',\n",
    "        'llm': 'basic_generate',\n",
    "        'web_search': 'web_search'\n",
    "    }\n",
    ")\n",
    "\n",
    "graph_builder.add_edge('web_search', 'web_generate')\n",
    "graph_builder.add_edge('web_generate', END)\n",
    "graph_builder.add_edge('basic_generate', END)\n",
    "graph_builder.add_edge('income_tax_agent', END)"
   ]
  },
  {
   "cell_type": "code",
   "execution_count": 11,
   "metadata": {},
   "outputs": [],
   "source": [
    "graph = graph_builder.compile()"
   ]
  },
  {
   "cell_type": "code",
   "execution_count": 12,
   "metadata": {},
   "outputs": [
    {
     "data": {
      "image/png": "[encoded data removed]",
      "text/plain": [
       "<IPython.core.display.Image object>"
      ]
     },
     "metadata": {},
     "output_type": "display_data"
    }
   ],
   "source": [
    "from IPython.display import Image, display\n",
    "\n",
    "display(Image(graph.get_graph().draw_mermaid_png()))"
   ]
  },
  {
   "cell_type": "code",
   "execution_count": 13,
   "metadata": {},
   "outputs": [
    {
     "data": {
      "text/plain": [
       "{'query': '대한민국의 수도는 어디인가요?', 'answer': '대한민국의 수도는 서울입니다.'}"
      ]
     },
     "execution_count": 13,
     "metadata": {},
     "output_type": "execute_result"
    }
   ],
   "source": [
    "initial_state = {'query': '대한민국의 수도는 어디인가요?'}\n",
    "graph.invoke(initial_state)"
   ]
  },
  {
   "cell_type": "code",
   "execution_count": 14,
   "metadata": {},
   "outputs": [
    {
     "data": {
      "text/plain": [
       "{'query': '연봉 5천만원인 거주자의 소득세는 얼마인가요?',\n",
       " 'context': [Document(metadata={'source': './documents/income_tax.txt'}, page_content='| 종합소득         | 세 율                                  |\\n|------------------|---------------------------------------|\\n| 1,400만원 이하   | 과세표준의 6세례셋트                      |\\n| 1,400만원 초과   | 84만원 + (1,400만원을 초과하는 금액의 15%)  |\\n| 5,000만원 이하   | 624만원 + (5,000만원을 초과하는 금액의 24%)  |\\n| 8,800만원 이하   | 1,536만원 + (8,800만원을 초과하는 금액의 35%) |\\n| 1억5천만원 이하  | 3,706만원 + (1억5천만원을 초과하는 금액의 38%) |\\n| 3억 이하         | 9,460만원 + (3억을 초과하는 금액의 40%)      |\\n| 5억 이하         | 1억7,406만원 + (5억을 초과하는 금액의 42%)   |\\n| 10억 이하        | 3억8,406만원 + (10억을 초과하는 금액의 45%)  |\\n법제처 35 \\n국가법령정보센터\\n소득세법\\n② 거주자의 퇴직소득에 대한 소득세는 다음 각 호의 순서에 따라 계산한 금액(이하 \"퇴직소득 산출세액\"이라 한다)으로 한다.\\n<개정> 2013. 1. 1, 2014. 12. 23.\\n1. 해당 사업기간의 퇴직소득세표준(제1항의 세율을 적용하여 계산한 금액\\n2. 제1호의 금액을 12로 나눈 금액에 근속연수를 곱한 금액\\n3. 삭제<2014. 12. 23.>\\n[전문개정 2009. 12. 31.]\\n제2장 세액공제\\n<개정> 2009. 12. 31.\\n제56조(배당세액공제)\\n① 거주자의 종합소득금액에 제17조제3항 각 호의 부분 단서가 적용되는 배당소득액이 합산되어 있는 경우에는 같은 항 각 호 외의 부분 단서에 따라 해당 과세기간의 총수입금액에 대한 금액에 해당하는 세액을 종합소득 산출세액에서 공제한다.\\n<개정> 2009. 12. 31.\\n② 제1항에 따른 공제율을 \"배당세액공제\"라 한다. <개정> 2009. 12. 31.\\n③ 삭제<2006. 12. 30.>\\n④ 제1항을 적용할 때 배당세액공제의 대상이 되는 배당소득금액은 제14조제1항의 종합소득세표준에 포함된 배당소득금액으로서 이자소득 등의 항목과 과세금액을 초과하는 것으로 한다. <개정> 2009. 12. 31.\\n⑤ 배당세액공제의 계산 등에 필요한 사항은 대통령령으로 정한다. <개정> 2009. 12. 31.  \\n제56조의2(기타세액공제)\\n① 제160조제3항에 따른 간편장부대상자가 제70조 또는 제74조에 따른 과세표준청고를 한 때 복식부기를 적용받은 소득금액을 계산하여 제69 조제3항에 따른 부가세를 제외하는 경우에는 해당 장부에 의하여 계산한 기타소득금액의 종합소득금액에서 차지하는 비율을 종합소득 산출세액에 금액의 100분의 20에 해당하는 금액을 종합소득 산출세액에 공제한다. 단, 공제액이 100분의 20을 초과하는 경우에는 100만 원을 공제한다.'),\n",
       "  Document(metadata={'source': './documents/income_tax.txt'}, page_content='| 종합소득         | 세 율                                  |\\n|------------------|---------------------------------------|\\n| 1,400만원 이하   | 과세표준의 6세례셋트                      |\\n| 1,400만원 초과   | 84만원 + (1,400만원을 초과하는 금액의 15%)  |\\n| 5,000만원 이하   | 624만원 + (5,000만원을 초과하는 금액의 24%)  |\\n| 8,800만원 이하   | 1,536만원 + (8,800만원을 초과하는 금액의 35%) |\\n| 1억5천만원 이하  | 3,706만원 + (1억5천만원을 초과하는 금액의 38%) |\\n| 3억 이하         | 9,460만원 + (3억을 초과하는 금액의 40%)      |\\n| 5억 이하         | 1억7,406만원 + (5억을 초과하는 금액의 42%)   |\\n| 10억 이하        | 3억8,406만원 + (10억을 초과하는 금액의 45%)  |\\n법제처 35 \\n국가법령정보센터\\n소득세법\\n② 거주자의 퇴직소득에 대한 소득세는 다음 각 호의 순서에 따라 계산한 금액(이하 \"퇴직소득 산출세액\"이라 한다)으로 한다.\\n<개정> 2013. 1. 1, 2014. 12. 23.\\n1. 해당 사업기간의 퇴직소득세표준(제1항의 세율을 적용하여 계산한 금액\\n2. 제1호의 금액을 12로 나눈 금액에 근속연수를 곱한 금액\\n3. 삭제<2014. 12. 23.>\\n[전문개정 2009. 12. 31.]\\n제2장 세액공제\\n<개정> 2009. 12. 31.\\n제56조(배당세액공제)\\n① 거주자의 종합소득금액에 제17조제3항 각 호의 부분 단서가 적용되는 배당소득액이 합산되어 있는 경우에는 같은 항 각 호 외의 부분 단서에 따라 해당 과세기간의 총수입금액에 대한 금액에 해당하는 세액을 종합소득 산출세액에서 공제한다.\\n<개정> 2009. 12. 31.\\n② 제1항에 따른 공제율을 \"배당세액공제\"라 한다. <개정> 2009. 12. 31.\\n③ 삭제<2006. 12. 30.>\\n④ 제1항을 적용할 때 배당세액공제의 대상이 되는 배당소득금액은 제14조제1항의 종합소득세표준에 포함된 배당소득금액으로서 이자소득 등의 항목과 과세금액을 초과하는 것으로 한다. <개정> 2009. 12. 31.\\n⑤ 배당세액공제의 계산 등에 필요한 사항은 대통령령으로 정한다. <개정> 2009. 12. 31.  \\n제56조의2(기타세액공제)\\n① 제160조제3항에 따른 간편장부대상자가 제70조 또는 제74조에 따른 과세표준청고를 한 때 복식부기를 적용받은 소득금액을 계산하여 제69 조제3항에 따른 부가세를 제외하는 경우에는 해당 장부에 의하여 계산한 기타소득금액의 종합소득금액에서 차지하는 비율을 종합소득 산출세액에 금액의 100분의 20에 해당하는 금액을 종합소득 산출세액에 공제한다. 단, 공제액이 100분의 20을 초과하는 경우에는 100만 원을 공제한다.'),\n",
       "  Document(metadata={'source': './documents/income_tax.txt'}, page_content='사항: <2013. 1. 1.>\\n[전문개정 2009. 12. 31.]\\n\\n제49조 삭제 <2006. 12. 30.>\\n제6관 종합소득공제 <개정 2009. 12. 31.>\\n제50조(가산공제)\\n공동소득이 있는 거주자(자연인과 법단체)에 대해서는 다음 각 호의 어느 하나에 해당하는 사람의 수에 1명당 연 150만원을 곱하여 계산한 금액을 그 거주자의 해당 과세기간의 종합소득금액에서 공제한다. <개정 2015. 12. 15, 2024. 12. 31.>\\n\\n해당 거주자\\n거주자와 배우자보다 해도 과세기간의 소득금액이 없거나 해도 과세기간의 소득금액 합계에 100만원 이하인 사람(종합소득에 500만원 이하의 근로소득이 있는 배우자를 포함함)\\n거주자과 배우자를 포함한다. 이하 이 조에서 같은 경우는 다음 각 조의 어느 하나에 해당하는 부양가족(제15조제1항제3호의 장애인에 해당되는 경우에는 나이의 제한을 받지 아니하도록 하여 기초자산의 소득금액 합계에 100만원 이하인 사람(종합소득에 500만원 이하의 근로소득이 있는 부양가족을 포함함)')],\n",
       " 'answer': '연봉 5천만원인 거주자의 소득세는 624만원입니다.'}"
      ]
     },
     "execution_count": 14,
     "metadata": {},
     "output_type": "execute_result"
    }
   ],
   "source": [
    "initial_state = {'query': '연봉 5천만원인 거주자의 소득세는 얼마인가요?'}\n",
    "graph.invoke(initial_state)"
   ]
  },
  {
   "cell_type": "code",
   "execution_count": 15,
   "metadata": {},
   "outputs": [
    {
     "data": {
      "text/plain": [
       "{'query': '역삼 맛집을 추천해주세요',\n",
       " 'context': [{'url': 'https://sam-repository.tistory.com/11',\n",
       "   'content': '키워드: #한식 #뼈숯불구이 #감자탕 #양배추샐러드도맛도리 #많이매운편 #볶음밥도필수  \\n도로명주소: 서울 강남구 테헤란로10길 21 1층  \\n맛있게 먹은 사람: 73.77% (987 / 1338)  \\n한 줄 평가:매운 음식을 좋아한다면 도전해볼만한 뼈숯불구이!  \\n   \\n매운 음식을 좋아한다면 신동궁감자탕 역삼직영점에서 매운 뼈숯불구이를 도전해보시는 건 어떨까요? 꽤 매운 편이라서 호불호가 갈릴 수 있으니 꼭! 매운 음식을 좋아하는 사람들이랑 가는 것을 추천드려요. 등뼈 사이사이에 낀 살이 부드럽게 발라지고, 중간중간 양배추 샐러드를 곁들여 먹거나 밥이랑 비벼 먹어도 좋아요. 다만 6시를 기준으로 사람들이 물밀 듯이 갈 수 있으니 웨이팅을 해야 할 수도 있습니다.\\n\\n이상으로 역삼역 주변 맛집 리스트를 정리해보았는데요, 이번 글을 읽고 역삼역 인근의 맛집을 찾는데 도움이 되셨으면 좋겠습니다! 이상 읽어주셔서 감사합니다. 😁😁 [...] 키워드: #양식 #이탈리아식 #파스타 #화덕피자 #와인 #데이트  \\n도로명주소: 서울 강남구 논현로94길 15 B1층   \\n맛있게 먹은 사람: 81.44% (430 / 528)  \\n한 줄 평가: 역삼 화덕피자 & 파스타 맛집  \\n   \\n식전 빵부터 맛집 느낌이 물씬 나는 이탈리아 음식 전문점입니다. 화덕피자와 파스타가 맛있는 레스토랑으로 유명한데 가지라구라자냐도 맛있어요. 마실 것도 식전주부터 다양한 와인까지 준비되어 있어서 양식을 찾는 분들께 추천드려요! 개인적으로 분위기는 괜찮은데, 소리가 울리는 건지 공간이 시끄럽게 느껴진 게 아쉬웠어요.\\n\\n## 6. 갈비다움 역삼본점 [...] 키워드: #술 #플래터 #맥주 #하이볼 #논알콜도있어요 #와인 #단체회식  \\n도로명주소: 서울 강남구 테헤란로33길 18 1층  \\n맛있게 먹은 사람: 76.19% (432 / 567)  \\n한 줄 평가: 눈이 즐거워지는 대용량 플래터와 인테리어가 인상적인 맥주집!  \\n   \\n맥주, 하이볼, 와인, 논알콜 다양한 종류가 있어서 주종 상관 없이 취향껏 즐길 수 있어요. 무엇보다 여러 명이서 가서 플래터를 하나 시키면 맛있고 양이 많아서 남녀노소 누구나 즐길 수 있는 술집입니다. 뿐만 아니라 인테리어, 화장실도 깔끔해서 역삼역 회식 장소로 강추!\\n\\n## 10. 신동궁감자탕 역삼직영점'},\n",
       "  {'url': 'https://www.diningcode.com/list.dc?query=%EC%97%AD%EC%82%BC',\n",
       "   'content': '역삼맛집 (1,147곳) · 1. 돝고기506 역삼역 · 2. 대우부대찌개 역삼 · 3. 불이아 역삼점 · 4. 육전식당 강남역 · 5. 이도곰탕 본점 · 6. 나이스샤워 강남역 · 7. 바스버거'},\n",
       "  {'url': 'https://baby.tali.kr/201',\n",
       "   'content': '솥밥인데 그냥 솥밥이 아니라 고급스러운 재료들로 푸짐하게 올려진 솥밥입니다. 스테이크, 도미관자, 장어, 전복 솥밥과 같은 메뉴가 준비되어 있습니다. 건강하고 든든하게 드시고 싶을때 추천하는 역삼역 직장인 입소문 맛집입니다.\\n\\n대표 메뉴 : 스테이크솥밥 17,000원\\n\\n주소 : 서울특별시 강남구 논현로94길 23 지상1층 101, 102호\\n\\n전화번호 : 010-6724-8858\\n\\n## [3위] 츄라우미 역삼본점\\n\\n창가쪽 자리에 앉으시면 분위기가 더욱 좋습니다. 매콤 해산물 나베와 같은 맛있는 안주들이 있는 이자카야입니다. 강남에서 퇴근하고 가볍게 한 잔 걸치는 직장인, 멋지지 않나요? 다이닝 이자카야 츄라우미 역삼본점이 3위입니다.\\n\\n대표 메뉴 : 세이로무시 65,000원\\n\\n주소 : 서울특별시 강남구 언주로93길 21 남전타운\\n\\n전화번호 : 0507-1425-7771\\n\\n## [4위] 신동궁감자탕 역삼직영점 [...] 오늘처럼 주륵주륵 비내리는 날이면 생각나는 곳입니다. 따뜻한 국물과 얼큰한 김치칼국수 정말 너무 맛있네요. 역삼역 근처 직장인들 사이에서 낮술의 성지로 소문난 맛집이기도 합니다.\\n\\n대표 메뉴 : 선덕 닭곰탕 12,000원\\n\\n주소 : 서울특별시 강남구 테헤란로27길 29 주암빌딩 B1\\n\\n전화번호 : 0507-1367-5322\\n\\n## [9위] 진미평양냉면\\n\\n역삼역 근처 맛집 베스트10 다음은 미쉐린 가이드 서울 2023에 선정된 진미평양냉면입니다. 다만 회전율이 좋은 여름에 방문하시는게 좀 더 제대로 된 맛을 즐길 수 있다는 평들이 있습니다.\\n\\n대표 메뉴 : 어복쟁반 소 60,000원\\n\\n주소 : 서울특별시 강남구 학동로 305-3\\n\\n전화번호 : 02-515-3469\\n\\n## [10위] 땀땀\\n\\n양도 엄청나고 맛도 엄청난 곳입니다. 혼밥 맛집으로도 괜찮은 베트남쌀국수집. 매운소곱창 쌀국수는 꼭 한번 드셔보시면 좋겠습니다.\\n\\n대표 메뉴 : 짜조 넴람 (2ea) 3,000원 [...] 비행테라스\\n\\nHome » Uncategorized\\n\\n# 역삼역 근처 맛집 베스트10 직장인들의 원픽 모임장소는?\\n\\n강남 직장인들의 성지 역삼역 근처 맛집 베스트 10곳 알아보겠습니다. 거리는 가까운데 강남역 맛집들과는 또 다른 분위기가 있는 곳이네요. 아무래도 젊은이들 모임장소와 직장인들 앞마당의 차이일까요?\\n\\n## [1위] 트라가 역삼점\\n\\n이베리코 목살 스테이크를 비롯해서 빠에야 같은 스페인 요리를 맛볼 수 있는 곳입니다. 지역정보에 역삼점이라고 나오지만 정확히는 여기가 본점입니다. 이색적인 요리로 특별한 날이나 데이트 코스로 방문하기에도 좋습니다.\\n\\n대표 메뉴 : 트라가세트(2인) 69,000원\\n\\n주소 : 서울특별시 강남구 테헤란로25길 46\\n\\n전화번호 : 0507-1337-0608\\n\\n## [2위] 솔솥 역삼점'}],\n",
       " 'answer': '역삼역 근처 맛집으로는 매운 뼈숯불구이가 인기 있는 \"신동궁감자탕 역삼직영점\"과 이탈리아 음식 전문점 \"화덕피자 & 파스타 맛집\"이 있습니다. 또한, 스페인 요리를 맛볼 수 있는 \"트라가 역삼점\"도 추천할 만합니다. 각기 다른 매력을 가진 이곳들은 매운 음식, 이탈리아 요리, 스페인 요리를 즐기기에 좋습니다.'}"
      ]
     },
     "execution_count": 15,
     "metadata": {},
     "output_type": "execute_result"
    }
   ],
   "source": [
    "initial_state = {'query': '역삼 맛집을 추천해주세요'}\n",
    "graph.invoke(initial_state)"
   ]
  },
  {
   "cell_type": "markdown",
   "metadata": {},
   "source": [
    "**(중요)**\n",
    "라우팅을 할 때 텍스트가 정확하게 출력 안되는 경우를 방지하기 위해 \n",
    "`structured_output`을 사용하는 것이 좋다."
   ]
  }
 ],
 "metadata": {
  "kernelspec": {
   "display_name": "inflearn-langgraph",
   "language": "python",
   "name": "python3"
  },
  "language_info": {
   "codemirror_mode": {
    "name": "ipython",
    "version": 3
   },
   "file_extension": ".py",
   "mimetype": "text/x-python",
   "name": "python",
   "nbconvert_exporter": "python",
   "pygments_lexer": "ipython3",
   "version": "3.12.11"
  }
 },
 "nbformat": 4,
 "nbformat_minor": 2
}
