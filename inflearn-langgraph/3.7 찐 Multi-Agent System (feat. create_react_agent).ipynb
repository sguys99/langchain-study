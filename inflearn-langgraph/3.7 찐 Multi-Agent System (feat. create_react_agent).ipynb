{
 "cells": [
  {
   "cell_type": "markdown",
   "metadata": {},
   "source": [
    "# 3.7 \"찐\" Multi-Agent System (feat. create_react_agent)\n",
    "\n",
    "- 도구들을 활용하는 에이전트들이 협업하는 과정을 구현합니다"
   ]
  },
  {
   "cell_type": "code",
   "execution_count": 1,
   "metadata": {},
   "outputs": [
    {
     "data": {
      "text/plain": [
       "True"
      ]
     },
     "execution_count": 1,
     "metadata": {},
     "output_type": "execute_result"
    }
   ],
   "source": [
    "from dotenv import load_dotenv\n",
    "\n",
    "load_dotenv()"
   ]
  },
  {
   "cell_type": "code",
   "execution_count": 2,
   "metadata": {},
   "outputs": [],
   "source": [
    "from langchain_openai import AzureChatOpenAI\n",
    "\n",
    "llm = AzureChatOpenAI(\n",
    "    azure_deployment='gpt-4o-2024-11-20',\n",
    "    api_version='2024-08-01-preview',   \n",
    ")\n",
    "\n",
    "small_llm = AzureChatOpenAI(\n",
    "    azure_deployment='gpt-4o-mini-2024-07-18',\n",
    "    api_version='2024-08-01-preview',\n",
    ")"
   ]
  },
  {
   "cell_type": "code",
   "execution_count": 3,
   "metadata": {},
   "outputs": [
    {
     "name": "stdout",
     "output_type": "stream",
     "text": [
      "\n",
      "\u001b[1m[\u001b[0m\u001b[34;49mnotice\u001b[0m\u001b[1;39;49m]\u001b[0m\u001b[39;49m A new release of pip is available: \u001b[0m\u001b[31;49m24.0\u001b[0m\u001b[39;49m -> \u001b[0m\u001b[32;49m24.3.1\u001b[0m\n",
      "\u001b[1m[\u001b[0m\u001b[34;49mnotice\u001b[0m\u001b[1;39;49m]\u001b[0m\u001b[39;49m To update, run: \u001b[0m\u001b[32;49mpip install --upgrade pip\u001b[0m\n",
      "Note: you may need to restart the kernel to use updated packages.\n"
     ]
    }
   ],
   "source": [
    "%pip install --upgrade --quiet  yfinance"
   ]
  },
  {
   "cell_type": "code",
   "execution_count": 4,
   "metadata": {},
   "outputs": [
    {
     "name": "stderr",
     "output_type": "stream",
     "text": [
      "USER_AGENT environment variable not set, consider setting it to identify your requests.\n"
     ]
    }
   ],
   "source": [
    "from langgraph.graph import MessagesState\n",
    "from langgraph.types import Command\n",
    "from typing import Literal\n",
    "from langchain_core.messages import HumanMessage\n",
    "from langchain_community.tools.yahoo_finance_news import YahooFinanceNewsTool\n",
    "\n",
    "from langgraph.prebuilt import create_react_agent\n",
    "from langchain_community.agent_toolkits.polygon.toolkit import PolygonToolkit\n",
    "from langchain_community.utilities.polygon import PolygonAPIWrapper\n",
    "\n",
    "# Polygon API를 초기화합니다.\n",
    "polygon = PolygonAPIWrapper()\n",
    "\n",
    "# Polygon API로부터 도구 모음을 생성합니다.\n",
    "toolkit = PolygonToolkit.from_polygon_api_wrapper(polygon)\n",
    "\n",
    "# 도구들을 가져옵니다.\n",
    "polygon_tools = toolkit.get_tools()\n",
    "\n",
    "# 시장 조사 도구 목록을 생성합니다.\n",
    "market_research_tools = [YahooFinanceNewsTool()] + polygon_tools\n",
    "\n",
    "# 시장 조사 에이전트를 생성합니다.\n",
    "market_research_agent = create_react_agent(\n",
    "    llm, \n",
    "    tools=market_research_tools, \n",
    "    state_modifier='You are a market researcher. Provide fact only not opinions'\n",
    ")\n",
    "\n",
    "def market_research_node(state: MessagesState) -> Command[Literal[\"supervisor\"]]:\n",
    "    \"\"\"\n",
    "    시장 조사 node입니다. 주어진 state를 기반으로 시장 조사 에이전트를 호출하고,\n",
    "    결과를 supervisor node로 전달합니다.\n",
    "\n",
    "    Args:\n",
    "        state (MessagesState): 현재 메시지 상태를 나타내는 객체입니다.\n",
    "\n",
    "    Returns:\n",
    "        Command: supervisor node로 이동하기 위한 명령을 반환합니다.\n",
    "    \"\"\"\n",
    "    # 시장 조사 에이전트를 호출하여 결과를 얻습니다.\n",
    "    result = market_research_agent.invoke(state)\n",
    "    \n",
    "    # 결과 메시지를 업데이트하고 supervisor node로 이동합니다.\n",
    "    return Command(\n",
    "        update={'messages': [HumanMessage(content=result['messages'][-1].content, name='market_research')]},\n",
    "        goto='supervisor'\n",
    "    )"
   ]
  },
  {
   "cell_type": "code",
   "execution_count": 5,
   "metadata": {},
   "outputs": [],
   "source": [
    "import yfinance as yf\n",
    "\n",
    "from langchain.tools import tool\n",
    "\n",
    "@tool\n",
    "def get_stock_price(ticker: str) -> dict:\n",
    "    \"\"\"Given a stock ticker, return the price data for the past month\"\"\"\n",
    "    stock_info = yf.download(ticker, period='1mo').to_dict()\n",
    "    return stock_info\n",
    "\n",
    "\n",
    "stock_research_tools = [get_stock_price]\n",
    "stock_research_agent = create_react_agent(\n",
    "    llm, tools=stock_research_tools, state_modifier='You are a stock researcher. Provide facts only not opinions'\n",
    ")\n",
    "\n",
    "def stock_research_node(state: MessagesState) -> Command[Literal[\"supervisor\"]]:\n",
    "    \"\"\"\n",
    "    주식 조사 node입니다. 주어진 State를 기반으로 주식 조사 에이전트를 호출하고,\n",
    "    결과를 supervisor node로 전달합니다.\n",
    "\n",
    "    Args:\n",
    "        state (MessagesState): 현재 메시지 상태를 나타내는 객체입니다.\n",
    "\n",
    "    Returns:\n",
    "        Command: supervisor node로 이동하기 위한 명령을 반환합니다.\n",
    "    \"\"\"\n",
    "    result = stock_research_agent.invoke(state)\n",
    "\n",
    "    return Command(\n",
    "        update={'messages': [HumanMessage(content=result['messages'][-1].content, name='stock_research')]},\n",
    "        goto='supervisor'\n",
    "    )"
   ]
  },
  {
   "cell_type": "code",
   "execution_count": 6,
   "metadata": {},
   "outputs": [],
   "source": [
    "@tool\n",
    "def company_research_tool(ticker: str) -> dict:\n",
    "    \"\"\"Given a ticker, return the financial information and SEC filings\"\"\"\n",
    "    company_info = yf.Ticker(ticker)\n",
    "    financial_info = company_info.get_financials()\n",
    "    sec_filings = company_info.get_sec_filings()\n",
    "    return {\n",
    "        'financial_info': financial_info,\n",
    "        'sec_filings': sec_filings\n",
    "    }\n",
    "\n",
    "company_research_tools = [company_research_tool]\n",
    "company_research_agent = create_react_agent(\n",
    "    llm, tools=company_research_tools, state_modifier='You are a company researcher. Provide facts only not opinions'\n",
    ")\n",
    "\n",
    "def company_research_node(state: MessagesState) -> Command[Literal[\"supervisor\"]]:\n",
    "    \"\"\"\n",
    "    회사 조사 node입니다. 주어진 State를 기반으로 회사 조사 에이전트를 호출하고,\n",
    "    결과를 supervisor node로 전달합니다.\n",
    "\n",
    "    Args:\n",
    "        state (MessagesState): 현재 메시지 상태를 나타내는 객체입니다.\n",
    "\n",
    "    Returns:\n",
    "        Command: supervisor node로 이동하기 위한 명령을 반환합니다.\n",
    "    \"\"\"\n",
    "    result = company_research_agent.invoke(state)\n",
    "\n",
    "    return Command(\n",
    "        update={'messages': [HumanMessage(content=result['messages'][-1].content, name='company_research')]},\n",
    "        goto='supervisor'\n",
    "    )"
   ]
  },
  {
   "cell_type": "code",
   "execution_count": 7,
   "metadata": {},
   "outputs": [],
   "source": [
    "from langchain_core.prompts import PromptTemplate\n",
    "\n",
    "analyst_prompt = PromptTemplate.from_template(\n",
    "    \"\"\"You are a stock market analyst. Given the following information, \n",
    "Please decide wheter to buy, sell, or hold the stock.\n",
    "\n",
    "Information:\n",
    "{messages}\"\"\"\n",
    ")\n",
    "\n",
    "analyst_chain = analyst_prompt | llm\n",
    "\n",
    "def analyst_node(state: MessagesState):\n",
    "    \"\"\"\n",
    "    분석가 node입니다. 주어진 State를 기반으로 분석가 체인을 호출하고,\n",
    "    결과 메시지를 반환합니다.\n",
    "\n",
    "    Args:\n",
    "        state (MessagesState): 현재 메시지 상태를 나타내는 객체입니다.\n",
    "\n",
    "    Returns:\n",
    "        dict: 분석 결과 메시지를 포함하는 딕셔너리를 반환합니다.\n",
    "    \"\"\"\n",
    "    result = analyst_chain.invoke({'messages': state['messages'][1:]})\n",
    "\n",
    "    return {'messages': [result]}"
   ]
  },
  {
   "cell_type": "markdown",
   "metadata": {},
   "source": [
    "- `supervisor`가 회사의 매니저와 유사한 역할을 하면서, 각 에이전트들의 결과를 종합하여 작업이 끝났는지 판단합니다"
   ]
  },
  {
   "cell_type": "code",
   "execution_count": 8,
   "metadata": {},
   "outputs": [],
   "source": [
    "from typing import Literal\n",
    "from typing_extensions import TypedDict\n",
    "\n",
    "from langgraph.graph import MessagesState, END\n",
    "from langgraph.types import Command\n",
    "\n",
    "\n",
    "members = [\"market_research\", \"stock_research\", \"company_research\"]\n",
    "options = members + [\"FINISH\"]\n",
    "\n",
    "system_prompt = (\n",
    "    \"You are a supervisor tasked with managing a conversation between the\"\n",
    "    f\" following workers: {members}. Given the following user request,\"\n",
    "    \" respond with the worker to act next. Each worker will perform a\"\n",
    "    \" task and respond with their results and status. When finished,\"\n",
    "    \" respond with FINISH.\"\n",
    ")\n",
    "\n",
    "\n",
    "class Router(TypedDict):\n",
    "    \"\"\"Worker to route to next. If no workers needed, route to FINISH.\"\"\"\n",
    "\n",
    "    next: Literal[*options]\n",
    "\n",
    "\n",
    "\n",
    "def supervisor_node(state: MessagesState) -> Command[Literal[*members, \"analyst\"]]:\n",
    "    \"\"\"\n",
    "    supervisor node입니다. 주어진 State를 기반으로 각 worker의 결과를 종합하고,\n",
    "    다음에 수행할 worker를 결정합니다. 모든 작업이 완료되면 analyst node로 이동합니다.\n",
    "\n",
    "    Args:\n",
    "        state (MessagesState): 현재 메시지 상태를 나타내는 객체입니다.\n",
    "\n",
    "    Returns:\n",
    "        Command: 다음에 수행할 worker 또는 analyst node로 이동하기 위한 명령을 반환합니다.\n",
    "    \"\"\"\n",
    "    messages = [\n",
    "        {\"role\": \"system\", \"content\": system_prompt},\n",
    "    ] + state[\"messages\"]\n",
    "    response = llm.with_structured_output(Router).invoke(messages)\n",
    "    goto = response[\"next\"]\n",
    "    if goto == \"FINISH\":\n",
    "        goto = \"analyst\"\n",
    "\n",
    "    return Command(goto=goto)"
   ]
  },
  {
   "cell_type": "markdown",
   "metadata": {},
   "source": [
    "- `node`를 추가하고 `edge`로 연결합니다"
   ]
  },
  {
   "cell_type": "code",
   "execution_count": 9,
   "metadata": {},
   "outputs": [
    {
     "data": {
      "text/plain": [
       "<langgraph.graph.state.StateGraph at 0x11fe0ac30>"
      ]
     },
     "execution_count": 9,
     "metadata": {},
     "output_type": "execute_result"
    }
   ],
   "source": [
    "from langgraph.graph import StateGraph, START\n",
    "\n",
    "graph_builder = StateGraph(MessagesState)\n",
    "\n",
    "graph_builder.add_node(\"supervisor\", supervisor_node)\n",
    "graph_builder.add_node(\"market_research\", market_research_node)\n",
    "graph_builder.add_node(\"stock_research\", stock_research_node)\n",
    "graph_builder.add_node(\"company_research\", company_research_node)\n",
    "graph_builder.add_node(\"analyst\", analyst_node)"
   ]
  },
  {
   "cell_type": "code",
   "execution_count": 10,
   "metadata": {},
   "outputs": [],
   "source": [
    "graph_builder.add_edge(START, \"supervisor\")\n",
    "graph_builder.add_edge(\"analyst\", END)\n",
    "graph = graph_builder.compile()\n"
   ]
  },
  {
   "cell_type": "code",
   "execution_count": 11,
   "metadata": {},
   "outputs": [
    {
     "data": {
      "image/png": "[encoded data removed]",
      "text/plain": [
       "<IPython.core.display.Image object>"
      ]
     },
     "metadata": {},
     "output_type": "display_data"
    }
   ],
   "source": [
    "from IPython.display import Image, display\n",
    "\n",
    "display(Image(graph.get_graph().draw_mermaid_png()))\n"
   ]
  },
  {
   "cell_type": "code",
   "execution_count": 12,
   "metadata": {},
   "outputs": [
    {
     "name": "stdout",
     "output_type": "stream",
     "text": [
      "================================\u001b[1m Human Message \u001b[0m=================================\n",
      "\n",
      "Would you invest in Snowflake?\n",
      "================================\u001b[1m Human Message \u001b[0m=================================\n",
      "Name: market_research\n",
      "\n",
      "I encountered technical difficulties retrieving financial data, stock price, and news for Snowflake (ticker: SNOW). Without this information, I cannot provide factual details about the company's investment potential. Let me know if you'd like me to attempt again or assist in another way.\n"
     ]
    },
    {
     "name": "stderr",
     "output_type": "stream",
     "text": [
      "[*********************100%***********************]  1 of 1 completed\n"
     ]
    },
    {
     "name": "stdout",
     "output_type": "stream",
     "text": [
      "================================\u001b[1m Human Message \u001b[0m=================================\n",
      "Name: stock_research\n",
      "\n",
      "Here is the past month's stock price data for Snowflake (ticker: SNOW):\n",
      "\n",
      "1. **Price Movement** (Closing Prices):\n",
      "   - December 4, 2024: $186.51\n",
      "   - December 18, 2024: $162.59\n",
      "   - December 31, 2024: $154.41\n",
      "   - January 3, 2025: $162.22\n",
      "\n",
      "2. **High and Low Prices**:\n",
      "   - Highest price: $186.90 on December 6, 2024.\n",
      "   - Lowest price: $153.12 on December 30, 2024.\n",
      "\n",
      "3. **Trading Volume**:\n",
      "   - Highest volume: 13.59 million shares on December 4, 2024.\n",
      "   - Lowest volume: 1.75 million shares on December 24, 2024.\n",
      "\n",
      "Let me know if you'd like further analysis or additional data on Snowflake.\n",
      "================================\u001b[1m Human Message \u001b[0m=================================\n",
      "Name: company_research\n",
      "\n",
      "Here are the key financial details and recent SEC filings for Snowflake (Ticker: SNOW):\n",
      "\n",
      "### **Financial Information**\n",
      "#### Recent Year-End (January 31, 2024):\n",
      "- **Total Revenue**: $2.81 billion\n",
      "- **Gross Profit**: $1.91 billion\n",
      "- **Net Income (Loss)**: -$836.1 million\n",
      "- **Diluted EPS**: -$2.55\n",
      "- **Operating Income (Loss)**: -$1.09 billion\n",
      "- **Research and Development Expenses**: $1.29 billion\n",
      "- **Selling, General, and Administrative Expenses**: $1.71 billion\n",
      "\n",
      "#### Past Year-End Comparisons:\n",
      "- **January 31, 2023**:\n",
      "  - Total Revenue: $2.07 billion\n",
      "  - Net Income (Loss): -$796.7 million\n",
      "  - Diluted EPS: -$2.50\n",
      "- **January 31, 2022**:\n",
      "  - Total Revenue: $1.22 billion\n",
      "  - Net Income (Loss): -$679.9 million\n",
      "  - Diluted EPS: -$2.26\n",
      "\n",
      "### **SEC Filings**\n",
      "#### Recent Notable Filings:\n",
      "1. **10-Q (Quarterly Report)** - Filed on November 27, 2024:\n",
      "   - [Link to Filing](https://finance.yahoo.com/sec-filing/SNOW/0001640147-24-000250_1640147)\n",
      "   - Includes financial statements and disclosures for FY2025 Q3.\n",
      "\n",
      "2. **8-K (Corporate Changes)** - Filed on November 20, 2024:\n",
      "   - [Link to Filing](https://finance.yahoo.com/sec-filing/SNOW/0001640147-24-000242_1640147)\n",
      "   - Covers corporate changes and voting matters.\n",
      "\n",
      "3. **SC 13G (Tender Offer/Acquisition Reports)** - Filed on November 8, 2024:\n",
      "   - [Link to Filing](https://finance.yahoo.com/sec-filing/SNOW/0002012383-24-004152_1640147)\n",
      "\n",
      "4. **10-Q (Quarterly Report)** - Filed on August 29, 2024:\n",
      "   - [Link to Filing](https://finance.yahoo.com/sec-filing/SNOW/0001640147-24-000207_1640147)\n",
      "   - Contains FY2025 Q2 financial updates.\n",
      "\n",
      "### Links to SEC Filings:\n",
      "- Full list of filings: [Snowflake SEC Filings](https://finance.yahoo.com/quote/SNOW/sec-filings/)\n",
      "\n",
      "Let me know if further details are needed.\n",
      "================================\u001b[1m Human Message \u001b[0m=================================\n",
      "Name: market_research\n",
      "\n",
      "I encountered technical issues while attempting to retrieve stock price data, financial details, and recent news for Snowflake (ticker: SNOW). Let me know if you'd like me to assist in another way or retry later.\n",
      "==================================\u001b[1m Ai Message \u001b[0m==================================\n",
      "\n",
      "Based on the provided information, here is an analysis of Snowflake (ticker: SNOW) and whether to **buy**, **sell**, or **hold** the stock:\n",
      "\n",
      "---\n",
      "\n",
      "### **Key Factors to Consider**\n",
      "\n",
      "#### **1. Stock Price Performance**\n",
      "- The stock has been trending down over the past month:\n",
      "  - December 4, 2024: $186.51  \n",
      "  - December 31, 2024: $154.41  \n",
      "  - January 3, 2025: $162.22 (slight recovery).\n",
      "- **Technical Perspective**: The stock hit a low of $153.12 on December 30, 2024, suggesting potential support in this range. However, the inability to sustain higher levels (e.g., $186.90 on December 6, 2024) indicates weakness in momentum.\n",
      "\n",
      "#### **2. Financial Performance**\n",
      "- **Revenue Growth**: Snowflake's revenue has shown strong year-over-year growth:\n",
      "  - FY2024: $2.81 billion (up from $2.07 billion in FY2023 and $1.22 billion in FY2022).\n",
      "  - This represents a **36% growth rate** YoY (FY2023 to FY2024).\n",
      "\n",
      "- **Profitability Concerns**: Despite revenue growth, the company remains unprofitable:\n",
      "  - Net income loss for FY2024: **-$836.1 million**.\n",
      "  - Operating losses are widening, primarily due to heavy investments in R&D ($1.29 billion) and SG&A expenses ($1.71 billion).\n",
      "  - Negative **EPS**: -$2.55 (FY2024), worse than prior years (-$2.50 in FY2023 and -$2.26 in FY2022).\n",
      "\n",
      "- **Cash Burn and Growth Investments**: Snowflake is clearly prioritizing growth over profitability, but the widening losses could weigh on investor sentiment, especially in a higher interest rate environment, where profitability becomes more critical.\n",
      "\n",
      "#### **3. Valuation and Sentiment**\n",
      "- Snowflake operates in the high-growth cloud and data analytics space, which remains attractive over the long term. However:\n",
      "  - Investors may be increasingly cautious about high-growth, unprofitable tech companies as macroeconomic conditions tighten.\n",
      "  - The recent decline in stock price and trading volume suggests weakening investor confidence.\n",
      "\n",
      "---\n",
      "\n",
      "### **Recommendation: HOLD**\n",
      "\n",
      "#### **Rationale:**\n",
      "1. **Short-Term Weakness**: The recent decline in Snowflake's stock price reflects both company-specific challenges (e.g., widening losses) and broader market sentiment against unprofitable growth stocks. This suggests limited upside in the near term.\n",
      "\n",
      "2. **Long-Term Potential**: Snowflake's strong revenue growth and position in the high-demand cloud and data analytics industry make it a compelling long-term investment. However, the company needs to demonstrate a clear path to profitability to regain investor confidence.\n",
      "\n",
      "3. **Risk vs. Reward**:\n",
      "   - **Downside Risks**: Continued losses, high operating costs, and potential valuation compression in a rising interest rate environment.\n",
      "   - **Upside Potential**: If Snowflake can improve operating efficiency and demonstrate progress toward profitability, the stock could see significant upside over the long term.\n",
      "\n",
      "#### **Action Plan**:\n",
      "- **HOLD** if you already own Snowflake shares.\n",
      "- Do not **BUY** until there are signs of consistent profitability or a significant improvement in operating margins.\n",
      "- Consider **SELLING** if Snowflake's losses continue to widen or if broader market conditions worsen, particularly for high-growth tech stocks.\n"
     ]
    }
   ],
   "source": [
    "for chunk in graph.stream(\n",
    "    {\"messages\": [(\"user\", \"Would you invest in Snowflake?\")]}, stream_mode=\"values\"\n",
    "):\n",
    "    chunk['messages'][-1].pretty_print()"
   ]
  },
  {
   "cell_type": "code",
   "execution_count": null,
   "metadata": {},
   "outputs": [],
   "source": []
  }
 ],
 "metadata": {
  "kernelspec": {
   "display_name": "inflearn-langgraph-lecture",
   "language": "python",
   "name": "python3"
  },
  "language_info": {
   "codemirror_mode": {
    "name": "ipython",
    "version": 3
   },
   "file_extension": ".py",
   "mimetype": "text/x-python",
   "name": "python",
   "nbconvert_exporter": "python",
   "pygments_lexer": "ipython3",
   "version": "3.12.2"
  }
 },
 "nbformat": 4,
 "nbformat_minor": 2
}
