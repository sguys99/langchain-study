{
 "cells": [
  {
   "cell_type": "markdown",
   "metadata": {},
   "source": [
    "# 3.7 \"찐\" Multi-Agent System (feat. create_react_agent)\n",
    "\n",
    "- 도구들을 활용하는 에이전트들이 협업하는 과정을 구현합니다"
   ]
  },
  {
   "cell_type": "code",
   "execution_count": 1,
   "metadata": {},
   "outputs": [
    {
     "data": {
      "text/plain": [
       "True"
      ]
     },
     "execution_count": 1,
     "metadata": {},
     "output_type": "execute_result"
    }
   ],
   "source": [
    "from dotenv import load_dotenv\n",
    "\n",
    "load_dotenv()"
   ]
  },
  {
   "cell_type": "code",
   "execution_count": 2,
   "metadata": {},
   "outputs": [],
   "source": [
    "from langchain_openai import ChatOpenAI\n",
    "\n",
    "llm = ChatOpenAI(\n",
    "    model = \"gpt-4o\"  \n",
    ")\n",
    "\n",
    "small_llm = ChatOpenAI(\n",
    "    model = \"gpt-4o-mini\"\n",
    ")"
   ]
  },
  {
   "cell_type": "code",
   "execution_count": 3,
   "metadata": {},
   "outputs": [],
   "source": [
    "# %pip install --upgrade --quiet  yfinance"
   ]
  },
  {
   "cell_type": "code",
   "execution_count": 4,
   "metadata": {},
   "outputs": [
    {
     "name": "stderr",
     "output_type": "stream",
     "text": [
      "USER_AGENT environment variable not set, consider setting it to identify your requests.\n"
     ]
    }
   ],
   "source": [
    "from langgraph.graph import MessagesState\n",
    "from langgraph.types import Command\n",
    "from typing import Literal\n",
    "from langchain_core.messages import HumanMessage\n",
    "from langchain_community.tools.yahoo_finance_news import YahooFinanceNewsTool\n",
    "\n",
    "from langgraph.prebuilt import create_react_agent\n",
    "from langchain_community.agent_toolkits.polygon.toolkit import PolygonToolkit\n",
    "from langchain_community.utilities.polygon import PolygonAPIWrapper\n",
    "\n",
    "# Polygon API를 초기화합니다.\n",
    "polygon = PolygonAPIWrapper()\n",
    "\n",
    "# Polygon API로부터 도구 모음을 생성합니다.\n",
    "toolkit = PolygonToolkit.from_polygon_api_wrapper(polygon)\n",
    "\n",
    "# 도구들을 가져옵니다.\n",
    "polygon_tools = toolkit.get_tools()\n",
    "\n",
    "# 시장 조사 도구 목록을 생성합니다.\n",
    "market_research_tools = [YahooFinanceNewsTool()] + polygon_tools\n",
    "\n",
    "# 시장 조사 에이전트를 생성합니다. 시장 조사만 하고 의견은 내지 않는다.\n",
    "market_research_agent = create_react_agent(\n",
    "    llm, \n",
    "    tools=market_research_tools, \n",
    "    state_modifier='You are a market researcher. Provide fact only not opinions'\n",
    ")\n",
    "# state_modifier: 프롬프트로 페르소나를 부여한 것과 유사사\n",
    "\n",
    "def market_research_node(state: MessagesState) -> Command[Literal[\"supervisor\"]]:\n",
    "    \"\"\"\n",
    "    시장 조사 node입니다. 주어진 state를 기반으로 시장 조사 에이전트를 호출하고,\n",
    "    결과를 supervisor node로 전달합니다.\n",
    "\n",
    "    Args:\n",
    "        state (MessagesState): 현재 메시지 상태를 나타내는 객체입니다.\n",
    "\n",
    "    Returns:\n",
    "        Command: supervisor node로 이동하기 위한 명령을 반환합니다.\n",
    "    \"\"\"\n",
    "    # 시장 조사 에이전트를 호출하여 결과를 얻습니다.\n",
    "    result = market_research_agent.invoke(state)\n",
    "    \n",
    "    # 결과 메시지를 업데이트하고 supervisor node로 이동합니다.\n",
    "    return Command(\n",
    "        update={'messages': [HumanMessage(content=result['messages'][-1].content, name='market_research')]},\n",
    "        goto='supervisor'\n",
    "    )\n",
    "    # market_research_agent는 react를 사용하므로 메시지가 길다. \n",
    "    # 그래서 마지막 메시지만 가져온다. 그리고 name에 'market_research'라는것도 남겨준다.\n",
    "    "
   ]
  },
  {
   "cell_type": "markdown",
   "metadata": {},
   "source": [
    "스톡 정보를 가져오는 에이전트 노드"
   ]
  },
  {
   "cell_type": "code",
   "execution_count": 5,
   "metadata": {},
   "outputs": [],
   "source": [
    "import yfinance as yf\n",
    "\n",
    "from langchain.tools import tool\n",
    "\n",
    "@tool\n",
    "def get_stock_price(ticker: str) -> dict:\n",
    "    \"\"\"Given a stock ticker, return the price data for the past month\"\"\"\n",
    "    stock_info = yf.download(ticker, period='1mo').to_dict()\n",
    "    return stock_info\n",
    "\n",
    "\n",
    "stock_research_tools = [get_stock_price]\n",
    "stock_research_agent = create_react_agent(\n",
    "    llm, tools=stock_research_tools, state_modifier='You are a stock researcher. Provide facts only not opinions'\n",
    ")\n",
    "\n",
    "def stock_research_node(state: MessagesState) -> Command[Literal[\"supervisor\"]]:\n",
    "    \"\"\"\n",
    "    주식 조사 node입니다. 주어진 State를 기반으로 주식 조사 에이전트를 호출하고,\n",
    "    결과를 supervisor node로 전달합니다.\n",
    "\n",
    "    Args:\n",
    "        state (MessagesState): 현재 메시지 상태를 나타내는 객체입니다.\n",
    "\n",
    "    Returns:\n",
    "        Command: supervisor node로 이동하기 위한 명령을 반환합니다.\n",
    "    \"\"\"\n",
    "    result = stock_research_agent.invoke(state)\n",
    "\n",
    "    return Command(\n",
    "        update={'messages': [HumanMessage(content=result['messages'][-1].content, name='stock_research')]},\n",
    "        goto='supervisor'\n",
    "    )"
   ]
  },
  {
   "cell_type": "markdown",
   "metadata": {},
   "source": [
    "재무재표 정보 가져오는 에이전트"
   ]
  },
  {
   "cell_type": "code",
   "execution_count": 6,
   "metadata": {},
   "outputs": [],
   "source": [
    "@tool\n",
    "def company_research_tool(ticker: str) -> dict: # 인자가 state가 아니어도 에이전트가 알아서 ticker를 추출해서 도구에 입력한다.\n",
    "    \"\"\"Given a ticker, return the financial information and SEC filings\"\"\"\n",
    "    company_info = yf.Ticker(ticker)\n",
    "    financial_info = company_info.get_financials()\n",
    "    sec_filings = company_info.get_sec_filings()\n",
    "    return {\n",
    "        'financial_info': financial_info,\n",
    "        'sec_filings': sec_filings\n",
    "    }\n",
    "\n",
    "company_research_tools = [company_research_tool]\n",
    "company_research_agent = create_react_agent(\n",
    "    llm, tools=company_research_tools, state_modifier='You are a company researcher. Provide facts only not opinions'\n",
    ")\n",
    "\n",
    "def company_research_node(state: MessagesState) -> Command[Literal[\"supervisor\"]]:\n",
    "    \"\"\"\n",
    "    회사 조사 node입니다. 주어진 State를 기반으로 회사 조사 에이전트를 호출하고,\n",
    "    결과를 supervisor node로 전달합니다.\n",
    "\n",
    "    Args:\n",
    "        state (MessagesState): 현재 메시지 상태를 나타내는 객체입니다.\n",
    "\n",
    "    Returns:\n",
    "        Command: supervisor node로 이동하기 위한 명령을 반환합니다.\n",
    "    \"\"\"\n",
    "    result = company_research_agent.invoke(state)\n",
    "\n",
    "    return Command(\n",
    "        update={'messages': [HumanMessage(content=result['messages'][-1].content, name='company_research')]},\n",
    "        goto='supervisor'\n",
    "    )"
   ]
  },
  {
   "cell_type": "markdown",
   "metadata": {},
   "source": [
    "Analyst 노드: 취합된 정보를 바탕으로 살지 팔지 결정하는 노드"
   ]
  },
  {
   "cell_type": "code",
   "execution_count": 7,
   "metadata": {},
   "outputs": [],
   "source": [
    "from langchain_core.prompts import PromptTemplate\n",
    "\n",
    "analyst_prompt = PromptTemplate.from_template(\n",
    "    \"\"\"You are a stock market analyst. Given the following information, \n",
    "Please decide wheter to buy, sell, or hold the stock.\n",
    "\n",
    "Information:\n",
    "{messages}\"\"\"\n",
    ")\n",
    "\n",
    "analyst_chain = analyst_prompt | llm\n",
    "\n",
    "def analyst_node(state: MessagesState):\n",
    "    \"\"\"\n",
    "    분석가 node입니다. 주어진 State를 기반으로 분석가 체인을 호출하고,\n",
    "    결과 메시지를 반환합니다.\n",
    "\n",
    "    Args:\n",
    "        state (MessagesState): 현재 메시지 상태를 나타내는 객체입니다.\n",
    "\n",
    "    Returns:\n",
    "        dict: 분석 결과 메시지를 포함하는 딕셔너리를 반환합니다.\n",
    "    \"\"\"\n",
    "    result = analyst_chain.invoke({'messages': state['messages'][1:]}) # 처음 supervisor 노드의 시스템 프롬프트를 제외하기 위해 1: 부터 정보만 활용\n",
    "\n",
    "    return {'messages': [result]}"
   ]
  },
  {
   "cell_type": "markdown",
   "metadata": {},
   "source": [
    "- `supervisor`가 회사의 매니저와 유사한 역할을 하면서, 각 에이전트들의 결과를 종합하여 작업이 끝났는지 판단합니다"
   ]
  },
  {
   "cell_type": "code",
   "execution_count": 8,
   "metadata": {},
   "outputs": [],
   "source": [
    "from typing import Literal\n",
    "from typing_extensions import TypedDict\n",
    "\n",
    "from langgraph.graph import MessagesState, END\n",
    "from langgraph.types import Command\n",
    "\n",
    "\n",
    "members = [\"market_research\", \"stock_research\", \"company_research\"]\n",
    "options = members + [\"FINISH\"]\n",
    "\n",
    "system_prompt = (\n",
    "    \"You are a supervisor tasked with managing a conversation between the\"\n",
    "    f\" following workers: {members}. Given the following user request,\"\n",
    "    \" respond with the worker to act next. Each worker will perform a\"\n",
    "    \" task and respond with their results and status. When finished,\"\n",
    "    \" respond with FINISH.\"\n",
    ")\n",
    "\n",
    "\n",
    "class Router(TypedDict):\n",
    "    \"\"\"Worker to route to next. If no workers needed, route to FINISH.\"\"\"\n",
    "\n",
    "    next: Literal[*options]\n",
    "\n",
    "\n",
    "\n",
    "def supervisor_node(state: MessagesState) -> Command[Literal[*members, \"analyst\"]]:\n",
    "    \"\"\"\n",
    "    supervisor node입니다. 주어진 State를 기반으로 각 worker의 결과를 종합하고,\n",
    "    다음에 수행할 worker를 결정합니다. 모든 작업이 완료되면 analyst node로 이동합니다.\n",
    "\n",
    "    Args:\n",
    "        state (MessagesState): 현재 메시지 상태를 나타내는 객체입니다.\n",
    "\n",
    "    Returns:\n",
    "        Command: 다음에 수행할 worker 또는 analyst node로 이동하기 위한 명령을 반환합니다.\n",
    "    \"\"\"\n",
    "    messages = [\n",
    "        {\"role\": \"system\", \"content\": system_prompt},\n",
    "    ] + state[\"messages\"]\n",
    "    response = llm.with_structured_output(Router).invoke(messages)\n",
    "    goto = response[\"next\"]\n",
    "    if goto == \"FINISH\":\n",
    "        goto = \"analyst\"\n",
    "\n",
    "    return Command(goto=goto)"
   ]
  },
  {
   "cell_type": "markdown",
   "metadata": {},
   "source": [
    "- `node`를 추가하고 `edge`로 연결합니다"
   ]
  },
  {
   "cell_type": "code",
   "execution_count": 9,
   "metadata": {},
   "outputs": [
    {
     "data": {
      "text/plain": [
       "<langgraph.graph.state.StateGraph at 0x7f325f381b80>"
      ]
     },
     "execution_count": 9,
     "metadata": {},
     "output_type": "execute_result"
    }
   ],
   "source": [
    "from langgraph.graph import StateGraph, START\n",
    "\n",
    "graph_builder = StateGraph(MessagesState)\n",
    "\n",
    "graph_builder.add_node(\"supervisor\", supervisor_node)\n",
    "graph_builder.add_node(\"market_research\", market_research_node)\n",
    "graph_builder.add_node(\"stock_research\", stock_research_node)\n",
    "graph_builder.add_node(\"company_research\", company_research_node)\n",
    "graph_builder.add_node(\"analyst\", analyst_node)"
   ]
  },
  {
   "cell_type": "code",
   "execution_count": 10,
   "metadata": {},
   "outputs": [],
   "source": [
    "graph_builder.add_edge(START, \"supervisor\")\n",
    "graph_builder.add_edge(\"analyst\", END)\n",
    "graph = graph_builder.compile()\n"
   ]
  },
  {
   "cell_type": "code",
   "execution_count": 11,
   "metadata": {},
   "outputs": [
    {
     "data": {
      "image/png": "[encoded data removed]",
      "text/plain": [
       "<IPython.core.display.Image object>"
      ]
     },
     "metadata": {},
     "output_type": "display_data"
    }
   ],
   "source": [
    "from IPython.display import Image, display\n",
    "\n",
    "display(Image(graph.get_graph().draw_mermaid_png()))\n"
   ]
  },
  {
   "cell_type": "code",
   "execution_count": 12,
   "metadata": {},
   "outputs": [
    {
     "name": "stdout",
     "output_type": "stream",
     "text": [
      "================================\u001b[1m Human Message \u001b[0m=================================\n",
      "\n",
      "Would you invest in Snowflake?\n",
      "================================\u001b[1m Human Message \u001b[0m=================================\n",
      "Name: market_research\n",
      "\n",
      "I cannot provide opinions or investment advice. However, I can provide you with factual information about Snowflake, such as its recent stock performance, financials, and news. Would you like me to gather this information for you?\n",
      "================================\u001b[1m Human Message \u001b[0m=================================\n",
      "Name: market_research\n",
      "\n",
      "Please specify what kind of information you would like about Snowflake, such as stock performance, financials, or recent news, and I will provide the relevant data.\n",
      "================================\u001b[1m Human Message \u001b[0m=================================\n",
      "Name: market_research\n",
      "\n",
      "Please let me know what kind of information you would like about Snowflake, such as stock performance, financials, or recent news, and I will provide the relevant data.\n",
      "================================\u001b[1m Human Message \u001b[0m=================================\n",
      "Name: stock_research\n",
      "\n",
      "I can provide you with Snowflake's recent stock performance. Would you like me to retrieve the price data for the past month?\n"
     ]
    },
    {
     "name": "stderr",
     "output_type": "stream",
     "text": [
      "Failed to get ticker 'SNOW' reason: Expecting value: line 1 column 1 (char 0)\n",
      "[*********************100%***********************]  1 of 1 completed\n",
      "\n",
      "1 Failed download:\n",
      "['SNOW']: JSONDecodeError('Expecting value: line 1 column 1 (char 0)')\n"
     ]
    },
    {
     "name": "stdout",
     "output_type": "stream",
     "text": [
      "================================\u001b[1m Human Message \u001b[0m=================================\n",
      "Name: stock_research\n",
      "\n",
      "It seems there is an issue retrieving the stock price data for Snowflake (ticker: SNOW) at the moment. Please try again later or check a financial platform for the latest stock information.\n"
     ]
    },
    {
     "name": "stderr",
     "output_type": "stream",
     "text": [
      "429 Client Error: Too Many Requests for url: https://query2.finance.yahoo.com/v10/finance/quoteSummary/SNOW?modules=secFilings&corsDomain=finance.yahoo.com&formatted=false&symbol=SNOW&crumb=Edge%3A+Too+Many+Requests\n"
     ]
    },
    {
     "name": "stdout",
     "output_type": "stream",
     "text": [
      "================================\u001b[1m Human Message \u001b[0m=================================\n",
      "Name: company_research\n",
      "\n",
      "I attempted to retrieve financial information and SEC filings for Snowflake (ticker: SNOW), but it seems there is no available data at the moment. For the most up-to-date information on Snowflake's financials, I recommend checking financial news websites, stock market platforms, or the SEC's official website for filings.\n"
     ]
    },
    {
     "name": "stderr",
     "output_type": "stream",
     "text": [
      "Failed to get ticker 'SNOW' reason: Expecting value: line 1 column 1 (char 0)\n",
      "[*********************100%***********************]  1 of 1 completed\n",
      "\n",
      "1 Failed download:\n",
      "['SNOW']: JSONDecodeError('Expecting value: line 1 column 1 (char 0)')\n"
     ]
    },
    {
     "name": "stdout",
     "output_type": "stream",
     "text": [
      "================================\u001b[1m Human Message \u001b[0m=================================\n",
      "Name: stock_research\n",
      "\n",
      "It seems there is an issue retrieving the stock price data for Snowflake (ticker: SNOW) at the moment. Please try again later or check a financial platform for the latest stock information.\n"
     ]
    },
    {
     "name": "stderr",
     "output_type": "stream",
     "text": [
      "429 Client Error: Too Many Requests for url: https://query2.finance.yahoo.com/v10/finance/quoteSummary/SNOW?modules=secFilings&corsDomain=finance.yahoo.com&formatted=false&symbol=SNOW&crumb=Edge%3A+Too+Many+Requests\n"
     ]
    },
    {
     "name": "stdout",
     "output_type": "stream",
     "text": [
      "================================\u001b[1m Human Message \u001b[0m=================================\n",
      "Name: company_research\n",
      "\n",
      "I attempted to retrieve financial information and SEC filings for Snowflake (ticker: SNOW), but it seems there is no available data at the moment. For the most up-to-date information on Snowflake's financials, I recommend checking financial news websites, stock market platforms, or the SEC's official website for filings.\n",
      "================================\u001b[1m Human Message \u001b[0m=================================\n",
      "Name: market_research\n",
      "\n",
      "Here is some factual information about Snowflake Inc. (SNOW):\n",
      "\n",
      "### Recent Stock Performance (September 2023)\n",
      "- On September 1, 2023, Snowflake's stock opened at $158.10 and closed at $157.08, with a high of $160.02 and a low of $156.75.\n",
      "- The trading volume on September 1 was 3,685,404.\n",
      "- By September 29, 2023, the stock closed at $152.77, with a monthly high of $172.35 on September 11 and a monthly low of $147.05 on September 28.\n",
      "\n",
      "### Financials (as of Fiscal Year 2025)\n",
      "- **Revenues**: $3,839,761,000\n",
      "- **Net Income/Loss**: -$1,401,348,000\n",
      "- **Operating Income/Loss**: -$1,554,695,000\n",
      "- **Assets**: $8,157,407,000\n",
      "- **Liabilities**: $5,742,553,000\n",
      "- **Equity**: $2,414,854,000\n",
      "\n",
      "### Recent News\n",
      "1. **Positive Sentiments**: Snowflake has been highlighted in articles as having strong growth potential due to its cloud-based data platform and flexibility across different cloud services.\n",
      "2. **Acquisitions**: Snowflake acquired Crunchy Data, an enterprise-focused Postgres provider, to offer Postgres natively on its platform, which aims to consolidate data and applications for easier workload management.\n",
      "3. **Partnerships**: Snowflake has been recognized for its collaborations with companies like Dataiku and MathCo to enhance AI-driven innovations and analytics capabilities.\n",
      "4. **Product Innovations**: Snowflake's platform has been integrated with AI capabilities for improved data governance and analytics, as seen with partners like Striim and ThoughtSpot.\n",
      "\n",
      "These insights might help you make an informed decision regarding Snowflake.\n",
      "==================================\u001b[1m Ai Message \u001b[0m==================================\n",
      "\n",
      "Based on the information provided, here are some key considerations for making an investment decision regarding Snowflake Inc. (SNOW):\n",
      "\n",
      "### Stock Performance\n",
      "- The stock has shown some volatility in September 2023, with a high of $172.35 and a low of $147.05. The closing price on September 29 was $152.77.\n",
      "- The stock price decreased from $157.08 on September 1 to $152.77 on September 29.\n",
      "\n",
      "### Financials\n",
      "- Snowflake reported a significant net loss of $1.4 billion for Fiscal Year 2025, with operating losses also being substantial at $1.55 billion.\n",
      "- Despite the losses, the company has a strong asset base of $8.15 billion compared to liabilities of $5.74 billion, resulting in equity of $2.41 billion.\n",
      "\n",
      "### Recent News\n",
      "- Positive sentiment around growth potential due to its cloud-based data platform.\n",
      "- Strategic acquisitions and partnerships aimed at enhancing its platform and expanding capabilities, particularly in AI and analytics.\n",
      "- Innovations in product offerings which could drive future growth.\n",
      "\n",
      "### Considerations\n",
      "- **Buy**: If you believe in the long-term growth potential of Snowflake's business model and its efforts in AI and cloud integration, and you are comfortable with the current financial losses as part of its growth strategy.\n",
      "- **Hold**: If you currently own the stock and want to wait for more financial stability or clear signs of turnaround in net income before making further decisions.\n",
      "- **Sell**: If you are concerned about the company's ongoing financial losses and believe that these may outweigh the potential growth opportunities.\n",
      "\n",
      "Ultimately, the decision to buy, sell, or hold should be based on your own investment strategy, risk tolerance, and confidence in the company's future prospects. It may also be beneficial to consult with a financial advisor for personalized advice.\n"
     ]
    }
   ],
   "source": [
    "for chunk in graph.stream(\n",
    "    {\"messages\": [(\"user\", \"Would you invest in Snowflake?\")]}, stream_mode=\"values\"\n",
    "):\n",
    "    chunk['messages'][-1].pretty_print()"
   ]
  },
  {
   "cell_type": "code",
   "execution_count": null,
   "metadata": {},
   "outputs": [],
   "source": []
  }
 ],
 "metadata": {
  "kernelspec": {
   "display_name": "inflearn-langgraph",
   "language": "python",
   "name": "python3"
  },
  "language_info": {
   "codemirror_mode": {
    "name": "ipython",
    "version": 3
   },
   "file_extension": ".py",
   "mimetype": "text/x-python",
   "name": "python",
   "nbconvert_exporter": "python",
   "pygments_lexer": "ipython3",
   "version": "3.12.11"
  }
 },
 "nbformat": 4,
 "nbformat_minor": 2
}
