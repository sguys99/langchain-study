{
 "cells": [
  {
   "cell_type": "code",
   "execution_count": 1,
   "metadata": {},
   "outputs": [],
   "source": [
    "#%pip install langchain-openai python-dotenv"
   ]
  },
  {
   "cell_type": "code",
   "execution_count": 2,
   "metadata": {},
   "outputs": [],
   "source": [
    "#%pip install langchain-community"
   ]
  },
  {
   "cell_type": "code",
   "execution_count": null,
   "metadata": {},
   "outputs": [],
   "source": []
  },
  {
   "cell_type": "markdown",
   "metadata": {},
   "source": [
    "로컬에서 돌아가므로 API키 불필요"
   ]
  },
  {
   "cell_type": "code",
   "execution_count": 3,
   "metadata": {},
   "outputs": [],
   "source": [
    "from langchain_community.chat_models import ChatOllama"
   ]
  },
  {
   "cell_type": "code",
   "execution_count": 4,
   "metadata": {},
   "outputs": [],
   "source": [
    "llm = ChatOllama(model=\"llama3\")"
   ]
  },
  {
   "cell_type": "code",
   "execution_count": 5,
   "metadata": {},
   "outputs": [],
   "source": [
    "ai_message= llm.invoke(\"인프런에 어떤 강의가 있나요?\")"
   ]
  },
  {
   "cell_type": "code",
   "execution_count": 6,
   "metadata": {},
   "outputs": [
    {
     "data": {
      "text/plain": [
       "AIMessage(content=\"🤔 Inflearn (인프런) is a popular online learning platform in Korea that offers a wide range of courses and tutorials. Here are some examples of the types of courses you can find on Inflearn:\\n\\n1. **Programming**: Python, Java, JavaScript, C++, Ruby, Swift, etc.\\n2. **Data Science**: Machine Learning, Deep Learning, Data Analysis, Statistics, etc.\\n3. **Web Development**: HTML/CSS, React, Angular, Vue.js, Django, Flask, etc.\\n4. **Mobile App Development**: Android, iOS, Flutter, React Native, etc.\\n5. **AI/ML**: Natural Language Processing (NLP), Computer Vision, Reinforcement Learning, etc.\\n6. **Game Development**: Unity, Unreal Engine, C++, Java, etc.\\n7. **IT/Networking**: Network Security, Cloud Computing, Cybersecurity, CompTIA certifications, etc.\\n8. **Business**: Marketing, Entrepreneurship, Management, Finance, etc.\\n9. **Design**: UX/UI Design, Graphic Design, Web Design, Animation, etc.\\n\\nThese courses are taught by experienced instructors and often include hands-on exercises, quizzes, and projects to help you learn and apply the concepts. Inflearn also offers various certifications and badges upon completing a course or achieving specific milestones.\\n\\nIf you're interested in learning something new, I recommend checking out Inflearn's course catalog and exploring the topics that interest you! 💡\", response_metadata={'model': 'llama3', 'created_at': '2024-08-12T23:28:06.080191Z', 'message': {'role': 'assistant', 'content': ''}, 'done_reason': 'stop', 'done': True, 'total_duration': 10339795375, 'load_duration': 4822612541, 'prompt_eval_count': 21, 'prompt_eval_duration': 93397000, 'eval_count': 294, 'eval_duration': 5422830000}, id='run-817d423f-ed2a-43c5-8747-19258a605f78-0')"
      ]
     },
     "execution_count": 6,
     "metadata": {},
     "output_type": "execute_result"
    }
   ],
   "source": [
    "ai_message"
   ]
  },
  {
   "cell_type": "code",
   "execution_count": null,
   "metadata": {},
   "outputs": [],
   "source": []
  }
 ],
 "metadata": {
  "kernelspec": {
   "display_name": "rag",
   "language": "python",
   "name": "python3"
  },
  "language_info": {
   "codemirror_mode": {
    "name": "ipython",
    "version": 3
   },
   "file_extension": ".py",
   "mimetype": "text/x-python",
   "name": "python",
   "nbconvert_exporter": "python",
   "pygments_lexer": "ipython3",
   "version": "3.10.14"
  }
 },
 "nbformat": 4,
 "nbformat_minor": 2
}
