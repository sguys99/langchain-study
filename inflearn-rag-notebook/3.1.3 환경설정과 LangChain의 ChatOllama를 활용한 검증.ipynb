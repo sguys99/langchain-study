{
 "cells": [
  {
   "cell_type": "markdown",
   "id": "da2e6fd3",
   "metadata": {},
   "source": [
    "# 3.3 환경설정과 LangChain의 ChatOllama를 활용한 검증"
   ]
  },
  {
   "cell_type": "markdown",
   "id": "98fa606c",
   "metadata": {},
   "source": [
    "<div style=\"text-align: right\"> Initial issue : 2022.09.12 </div>\n",
    "<div style=\"text-align: right\"> last update : 2022.09.12 </div>"
   ]
  },
  {
   "cell_type": "markdown",
   "id": "f55cdb15",
   "metadata": {},
   "source": [
    "- https://python.langchain.com/v0.2/docs/integrations/chat/ollama/"
   ]
  },
  {
   "cell_type": "code",
   "execution_count": 1,
   "id": "78d139d8",
   "metadata": {},
   "outputs": [
    {
     "name": "stdout",
     "output_type": "stream",
     "text": [
      "Requirement already satisfied: python-dotenv in /Users/sguys99/anaconda3/envs/rag/lib/python3.11/site-packages (1.0.1)\n",
      "Requirement already satisfied: langchain-community in /Users/sguys99/anaconda3/envs/rag/lib/python3.11/site-packages (0.2.16)\n",
      "Requirement already satisfied: PyYAML>=5.3 in /Users/sguys99/anaconda3/envs/rag/lib/python3.11/site-packages (from langchain-community) (6.0.2)\n",
      "Requirement already satisfied: SQLAlchemy<3,>=1.4 in /Users/sguys99/anaconda3/envs/rag/lib/python3.11/site-packages (from langchain-community) (2.0.34)\n",
      "Requirement already satisfied: aiohttp<4.0.0,>=3.8.3 in /Users/sguys99/anaconda3/envs/rag/lib/python3.11/site-packages (from langchain-community) (3.10.5)\n",
      "Requirement already satisfied: dataclasses-json<0.7,>=0.5.7 in /Users/sguys99/anaconda3/envs/rag/lib/python3.11/site-packages (from langchain-community) (0.6.7)\n",
      "Requirement already satisfied: langchain<0.3.0,>=0.2.16 in /Users/sguys99/anaconda3/envs/rag/lib/python3.11/site-packages (from langchain-community) (0.2.16)\n",
      "Requirement already satisfied: langchain-core<0.3.0,>=0.2.38 in /Users/sguys99/anaconda3/envs/rag/lib/python3.11/site-packages (from langchain-community) (0.2.39)\n",
      "Requirement already satisfied: langsmith<0.2.0,>=0.1.0 in /Users/sguys99/anaconda3/envs/rag/lib/python3.11/site-packages (from langchain-community) (0.1.118)\n",
      "Requirement already satisfied: numpy<2,>=1 in /Users/sguys99/anaconda3/envs/rag/lib/python3.11/site-packages (from langchain-community) (1.26.4)\n",
      "Requirement already satisfied: requests<3,>=2 in /Users/sguys99/anaconda3/envs/rag/lib/python3.11/site-packages (from langchain-community) (2.32.3)\n",
      "Requirement already satisfied: tenacity!=8.4.0,<9.0.0,>=8.1.0 in /Users/sguys99/anaconda3/envs/rag/lib/python3.11/site-packages (from langchain-community) (8.5.0)\n",
      "Requirement already satisfied: aiohappyeyeballs>=2.3.0 in /Users/sguys99/anaconda3/envs/rag/lib/python3.11/site-packages (from aiohttp<4.0.0,>=3.8.3->langchain-community) (2.4.0)\n",
      "Requirement already satisfied: aiosignal>=1.1.2 in /Users/sguys99/anaconda3/envs/rag/lib/python3.11/site-packages (from aiohttp<4.0.0,>=3.8.3->langchain-community) (1.3.1)\n",
      "Requirement already satisfied: attrs>=17.3.0 in /Users/sguys99/anaconda3/envs/rag/lib/python3.11/site-packages (from aiohttp<4.0.0,>=3.8.3->langchain-community) (24.2.0)\n",
      "Requirement already satisfied: frozenlist>=1.1.1 in /Users/sguys99/anaconda3/envs/rag/lib/python3.11/site-packages (from aiohttp<4.0.0,>=3.8.3->langchain-community) (1.4.1)\n",
      "Requirement already satisfied: multidict<7.0,>=4.5 in /Users/sguys99/anaconda3/envs/rag/lib/python3.11/site-packages (from aiohttp<4.0.0,>=3.8.3->langchain-community) (6.1.0)\n",
      "Requirement already satisfied: yarl<2.0,>=1.0 in /Users/sguys99/anaconda3/envs/rag/lib/python3.11/site-packages (from aiohttp<4.0.0,>=3.8.3->langchain-community) (1.11.1)\n",
      "Requirement already satisfied: marshmallow<4.0.0,>=3.18.0 in /Users/sguys99/anaconda3/envs/rag/lib/python3.11/site-packages (from dataclasses-json<0.7,>=0.5.7->langchain-community) (3.22.0)\n",
      "Requirement already satisfied: typing-inspect<1,>=0.4.0 in /Users/sguys99/anaconda3/envs/rag/lib/python3.11/site-packages (from dataclasses-json<0.7,>=0.5.7->langchain-community) (0.9.0)\n",
      "Requirement already satisfied: langchain-text-splitters<0.3.0,>=0.2.0 in /Users/sguys99/anaconda3/envs/rag/lib/python3.11/site-packages (from langchain<0.3.0,>=0.2.16->langchain-community) (0.2.4)\n",
      "Requirement already satisfied: pydantic<3,>=1 in /Users/sguys99/anaconda3/envs/rag/lib/python3.11/site-packages (from langchain<0.3.0,>=0.2.16->langchain-community) (2.9.1)\n",
      "Requirement already satisfied: jsonpatch<2.0,>=1.33 in /Users/sguys99/anaconda3/envs/rag/lib/python3.11/site-packages (from langchain-core<0.3.0,>=0.2.38->langchain-community) (1.33)\n",
      "Requirement already satisfied: packaging<25,>=23.2 in /Users/sguys99/anaconda3/envs/rag/lib/python3.11/site-packages (from langchain-core<0.3.0,>=0.2.38->langchain-community) (24.1)\n",
      "Requirement already satisfied: typing-extensions>=4.7 in /Users/sguys99/anaconda3/envs/rag/lib/python3.11/site-packages (from langchain-core<0.3.0,>=0.2.38->langchain-community) (4.12.2)\n",
      "Requirement already satisfied: httpx<1,>=0.23.0 in /Users/sguys99/anaconda3/envs/rag/lib/python3.11/site-packages (from langsmith<0.2.0,>=0.1.0->langchain-community) (0.27.2)\n",
      "Requirement already satisfied: orjson<4.0.0,>=3.9.14 in /Users/sguys99/anaconda3/envs/rag/lib/python3.11/site-packages (from langsmith<0.2.0,>=0.1.0->langchain-community) (3.10.7)\n",
      "Requirement already satisfied: charset-normalizer<4,>=2 in /Users/sguys99/anaconda3/envs/rag/lib/python3.11/site-packages (from requests<3,>=2->langchain-community) (3.3.2)\n",
      "Requirement already satisfied: idna<4,>=2.5 in /Users/sguys99/anaconda3/envs/rag/lib/python3.11/site-packages (from requests<3,>=2->langchain-community) (3.8)\n",
      "Requirement already satisfied: urllib3<3,>=1.21.1 in /Users/sguys99/anaconda3/envs/rag/lib/python3.11/site-packages (from requests<3,>=2->langchain-community) (2.2.2)\n",
      "Requirement already satisfied: certifi>=2017.4.17 in /Users/sguys99/anaconda3/envs/rag/lib/python3.11/site-packages (from requests<3,>=2->langchain-community) (2024.8.30)\n",
      "Requirement already satisfied: anyio in /Users/sguys99/anaconda3/envs/rag/lib/python3.11/site-packages (from httpx<1,>=0.23.0->langsmith<0.2.0,>=0.1.0->langchain-community) (4.4.0)\n",
      "Requirement already satisfied: httpcore==1.* in /Users/sguys99/anaconda3/envs/rag/lib/python3.11/site-packages (from httpx<1,>=0.23.0->langsmith<0.2.0,>=0.1.0->langchain-community) (1.0.5)\n",
      "Requirement already satisfied: sniffio in /Users/sguys99/anaconda3/envs/rag/lib/python3.11/site-packages (from httpx<1,>=0.23.0->langsmith<0.2.0,>=0.1.0->langchain-community) (1.3.1)\n",
      "Requirement already satisfied: h11<0.15,>=0.13 in /Users/sguys99/anaconda3/envs/rag/lib/python3.11/site-packages (from httpcore==1.*->httpx<1,>=0.23.0->langsmith<0.2.0,>=0.1.0->langchain-community) (0.14.0)\n",
      "Requirement already satisfied: jsonpointer>=1.9 in /Users/sguys99/anaconda3/envs/rag/lib/python3.11/site-packages (from jsonpatch<2.0,>=1.33->langchain-core<0.3.0,>=0.2.38->langchain-community) (3.0.0)\n",
      "Requirement already satisfied: annotated-types>=0.6.0 in /Users/sguys99/anaconda3/envs/rag/lib/python3.11/site-packages (from pydantic<3,>=1->langchain<0.3.0,>=0.2.16->langchain-community) (0.7.0)\n",
      "Requirement already satisfied: pydantic-core==2.23.3 in /Users/sguys99/anaconda3/envs/rag/lib/python3.11/site-packages (from pydantic<3,>=1->langchain<0.3.0,>=0.2.16->langchain-community) (2.23.3)\n",
      "Requirement already satisfied: mypy-extensions>=0.3.0 in /Users/sguys99/anaconda3/envs/rag/lib/python3.11/site-packages (from typing-inspect<1,>=0.4.0->dataclasses-json<0.7,>=0.5.7->langchain-community) (1.0.0)\n",
      "Note: you may need to restart the kernel to use updated packages.\n"
     ]
    }
   ],
   "source": [
    "%pip install python-dotenv langchain-community"
   ]
  },
  {
   "cell_type": "code",
   "execution_count": 2,
   "id": "c6846c47",
   "metadata": {},
   "outputs": [
    {
     "data": {
      "text/plain": [
       "True"
      ]
     },
     "execution_count": 2,
     "metadata": {},
     "output_type": "execute_result"
    }
   ],
   "source": [
    "from dotenv import load_dotenv\n",
    "load_dotenv()"
   ]
  },
  {
   "cell_type": "markdown",
   "id": "9cfbff3e",
   "metadata": {},
   "source": [
    "### 1. ChatOllama"
   ]
  },
  {
   "cell_type": "code",
   "execution_count": 3,
   "id": "ced13347",
   "metadata": {},
   "outputs": [],
   "source": [
    "from langchain_community.chat_models import ChatOllama"
   ]
  },
  {
   "cell_type": "code",
   "execution_count": 4,
   "id": "7d258720",
   "metadata": {},
   "outputs": [],
   "source": [
    "llm = ChatOllama(model=\"llama3\")"
   ]
  },
  {
   "cell_type": "code",
   "execution_count": 5,
   "id": "8f324ead",
   "metadata": {},
   "outputs": [
    {
     "data": {
      "text/plain": [
       "AIMessage(content='안녕하세요! 👋 Nice to meet you! 😊 What can I help you with today? 💬', response_metadata={'model': 'llama3', 'created_at': '2024-09-12T00:11:33.085679Z', 'message': {'role': 'assistant', 'content': ''}, 'done_reason': 'stop', 'done': True, 'total_duration': 640473667, 'load_duration': 32045375, 'prompt_eval_count': 13, 'prompt_eval_duration': 169604000, 'eval_count': 23, 'eval_duration': 437930000}, id='run-eaa11aab-0221-4ee3-9c0a-ef6d0f37347e-0')"
      ]
     },
     "execution_count": 5,
     "metadata": {},
     "output_type": "execute_result"
    }
   ],
   "source": [
    "llm.invoke(\"안녕하세요.\")"
   ]
  },
  {
   "cell_type": "code",
   "execution_count": 6,
   "id": "873758b7",
   "metadata": {},
   "outputs": [],
   "source": [
    "# llm.invoke({\"question\": \"안녕하세요.\"})"
   ]
  },
  {
   "cell_type": "code",
   "execution_count": null,
   "id": "e9180280",
   "metadata": {},
   "outputs": [],
   "source": []
  }
 ],
 "metadata": {
  "kernelspec": {
   "display_name": "Python 3",
   "language": "python",
   "name": "python3"
  },
  "language_info": {
   "codemirror_mode": {
    "name": "ipython",
    "version": 3
   },
   "file_extension": ".py",
   "mimetype": "text/x-python",
   "name": "python",
   "nbconvert_exporter": "python",
   "pygments_lexer": "ipython3",
   "version": "3.11.9"
  }
 },
 "nbformat": 4,
 "nbformat_minor": 5
}
