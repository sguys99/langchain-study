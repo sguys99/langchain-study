{
 "cells": [
  {
   "cell_type": "code",
   "execution_count": 1,
   "metadata": {},
   "outputs": [],
   "source": [
    "#%pip install langchain-openai python-dotenv"
   ]
  },
  {
   "cell_type": "code",
   "execution_count": 2,
   "metadata": {},
   "outputs": [
    {
     "data": {
      "text/plain": [
       "True"
      ]
     },
     "execution_count": 2,
     "metadata": {},
     "output_type": "execute_result"
    }
   ],
   "source": [
    "from dotenv import load_dotenv\n",
    "\n",
    "load_dotenv()"
   ]
  },
  {
   "cell_type": "code",
   "execution_count": 3,
   "metadata": {},
   "outputs": [],
   "source": [
    "from langchain_openai import ChatOpenAI\n",
    "\n",
    "llm = ChatOpenAI()"
   ]
  },
  {
   "cell_type": "code",
   "execution_count": 4,
   "metadata": {},
   "outputs": [
    {
     "data": {
      "text/plain": [
       "AIMessage(content='인프런에는 다양한 주제의 강의가 있습니다. 프로그래밍, 디자인, 비즈니스, 언어, 자기계발 등 다양한 분야의 강의를 수강할 수 있습니다. 원하는 주제나 분야에 맞는 강의를 검색하여 수강할 수 있습니다. 또한 전문가들이 진행하는 실전 강의나 온라인 강의도 있으니 자신에게 맞는 강의를 찾아 수강해 보세요.', additional_kwargs={'refusal': None}, response_metadata={'token_usage': {'completion_tokens': 150, 'prompt_tokens': 26, 'total_tokens': 176}, 'model_name': 'gpt-3.5-turbo-0125', 'system_fingerprint': None, 'finish_reason': 'stop', 'logprobs': None}, id='run-c4d63fe8-3734-4843-9aaa-5ee2c3323388-0', usage_metadata={'input_tokens': 26, 'output_tokens': 150, 'total_tokens': 176})"
      ]
     },
     "execution_count": 4,
     "metadata": {},
     "output_type": "execute_result"
    }
   ],
   "source": [
    "llm.invoke(\"인프런에 어떤 강의가 있나요?\")"
   ]
  },
  {
   "cell_type": "code",
   "execution_count": 5,
   "metadata": {},
   "outputs": [
    {
     "data": {
      "text/plain": [
       "'인프런에는 다양한 주제와 분야의 강의들이 있습니다. 프로그래밍, 디자인, 비즈니스, 마케팅, 언어, 라이프스타일 등 다양한 주제의 강의를 제공하고 있습니다. 또한 인기 있는 유튜버나 전문가들이 진행하는 강좌도 많이 있어서 학습자들이 원하는 주제를 선택하여 공부할 수 있습니다. 인프런의 강의들은 동영상 강의 형식으로 제공되며 강의자료와 퀴즈, 과제 등을 통해 학습 효과를 극대화할 수 있습니다. 자신에게 필요한 강의를 찾아 수강하고 새로운 지식을 습득해보세요.'"
      ]
     },
     "execution_count": 5,
     "metadata": {},
     "output_type": "execute_result"
    }
   ],
   "source": [
    "ai_message = llm.invoke(\"인프런에 어떤 강의가 있나요?\")\n",
    "ai_message.content"
   ]
  },
  {
   "cell_type": "markdown",
   "metadata": {},
   "source": [
    "openapi 결제가 부담되는경우.... upstage api"
   ]
  },
  {
   "cell_type": "code",
   "execution_count": 9,
   "metadata": {},
   "outputs": [],
   "source": [
    "#%pip install langchain-upstage"
   ]
  },
  {
   "cell_type": "code",
   "execution_count": 10,
   "metadata": {},
   "outputs": [
    {
     "data": {
      "text/plain": [
       "True"
      ]
     },
     "execution_count": 10,
     "metadata": {},
     "output_type": "execute_result"
    }
   ],
   "source": [
    "from dotenv import load_dotenv\n",
    "\n",
    "load_dotenv()"
   ]
  },
  {
   "cell_type": "code",
   "execution_count": 11,
   "metadata": {},
   "outputs": [],
   "source": [
    "from langchain_upstage import ChatUpstage"
   ]
  },
  {
   "cell_type": "code",
   "execution_count": 12,
   "metadata": {},
   "outputs": [
    {
     "data": {
      "text/plain": [
       "'인프런은 다양한 분야의 강의를 제공하는 온라인 교육 플랫폼입니다. 인프런에서는 프로그래밍, 데이터 분석, 마케팅, 비즈니스, 디자인, 라이프 등 다양한 주제의 강의를 찾아볼 수 있습니다.\\n\\n인프런에서는 인기 있는 강의로는 다음과 같은 것들이 있습니다.\\n\\n* 프로그래밍: 파이썬, 자바, 자바스크립트, C++, C# 등 다양한 프로그래밍 언어 강의\\n* 데이터 분석: 파이썬을 활용한 데이터 분석, 머신러닝, 딥러닝, 데이터 시각화 등\\n* 마케팅: 디지털 마케팅, 소셜 미디어 마케팅, 검색 엔진 마케팅 등\\n* 비즈니스: 경영 전략, 마케팅 전략, 재무 관리, 창업 등\\n* 디자인: 그래픽 디자인, 웹 디자인, UI/UX 디자인 등\\n* 라이프: 건강, 취미, 자기계발, 여행 등 다양한 주제의 강의\\n\\n인프런에서는 새로운 강의가 계속해서 추가되고 있으니, 관심 있는 분야의 강의를 찾아보시면 좋을 것 같습니다.'"
      ]
     },
     "execution_count": 12,
     "metadata": {},
     "output_type": "execute_result"
    }
   ],
   "source": [
    "llm = ChatUpstage()\n",
    "ai_message = llm.invoke(\"인프런에 어떤 강의가 있나요?\")\n",
    "ai_message.content"
   ]
  },
  {
   "cell_type": "markdown",
   "metadata": {},
   "source": [
    "- 랭체인의 장점: 모델만 바꿔주면 된다."
   ]
  },
  {
   "cell_type": "markdown",
   "metadata": {},
   "source": [
    "https://python.langchain.com/v0.1/docs/integrations/chat/"
   ]
  },
  {
   "cell_type": "markdown",
   "metadata": {},
   "source": [
    "### Ollama"
   ]
  },
  {
   "cell_type": "code",
   "execution_count": null,
   "metadata": {},
   "outputs": [],
   "source": []
  }
 ],
 "metadata": {
  "kernelspec": {
   "display_name": "rag",
   "language": "python",
   "name": "python3"
  },
  "language_info": {
   "codemirror_mode": {
    "name": "ipython",
    "version": 3
   },
   "file_extension": ".py",
   "mimetype": "text/x-python",
   "name": "python",
   "nbconvert_exporter": "python",
   "pygments_lexer": "ipython3",
   "version": "3.10.14"
  }
 },
 "nbformat": 4,
 "nbformat_minor": 2
}
