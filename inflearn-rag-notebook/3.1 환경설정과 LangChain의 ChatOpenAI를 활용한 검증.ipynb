{
 "cells": [
  {
   "cell_type": "markdown",
   "id": "da2e6fd3",
   "metadata": {},
   "source": [
    "# 3.1 환경설정과 LangChain의 ChatOpenAI를 활용한 검증"
   ]
  },
  {
   "cell_type": "markdown",
   "id": "98fa606c",
   "metadata": {},
   "source": [
    "<div style=\"text-align: right\"> Initial issue : 2022.09.12 </div>\n",
    "<div style=\"text-align: right\"> last update : 2022.09.12 </div>"
   ]
  },
  {
   "cell_type": "code",
   "execution_count": 1,
   "id": "78d139d8",
   "metadata": {},
   "outputs": [
    {
     "name": "stdout",
     "output_type": "stream",
     "text": [
      "Requirement already satisfied: python-dotenv in /Users/sguys99/anaconda3/envs/rag/lib/python3.11/site-packages (1.0.1)\n",
      "Requirement already satisfied: langchain-openai in /Users/sguys99/anaconda3/envs/rag/lib/python3.11/site-packages (0.1.23)\n",
      "Requirement already satisfied: langchain-core<0.3.0,>=0.2.35 in /Users/sguys99/anaconda3/envs/rag/lib/python3.11/site-packages (from langchain-openai) (0.2.39)\n",
      "Requirement already satisfied: openai<2.0.0,>=1.40.0 in /Users/sguys99/anaconda3/envs/rag/lib/python3.11/site-packages (from langchain-openai) (1.44.1)\n",
      "Requirement already satisfied: tiktoken<1,>=0.7 in /Users/sguys99/anaconda3/envs/rag/lib/python3.11/site-packages (from langchain-openai) (0.7.0)\n",
      "Requirement already satisfied: PyYAML>=5.3 in /Users/sguys99/anaconda3/envs/rag/lib/python3.11/site-packages (from langchain-core<0.3.0,>=0.2.35->langchain-openai) (6.0.2)\n",
      "Requirement already satisfied: jsonpatch<2.0,>=1.33 in /Users/sguys99/anaconda3/envs/rag/lib/python3.11/site-packages (from langchain-core<0.3.0,>=0.2.35->langchain-openai) (1.33)\n",
      "Requirement already satisfied: langsmith<0.2.0,>=0.1.112 in /Users/sguys99/anaconda3/envs/rag/lib/python3.11/site-packages (from langchain-core<0.3.0,>=0.2.35->langchain-openai) (0.1.118)\n",
      "Requirement already satisfied: packaging<25,>=23.2 in /Users/sguys99/anaconda3/envs/rag/lib/python3.11/site-packages (from langchain-core<0.3.0,>=0.2.35->langchain-openai) (24.1)\n",
      "Requirement already satisfied: pydantic<3,>=1 in /Users/sguys99/anaconda3/envs/rag/lib/python3.11/site-packages (from langchain-core<0.3.0,>=0.2.35->langchain-openai) (2.9.1)\n",
      "Requirement already satisfied: tenacity!=8.4.0,<9.0.0,>=8.1.0 in /Users/sguys99/anaconda3/envs/rag/lib/python3.11/site-packages (from langchain-core<0.3.0,>=0.2.35->langchain-openai) (8.5.0)\n",
      "Requirement already satisfied: typing-extensions>=4.7 in /Users/sguys99/anaconda3/envs/rag/lib/python3.11/site-packages (from langchain-core<0.3.0,>=0.2.35->langchain-openai) (4.12.2)\n",
      "Requirement already satisfied: anyio<5,>=3.5.0 in /Users/sguys99/anaconda3/envs/rag/lib/python3.11/site-packages (from openai<2.0.0,>=1.40.0->langchain-openai) (4.4.0)\n",
      "Requirement already satisfied: distro<2,>=1.7.0 in /Users/sguys99/anaconda3/envs/rag/lib/python3.11/site-packages (from openai<2.0.0,>=1.40.0->langchain-openai) (1.9.0)\n",
      "Requirement already satisfied: httpx<1,>=0.23.0 in /Users/sguys99/anaconda3/envs/rag/lib/python3.11/site-packages (from openai<2.0.0,>=1.40.0->langchain-openai) (0.27.2)\n",
      "Requirement already satisfied: jiter<1,>=0.4.0 in /Users/sguys99/anaconda3/envs/rag/lib/python3.11/site-packages (from openai<2.0.0,>=1.40.0->langchain-openai) (0.5.0)\n",
      "Requirement already satisfied: sniffio in /Users/sguys99/anaconda3/envs/rag/lib/python3.11/site-packages (from openai<2.0.0,>=1.40.0->langchain-openai) (1.3.1)\n",
      "Requirement already satisfied: tqdm>4 in /Users/sguys99/anaconda3/envs/rag/lib/python3.11/site-packages (from openai<2.0.0,>=1.40.0->langchain-openai) (4.66.5)\n",
      "Requirement already satisfied: regex>=2022.1.18 in /Users/sguys99/anaconda3/envs/rag/lib/python3.11/site-packages (from tiktoken<1,>=0.7->langchain-openai) (2024.9.11)\n",
      "Requirement already satisfied: requests>=2.26.0 in /Users/sguys99/anaconda3/envs/rag/lib/python3.11/site-packages (from tiktoken<1,>=0.7->langchain-openai) (2.32.3)\n",
      "Requirement already satisfied: idna>=2.8 in /Users/sguys99/anaconda3/envs/rag/lib/python3.11/site-packages (from anyio<5,>=3.5.0->openai<2.0.0,>=1.40.0->langchain-openai) (3.8)\n",
      "Requirement already satisfied: certifi in /Users/sguys99/anaconda3/envs/rag/lib/python3.11/site-packages (from httpx<1,>=0.23.0->openai<2.0.0,>=1.40.0->langchain-openai) (2024.8.30)\n",
      "Requirement already satisfied: httpcore==1.* in /Users/sguys99/anaconda3/envs/rag/lib/python3.11/site-packages (from httpx<1,>=0.23.0->openai<2.0.0,>=1.40.0->langchain-openai) (1.0.5)\n",
      "Requirement already satisfied: h11<0.15,>=0.13 in /Users/sguys99/anaconda3/envs/rag/lib/python3.11/site-packages (from httpcore==1.*->httpx<1,>=0.23.0->openai<2.0.0,>=1.40.0->langchain-openai) (0.14.0)\n",
      "Requirement already satisfied: jsonpointer>=1.9 in /Users/sguys99/anaconda3/envs/rag/lib/python3.11/site-packages (from jsonpatch<2.0,>=1.33->langchain-core<0.3.0,>=0.2.35->langchain-openai) (3.0.0)\n",
      "Requirement already satisfied: orjson<4.0.0,>=3.9.14 in /Users/sguys99/anaconda3/envs/rag/lib/python3.11/site-packages (from langsmith<0.2.0,>=0.1.112->langchain-core<0.3.0,>=0.2.35->langchain-openai) (3.10.7)\n",
      "Requirement already satisfied: annotated-types>=0.6.0 in /Users/sguys99/anaconda3/envs/rag/lib/python3.11/site-packages (from pydantic<3,>=1->langchain-core<0.3.0,>=0.2.35->langchain-openai) (0.7.0)\n",
      "Requirement already satisfied: pydantic-core==2.23.3 in /Users/sguys99/anaconda3/envs/rag/lib/python3.11/site-packages (from pydantic<3,>=1->langchain-core<0.3.0,>=0.2.35->langchain-openai) (2.23.3)\n",
      "Requirement already satisfied: charset-normalizer<4,>=2 in /Users/sguys99/anaconda3/envs/rag/lib/python3.11/site-packages (from requests>=2.26.0->tiktoken<1,>=0.7->langchain-openai) (3.3.2)\n",
      "Requirement already satisfied: urllib3<3,>=1.21.1 in /Users/sguys99/anaconda3/envs/rag/lib/python3.11/site-packages (from requests>=2.26.0->tiktoken<1,>=0.7->langchain-openai) (2.2.2)\n",
      "Note: you may need to restart the kernel to use updated packages.\n"
     ]
    }
   ],
   "source": [
    "%pip install python-dotenv langchain-openai"
   ]
  },
  {
   "cell_type": "code",
   "execution_count": 2,
   "id": "c6846c47",
   "metadata": {},
   "outputs": [
    {
     "data": {
      "text/plain": [
       "True"
      ]
     },
     "execution_count": 2,
     "metadata": {},
     "output_type": "execute_result"
    }
   ],
   "source": [
    "from dotenv import load_dotenv\n",
    "load_dotenv()"
   ]
  },
  {
   "cell_type": "markdown",
   "id": "9cfbff3e",
   "metadata": {},
   "source": [
    "### 1. ChatOpenAI"
   ]
  },
  {
   "cell_type": "code",
   "execution_count": 3,
   "id": "ced13347",
   "metadata": {},
   "outputs": [],
   "source": [
    "from langchain_openai import ChatOpenAI"
   ]
  },
  {
   "cell_type": "code",
   "execution_count": 4,
   "id": "7d258720",
   "metadata": {},
   "outputs": [],
   "source": [
    "llm = ChatOpenAI()"
   ]
  },
  {
   "cell_type": "code",
   "execution_count": 5,
   "id": "8f324ead",
   "metadata": {},
   "outputs": [
    {
     "data": {
      "text/plain": [
       "AIMessage(content='안녕하세요! 무엇을 도와드릴까요?', additional_kwargs={'refusal': None}, response_metadata={'token_usage': {'completion_tokens': 21, 'prompt_tokens': 13, 'total_tokens': 34}, 'model_name': 'gpt-3.5-turbo-0125', 'system_fingerprint': None, 'finish_reason': 'stop', 'logprobs': None}, id='run-5ea10db0-ab53-40a2-90b7-a22b379eb384-0', usage_metadata={'input_tokens': 13, 'output_tokens': 21, 'total_tokens': 34})"
      ]
     },
     "execution_count": 5,
     "metadata": {},
     "output_type": "execute_result"
    }
   ],
   "source": [
    "llm.invoke(\"안녕하세요.\")"
   ]
  },
  {
   "cell_type": "code",
   "execution_count": 6,
   "id": "873758b7",
   "metadata": {},
   "outputs": [],
   "source": [
    "# llm.invoke({\"question\": \"안녕하세요.\"})"
   ]
  },
  {
   "cell_type": "code",
   "execution_count": null,
   "id": "e9180280",
   "metadata": {},
   "outputs": [],
   "source": []
  }
 ],
 "metadata": {
  "kernelspec": {
   "display_name": "Python 3",
   "language": "python",
   "name": "python3"
  },
  "language_info": {
   "codemirror_mode": {
    "name": "ipython",
    "version": 3
   },
   "file_extension": ".py",
   "mimetype": "text/x-python",
   "name": "python",
   "nbconvert_exporter": "python",
   "pygments_lexer": "ipython3",
   "version": "3.11.9"
  }
 },
 "nbformat": 4,
 "nbformat_minor": 5
}
