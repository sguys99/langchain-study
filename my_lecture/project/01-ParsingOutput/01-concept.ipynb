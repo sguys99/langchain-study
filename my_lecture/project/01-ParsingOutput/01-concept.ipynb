{
 "cells": [
  {
   "cell_type": "markdown",
   "metadata": {},
   "source": [
    "## 이메일 내용으로부터 구조화된 정보 추출"
   ]
  },
  {
   "cell_type": "markdown",
   "metadata": {},
   "source": [
    "<div style=\"text-align: right\"> Initial issue : 2025.05.06 </div>\n",
    "<div style=\"text-align: right\"> last update : 2025.05.06 </div>"
   ]
  },
  {
   "cell_type": "code",
   "execution_count": 1,
   "metadata": {},
   "outputs": [],
   "source": [
    "email_conversation = \"\"\"From: 유광명 (kmyu@kmtune.com)\n",
    "To: 건호 대리님 (gh@kmtune.me)\n",
    "Subject: RAG 솔루션 시연 관련 미팅 제안\n",
    "\n",
    "안녕하세요, 건호 대리님,\n",
    "\n",
    "저는 kmtune의 유광명입니다. 최근 귀사에서 AI를 활용한 혁신적인 솔루션을 모색 중이라는 소식을 들었습니다. kmtune AI 및 RAG 솔루션 분야에서 다양한 경험과 노하우를 가진 기업으로, 귀사의 요구에 맞는 최적의 솔루션을 제공할 수 있다고 자부합니다.\n",
    "\n",
    "저희 kmtune의 RAG 솔루션은 귀사의 데이터 활용을 극대화하고, 실시간으로 정확한 정보 제공을 통해 비즈니스 의사결정을 지원하는 데 탁월한 성능을 보입니다. 이 솔루션은 특히 다양한 산업에서의 성공적인 적용 사례를 통해 그 효과를 입증하였습니다.\n",
    "\n",
    "귀사와의 협력 가능성을 논의하고, 저희 RAG 솔루션의 구체적인 기능과 적용 방안을 시연하기 위해 미팅을 제안드립니다. 다음 주 목요일(7월 18일) 오전 10시에 귀사 사무실에서 만나 뵐 수 있을까요?\n",
    "\n",
    "미팅 시간을 조율하기 어려우시다면, 편하신 다른 일정을 알려주시면 감사하겠습니다. 건호 대리님과의 소중한 만남을 통해 상호 발전적인 논의가 이루어지길 기대합니다.\n",
    "\n",
    "감사합니다.\n",
    "\n",
    "유광명\n",
    "kmtune AI 솔루션팀\"\"\""
   ]
  },
  {
   "cell_type": "code",
   "execution_count": 2,
   "metadata": {},
   "outputs": [
    {
     "data": {
      "text/plain": [
       "True"
      ]
     },
     "execution_count": 2,
     "metadata": {},
     "output_type": "execute_result"
    }
   ],
   "source": [
    "from dotenv import load_dotenv\n",
    "from pydantic import BaseModel, Field\n",
    "from langchain_core.output_parsers import PydanticOutputParser, StrOutputParser\n",
    "from langchain_openai import ChatOpenAI\n",
    "from langchain_core.prompts import PromptTemplate\n",
    "load_dotenv()"
   ]
  },
  {
   "cell_type": "code",
   "execution_count": 3,
   "metadata": {},
   "outputs": [],
   "source": [
    "# 이메일 본문으로부터 주요 엔티티 추출\n",
    "class EmailSummary(BaseModel):\n",
    "    person: str = Field(description=\"메일을 보낸 사람\")\n",
    "    company: str = Field(description=\"메일을 보낸 사람의 회사 정보\")\n",
    "    email: str = Field(description=\"메일을 보낸 사람의 이메일 주소\")\n",
    "    subject: str = Field(description=\"메일 제목\")\n",
    "    summary: str = Field(description=\"메일 본문을 요약한 텍스트\")\n",
    "    date: str = Field(description=\"메일 본문에 언급된 미팅 날짜와 시간\")"
   ]
  },
  {
   "cell_type": "code",
   "execution_count": 4,
   "metadata": {},
   "outputs": [],
   "source": [
    "llm = ChatOpenAI(temperature=0, model_name=\"gpt-4o\")\n",
    "output_parser = PydanticOutputParser(pydantic_object=EmailSummary)\n",
    "prompt = PromptTemplate.from_template(\n",
    "    \"\"\"\n",
    "You are a helpful assistant. Please answer the following questions in KOREAN.\n",
    "\n",
    "#QUESTION:\n",
    "다음의 이메일 내용 중에서 주요 내용을 추출해 주세요.\n",
    "\n",
    "#EMAIL CONVERSATION:\n",
    "{email_conversation}\n",
    "\n",
    "#FORMAT:\n",
    "{format}\n",
    "\"\"\"    \n",
    ")\n",
    "prompt = prompt.partial(format=output_parser.get_format_instructions())"
   ]
  },
  {
   "cell_type": "markdown",
   "metadata": {},
   "source": [
    "chain 생성 및 실행"
   ]
  },
  {
   "cell_type": "code",
   "execution_count": 5,
   "metadata": {},
   "outputs": [
    {
     "name": "stdout",
     "output_type": "stream",
     "text": [
      "person='유광명' company='kmtune' email='kmyu@kmtune.com' subject='RAG 솔루션 시연 관련 미팅 제안' summary='유광명은 kmtune의 AI 및 RAG 솔루션을 소개하며, 귀사의 데이터 활용을 극대화하고 비즈니스 의사결정을 지원할 수 있는 솔루션을 제안합니다. 다음 주 목요일(7월 18일) 오전 10시에 미팅을 제안하며, 다른 일정이 필요하면 알려달라고 요청합니다.' date='7월 18일 오전 10시'\n"
     ]
    }
   ],
   "source": [
    "chain = prompt | llm | output_parser\n",
    "answer = chain.invoke({\"email_conversation\": email_conversation})\n",
    "print(answer)"
   ]
  },
  {
   "cell_type": "code",
   "execution_count": 6,
   "metadata": {},
   "outputs": [
    {
     "name": "stdout",
     "output_type": "stream",
     "text": [
      "유광명은 kmtune의 AI 및 RAG 솔루션을 소개하며, 귀사의 데이터 활용을 극대화하고 비즈니스 의사결정을 지원할 수 있는 솔루션을 제안합니다. 다음 주 목요일(7월 18일) 오전 10시에 미팅을 제안하며, 다른 일정이 필요하면 알려달라고 요청합니다.\n"
     ]
    }
   ],
   "source": [
    "print(answer.summary)"
   ]
  },
  {
   "cell_type": "code",
   "execution_count": 7,
   "metadata": {},
   "outputs": [
    {
     "data": {
      "text/plain": [
       "EmailSummary(person='유광명', company='kmtune', email='kmyu@kmtune.com', subject='RAG 솔루션 시연 관련 미팅 제안', summary='유광명은 kmtune의 AI 및 RAG 솔루션을 소개하며, 귀사의 데이터 활용을 극대화하고 비즈니스 의사결정을 지원할 수 있는 솔루션을 제안합니다. 다음 주 목요일(7월 18일) 오전 10시에 미팅을 제안하며, 다른 일정이 필요하면 알려달라고 요청합니다.', date='7월 18일 오전 10시')"
      ]
     },
     "execution_count": 7,
     "metadata": {},
     "output_type": "execute_result"
    }
   ],
   "source": [
    "answer"
   ]
  },
  {
   "cell_type": "markdown",
   "metadata": {},
   "source": [
    "### SERP API를 활용한 정보 검색의 활용"
   ]
  },
  {
   "cell_type": "markdown",
   "metadata": {},
   "source": [
    "참고: https://serpapi.com/integrations/python"
   ]
  },
  {
   "cell_type": "markdown",
   "metadata": {},
   "source": [
    "![serp.png](../../images/serp.png)"
   ]
  },
  {
   "cell_type": "code",
   "execution_count": 8,
   "metadata": {},
   "outputs": [],
   "source": [
    "from langchain_community.utilities import SerpAPIWrapper\n",
    "\n",
    "params = {\"engine\": \"google\", \"gl\": \"kr\", \"hl\": \"ko\", \"num\": \"3\"}\n",
    "search = SerpAPIWrapper(params=params)"
   ]
  },
  {
   "cell_type": "code",
   "execution_count": 9,
   "metadata": {},
   "outputs": [
    {
     "data": {
      "text/plain": [
       "[{'title': '부산광역시',\n",
       "  'link': 'https://www.google.com/search?num=3&sca_esv=008f9e8726f85704&hl=ko&gl=kr&q=%EB%B6%80%EC%82%B0%EA%B4%91%EC%97%AD%EC%8B%9C&si=APYL9bu1Sl4M4TWndGcDs6ZL5WJXWNYEL_kgEEwAe0iMZIocdcRcFfR5TqXjkZttINvaoRc1Uefnw_TR2Hz6MKlIpf8fXRmKKg%3D%3D&sa=X&ved=2ahUKEwiZoaD9z42NAxWPOTQIHYMeE1gQs4ILegQIHRAD',\n",
       "  'description': '해운대 해수욕장, 절, 산',\n",
       "  'hotel_price': '₩57,807',\n",
       "  'extracted_hotel_price': 57807,\n",
       "  'thumbnail': 'https://serpapi.com/searches/68195cc1822c5f509e2a1757/images/708b910fc819221b2631187b170c20f37ba15c98b47a514b14356c7843616971914ee91c7ff4602c26c3df0d5eb3170b.jpeg'},\n",
       " {'title': '경주시',\n",
       "  'link': 'https://www.google.com/search?num=3&sca_esv=008f9e8726f85704&hl=ko&gl=kr&q=%EA%B2%BD%EC%A3%BC%EC%8B%9C&si=APYL9btMsmZl0P9CyeA1NmMZFYv4xkDb-_Q4WCJadY9pxozSRWhLknP4of3VddAA7-mCf1c1F7i7gx_KEpcgOwnbUTok5BDq6g%3D%3D&sa=X&ved=2ahUKEwiZoaD9z42NAxWPOTQIHYMeE1gQs4ILegQIJhAD',\n",
       "  'description': '불국사 및 석굴암',\n",
       "  'hotel_price': '₩81,398',\n",
       "  'extracted_hotel_price': 81398,\n",
       "  'thumbnail': 'https://serpapi.com/searches/68195cc1822c5f509e2a1757/images/708b910fc819221b2631187b170c20f37ba15c98b47a514b14356c7843616971eab2400d6689deffee3b56cc4c9b240b.jpeg'},\n",
       " {'title': '제주시',\n",
       "  'link': 'https://www.google.com/search?num=3&sca_esv=008f9e8726f85704&hl=ko&gl=kr&q=%EC%A0%9C%EC%A3%BC%EC%8B%9C&si=APYL9btMsmZl0P9CyeA1NmMZFYv4xkDb-_Q4WCJadY9pxozSRfxJCy4SaQjnpCLiYET8SbgyClG2HUZJjSlMVYveCS0cXA6PyA%3D%3D&sa=X&ved=2ahUKEwiZoaD9z42NAxWPOTQIHYMeE1gQs4ILegQIIRAD',\n",
       "  'description': '민속 박물관 및 해수 사우나',\n",
       "  'hotel_price': '₩65,970',\n",
       "  'extracted_hotel_price': 65970,\n",
       "  'thumbnail': 'https://serpapi.com/searches/68195cc1822c5f509e2a1757/images/708b910fc819221b2631187b170c20f37ba15c98b47a514b14356c784361697148bcca778dcc98ee0088be8e370495a4.jpeg'},\n",
       " {'title': '인천광역시',\n",
       "  'link': 'https://www.google.com/search?num=3&sca_esv=008f9e8726f85704&hl=ko&gl=kr&q=%EC%9D%B8%EC%B2%9C%EA%B4%91%EC%97%AD%EC%8B%9C&si=APYL9bu1Sl4M4TWndGcDs6ZL5WJXWNYEL_kgEEwAe0iMZIocdZUTz8tnpTBed9bS8slg2PureFrJn2Wiq-XESLN9KrSN34p_HA%3D%3D&sa=X&ved=2ahUKEwiZoaD9z42NAxWPOTQIHYMeE1gQs4ILegQIJBAD',\n",
       "  'description': '인천 공항, 강화도, 자유공원',\n",
       "  'hotel_price': '₩64,488',\n",
       "  'extracted_hotel_price': 64488,\n",
       "  'thumbnail': 'https://serpapi.com/searches/68195cc1822c5f509e2a1757/images/708b910fc819221b2631187b170c20f37ba15c98b47a514b14356c7843616971fe3695fc76c623cde2baa97d4d2f8a1d.jpeg'},\n",
       " {'title': '대구광역시',\n",
       "  'link': 'https://www.google.com/search?num=3&sca_esv=008f9e8726f85704&hl=ko&gl=kr&q=%EB%8C%80%EA%B5%AC%EA%B4%91%EC%97%AD%EC%8B%9C&si=APYL9btMsmZl0P9CyeA1NmMZFYv4xkDb-_Q4WCJadY9pxozSRUInJyaRwnDSu-BZWlEpC6E8Pj29MsX0-2a_f-r220uUsxM1Ww%3D%3D&sa=X&ved=2ahUKEwiZoaD9z42NAxWPOTQIHYMeE1gQs4ILegQIIxAD',\n",
       "  'description': '한의약 박물관 및 대구 박물관',\n",
       "  'hotel_price': '₩63,021',\n",
       "  'extracted_hotel_price': 63021,\n",
       "  'thumbnail': 'https://encrypted-tbn0.gstatic.com/images?q=tbn:ANd9GcSeART5ttf8XNjEsv_7GtJ4pKKbK-KIiOVwz60Vlc8nQBeQdwC2nG_B_1_vCOk&s=8'},\n",
       " {'title': '전주시',\n",
       "  'link': 'https://www.google.com/search?num=3&sca_esv=008f9e8726f85704&hl=ko&gl=kr&q=%EC%A0%84%EC%A3%BC%EC%8B%9C&si=APYL9btMsmZl0P9CyeA1NmMZFYv4xkDb-_Q4WCJadY9pxozSRUSs2LKhM-ITn9-ZTJhgAh-lVjw9UCTN_wVZCoOgHN7_iFyZzw%3D%3D&sa=X&ved=2ahUKEwiZoaD9z42NAxWPOTQIHYMeE1gQs4ILegQIIhAD',\n",
       "  'description': '경기전 정전 및 전주전통술박물관',\n",
       "  'hotel_price': '₩56,394',\n",
       "  'extracted_hotel_price': 56394,\n",
       "  'thumbnail': 'https://encrypted-tbn0.gstatic.com/images?q=tbn:ANd9GcT5QgRtHKE__QJQg68BavzVCBD39NCtSeejC3LYn4IvqB3O7K2A1JmTTQMPkY0&s=8'},\n",
       " {'title': '설악산국립공원',\n",
       "  'link': 'https://www.google.com/search?num=3&sca_esv=008f9e8726f85704&hl=ko&gl=kr&q=%EC%84%A4%EC%95%85%EC%82%B0%EA%B5%AD%EB%A6%BD%EA%B3%B5%EC%9B%90&si=APYL9btMsmZl0P9CyeA1NmMZFYv4xkDb-_Q4WCJadY9pxozSRWlk_VZoJMajF1T0iamRG0Jo_FEBxCUWYTBobBHP9fHJcyvmlg%3D%3D&sa=X&ved=2ahUKEwiZoaD9z42NAxWPOTQIHYMeE1gQs4ILegQIJRAD',\n",
       "  'description': '하이킹 코스 & 야생동물이 있는 국립공원',\n",
       "  'hotel_price': '₩46,380',\n",
       "  'extracted_hotel_price': 46380,\n",
       "  'thumbnail': 'https://encrypted-tbn0.gstatic.com/images?q=tbn:ANd9GcQ7Qa4Mb9_93gCpb8SXEgfXPbtjyGkZEtOXHFUp3upRpXWrmqurJrGoQ9r5mqw&s=8'},\n",
       " {'title': '수원시',\n",
       "  'link': 'https://www.google.com/search?num=3&sca_esv=008f9e8726f85704&hl=ko&gl=kr&q=%EC%88%98%EC%9B%90%EC%8B%9C&si=APYL9btMsmZl0P9CyeA1NmMZFYv4xkDb-_Q4WCJadY9pxozSRcWeSB_yBav6FayzsHQDaoMdByATliPhD_iQP2yidb9SupJkuA%3D%3D&sa=X&ved=2ahUKEwiZoaD9z42NAxWPOTQIHYMeE1gQs4ILegQIIBAD',\n",
       "  'description': '화성 및 연무대',\n",
       "  'hotel_price': '₩47,014',\n",
       "  'extracted_hotel_price': 47014,\n",
       "  'thumbnail': 'https://encrypted-tbn0.gstatic.com/images?q=tbn:ANd9GcRLsgEUpgzp91k8QRZXKK2U7QnOLurkSy7wlf6ZNOaUo-xwiBpWiHGp8USP1Wc&s=8'},\n",
       " {'title': '광주광역시',\n",
       "  'link': 'https://www.google.com/search?num=3&sca_esv=008f9e8726f85704&hl=ko&gl=kr&q=%EA%B4%91%EC%A3%BC%EA%B4%91%EC%97%AD%EC%8B%9C&si=APYL9btMsmZl0P9CyeA1NmMZFYv4xkDb-_Q4WCJadY9pxozSRbo-ZTHCBSvNIkxvdotHQrpMtIxIpx1_JbQ2yBypmjbZR1HPuA%3D%3D&sa=X&ved=2ahUKEwiZoaD9z42NAxWPOTQIHYMeE1gQs4ILegQIHxAD',\n",
       "  'description': '5·18 기념공원 및 무등산',\n",
       "  'hotel_price': '₩56,058',\n",
       "  'extracted_hotel_price': 56058,\n",
       "  'thumbnail': 'https://encrypted-tbn0.gstatic.com/images?q=tbn:ANd9GcR6VV-AcDSvnsUjmsqXPUJOqtol7W-Fj_fvE9_2AqLQkJxXGc5dVlSnsox4Fro&s=8'},\n",
       " {'title': '대전광역시',\n",
       "  'link': 'https://www.google.com/search?num=3&sca_esv=008f9e8726f85704&hl=ko&gl=kr&q=%EB%8C%80%EC%A0%84%EA%B4%91%EC%97%AD%EC%8B%9C&si=APYL9btMsmZl0P9CyeA1NmMZFYv4xkDb-_Q4WCJadY9pxozSRfR72YEPs-Ec9bHLg7uDzHjrkHwDs0KuNoDuAhDm4M1FDYL5yw%3D%3D&sa=X&ved=2ahUKEwiZoaD9z42NAxWPOTQIHYMeE1gQs4ILegQIHhAD',\n",
       "  'description': '과학관, 햄버거, 온천, 미술관 및 해산물',\n",
       "  'hotel_price': '₩58,599',\n",
       "  'extracted_hotel_price': 58599,\n",
       "  'thumbnail': 'https://encrypted-tbn0.gstatic.com/images?q=tbn:ANd9GcQ3AexaBrPWVuGlsUx-0Ep6TqqS4-qntd00X6FxYkf_QhMMQ6yjmfJ72WYdjqA&s=8'}]"
      ]
     },
     "execution_count": 9,
     "metadata": {},
     "output_type": "execute_result"
    }
   ],
   "source": [
    "search.run(\"한국 추천 여행지\")"
   ]
  },
  {
   "cell_type": "code",
   "execution_count": 10,
   "metadata": {},
   "outputs": [
    {
     "data": {
      "text/plain": [
       "\"['그래서 오늘은 그런 분들을 위해 대표적인 부산 여행지 및 부산 명소 몇몇 곳을 골라 정리해 볼까 합니다. \\\\u200b. 1. 감천문화마을. 부산 사하구 감내2 ...', '카테고리 이동 돈 없는 여행 중독자 (˘ᵕ˘) ˚₊‧ · 1. 흰여울문화마을 · 2. 블루라인파크 · 3. 더베이 101 · 4. 감천문화마을 · 5. 광안리 해수욕장 · 6.', '일정이 짧다면 해운대, 오륙도, 남포동과 같은 핵심 관광지 위주로 여행하는 것이 좋고 2박 이상이라면 부산 외곽에 있는 기장, 낙동강 부근도 여행코스에 ...']\""
      ]
     },
     "execution_count": 10,
     "metadata": {},
     "output_type": "execute_result"
    }
   ],
   "source": [
    "search_result = search.run(\"부산 여행지 site:naver.com\")\n",
    "search_result"
   ]
  },
  {
   "cell_type": "code",
   "execution_count": 11,
   "metadata": {},
   "outputs": [
    {
     "data": {
      "text/plain": [
       "str"
      ]
     },
     "execution_count": 11,
     "metadata": {},
     "output_type": "execute_result"
    }
   ],
   "source": [
    "type(search_result)"
   ]
  },
  {
   "cell_type": "markdown",
   "metadata": {},
   "source": [
    "- 결과가 문자열이다.  \n",
    "- 타입을 리스트로 변경하려면 eval 함수를 사용하면 된다."
   ]
  },
  {
   "cell_type": "code",
   "execution_count": 12,
   "metadata": {},
   "outputs": [
    {
     "data": {
      "text/plain": [
       "list"
      ]
     },
     "execution_count": 12,
     "metadata": {},
     "output_type": "execute_result"
    }
   ],
   "source": [
    "search_result = eval(search_result)\n",
    "type(search_result)"
   ]
  },
  {
   "cell_type": "markdown",
   "metadata": {},
   "source": [
    "결과를 하나로 합치려면 다음을 사용"
   ]
  },
  {
   "cell_type": "code",
   "execution_count": 13,
   "metadata": {},
   "outputs": [
    {
     "data": {
      "text/plain": [
       "'그래서 오늘은 그런 분들을 위해 대표적인 부산 여행지 및 부산 명소 몇몇 곳을 골라 정리해 볼까 합니다. \\u200b. 1. 감천문화마을. 부산 사하구 감내2 ...\\n카테고리 이동 돈 없는 여행 중독자 (˘ᵕ˘) ˚₊‧ · 1. 흰여울문화마을 · 2. 블루라인파크 · 3. 더베이 101 · 4. 감천문화마을 · 5. 광안리 해수욕장 · 6.\\n일정이 짧다면 해운대, 오륙도, 남포동과 같은 핵심 관광지 위주로 여행하는 것이 좋고 2박 이상이라면 부산 외곽에 있는 기장, 낙동강 부근도 여행코스에 ...'"
      ]
     },
     "execution_count": 13,
     "metadata": {},
     "output_type": "execute_result"
    }
   ],
   "source": [
    "# 검색 결과\n",
    "search_result_string = \"\\n\".join(search_result)\n",
    "search_result_string\n"
   ]
  },
  {
   "cell_type": "code",
   "execution_count": null,
   "metadata": {},
   "outputs": [
    {
     "data": {
      "text/plain": [
       "'천룡회주 철위강의 제자이며 천룡상회를 이끌고 있다. 때문에 유광명의 주 활동 무대는 무림이 아닌 상계가 될 것이며, 상계에서는 팔황중 절반 이상을 ...\\n455화에선 노재수를 먼저 보내고 이진성과 싸울 준비를 하면서 김기명의 MMA스승이라는 것이 밝혀졌다. 이진성에게 기습적인 보디블로를 시작으로 여러 타격을 시전하지만 ...\\n752 유광명지의(有光明之意). 괘사. 天心月光 正照萬里 천심월광 정조만리. 恒時積德 事多成就 항시적덕 사다성취. 或有膝憂 祈禱可免 혹유슬우 기도 ...'"
      ]
     },
     "execution_count": 14,
     "metadata": {},
     "output_type": "execute_result"
    }
   ],
   "source": [
    "search_result = search.run(\"유광명명\")\n",
    "search_result = eval(search_result)\n",
    "search_result_string = \"\\n\".join(search_result)\n",
    "search_result_string\n"
   ]
  },
  {
   "cell_type": "markdown",
   "metadata": {},
   "source": [
    "## 구조화된 답변을 다음 체인의 입력으로 추가하기"
   ]
  },
  {
   "cell_type": "code",
   "execution_count": 15,
   "metadata": {},
   "outputs": [],
   "source": [
    "report_prompt = PromptTemplate.from_template(\n",
    "    \"\"\"당신은 이메일의 주요 정보를 바탕으로 요약 정리해 주는 전문가 입니다.\n",
    "당신의 임무는 다음의 이메일 정보를 바탕으로 보고서 형식의 요약을 작성하는 것입니다.\n",
    "주어진 정보를 기반으로 양식(format)에 맞추어 요약을 작성해 주세요.\n",
    "\n",
    "#Information:\n",
    "- Sender: {sender}\n",
    "- Additional Information about sender: {additional_information}\n",
    "- Company: {company}\n",
    "- Email: {email}\n",
    "- Subject: {subject}\n",
    "- Summary: {summary}\n",
    "- Date: {date}\n",
    "\n",
    "#Format(in markdown format):\n",
    "🙇‍♂️ 보낸 사람:\n",
    "- (보낸 사람의 이름, 회사 정보)\n",
    "\n",
    "📧 이메일 주소:\n",
    "- (보낸 사람의 이메일 주소)\n",
    "\n",
    "😍 보낸 사람과 관련하여 검색된 추가 정보:\n",
    "- (검색된 추가 정보)\n",
    "\n",
    "✅ 주요 내용:\n",
    "- (이메일 제목, 요약)\n",
    "\n",
    "⏰ 일정:\n",
    "- (미팅 날짜 및 시간)\n",
    "\n",
    "#Answer:\"\"\"\n",
    ")"
   ]
  },
  {
   "cell_type": "code",
   "execution_count": 16,
   "metadata": {},
   "outputs": [],
   "source": [
    "report_chain = (\n",
    "    report_prompt | ChatOpenAI(model=\"gpt-4-turbo\", temperature=0) | StrOutputParser()\n",
    ")"
   ]
  },
  {
   "cell_type": "code",
   "execution_count": 17,
   "metadata": {},
   "outputs": [],
   "source": [
    "report_response = report_chain.invoke(\n",
    "    {\n",
    "        \"sender\": answer.person,\n",
    "        \"additional_information\": search_result_string,\n",
    "        \"company\": answer.company,\n",
    "        \"email\": answer.email,\n",
    "        \"subject\": answer.subject,\n",
    "        \"summary\": answer.summary,\n",
    "        \"date\": answer.date,\n",
    "    }\n",
    ")"
   ]
  },
  {
   "cell_type": "code",
   "execution_count": 18,
   "metadata": {},
   "outputs": [
    {
     "name": "stdout",
     "output_type": "stream",
     "text": [
      "🙇‍♂️ 보낸 사람:\n",
      "- 유광명, kmtune\n",
      "\n",
      "📧 이메일 주소:\n",
      "- kmyu@kmtune.com\n",
      "\n",
      "😍 보낸 사람과 관련하여 검색된 추가 정보:\n",
      "- 유광명은 천룡회주 철위강의 제자이며 천룡상회를 이끌고 있다. 상계에서 팔황중 절반 이상의 영향력을 가지고 있으며, 455화에서는 노재수를 먼저 보내고 이진성과 싸울 준비를 하면서 김기명의 MMA 스승으로 밝혀졌다. 또한, 752화에서는 유광명지의(有光明之意) 괘사와 천심월광 정조만리, 항시적덕 사다성취 등의 내용이 나온다.\n",
      "\n",
      "✅ 주요 내용:\n",
      "- 제목: RAG 솔루션 시연 관련 미팅 제안\n",
      "- 요약: 유광명은 kmtune의 AI 및 RAG 솔루션을 소개하며, 귀사의 데이터 활용을 극대화하고 비즈니스 의사결정을 지원할 수 있는 솔루션을 제안합니다. 다음 주 목요일(7월 18일) 오전 10시에 미팅을 제안하며, 다른 일정이 필요하면 알려달라고 요청합니다.\n",
      "\n",
      "⏰ 일정:\n",
      "- 7월 18일 오전 10시\n"
     ]
    }
   ],
   "source": [
    "print(report_response)"
   ]
  }
 ],
 "metadata": {
  "kernelspec": {
   "display_name": "langchain-kr",
   "language": "python",
   "name": "python3"
  },
  "language_info": {
   "codemirror_mode": {
    "name": "ipython",
    "version": 3
   },
   "file_extension": ".py",
   "mimetype": "text/x-python",
   "name": "python",
   "nbconvert_exporter": "python",
   "pygments_lexer": "ipython3",
   "version": "3.11.11"
  }
 },
 "nbformat": 4,
 "nbformat_minor": 2
}
