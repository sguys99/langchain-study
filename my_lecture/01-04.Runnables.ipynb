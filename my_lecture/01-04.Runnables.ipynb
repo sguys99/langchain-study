{
 "cells": [
  {
   "cell_type": "markdown",
   "id": "2550920c-09d8-48b3-be2f-b36362c37989",
   "metadata": {},
   "source": [
    "## 1.4 Runnables"
   ]
  },
  {
   "cell_type": "markdown",
   "id": "e5a6b509",
   "metadata": {},
   "source": [
    "<div style=\"text-align: right\"> Initial issue : 2025.04.26 </div>\n",
    "<div style=\"text-align: right\"> last update : 2025.04.26 </div>"
   ]
  },
  {
   "cell_type": "markdown",
   "id": "e62dad03",
   "metadata": {},
   "source": [
    "`Runnable이란`  \n",
    "- Langchain에서 워크플로우나 체인 구성을 위해 사용하는 프로토콜(인터페이스)\n",
    "- 모델 관련 컴포넌트(프롬프트, LLM, 출력파서, 리트리버 등)를 표준화된 방식으로 조합하고 실행하도록 하는 역할"
   ]
  },
  {
   "cell_type": "markdown",
   "id": "3025e955",
   "metadata": {},
   "source": [
    "Langchain에서는 다양한 `Runnable` 구현체를 제공함   \n",
    "- 병렬 처리: Parrallel\n",
    "- 데이터 전달\n",
    "    - `RunnablePassthrough`: 입력을 변경하지 않거나 추가 키를 더하여 전달할 \n",
    "    - `RunnablePassthrough()` 가 단독으로 호출되면, 단순히 입력을 받아 그대로 전달\n",
    "    - `RunnablePassthrough.assign(...)` : 입력을 받아 assign 함수에 전달된 추가 인수를 추가\n",
    "- 사용자 정의 함수 매핑: RunnableLambda"
   ]
  },
  {
   "cell_type": "code",
   "execution_count": 1,
   "id": "75649171",
   "metadata": {},
   "outputs": [
    {
     "data": {
      "text/plain": [
       "True"
      ]
     },
     "execution_count": 1,
     "metadata": {},
     "output_type": "execute_result"
    }
   ],
   "source": [
    "from dotenv import load_dotenv\n",
    "load_dotenv()"
   ]
  },
  {
   "cell_type": "code",
   "execution_count": 2,
   "id": "0d2ca23a",
   "metadata": {},
   "outputs": [],
   "source": [
    "from utils import langsmith\n",
    "from langchain_openai import ChatOpenAI\n",
    "from langchain_core.prompts import PromptTemplate\n",
    "from langchain_core.output_parsers import StrOutputParser"
   ]
  },
  {
   "cell_type": "code",
   "execution_count": 3,
   "id": "a13f0235",
   "metadata": {},
   "outputs": [],
   "source": [
    "model = ChatOpenAI(model=\"gpt-4o-mini\", temperature=0)"
   ]
  },
  {
   "cell_type": "markdown",
   "id": "f4d48b4a",
   "metadata": {},
   "source": [
    "## Parallel: 병렬성  \n",
    "- `langchain_core.runnables` 모듈의 `RunnableParallel` 클래스를 사용하여 병렬 실행가능"
   ]
  },
  {
   "cell_type": "code",
   "execution_count": 4,
   "id": "1c704e44",
   "metadata": {},
   "outputs": [],
   "source": [
    "from langchain_core.runnables import RunnableParallel"
   ]
  },
  {
   "cell_type": "code",
   "execution_count": 5,
   "id": "3268a467",
   "metadata": {},
   "outputs": [],
   "source": [
    "chain1 = (\n",
    "    PromptTemplate.from_template(\"{country}의 수도는 어디인가요?\")\n",
    "    | model\n",
    "    | StrOutputParser()\n",
    ")\n",
    "chain2 = (\n",
    "    PromptTemplate.from_template(\"{country}의 면적은 얼마인가요?\")\n",
    "    | model\n",
    "    | StrOutputParser()\n",
    ")\n",
    "combined_chain = RunnableParallel(capital = chain1, area = chain2)"
   ]
  },
  {
   "cell_type": "code",
   "execution_count": 6,
   "id": "85461d76",
   "metadata": {},
   "outputs": [
    {
     "data": {
      "text/plain": [
       "{'capital': '한국의 수도는 서울입니다.',\n",
       " 'area': '한국의 면적은 약 100,210 평방킬로미터입니다. 이는 한반도의 남쪽에 위치한 대한민국의 면적을 기준으로 하며, 북한을 포함한 한반도의 전체 면적은 약 220,000 평방킬로미터입니다.'}"
      ]
     },
     "execution_count": 6,
     "metadata": {},
     "output_type": "execute_result"
    }
   ],
   "source": [
    "combined_chain.invoke({\"country\": \"한국\"})"
   ]
  },
  {
   "cell_type": "markdown",
   "id": "6912c54c",
   "metadata": {},
   "source": [
    "병렬 처리"
   ]
  },
  {
   "cell_type": "code",
   "execution_count": 7,
   "id": "1cec897c",
   "metadata": {},
   "outputs": [
    {
     "data": {
      "text/plain": [
       "[{'capital': '대한민국의 수도는 서울입니다.',\n",
       "  'area': '대한민국의 면적은 약 100,210 평방킬로미터(㎢)입니다. 이는 한반도의 남쪽 부분에 해당하며, 북한과의 경계를 포함한 전체 면적입니다.'},\n",
       " {'capital': '미국의 수도는 워싱턴 D.C.입니다.',\n",
       "  'area': '미국의 면적은 약 9,830,000 평방킬로미터(3,796,000 평방마일)입니다. 이는 미국이 세계에서 세 번째로 큰 나라임을 의미합니다. 러시아와 캐나다에 이어 면적이 가장 큰 국가입니다.'}]"
      ]
     },
     "execution_count": 7,
     "metadata": {},
     "output_type": "execute_result"
    }
   ],
   "source": [
    "combined_chain.batch([{\"country\": \"대한민국\"}, {\"country\": \"미국\"}])"
   ]
  },
  {
   "cell_type": "markdown",
   "id": "d8444597",
   "metadata": {},
   "source": [
    "### RunnablePassthrough\n",
    "`RunnablePassthrough` 는 `runnable` 객체이며, `runnable` 객체는 `invoke()` 메소드를 사용하여 별도 실행 가능"
   ]
  },
  {
   "cell_type": "code",
   "execution_count": 8,
   "id": "60657f8d",
   "metadata": {},
   "outputs": [],
   "source": [
    "prompt = PromptTemplate.from_template(\"{num} 의 10배는?\")\n",
    "llm = ChatOpenAI(temperature=0)\n",
    "chain = prompt | llm"
   ]
  },
  {
   "cell_type": "markdown",
   "id": "93733da5",
   "metadata": {},
   "source": [
    "invoke를 실행할 때는 입력 데이터의 타입이 딕셔너리여야 한다."
   ]
  },
  {
   "cell_type": "code",
   "execution_count": 9,
   "id": "2196062d",
   "metadata": {},
   "outputs": [
    {
     "data": {
      "text/plain": [
       "AIMessage(content='100입니다.', additional_kwargs={'refusal': None}, response_metadata={'token_usage': {'completion_tokens': 4, 'prompt_tokens': 16, 'total_tokens': 20, 'completion_tokens_details': {'accepted_prediction_tokens': 0, 'audio_tokens': 0, 'reasoning_tokens': 0, 'rejected_prediction_tokens': 0}, 'prompt_tokens_details': {'audio_tokens': 0, 'cached_tokens': 0}}, 'model_name': 'gpt-3.5-turbo-0125', 'system_fingerprint': None, 'id': 'chatcmpl-BQtMwMd2Wmo8C6K8v8V1XWktUdsMS', 'finish_reason': 'stop', 'logprobs': None}, id='run-1089e666-47a5-4b19-8a38-8b7cf6d6be2f-0', usage_metadata={'input_tokens': 16, 'output_tokens': 4, 'total_tokens': 20, 'input_token_details': {'audio': 0, 'cache_read': 0}, 'output_token_details': {'audio': 0, 'reasoning': 0}})"
      ]
     },
     "execution_count": 9,
     "metadata": {},
     "output_type": "execute_result"
    }
   ],
   "source": [
    "chain.invoke({\"num\": 10})"
   ]
  },
  {
   "cell_type": "markdown",
   "id": "934a51fd",
   "metadata": {},
   "source": [
    "하지만 프롬프트에 1개의 변수만 있다면 값만 전달하는 것도 가능하다."
   ]
  },
  {
   "cell_type": "code",
   "execution_count": 10,
   "id": "48cbf8b5",
   "metadata": {},
   "outputs": [
    {
     "data": {
      "text/plain": [
       "AIMessage(content='100입니다.', additional_kwargs={'refusal': None}, response_metadata={'token_usage': {'completion_tokens': 4, 'prompt_tokens': 16, 'total_tokens': 20, 'completion_tokens_details': {'accepted_prediction_tokens': 0, 'audio_tokens': 0, 'reasoning_tokens': 0, 'rejected_prediction_tokens': 0}, 'prompt_tokens_details': {'audio_tokens': 0, 'cached_tokens': 0}}, 'model_name': 'gpt-3.5-turbo-0125', 'system_fingerprint': None, 'id': 'chatcmpl-BQtMwsnaQOUXtpm00ZLkh2bYKpmmZ', 'finish_reason': 'stop', 'logprobs': None}, id='run-30f36e6e-b558-40e8-ade7-b3f4e1578adf-0', usage_metadata={'input_tokens': 16, 'output_tokens': 4, 'total_tokens': 20, 'input_token_details': {'audio': 0, 'cache_read': 0}, 'output_token_details': {'audio': 0, 'reasoning': 0}})"
      ]
     },
     "execution_count": 10,
     "metadata": {},
     "output_type": "execute_result"
    }
   ],
   "source": [
    "chain.invoke(10)"
   ]
  },
  {
   "cell_type": "markdown",
   "id": "ad381df7",
   "metadata": {},
   "source": [
    "모든 runnable 객체는 invoke 메서드 사용 가능"
   ]
  },
  {
   "cell_type": "code",
   "execution_count": 11,
   "id": "3ea0e921",
   "metadata": {},
   "outputs": [
    {
     "data": {
      "text/plain": [
       "10"
      ]
     },
     "execution_count": 11,
     "metadata": {},
     "output_type": "execute_result"
    }
   ],
   "source": [
    "from langchain_core.runnables import RunnablePassthrough\n",
    "RunnablePassthrough().invoke(10)"
   ]
  },
  {
   "cell_type": "code",
   "execution_count": 12,
   "id": "556e2863",
   "metadata": {},
   "outputs": [
    {
     "data": {
      "text/plain": [
       "AIMessage(content='100입니다.', additional_kwargs={'refusal': None}, response_metadata={'token_usage': {'completion_tokens': 4, 'prompt_tokens': 16, 'total_tokens': 20, 'completion_tokens_details': {'accepted_prediction_tokens': 0, 'audio_tokens': 0, 'reasoning_tokens': 0, 'rejected_prediction_tokens': 0}, 'prompt_tokens_details': {'audio_tokens': 0, 'cached_tokens': 0}}, 'model_name': 'gpt-3.5-turbo-0125', 'system_fingerprint': None, 'id': 'chatcmpl-BQtMxJGdnsln78TDCTjDo65rYt4Wg', 'finish_reason': 'stop', 'logprobs': None}, id='run-a2e78814-07b1-4ee9-a3dc-0356c2940fd6-0', usage_metadata={'input_tokens': 16, 'output_tokens': 4, 'total_tokens': 20, 'input_token_details': {'audio': 0, 'cache_read': 0}, 'output_token_details': {'audio': 0, 'reasoning': 0}})"
      ]
     },
     "execution_count": 12,
     "metadata": {},
     "output_type": "execute_result"
    }
   ],
   "source": [
    "runnable_chain = {\"num\": RunnablePassthrough()} | prompt | ChatOpenAI()\n",
    "runnable_chain.invoke(10) # dict가 RunnablePassthrough 로 변경됨"
   ]
  },
  {
   "cell_type": "code",
   "execution_count": 13,
   "id": "e03daf0a",
   "metadata": {},
   "outputs": [
    {
     "data": {
      "text/plain": [
       "AIMessage(content='100입니다. 10 * 10 = 100.', additional_kwargs={'refusal': None}, response_metadata={'token_usage': {'completion_tokens': 13, 'prompt_tokens': 21, 'total_tokens': 34, 'completion_tokens_details': {'accepted_prediction_tokens': 0, 'audio_tokens': 0, 'reasoning_tokens': 0, 'rejected_prediction_tokens': 0}, 'prompt_tokens_details': {'audio_tokens': 0, 'cached_tokens': 0}}, 'model_name': 'gpt-3.5-turbo-0125', 'system_fingerprint': None, 'id': 'chatcmpl-BQtMy8D2fTTDwCxsympCOknifYuZz', 'finish_reason': 'stop', 'logprobs': None}, id='run-afc95d8b-96ab-4e65-abb9-8db15f040ef0-0', usage_metadata={'input_tokens': 21, 'output_tokens': 13, 'total_tokens': 34, 'input_token_details': {'audio': 0, 'cache_read': 0}, 'output_token_details': {'audio': 0, 'reasoning': 0}})"
      ]
     },
     "execution_count": 13,
     "metadata": {},
     "output_type": "execute_result"
    }
   ],
   "source": [
    "runnable_chain.invoke({\"num\": 10})"
   ]
  },
  {
   "cell_type": "markdown",
   "id": "cf257359",
   "metadata": {},
   "source": [
    "`RunnablePassthrough.assign(...)` 방식으로 호출되면, 입력을 받아 assgin 함수에 전달된 함수를 추가\n",
    "\n",
    "\n",
    "\n",
    "\n",
    "\n"
   ]
  },
  {
   "cell_type": "code",
   "execution_count": 14,
   "id": "3f40a97c",
   "metadata": {},
   "outputs": [
    {
     "data": {
      "text/plain": [
       "{'num': 1, 'new_num': 3}"
      ]
     },
     "execution_count": 14,
     "metadata": {},
     "output_type": "execute_result"
    }
   ],
   "source": [
    "RunnablePassthrough.assign(new_num=lambda x: x[\"num\"] * 3).invoke({\"num\": 1})"
   ]
  },
  {
   "cell_type": "code",
   "execution_count": 15,
   "id": "e93d9c3e",
   "metadata": {},
   "outputs": [
    {
     "data": {
      "text/plain": [
       "{'num': 1}"
      ]
     },
     "execution_count": 15,
     "metadata": {},
     "output_type": "execute_result"
    }
   ],
   "source": [
    "RunnablePassthrough().invoke({\"num\": 1})"
   ]
  },
  {
   "cell_type": "markdown",
   "id": "8d618c44",
   "metadata": {},
   "source": [
    "`RunnableParallel` 응용"
   ]
  },
  {
   "cell_type": "code",
   "execution_count": 16,
   "id": "b69c77e9",
   "metadata": {},
   "outputs": [
    {
     "data": {
      "text/plain": [
       "{'passed': {'num': 1}, 'extra': {'num': 1, 'mult': 3}, 'modified': 2}"
      ]
     },
     "execution_count": 16,
     "metadata": {},
     "output_type": "execute_result"
    }
   ],
   "source": [
    "# Runnable 인스턴스를 병렬로 실행할 수 있습니다.\n",
    "runnable = RunnableParallel(\n",
    "    # RunnablePassthrough 인스턴스를 'passed' 키워드 인자로 전달\n",
    "    passed=RunnablePassthrough(),\n",
    "    # 'extra' 키워드 인자로 RunnablePassthrough.assign을 사용\n",
    "    extra=RunnablePassthrough.assign(mult=lambda x: x[\"num\"] * 3),\n",
    "    # 'modified' 키워드 인자로 람다 함수를 전달\n",
    "    modified=lambda x: x[\"num\"] + 1,\n",
    ")\n",
    "\n",
    "runnable.invoke({\"num\": 1})"
   ]
  },
  {
   "cell_type": "markdown",
   "id": "73d54f29",
   "metadata": {},
   "source": [
    "### RunnableLambda: 사용자 정의 함수 매핑"
   ]
  },
  {
   "cell_type": "markdown",
   "id": "62685f40",
   "metadata": {},
   "source": [
    "먼저 간단한 함수를 정의"
   ]
  },
  {
   "cell_type": "code",
   "execution_count": 17,
   "id": "909bf3de",
   "metadata": {},
   "outputs": [
    {
     "data": {
      "text/plain": [
       "'Apr-27'"
      ]
     },
     "execution_count": 17,
     "metadata": {},
     "output_type": "execute_result"
    }
   ],
   "source": [
    "from datetime import datetime\n",
    "\n",
    "def get_today(a):\n",
    "    # 오늘 날짜를 가져오기\n",
    "    return datetime.today().strftime(\"%b-%d\")\n",
    "\n",
    "get_today(None)"
   ]
  },
  {
   "cell_type": "markdown",
   "id": "fe8ddd94",
   "metadata": {},
   "source": [
    "- 여기서 주의할 점은 사용하지는 않지만 매개변수를 무조건 지정해야한다는 점"
   ]
  },
  {
   "cell_type": "code",
   "execution_count": 18,
   "id": "2e30f3c5",
   "metadata": {},
   "outputs": [],
   "source": [
    "from langchain_core.runnables import RunnableLambda\n",
    "\n",
    "prompt = PromptTemplate.from_template(\n",
    "    \"{today}가 생일인 {n} 명을 나열하고, 생년월일을 표기해주세요.\"\n",
    ")\n",
    "llm = ChatOpenAI(temperature=0, model=\"gpt-4o-mini\")\n",
    "\n",
    "chain = (\n",
    "    {\"today\": RunnableLambda(get_today), \"n\": RunnablePassthrough()}\n",
    "    | prompt\n",
    "    | llm\n",
    "    | StrOutputParser()\n",
    ")"
   ]
  },
  {
   "cell_type": "code",
   "execution_count": 19,
   "id": "b275e168",
   "metadata": {},
   "outputs": [
    {
     "name": "stdout",
     "output_type": "stream",
     "text": [
      "다음은 4월 27일에 생일인 유명인 몇 명입니다:\n",
      "\n",
      "1. **사무엘 고든** (Samuel Gordon) - 1940년 4월 27일\n",
      "2. **우디 패럴** (Woody Harrelson) - 1961년 4월 27일\n",
      "3. **제이슨 베이트먼** (Jason Bateman) - 1969년 4월 27일\n",
      "\n",
      "이 외에도 4월 27일에 태어난 많은 사람들이 있습니다!\n"
     ]
    }
   ],
   "source": [
    "print(chain.invoke({\"n\": 3}))"
   ]
  },
  {
   "cell_type": "code",
   "execution_count": 20,
   "id": "498bd0d1",
   "metadata": {},
   "outputs": [
    {
     "name": "stdout",
     "output_type": "stream",
     "text": [
      "다음은 4월 27일에 태어난 유명인 3명입니다:\n",
      "\n",
      "1. **이사벨 아옌데 (Isabel Allende)** - 1942년 4월 27일\n",
      "2. **세라 제시카 파커 (Sarah Jessica Parker)** - 1965년 4월 27일\n",
      "3. **우디 해럴슨 (Woody Harrelson)** - 1961년 4월 27일\n",
      "\n",
      "이 외에도 4월 27일에 태어난 많은 사람들이 있습니다!\n"
     ]
    }
   ],
   "source": [
    "print(chain.invoke(3))"
   ]
  },
  {
   "cell_type": "markdown",
   "id": "f49e12e5",
   "metadata": {},
   "source": [
    "주의할 점\n",
    "- 위에서 get_today 함수의 인자는 n이 된다.\n",
    "- 위에서는 문제가 없었지만 `{\"n\": 3}`을 입력하면 get_today(3)이 들어가는 꼴이 된다.\n",
    "- 따라서 `chain.invoke(3)` 형태로 사용하는 것이 바람직하다.  \n",
    "- 만약 {\"n\": 3} 형태로 invoke 하고 싶다면 itemgetter를 사용하면 된다."
   ]
  },
  {
   "cell_type": "markdown",
   "id": "276f381f",
   "metadata": {},
   "source": [
    "`itemgetter` 를 사용하여 특정 키를 추출하기"
   ]
  },
  {
   "cell_type": "code",
   "execution_count": 21,
   "id": "c0a8088a",
   "metadata": {},
   "outputs": [],
   "source": [
    "from operator import itemgetter"
   ]
  },
  {
   "cell_type": "code",
   "execution_count": 22,
   "id": "920e34d9",
   "metadata": {},
   "outputs": [],
   "source": [
    "def length_function(text):\n",
    "    return len(text)\n",
    "\n",
    "\n",
    "def _multiple_length_function(text1, text2):\n",
    "    return len(text1) * len(text2)\n",
    "\n",
    "\n",
    "def multiple_length_function(_dict):\n",
    "    return _multiple_length_function(_dict[\"text1\"], _dict[\"text2\"])"
   ]
  },
  {
   "cell_type": "code",
   "execution_count": 23,
   "id": "9926778b",
   "metadata": {},
   "outputs": [],
   "source": [
    "from langchain_core.prompts import ChatPromptTemplate\n",
    "\n",
    "prompt = ChatPromptTemplate.from_template(\"{a} + {b} 는 무엇인가요?\")\n",
    "model = ChatOpenAI()\n",
    "\n",
    "chain1 = prompt | model\n",
    "\n",
    "chain = (\n",
    "    {\n",
    "        \"a\": itemgetter(\"word1\") | RunnableLambda(length_function),\n",
    "        \"b\": {\"text1\": itemgetter(\"word1\"), \"text2\": itemgetter(\"word2\")}\n",
    "        | RunnableLambda(multiple_length_function),\n",
    "    }\n",
    "    | prompt\n",
    "    | model\n",
    ")"
   ]
  },
  {
   "cell_type": "code",
   "execution_count": 24,
   "id": "db9a6b65",
   "metadata": {},
   "outputs": [
    {
     "data": {
      "text/plain": [
       "AIMessage(content='5 + 25는 30입니다.', additional_kwargs={'refusal': None}, response_metadata={'token_usage': {'completion_tokens': 10, 'prompt_tokens': 22, 'total_tokens': 32, 'completion_tokens_details': {'accepted_prediction_tokens': 0, 'audio_tokens': 0, 'reasoning_tokens': 0, 'rejected_prediction_tokens': 0}, 'prompt_tokens_details': {'audio_tokens': 0, 'cached_tokens': 0}}, 'model_name': 'gpt-3.5-turbo-0125', 'system_fingerprint': None, 'id': 'chatcmpl-BQtN4gBzBl1kJEoFScz7Xaa4FzRgm', 'finish_reason': 'stop', 'logprobs': None}, id='run-7d15911d-98c3-47c1-9f7a-9249586d91f5-0', usage_metadata={'input_tokens': 22, 'output_tokens': 10, 'total_tokens': 32, 'input_token_details': {'audio': 0, 'cache_read': 0}, 'output_token_details': {'audio': 0, 'reasoning': 0}})"
      ]
     },
     "execution_count": 24,
     "metadata": {},
     "output_type": "execute_result"
    }
   ],
   "source": [
    "chain.invoke({\"word1\": \"hello\", \"word2\": \"world\"})"
   ]
  },
  {
   "cell_type": "code",
   "execution_count": null,
   "id": "d937eeea",
   "metadata": {},
   "outputs": [],
   "source": []
  }
 ],
 "metadata": {
  "kernelspec": {
   "display_name": "langchain-kr",
   "language": "python",
   "name": "python3"
  },
  "language_info": {
   "codemirror_mode": {
    "name": "ipython",
    "version": 3
   },
   "file_extension": ".py",
   "mimetype": "text/x-python",
   "name": "python",
   "nbconvert_exporter": "python",
   "pygments_lexer": "ipython3",
   "version": "3.11.11"
  }
 },
 "nbformat": 4,
 "nbformat_minor": 5
}
