{
 "cells": [
  {
   "cell_type": "markdown",
   "id": "2550920c-09d8-48b3-be2f-b36362c37989",
   "metadata": {},
   "source": [
    "## 4.1 PydanticOutputParser"
   ]
  },
  {
   "cell_type": "markdown",
   "id": "e5a6b509",
   "metadata": {},
   "source": [
    "<div style=\"text-align: right\"> Initial issue : 2025.05.02 </div>\n",
    "<div style=\"text-align: right\"> last update : 2025.05.02 </div>"
   ]
  },
  {
   "cell_type": "markdown",
   "id": "3025e955",
   "metadata": {},
   "source": [
    "Langchain의 출력 파서는 LLM의 출력을 더 유용하고 구조화된 형태로 변환하는 컴포넌트임\n",
    "### 출력 파서의 역할\n",
    "- LLM의 출력을 받아 더 적합한 형식으로 변환\n",
    "- 구조화된 데이터 생성에 유용\n",
    "- LangChain 프레임워크에서 다양한 종류의 출력 데이터를 파싱하고 처리\n",
    "### 출력 파서의 이점\n",
    "- 구조화: LLM의 자유 형식 텍스트 출력을 구조화된 데이터로 변환\n",
    "- 일관성: 출력 혁식을 일관되게 유지하여 후속 처리 용이\n",
    "- 유연성: 다양한 출력 형식(JSON, 리스트, 딕셔너리)으로 변환 가능\n"
   ]
  },
  {
   "cell_type": "markdown",
   "id": "18c01c77",
   "metadata": {},
   "source": [
    "### 출력 파서를 사용하지 않는 경우\n",
    "```\n",
    "**중요 내용 추출:**\n",
    "1. **발신자:** 김철수 (chulsoo.kim@bikecorporation.me)\n",
    "2. **수신자:** 이은채 (eunchae@teddyinternational.me)\n",
    "3. **제목:** \"ZENESIS\" 자전거 유통 협력 및 미팅 일정 제안\n",
    "4. **요청 사항:**\n",
    "- ZENESIS 모델의 상세한 브로슈어 요청 (기술 사양, 배터리\n",
    "성능, 디자인 정보 포함)\n",
    "5. **미팅 제안:**\n",
    "- 날짜: 다음 주 화요일 (1월 15일)\n",
    "- 시간: 오전 10시\n",
    "- 장소: 귀사 사무실\n",
    "6. **발신자 정보:**\n",
    "- 김철수, 상무이사, 바이크코퍼레이션\n",
    "```"
   ]
  },
  {
   "cell_type": "markdown",
   "id": "8b3c844c",
   "metadata": {},
   "source": [
    "### JSON 형식으로 구조화된 답변\n",
    "```\n",
    "{\n",
    "\"person\": \"김철수\",\n",
    "\"email\": \"chulsoo.kim@bikecorporation.me\",\n",
    "\"subject\": \"\\\"ZENESIS\\\" 자전거 유통 협력 및 미팅 일정 제\n",
    "안\",\n",
    "\"summary\": \"바이크코퍼레이션의 김철수 상무가 테디인터내셔널\n",
    "의 이은채 대리에게 신규 자전거 'ZENESIS' 모델에 대한 브로슈어\n",
    "요청과 기술 사양, 배터리 성능, 디자인 정보 요청. 또한, 협력\n",
    "논의를 위해 1월 15일 오전 10시에 미팅 제안.\",\n",
    "\"date\": \"1월 15일 오전 10시\"\n",
    "}\n",
    "```"
   ]
  },
  {
   "cell_type": "markdown",
   "id": "8bb3bb93",
   "metadata": {},
   "source": [
    "### PydanticOutputParser 구성요소\n",
    "- `PydanticOutputParser` (대부분의 OutputParser에 해당)에는 주로 **두 가지 핵심 메서드**가 구현되어야 함\n",
    "- **`get_format_instructions()`**: 언어 모델이 출력해야 할 정보의 형식을 정의하는 지침을 제공. 예를 들어, 언어 모델이 출력해야 할 데이터의 필드와 그 형태를 설명하는 지침을 문자열로 반환. 이 지침은 언어 모델이 출력을 구조화하고 특정 데이터 모델에 맞게 변환하는 데 매우 중요.\n",
    "- **`parse()`**: 언어 모델의 출력(문자열로 가정)을 받아 이를 특정 구조로 분석하고 변환. Pydantic과 같은 도구를 사용하여 입력된 문자열을 사전 정의된 스키마에 따라 검증하고, 해당 스키마를 따르는 데이터 구조로 변환.\n",
    "- [Pydantic 공식 도큐먼트](https://docs.pydantic.dev/latest/)\n"
   ]
  },
  {
   "cell_type": "code",
   "execution_count": 1,
   "id": "75649171",
   "metadata": {},
   "outputs": [
    {
     "data": {
      "text/plain": [
       "True"
      ]
     },
     "execution_count": 1,
     "metadata": {},
     "output_type": "execute_result"
    }
   ],
   "source": [
    "from dotenv import load_dotenv\n",
    "load_dotenv()"
   ]
  },
  {
   "cell_type": "code",
   "execution_count": 2,
   "id": "ade05f85",
   "metadata": {},
   "outputs": [],
   "source": [
    "from langchain_openai import ChatOpenAI\n",
    "from langchain_core.output_parsers import PydanticOutputParser\n",
    "from pydantic import BaseModel, Field\n",
    "from langchain_teddynote.messages import stream_response"
   ]
  },
  {
   "cell_type": "code",
   "execution_count": 3,
   "id": "7c20fd8b",
   "metadata": {},
   "outputs": [],
   "source": [
    "llm = ChatOpenAI(temperature=0, model_name=\"gpt-4o\")"
   ]
  },
  {
   "cell_type": "markdown",
   "id": "b69f39a5",
   "metadata": {},
   "source": [
    "이메일 본문 예시"
   ]
  },
  {
   "cell_type": "code",
   "execution_count": 4,
   "id": "fc40e6ba",
   "metadata": {},
   "outputs": [],
   "source": [
    "email_conversation = \"\"\"From: 김철수 (chulsoo.kim@bikecorporation.me)\n",
    "To: 이은채 (eunchae@teddyinternational.me)\n",
    "Subject: \"ZENESIS\" 자전거 유통 협력 및 미팅 일정 제안\n",
    "\n",
    "안녕하세요, 이은채 대리님,\n",
    "\n",
    "저는 바이크코퍼레이션의 김철수 상무입니다. 최근 보도자료를 통해 귀사의 신규 자전거 \"ZENESIS\"에 대해 알게 되었습니다. 바이크코퍼레이션은 자전거 제조 및 유통 분야에서 혁신과 품질을 선도하는 기업으로, 이 분야에서의 장기적인 경험과 전문성을 가지고 있습니다.\n",
    "\n",
    "ZENESIS 모델에 대한 상세한 브로슈어를 요청드립니다. 특히 기술 사양, 배터리 성능, 그리고 디자인 측면에 대한 정보가 필요합니다. 이를 통해 저희가 제안할 유통 전략과 마케팅 계획을 보다 구체화할 수 있을 것입니다.\n",
    "\n",
    "또한, 협력 가능성을 더 깊이 논의하기 위해 다음 주 화요일(1월 15일) 오전 10시에 미팅을 제안합니다. 귀사 사무실에서 만나 이야기를 나눌 수 있을까요?\n",
    "\n",
    "감사합니다.\n",
    "\n",
    "김철수\n",
    "상무이사\n",
    "바이크코퍼레이션\n",
    "\"\"\""
   ]
  },
  {
   "cell_type": "markdown",
   "id": "936af29f",
   "metadata": {},
   "source": [
    "### 출력 파서를 사용하지 않는 경우"
   ]
  },
  {
   "cell_type": "code",
   "execution_count": 5,
   "id": "5a05379d",
   "metadata": {},
   "outputs": [],
   "source": [
    "from langchain_core.prompts import PromptTemplate"
   ]
  },
  {
   "cell_type": "code",
   "execution_count": 6,
   "id": "5aee76b6",
   "metadata": {},
   "outputs": [],
   "source": [
    "prompt = PromptTemplate.from_template(\n",
    "    \"다음의 이메일 내용중 중요한 내용을 추출해 주세요.\\n\\n{email_conversation}\"\n",
    ")\n",
    "\n",
    "llm = ChatOpenAI(temperature=0, model_name=\"gpt-4o\")\n",
    "\n",
    "chain = prompt | llm"
   ]
  },
  {
   "cell_type": "code",
   "execution_count": 7,
   "id": "09a9b951",
   "metadata": {},
   "outputs": [
    {
     "name": "stdout",
     "output_type": "stream",
     "text": [
      "이메일의 중요한 내용은 다음과 같습니다:\n",
      "\n",
      "1. 김철수 상무는 바이크코퍼레이션 소속이며, 이은채 대리에게 이메일을 보냈습니다.\n",
      "2. 바이크코퍼레이션은 자전거 제조 및 유통 분야에서 활동하는 기업입니다.\n",
      "3. 김철수 상무는 \"ZENESIS\" 자전거에 대한 상세한 브로슈어를 요청하고 있습니다. 특히 기술 사양, 배터리 성능, 디자인 측면의 정보가 필요합니다.\n",
      "4. 협력 가능성을 논의하기 위해 1월 15일 화요일 오전 10시에 미팅을 제안하고 있습니다.\n",
      "5. 미팅 장소는 이은채 대리의 사무실로 제안되었습니다."
     ]
    }
   ],
   "source": [
    "answer = chain.stream({\"email_conversation\": email_conversation})\n",
    "output = stream_response(answer, return_output=True)"
   ]
  },
  {
   "cell_type": "markdown",
   "id": "ec5fa131",
   "metadata": {},
   "source": [
    "### 출력 파서를 사용하는 경우1: 프롬프트에 포맷 추가하기"
   ]
  },
  {
   "cell_type": "markdown",
   "id": "af94abd1",
   "metadata": {},
   "source": [
    "데이터 클래스 정의 및 파서 생성"
   ]
  },
  {
   "cell_type": "code",
   "execution_count": 8,
   "id": "40ebd64b",
   "metadata": {},
   "outputs": [],
   "source": [
    "class EmailSummary(BaseModel):\n",
    "    person: str = Field(description=\"메일을 보낸 사람\")\n",
    "    email: str = Field(description=\"메일을 보낸 사람의 이메일 주소\")\n",
    "    subject: str = Field(description=\"메일 제목\")\n",
    "    summary: str = Field(description=\"메일 본문을 요약한 텍스트\")\n",
    "    date: str = Field(description=\"메일 본문에 언급된 미팅 날짜와 시간\")"
   ]
  },
  {
   "cell_type": "code",
   "execution_count": 9,
   "id": "25922424",
   "metadata": {},
   "outputs": [],
   "source": [
    "# PydanticOutputParser 생성\n",
    "parser = PydanticOutputParser(pydantic_object=EmailSummary)"
   ]
  },
  {
   "cell_type": "code",
   "execution_count": 10,
   "id": "e45c3015",
   "metadata": {},
   "outputs": [
    {
     "name": "stdout",
     "output_type": "stream",
     "text": [
      "The output should be formatted as a JSON instance that conforms to the JSON schema below.\n",
      "\n",
      "As an example, for the schema {\"properties\": {\"foo\": {\"title\": \"Foo\", \"description\": \"a list of strings\", \"type\": \"array\", \"items\": {\"type\": \"string\"}}}, \"required\": [\"foo\"]}\n",
      "the object {\"foo\": [\"bar\", \"baz\"]} is a well-formatted instance of the schema. The object {\"properties\": {\"foo\": [\"bar\", \"baz\"]}} is not well-formatted.\n",
      "\n",
      "Here is the output schema:\n",
      "```\n",
      "{\"properties\": {\"person\": {\"description\": \"메일을 보낸 사람\", \"title\": \"Person\", \"type\": \"string\"}, \"email\": {\"description\": \"메일을 보낸 사람의 이메일 주소\", \"title\": \"Email\", \"type\": \"string\"}, \"subject\": {\"description\": \"메일 제목\", \"title\": \"Subject\", \"type\": \"string\"}, \"summary\": {\"description\": \"메일 본문을 요약한 텍스트\", \"title\": \"Summary\", \"type\": \"string\"}, \"date\": {\"description\": \"메일 본문에 언급된 미팅 날짜와 시간\", \"title\": \"Date\", \"type\": \"string\"}}, \"required\": [\"person\", \"email\", \"subject\", \"summary\", \"date\"]}\n",
      "```\n"
     ]
    }
   ],
   "source": [
    "# instruction 을 출력\n",
    "print(parser.get_format_instructions())"
   ]
  },
  {
   "cell_type": "markdown",
   "id": "c7b6f7a1",
   "metadata": {},
   "source": [
    "프롬프트 정의\n",
    "1. `question`: 유저의 질문\n",
    "2. `email_conversation`: 이메일 본문의 내용\n",
    "3. `format`: 형식 지정"
   ]
  },
  {
   "cell_type": "code",
   "execution_count": 11,
   "id": "e71ec5d6",
   "metadata": {},
   "outputs": [],
   "source": [
    "prompt = PromptTemplate.from_template(\n",
    "    \"\"\"\n",
    "You are a helpful assistant. Please answer the following questions in KOREAN.\n",
    "\n",
    "QUESTION:\n",
    "{question}\n",
    "\n",
    "EMAIL CONVERSATION:\n",
    "{email_conversation}\n",
    "\n",
    "FORMAT:\n",
    "{format}\n",
    "\"\"\"\n",
    ")\n",
    "\n",
    "# format 에 PydanticOutputParser의 부분 포맷팅(partial) 추가\n",
    "prompt = prompt.partial(format=parser.get_format_instructions())"
   ]
  },
  {
   "cell_type": "code",
   "execution_count": 12,
   "id": "7428024f",
   "metadata": {},
   "outputs": [
    {
     "name": "stdout",
     "output_type": "stream",
     "text": [
      "\n",
      "You are a helpful assistant. Please answer the following questions in KOREAN.\n",
      "\n",
      "QUESTION:\n",
      "{question}\n",
      "\n",
      "EMAIL CONVERSATION:\n",
      "{email_conversation}\n",
      "\n",
      "FORMAT:\n",
      "{format}\n",
      "\n"
     ]
    }
   ],
   "source": [
    "# 템플릿 출력하고 싶으면 template 사용\n",
    "print(prompt.template)"
   ]
  },
  {
   "cell_type": "code",
   "execution_count": 13,
   "id": "f2fe9cc7",
   "metadata": {},
   "outputs": [
    {
     "name": "stdout",
     "output_type": "stream",
     "text": [
      "\n",
      "You are a helpful assistant. Please answer the following questions in KOREAN.\n",
      "\n",
      "QUESTION:\n",
      "test\n",
      "\n",
      "EMAIL CONVERSATION:\n",
      "test_email\n",
      "\n",
      "FORMAT:\n",
      "The output should be formatted as a JSON instance that conforms to the JSON schema below.\n",
      "\n",
      "As an example, for the schema {\"properties\": {\"foo\": {\"title\": \"Foo\", \"description\": \"a list of strings\", \"type\": \"array\", \"items\": {\"type\": \"string\"}}}, \"required\": [\"foo\"]}\n",
      "the object {\"foo\": [\"bar\", \"baz\"]} is a well-formatted instance of the schema. The object {\"properties\": {\"foo\": [\"bar\", \"baz\"]}} is not well-formatted.\n",
      "\n",
      "Here is the output schema:\n",
      "```\n",
      "{\"properties\": {\"person\": {\"description\": \"메일을 보낸 사람\", \"title\": \"Person\", \"type\": \"string\"}, \"email\": {\"description\": \"메일을 보낸 사람의 이메일 주소\", \"title\": \"Email\", \"type\": \"string\"}, \"subject\": {\"description\": \"메일 제목\", \"title\": \"Subject\", \"type\": \"string\"}, \"summary\": {\"description\": \"메일 본문을 요약한 텍스트\", \"title\": \"Summary\", \"type\": \"string\"}, \"date\": {\"description\": \"메일 본문에 언급된 미팅 날짜와 시간\", \"title\": \"Date\", \"type\": \"string\"}}, \"required\": [\"person\", \"email\", \"subject\", \"summary\", \"date\"]}\n",
      "```\n",
      "\n"
     ]
    }
   ],
   "source": [
    "# 템플릿 출력하고 싶으면 template 사용\n",
    "print(prompt.format(question=\"test\", email_conversation=\"test_email\"))"
   ]
  },
  {
   "cell_type": "markdown",
   "id": "e4c334a4",
   "metadata": {},
   "source": [
    "chain 생성 및 결과 확인"
   ]
  },
  {
   "cell_type": "code",
   "execution_count": 14,
   "id": "91c154c9",
   "metadata": {},
   "outputs": [],
   "source": [
    "chain = prompt | llm"
   ]
  },
  {
   "cell_type": "code",
   "execution_count": 15,
   "id": "2af3f9e0",
   "metadata": {},
   "outputs": [
    {
     "name": "stdout",
     "output_type": "stream",
     "text": [
      "```json\n",
      "{\n",
      "    \"person\": \"김철수\",\n",
      "    \"email\": \"chulsoo.kim@bikecorporation.me\",\n",
      "    \"subject\": \"\\\"ZENESIS\\\" 자전거 유통 협력 및 미팅 일정 제안\",\n",
      "    \"summary\": \"김철수 상무는 바이크코퍼레이션의 자전거 유통 협력을 위해 ZENESIS 모델의 브로슈어를 요청하고, 1월 15일 화요일 오전 10시에 미팅을 제안합니다.\",\n",
      "    \"date\": \"1월 15일 화요일 오전 10시\"\n",
      "}\n",
      "```"
     ]
    }
   ],
   "source": [
    "response = chain.stream(\n",
    "    {\n",
    "        \"email_conversation\": email_conversation,\n",
    "        \"question\": \"이메일 내용중 주요 내용을 추출해 주세요.\",\n",
    "    }\n",
    ")\n",
    "\n",
    "# 결과는 JSON 형태로 출력됩니다.\n",
    "output = stream_response(response, return_output=True)"
   ]
  },
  {
   "cell_type": "markdown",
   "id": "84f1cd42",
   "metadata": {},
   "source": [
    "`parser`를 사용하여 결과를 파싱하고 `EmailSummary` 객체로 변환"
   ]
  },
  {
   "cell_type": "code",
   "execution_count": 16,
   "id": "5a53d243",
   "metadata": {},
   "outputs": [
    {
     "name": "stdout",
     "output_type": "stream",
     "text": [
      "person='김철수' email='chulsoo.kim@bikecorporation.me' subject='\"ZENESIS\" 자전거 유통 협력 및 미팅 일정 제안' summary='김철수 상무는 바이크코퍼레이션의 자전거 유통 협력을 위해 ZENESIS 모델의 브로슈어를 요청하고, 1월 15일 화요일 오전 10시에 미팅을 제안합니다.' date='1월 15일 화요일 오전 10시'\n"
     ]
    }
   ],
   "source": [
    "# PydanticOutputParser 를 사용하여 결과를 파싱\n",
    "structured_output = parser.parse(output)\n",
    "print(structured_output)"
   ]
  },
  {
   "cell_type": "markdown",
   "id": "9672e853",
   "metadata": {},
   "source": [
    "### 출력 파서를 사용하는 경우 2: chain에 parser 추가"
   ]
  },
  {
   "cell_type": "code",
   "execution_count": 17,
   "id": "d18efec1",
   "metadata": {},
   "outputs": [
    {
     "data": {
      "text/plain": [
       "PydanticOutputParser(pydantic_object=<class '__main__.EmailSummary'>)"
      ]
     },
     "execution_count": 17,
     "metadata": {},
     "output_type": "execute_result"
    }
   ],
   "source": [
    "parser"
   ]
  },
  {
   "cell_type": "code",
   "execution_count": 18,
   "id": "7d071012",
   "metadata": {},
   "outputs": [],
   "source": [
    "chain = prompt | llm | parser"
   ]
  },
  {
   "cell_type": "code",
   "execution_count": 19,
   "id": "134dcc24",
   "metadata": {},
   "outputs": [
    {
     "data": {
      "text/plain": [
       "EmailSummary(person='김철수', email='chulsoo.kim@bikecorporation.me', subject='\"ZENESIS\" 자전거 유통 협력 및 미팅 일정 제안', summary='김철수 상무는 바이크코퍼레이션의 자전거 유통 협력을 위해 ZENESIS 모델의 브로슈어를 요청하고, 1월 15일 화요일 오전 10시에 미팅을 제안합니다.', date='1월 15일 화요일 오전 10시')"
      ]
     },
     "execution_count": 19,
     "metadata": {},
     "output_type": "execute_result"
    }
   ],
   "source": [
    "response = chain.invoke(\n",
    "    {\n",
    "        \"email_conversation\": email_conversation,\n",
    "        \"question\": \"이메일 내용중 주요 내용을 추출해 주세요.\",\n",
    "    }\n",
    ")\n",
    "\n",
    "# 결과는 EmailSummary 객체 형태로 출력\n",
    "response"
   ]
  },
  {
   "cell_type": "markdown",
   "id": "6ddbc7f5",
   "metadata": {},
   "source": [
    "### 출력 파서를 사용하는 경우 : .with_structured_output 사용"
   ]
  },
  {
   "cell_type": "markdown",
   "id": "ed69addf",
   "metadata": {},
   "source": [
    "`.with_structured_output(Pydantic)`을 사용하여 출력 파서를 추가하면, 출력을 Pydantic 객체로 변환함"
   ]
  },
  {
   "cell_type": "code",
   "execution_count": 20,
   "id": "facd2bf8",
   "metadata": {},
   "outputs": [],
   "source": [
    "llm_with_structered = ChatOpenAI(\n",
    "    temperature=0, model_name=\"gpt-4o\"\n",
    ").with_structured_output(EmailSummary)"
   ]
  },
  {
   "cell_type": "code",
   "execution_count": 21,
   "id": "b630c51c",
   "metadata": {},
   "outputs": [
    {
     "data": {
      "text/plain": [
       "EmailSummary(person='김철수', email='chulsoo.kim@bikecorporation.me', subject='\"ZENESIS\" 자전거 유통 협력 및 미팅 일정 제안', summary='김철수 상무는 이은채 대리에게 바이크코퍼레이션과 테디인터내셔널 간의 협력 가능성을 논의하기 위해 이메일을 보냈습니다. 그는 테디인터내셔널의 새로운 자전거 모델 \"ZENESIS\"에 대한 관심을 표명하며, 기술 사양, 배터리 성능, 디자인 측면에 대한 상세한 정보를 요청했습니다. 또한, 협력 논의를 위해 1월 15일 화요일 오전 10시에 미팅을 제안했습니다.', date='1월 15일 오전 10시')"
      ]
     },
     "execution_count": 21,
     "metadata": {},
     "output_type": "execute_result"
    }
   ],
   "source": [
    "# invoke() 함수를 호출하여 결과를 출력합니다.\n",
    "answer = llm_with_structered.invoke(email_conversation)\n",
    "answer"
   ]
  },
  {
   "cell_type": "markdown",
   "id": "4ea27336",
   "metadata": {},
   "source": [
    "그런데 `.with_structured_output()` 함수는 `stream()` 기능을 지원하지 않는다.\n",
    "왜 stream을 지원하지 않나?   \n",
    "- with_structured_output()은 LangChain에서 출력 타입을 Pydantic 모델로 변환해주는 유틸리티 함수임\n",
    "- 내부적으로는 LLM 응답을 한 번에 받아서 이를 Pydantic 모델에 파싱함\n",
    "\n",
    "- 즉, LLM의 응답이 완전히 끝나야 구조화하여 모델로 변환할 수 있음\n",
    "\n"
   ]
  },
  {
   "cell_type": "markdown",
   "id": "3031f28e",
   "metadata": {},
   "source": []
  }
 ],
 "metadata": {
  "kernelspec": {
   "display_name": "langchain-kr",
   "language": "python",
   "name": "python3"
  },
  "language_info": {
   "codemirror_mode": {
    "name": "ipython",
    "version": 3
   },
   "file_extension": ".py",
   "mimetype": "text/x-python",
   "name": "python",
   "nbconvert_exporter": "python",
   "pygments_lexer": "ipython3",
   "version": "3.11.11"
  }
 },
 "nbformat": 4,
 "nbformat_minor": 5
}
