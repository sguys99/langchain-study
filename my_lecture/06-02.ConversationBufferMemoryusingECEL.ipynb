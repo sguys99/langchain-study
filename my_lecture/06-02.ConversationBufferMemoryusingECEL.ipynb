{
 "cells": [
  {
   "cell_type": "markdown",
   "id": "2550920c-09d8-48b3-be2f-b36362c37989",
   "metadata": {},
   "source": [
    "## 6.2 Conversation Buffer Memory using ECEL"
   ]
  },
  {
   "cell_type": "markdown",
   "id": "e5a6b509",
   "metadata": {},
   "source": [
    "<div style=\"text-align: right\"> Initial issue : 2025.05.12 </div>\n",
    "<div style=\"text-align: right\"> last update : 2025.05.12 </div>"
   ]
  },
  {
   "cell_type": "markdown",
   "id": "8df23e37",
   "metadata": {},
   "source": [
    "ECEL에 chat_history를 추가하는 방법"
   ]
  },
  {
   "cell_type": "code",
   "execution_count": 1,
   "id": "75649171",
   "metadata": {},
   "outputs": [
    {
     "data": {
      "text/plain": [
       "True"
      ]
     },
     "execution_count": 1,
     "metadata": {},
     "output_type": "execute_result"
    }
   ],
   "source": [
    "from dotenv import load_dotenv\n",
    "load_dotenv()"
   ]
  },
  {
   "cell_type": "code",
   "execution_count": 2,
   "id": "54331283",
   "metadata": {},
   "outputs": [],
   "source": [
    "from langchain.memory import ConversationBufferMemory"
   ]
  },
  {
   "cell_type": "code",
   "execution_count": 3,
   "id": "ddd258db",
   "metadata": {},
   "outputs": [
    {
     "name": "stderr",
     "output_type": "stream",
     "text": [
      "/tmp/ipykernel_62323/2223904900.py:1: LangChainDeprecationWarning: Please see the migration guide at: https://python.langchain.com/docs/versions/migrating_memory/\n",
      "  memory = ConversationBufferMemory()\n"
     ]
    },
    {
     "data": {
      "text/plain": [
       "ConversationBufferMemory(chat_memory=InMemoryChatMessageHistory(messages=[]))"
      ]
     },
     "execution_count": 3,
     "metadata": {},
     "output_type": "execute_result"
    }
   ],
   "source": [
    "memory = ConversationBufferMemory()\n",
    "memory"
   ]
  },
  {
   "cell_type": "code",
   "execution_count": 4,
   "id": "ba680d14",
   "metadata": {},
   "outputs": [
    {
     "data": {
      "text/plain": [
       "ConversationBufferMemory(chat_memory=InMemoryChatMessageHistory(messages=[HumanMessage(content='안녕하세요, 비대면으로 은행 계좌를 개설하고 싶습니다. 어떻게 시작해야 하나요?', additional_kwargs={}, response_metadata={}), AIMessage(content='안녕하세요! 계좌 개설을 원하신다니 기쁩니다. 먼저, 본인 인증을 위해 신분증을 준비해 주시겠어요?', additional_kwargs={}, response_metadata={})]))"
      ]
     },
     "execution_count": 4,
     "metadata": {},
     "output_type": "execute_result"
    }
   ],
   "source": [
    "memory.save_context(\n",
    "    inputs={\n",
    "        \"human\": \"안녕하세요, 비대면으로 은행 계좌를 개설하고 싶습니다. 어떻게 시작해야 하나요?\"\n",
    "    },\n",
    "    outputs={\n",
    "        \"ai\": \"안녕하세요! 계좌 개설을 원하신다니 기쁩니다. 먼저, 본인 인증을 위해 신분증을 준비해 주시겠어요?\"\n",
    "    },\n",
    ")\n",
    "memory"
   ]
  },
  {
   "cell_type": "markdown",
   "id": "8e49cdc9",
   "metadata": {},
   "source": [
    "memory 의 `load_memory_variables({})` 함수는 메시지 히스토리를 반환"
   ]
  },
  {
   "cell_type": "code",
   "execution_count": 5,
   "id": "5285af91",
   "metadata": {},
   "outputs": [
    {
     "name": "stdout",
     "output_type": "stream",
     "text": [
      "Human: 안녕하세요, 비대면으로 은행 계좌를 개설하고 싶습니다. 어떻게 시작해야 하나요?\n",
      "AI: 안녕하세요! 계좌 개설을 원하신다니 기쁩니다. 먼저, 본인 인증을 위해 신분증을 준비해 주시겠어요?\n"
     ]
    }
   ],
   "source": [
    "print(memory.load_memory_variables({})[\"history\"])"
   ]
  },
  {
   "cell_type": "markdown",
   "id": "c55dd9c6",
   "metadata": {},
   "source": [
    "`load_memory` 함수를 정의"
   ]
  },
  {
   "cell_type": "code",
   "execution_count": 6,
   "id": "a0ee95d9",
   "metadata": {},
   "outputs": [],
   "source": [
    "def load_memory(_):  # 무조건 입력을 넣어야... 규칙임\n",
    "    return memory.load_memory_variables({})[\"chat_history\"]"
   ]
  },
  {
   "cell_type": "markdown",
   "id": "4d675a50",
   "metadata": {},
   "source": [
    "`return_messages=True` 로 설정하면 `HumanMessage` 와 `AIMessage` 객체를 반환"
   ]
  },
  {
   "cell_type": "code",
   "execution_count": 7,
   "id": "c7bcbaf5",
   "metadata": {},
   "outputs": [],
   "source": [
    "memory = ConversationBufferMemory(return_messages=True, k=5, memory_key = \"chat_history\")"
   ]
  },
  {
   "cell_type": "markdown",
   "id": "76c8ee40",
   "metadata": {},
   "source": [
    "### Chain 생성"
   ]
  },
  {
   "cell_type": "markdown",
   "id": "401de7be",
   "metadata": {},
   "source": [
    "프롬프트 생성"
   ]
  },
  {
   "cell_type": "code",
   "execution_count": 8,
   "id": "30fa242d",
   "metadata": {},
   "outputs": [],
   "source": [
    "from langchain_core.prompts import PromptTemplate\n",
    "\n",
    "template = \"\"\"\n",
    "You are a helpful and concise assistant.\n",
    "Use the chat history to understand the conversation flow and provide a relevant and accurate answer to the current question.\n",
    "\n",
    "Chat History: {chat_history}\n",
    "\"\"\"\n",
    "\n",
    "prompt = PromptTemplate(\n",
    "    input_variables=[\"chat_history\", \"question\"], \n",
    "    template=template + \"\\nQuestion: {question}\"\n",
    ")"
   ]
  },
  {
   "cell_type": "markdown",
   "id": "c52af354",
   "metadata": {},
   "source": [
    "llm 정의"
   ]
  },
  {
   "cell_type": "code",
   "execution_count": 9,
   "id": "ae656ab0",
   "metadata": {},
   "outputs": [],
   "source": [
    "from langchain_openai import ChatOpenAI\n",
    "\n",
    "# LLM 모델을 생성합니다.\n",
    "llm = ChatOpenAI(temperature=0, model_name=\"gpt-4o\")"
   ]
  },
  {
   "cell_type": "markdown",
   "id": "bb94e8c3",
   "metadata": {},
   "source": [
    "chain"
   ]
  },
  {
   "cell_type": "code",
   "execution_count": 10,
   "id": "443748aa",
   "metadata": {},
   "outputs": [],
   "source": [
    "from langchain.schema.runnable import RunnableLambda, RunnablePassthrough\n",
    "\n",
    "chain = (\n",
    "    {\n",
    "        \"question\": RunnablePassthrough(),  # Pass through the question\n",
    "        \"chat_history\": RunnableLambda(load_memory),\n",
    "    }\n",
    "    | prompt  # Add the prompt template\n",
    "    | llm  # Pass the input to the LLM\n",
    ")"
   ]
  },
  {
   "cell_type": "markdown",
   "id": "5e8fe7a4",
   "metadata": {},
   "source": [
    "### 테스트"
   ]
  },
  {
   "cell_type": "code",
   "execution_count": 11,
   "id": "39124c57",
   "metadata": {},
   "outputs": [
    {
     "name": "stdout",
     "output_type": "stream",
     "text": [
      "안녕하세요, 홍길동님! 만나서 반갑습니다. 어떻게 도와드릴까요?\n"
     ]
    }
   ],
   "source": [
    "content = chain.invoke(\"안녕하세요. 제 이름은 홍길동입니다. 잘 부탁 드립니다.\").content\n",
    "memory.save_context({\"input\": \"안녕하세요. 제 이름은 홍길동입니다. 잘 부탁 드립니다.\"}, \n",
    "                    {\"output\": content})\n",
    "print(content)"
   ]
  },
  {
   "cell_type": "code",
   "execution_count": 12,
   "id": "5636e013",
   "metadata": {},
   "outputs": [
    {
     "name": "stdout",
     "output_type": "stream",
     "text": [
      "서울 근교에서 가볼 만한 여행지 세 곳을 추천해드리겠습니다.\n",
      "\n",
      "1. **남한산성**: 역사적인 유적지로, 아름다운 자연 경관과 함께 산책을 즐길 수 있습니다. 가벼운 등산 코스로도 좋습니다.\n",
      "\n",
      "2. **가평**: 자연과 함께하는 다양한 액티비티를 즐길 수 있는 곳입니다. 특히, 남이섬과 아침고요수목원이 유명합니다.\n",
      "\n",
      "3. **양평**: 두물머리와 세미원 같은 자연 명소가 있으며, 한적한 분위기에서 여유로운 시간을 보낼 수 있습니다.\n",
      "\n",
      "이 세 곳은 서울에서 비교적 가까워 당일치기 여행으로도 적합합니다.\n"
     ]
    }
   ],
   "source": [
    "content = chain.invoke(\"서울 근교 여행지 3군데 추천해줘.\").content\n",
    "memory.save_context({\"input\": \"서울 근교 여행지 3군데 추천해줘.\"}, \n",
    "                    {\"output\": content})\n",
    "print(content)"
   ]
  },
  {
   "cell_type": "code",
   "execution_count": 13,
   "id": "c87e35d1",
   "metadata": {},
   "outputs": [
    {
     "name": "stdout",
     "output_type": "stream",
     "text": [
      "당신의 이름은 홍길동입니다.\n"
     ]
    }
   ],
   "source": [
    "content = chain.invoke(\"내 이름이 뭐라고?\").content\n",
    "memory.save_context({\"input\": \"내 이름이 뭐라고?\"}, \n",
    "                    {\"output\": content})\n",
    "print(content)"
   ]
  },
  {
   "cell_type": "code",
   "execution_count": 14,
   "id": "0ca0884e",
   "metadata": {},
   "outputs": [
    {
     "name": "stdout",
     "output_type": "stream",
     "text": [
      "{'chat_history': [HumanMessage(content='안녕하세요. 제 이름은 홍길동입니다. 잘 부탁 드립니다.', additional_kwargs={}, response_metadata={}), AIMessage(content='안녕하세요, 홍길동님! 만나서 반갑습니다. 어떻게 도와드릴까요?', additional_kwargs={}, response_metadata={}), HumanMessage(content='서울 근교 여행지 3군데 추천해줘.', additional_kwargs={}, response_metadata={}), AIMessage(content='서울 근교에서 가볼 만한 여행지 세 곳을 추천해드리겠습니다.\\n\\n1. **남한산성**: 역사적인 유적지로, 아름다운 자연 경관과 함께 산책을 즐길 수 있습니다. 가벼운 등산 코스로도 좋습니다.\\n\\n2. **가평**: 자연과 함께하는 다양한 액티비티를 즐길 수 있는 곳입니다. 특히, 남이섬과 아침고요수목원이 유명합니다.\\n\\n3. **양평**: 두물머리와 세미원 같은 자연 명소가 있으며, 한적한 분위기에서 여유로운 시간을 보낼 수 있습니다.\\n\\n이 세 곳은 서울에서 비교적 가까워 당일치기 여행으로도 적합합니다.', additional_kwargs={}, response_metadata={}), HumanMessage(content='내 이름이 뭐라고?', additional_kwargs={}, response_metadata={}), AIMessage(content='당신의 이름은 홍길동입니다.', additional_kwargs={}, response_metadata={})]}\n"
     ]
    }
   ],
   "source": [
    "print(memory.load_memory_variables({}))"
   ]
  },
  {
   "cell_type": "code",
   "execution_count": null,
   "id": "cf7f79d2",
   "metadata": {},
   "outputs": [],
   "source": []
  }
 ],
 "metadata": {
  "kernelspec": {
   "display_name": "langchain-kr",
   "language": "python",
   "name": "python3"
  },
  "language_info": {
   "codemirror_mode": {
    "name": "ipython",
    "version": 3
   },
   "file_extension": ".py",
   "mimetype": "text/x-python",
   "name": "python",
   "nbconvert_exporter": "python",
   "pygments_lexer": "ipython3",
   "version": "3.11.11"
  }
 },
 "nbformat": 4,
 "nbformat_minor": 5
}
