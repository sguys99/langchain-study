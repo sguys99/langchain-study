{
 "cells": [
  {
   "cell_type": "markdown",
   "id": "2550920c-09d8-48b3-be2f-b36362c37989",
   "metadata": {},
   "source": [
    "## 1.1 ChatOpenAI"
   ]
  },
  {
   "cell_type": "markdown",
   "id": "e5a6b509",
   "metadata": {},
   "source": [
    "<div style=\"text-align: right\"> Initial issue : 2025.04.26 </div>\n",
    "<div style=\"text-align: right\"> last update : 2025.04.26 </div>"
   ]
  },
  {
   "cell_type": "markdown",
   "id": "57745a3b",
   "metadata": {},
   "source": [
    "OpenAI 사의 채팅 전용 Large Language Model(llm) 입니다.\n",
    "\n",
    "객체를 생성할 때 다음을 옵션 값을 지정할 수 있습니다. 옵션에 대한 상세 설명은 다음과 같습니다.\n",
    "\n",
    "`temperature`\n",
    "\n",
    "- 사용할 샘플링 온도는 0과 2 사이에서 선택합니다. 0.8과 같은 높은 값은 출력을 더 무작위하게 만들고, 0.2와 같은 낮은 값은 출력을 더 집중되고 결정론적으로 만듭니다.\n",
    "\n",
    "`max_tokens`\n",
    "\n",
    "- 채팅 완성에서 생성할 토큰의 최대 개수입니다.\n",
    "\n",
    "`model_name`: 적용 가능한 모델 리스트\n",
    "- `gpt-4o`\n",
    "- `gpt-4o-mini`\n",
    "\n",
    "- 링크: https://platform.openai.com/docs/models\n"
   ]
  },
  {
   "cell_type": "code",
   "execution_count": 1,
   "id": "122bcb9d",
   "metadata": {},
   "outputs": [
    {
     "data": {
      "text/plain": [
       "True"
      ]
     },
     "execution_count": 1,
     "metadata": {},
     "output_type": "execute_result"
    }
   ],
   "source": [
    "from dotenv import load_dotenv\n",
    "load_dotenv()"
   ]
  },
  {
   "cell_type": "code",
   "execution_count": 2,
   "id": "5fc161c2",
   "metadata": {},
   "outputs": [
    {
     "name": "stdout",
     "output_type": "stream",
     "text": [
      "[답변]: content='대한민국의 수도는 서울입니다.' additional_kwargs={'refusal': None} response_metadata={'token_usage': {'completion_tokens': 9, 'prompt_tokens': 16, 'total_tokens': 25, 'completion_tokens_details': {'accepted_prediction_tokens': 0, 'audio_tokens': 0, 'reasoning_tokens': 0, 'rejected_prediction_tokens': 0}, 'prompt_tokens_details': {'audio_tokens': 0, 'cached_tokens': 0}}, 'model_name': 'gpt-4o-mini-2024-07-18', 'system_fingerprint': 'fp_129a36352a', 'id': 'chatcmpl-BQmApwt3ayOIx4OFJiOfFpigZSQgz', 'finish_reason': 'stop', 'logprobs': None} id='run-37f28ef8-8109-4bf7-896a-d1b9e336824a-0' usage_metadata={'input_tokens': 16, 'output_tokens': 9, 'total_tokens': 25, 'input_token_details': {'audio': 0, 'cache_read': 0}, 'output_token_details': {'audio': 0, 'reasoning': 0}}\n"
     ]
    }
   ],
   "source": [
    "from langchain_openai import ChatOpenAI\n",
    "\n",
    "# 객체 생성\n",
    "llm = ChatOpenAI(\n",
    "    temperature=0.1,  # 창의성 (0.0 ~ 2.0)\n",
    "    model_name=\"gpt-4o-mini\",  # 모델명\n",
    ")\n",
    "# 질의내용\n",
    "question = \"대한민국의 수도는 어디인가요?\"\n",
    "print(f\"[답변]: {llm.invoke(question)}\")"
   ]
  },
  {
   "cell_type": "markdown",
   "id": "d2ef2647",
   "metadata": {},
   "source": [
    "### 답변의 형식(AI Message)"
   ]
  },
  {
   "cell_type": "code",
   "execution_count": 3,
   "id": "2af58a9a",
   "metadata": {},
   "outputs": [],
   "source": [
    "# 질의내용\n",
    "question = \"대한민국의 수도는 어디인가요?\"\n",
    "\n",
    "# 질의\n",
    "response = llm.invoke(question)"
   ]
  },
  {
   "cell_type": "code",
   "execution_count": 4,
   "id": "24ecdeb9",
   "metadata": {},
   "outputs": [
    {
     "data": {
      "text/plain": [
       "AIMessage(content='대한민국의 수도는 서울입니다.', additional_kwargs={'refusal': None}, response_metadata={'token_usage': {'completion_tokens': 9, 'prompt_tokens': 16, 'total_tokens': 25, 'completion_tokens_details': {'accepted_prediction_tokens': 0, 'audio_tokens': 0, 'reasoning_tokens': 0, 'rejected_prediction_tokens': 0}, 'prompt_tokens_details': {'audio_tokens': 0, 'cached_tokens': 0}}, 'model_name': 'gpt-4o-mini-2024-07-18', 'system_fingerprint': 'fp_129a36352a', 'id': 'chatcmpl-BQmApSJIGYvWy2UQz5ksE9wcpAQIS', 'finish_reason': 'stop', 'logprobs': None}, id='run-7ffa2b86-9f97-441c-af36-4b81ddd04cd0-0', usage_metadata={'input_tokens': 16, 'output_tokens': 9, 'total_tokens': 25, 'input_token_details': {'audio': 0, 'cache_read': 0}, 'output_token_details': {'audio': 0, 'reasoning': 0}})"
      ]
     },
     "execution_count": 4,
     "metadata": {},
     "output_type": "execute_result"
    }
   ],
   "source": [
    "response"
   ]
  },
  {
   "cell_type": "code",
   "execution_count": 5,
   "id": "ffd49c11",
   "metadata": {},
   "outputs": [
    {
     "data": {
      "text/plain": [
       "'대한민국의 수도는 서울입니다.'"
      ]
     },
     "execution_count": 5,
     "metadata": {},
     "output_type": "execute_result"
    }
   ],
   "source": [
    "response.content"
   ]
  },
  {
   "cell_type": "code",
   "execution_count": 6,
   "id": "4df69214",
   "metadata": {},
   "outputs": [
    {
     "data": {
      "text/plain": [
       "{'token_usage': {'completion_tokens': 9,\n",
       "  'prompt_tokens': 16,\n",
       "  'total_tokens': 25,\n",
       "  'completion_tokens_details': {'accepted_prediction_tokens': 0,\n",
       "   'audio_tokens': 0,\n",
       "   'reasoning_tokens': 0,\n",
       "   'rejected_prediction_tokens': 0},\n",
       "  'prompt_tokens_details': {'audio_tokens': 0, 'cached_tokens': 0}},\n",
       " 'model_name': 'gpt-4o-mini-2024-07-18',\n",
       " 'system_fingerprint': 'fp_129a36352a',\n",
       " 'id': 'chatcmpl-BQmApSJIGYvWy2UQz5ksE9wcpAQIS',\n",
       " 'finish_reason': 'stop',\n",
       " 'logprobs': None}"
      ]
     },
     "execution_count": 6,
     "metadata": {},
     "output_type": "execute_result"
    }
   ],
   "source": [
    "response.response_metadata"
   ]
  },
  {
   "cell_type": "markdown",
   "id": "74c4a51a",
   "metadata": {},
   "source": [
    "### LogProb 활성화\n",
    "\n",
    "- 주어진 텍스트에 대한 모델의 **토큰 확률의 로그 값** 을 의미\n",
    "- 다시 말해, **모델이 그 토큰을 예측할 확률**을 나타냄"
   ]
  },
  {
   "cell_type": "code",
   "execution_count": 7,
   "id": "fe733438",
   "metadata": {},
   "outputs": [],
   "source": [
    "# 객체 생성\n",
    "llm_with_logprob = ChatOpenAI(\n",
    "    temperature=0.1,  # 창의성 (0.0 ~ 2.0)\n",
    "    max_tokens=2048,  # 최대 토큰수\n",
    "    model_name=\"gpt-4o-mini\",  # 모델명\n",
    ").bind(logprobs=True)"
   ]
  },
  {
   "cell_type": "code",
   "execution_count": 8,
   "id": "8ae2d627",
   "metadata": {},
   "outputs": [],
   "source": [
    "# 질의내용\n",
    "question = \"대한민국의 수도는 어디인가요?\"\n",
    "\n",
    "# 질의\n",
    "response = llm_with_logprob.invoke(question)"
   ]
  },
  {
   "cell_type": "code",
   "execution_count": 9,
   "id": "e6b0b9f7",
   "metadata": {},
   "outputs": [
    {
     "data": {
      "text/plain": [
       "{'token_usage': {'completion_tokens': 9,\n",
       "  'prompt_tokens': 16,\n",
       "  'total_tokens': 25,\n",
       "  'completion_tokens_details': {'accepted_prediction_tokens': 0,\n",
       "   'audio_tokens': 0,\n",
       "   'reasoning_tokens': 0,\n",
       "   'rejected_prediction_tokens': 0},\n",
       "  'prompt_tokens_details': {'audio_tokens': 0, 'cached_tokens': 0}},\n",
       " 'model_name': 'gpt-4o-mini-2024-07-18',\n",
       " 'system_fingerprint': 'fp_129a36352a',\n",
       " 'id': 'chatcmpl-BQmAqddrg57X4o6hnGmwvtexU9Zws',\n",
       " 'finish_reason': 'stop',\n",
       " 'logprobs': {'content': [{'token': '대한',\n",
       "    'bytes': [235, 140, 128, 237, 149, 156],\n",
       "    'logprob': -3.833878508885391e-05,\n",
       "    'top_logprobs': []},\n",
       "   {'token': '민국',\n",
       "    'bytes': [235, 175, 188, 234, 181, 173],\n",
       "    'logprob': -6.704273118884885e-07,\n",
       "    'top_logprobs': []},\n",
       "   {'token': '의',\n",
       "    'bytes': [236, 157, 152],\n",
       "    'logprob': -3.166338137816638e-05,\n",
       "    'top_logprobs': []},\n",
       "   {'token': ' 수도',\n",
       "    'bytes': [32, 236, 136, 152, 235, 143, 132],\n",
       "    'logprob': -3.953082341467962e-05,\n",
       "    'top_logprobs': []},\n",
       "   {'token': '는',\n",
       "    'bytes': [235, 138, 148],\n",
       "    'logprob': -6.265633419388905e-05,\n",
       "    'top_logprobs': []},\n",
       "   {'token': ' 서울',\n",
       "    'bytes': [32, 236, 132, 156, 236, 154, 184],\n",
       "    'logprob': -0.00022070204431656748,\n",
       "    'top_logprobs': []},\n",
       "   {'token': '입니다',\n",
       "    'bytes': [236, 158, 133, 235, 139, 136, 235, 139, 164],\n",
       "    'logprob': -0.0034924468491226435,\n",
       "    'top_logprobs': []},\n",
       "   {'token': '.',\n",
       "    'bytes': [46],\n",
       "    'logprob': -1.9361264946837764e-07,\n",
       "    'top_logprobs': []}],\n",
       "  'refusal': None}}"
      ]
     },
     "execution_count": 9,
     "metadata": {},
     "output_type": "execute_result"
    }
   ],
   "source": [
    "# 결과 출력\n",
    "response.response_metadata"
   ]
  },
  {
   "cell_type": "markdown",
   "id": "f8aec3e6",
   "metadata": {},
   "source": [
    "### 스트리밍 출력\n",
    "\n",
    "스트리밍 옵션은 질의에 대한 답변을 실시간으로 받을 때 유용합니다."
   ]
  },
  {
   "cell_type": "code",
   "execution_count": 10,
   "id": "1bbc5d03",
   "metadata": {},
   "outputs": [],
   "source": [
    "# 스트림 방식으로 질의\n",
    "# answer 에 스트리밍 답변의 결과를 받습니다.\n",
    "answer = llm.stream(\"대한민국의 아름다운 관광지 10곳과 주소를 알려주세요!\")"
   ]
  },
  {
   "cell_type": "code",
   "execution_count": 11,
   "id": "87a90e66",
   "metadata": {},
   "outputs": [
    {
     "name": "stdout",
     "output_type": "stream",
     "text": [
      "대한민국에는 아름다운 관광지가 많이 있습니다. 아래는 추천하는 10곳과 그 주소입니다.\n",
      "\n",
      "1. **경복궁**\n",
      "   - 주소: 서울특별시 종로구 사직로 161\n",
      "\n",
      "2. **제주도**\n",
      "   - 주소: 제주특별자치도 제주시\n",
      "\n",
      "3. **부산 해운대 해수욕장**\n",
      "   - 주소: 부산광역시 해운대구 해운대해변로 264\n",
      "\n",
      "4. **경주 불국사**\n",
      "   - 주소: 경상북도 경주시 불국로 385\n",
      "\n",
      "5. **남이섬**\n",
      "   - 주소: 강원도 춘천시 남이섬길 1\n",
      "\n",
      "6. **전주 한옥마을**\n",
      "   - 주소: 전라북도 전주시 완산구 기린대로 99\n",
      "\n",
      "7. **설악산 국립공원**\n",
      "   - 주소: 강원도 속초시 설악산로 173\n",
      "\n",
      "8. **안동 하회마을**\n",
      "   - 주소: 경상북도 안동시 풍천면 하회리\n",
      "\n",
      "9. **서울 남산타워 (N서울타워)**\n",
      "   - 주소: 서울특별시 용산구 남산공원길 105\n",
      "\n",
      "10. **광주 무등산**\n",
      "    - 주소: 광주광역시 동구 무등산로 1\n",
      "\n",
      "각 관광지는 고유의 매력을 가지고 있으며, 방문 시 다양한 문화와 자연을 경험할 수 있습니다."
     ]
    }
   ],
   "source": [
    "# 스트리밍 방식으로 각 토큰을 출력합니다. (실시간 출력)\n",
    "for token in answer:\n",
    "    print(token.content, end=\"\", flush=True)"
   ]
  },
  {
   "cell_type": "code",
   "execution_count": 12,
   "id": "fc9d4955",
   "metadata": {},
   "outputs": [],
   "source": [
    "from langchain_core.messages import AIMessageChunk\n",
    "def stream_response(response, return_output=False):\n",
    "    \"\"\"\n",
    "    AI 모델로부터의 응답을 스트리밍하여 각 청크를 처리하면서 출력합니다.\n",
    "\n",
    "    이 함수는 `response` 이터러블의 각 항목을 반복 처리합니다. 항목이 `AIMessageChunk`의 인스턴스인 경우,\n",
    "    청크의 내용을 추출하여 출력합니다. 항목이 문자열인 경우, 문자열을 직접 출력합니다. 선택적으로, 함수는\n",
    "    모든 응답 청크의 연결된 문자열을 반환할 수 있습니다.\n",
    "\n",
    "    매개변수:\n",
    "    - response (iterable): `AIMessageChunk` 객체 또는 문자열일 수 있는 응답 청크의 이터러블입니다.\n",
    "    - return_output (bool, optional): True인 경우, 함수는 연결된 응답 문자열을 문자열로 반환합니다. 기본값은 False입니다.\n",
    "\n",
    "    반환값:\n",
    "    - str: `return_output`이 True인 경우, 연결된 응답 문자열입니다. 그렇지 않으면, 아무것도 반환되지 않습니다.\n",
    "    \"\"\"\n",
    "    answer = \"\"\n",
    "    for token in response:\n",
    "        if isinstance(token, AIMessageChunk):\n",
    "            answer += token.content\n",
    "            print(token.content, end=\"\", flush=True)\n",
    "        elif isinstance(token, str):\n",
    "            answer += token\n",
    "            print(token, end=\"\", flush=True)\n",
    "    if return_output:\n",
    "        return answer"
   ]
  },
  {
   "cell_type": "code",
   "execution_count": 13,
   "id": "c6f079b9",
   "metadata": {},
   "outputs": [
    {
     "name": "stdout",
     "output_type": "stream",
     "text": [
      "대한민국에는 아름다운 관광지가 많이 있습니다. 아래는 추천하는 10곳과 그 주소입니다.\n",
      "\n",
      "1. **경복궁**\n",
      "   - 주소: 서울특별시 종로구 사직로 161\n",
      "\n",
      "2. **제주도**\n",
      "   - 주소: 제주특별자치도 제주시\n",
      "\n",
      "3. **부산 해운대**\n",
      "   - 주소: 부산광역시 해운대구 해운대해변로 140\n",
      "\n",
      "4. **경주 불국사**\n",
      "   - 주소: 경상북도 경주시 불국로 385\n",
      "\n",
      "5. **남이섬**\n",
      "   - 주소: 강원도 춘천시 남이섬길 1\n",
      "\n",
      "6. **전주 한옥마을**\n",
      "   - 주소: 전라북도 전주시 완산구 기린대로 99\n",
      "\n",
      "7. **설악산 국립공원**\n",
      "   - 주소: 강원도 속초시 설악산로 173\n",
      "\n",
      "8. **안동 하회마을**\n",
      "   - 주소: 경상북도 안동시 풍천면 하회리\n",
      "\n",
      "9. **서울 남산타워 (N서울타워)**\n",
      "   - 주소: 서울특별시 용산구 남산공원길 105\n",
      "\n",
      "10. **광주 무등산**\n",
      "    - 주소: 광주광역시 동구 무등산로 100\n",
      "\n",
      "각 관광지는 독특한 매력을 가지고 있으며, 방문 시 다양한 문화와 자연을 경험할 수 있습니다."
     ]
    }
   ],
   "source": [
    "# answer 에 스트리밍 답변의 결과를 받음.\n",
    "answer = llm.stream(\"대한민국의 아름다운 관광지 10곳과 주소를 알려주세요!\")\n",
    "stream_response(answer)"
   ]
  },
  {
   "cell_type": "markdown",
   "id": "0e0e35de",
   "metadata": {},
   "source": [
    "## 프롬프트 캐싱\n",
    "\n",
    "- 참고 링크: https://platform.openai.com/docs/guides/prompt-caching"
   ]
  },
  {
   "cell_type": "markdown",
   "id": "7a06ff75",
   "metadata": {},
   "source": [
    "- 프롬프트 캐싱 기능을 활용하면 반복하여 동일하게 입력으로 들어가는 토큰에 대한 비용을 아낄 수 있음.(시스템 프롬프트)\n",
    "- 다만, 캐싱에 활용할 토큰은 고정된 PREFIX 를 주는 것이 권장됨.\n",
    "- 아래의 예시에서는 `<PROMPT_CACHING>` 부분에 고정된 토큰을 주어 캐싱을 활용하는 방법을 설명."
   ]
  },
  {
   "cell_type": "code",
   "execution_count": 14,
   "id": "b8b23cdc",
   "metadata": {},
   "outputs": [],
   "source": [
    "very_long_prompt = \"\"\"\n",
    "당신은 매우 친절한 AI 어시스턴트 입니다. \n",
    "당신의 임무는 주어진 질문에 대해 친절하게 답변하는 것입니다.\n",
    "아래는 사용자의 질문에 답변할 때 참고할 수 있는 정보입니다.\n",
    "주어진 정보를 참고하여 답변해 주세요.\n",
    "\n",
    "<WANT_TO_CACHE_HERE>\n",
    "#참고:\n",
    "**Prompt Caching**\n",
    "Model prompts often contain repetitive content, like system prompts and common instructions. OpenAI routes API requests to servers that recently processed the same prompt, making it cheaper and faster than processing a prompt from scratch. This can reduce latency by up to 80% and cost by 50% for long prompts. Prompt Caching works automatically on all your API requests (no code changes required) and has no additional fees associated with it.\n",
    "\n",
    "Prompt Caching is enabled for the following models:\n",
    "\n",
    "gpt-4o (excludes gpt-4o-2024-05-13 and chatgpt-4o-latest)\n",
    "gpt-4o-mini\n",
    "o1-preview\n",
    "o1-mini\n",
    "This guide describes how prompt caching works in detail, so that you can optimize your prompts for lower latency and cost.\n",
    "\n",
    "Structuring prompts\n",
    "Cache hits are only possible for exact prefix matches within a prompt. To realize caching benefits, place static content like instructions and examples at the beginning of your prompt, and put variable content, such as user-specific information, at the end. This also applies to images and tools, which must be identical between requests.\n",
    "\n",
    "How it works\n",
    "Caching is enabled automatically for prompts that are 1024 tokens or longer. When you make an API request, the following steps occur:\n",
    "\n",
    "Cache Lookup: The system checks if the initial portion (prefix) of your prompt is stored in the cache.\n",
    "Cache Hit: If a matching prefix is found, the system uses the cached result. This significantly decreases latency and reduces costs.\n",
    "Cache Miss: If no matching prefix is found, the system processes your full prompt. After processing, the prefix of your prompt is cached for future requests.\n",
    "Cached prefixes generally remain active for 5 to 10 minutes of inactivity. However, during off-peak periods, caches may persist for up to one hour.\n",
    "\n",
    "Requirements\n",
    "Caching is available for prompts containing 1024 tokens or more, with cache hits occurring in increments of 128 tokens. Therefore, the number of cached tokens in a request will always fall within the following sequence: 1024, 1152, 1280, 1408, and so on, depending on the prompt's length.\n",
    "\n",
    "All requests, including those with fewer than 1024 tokens, will display a cached_tokens field of the usage.prompt_tokens_details chat completions object indicating how many of the prompt tokens were a cache hit. For requests under 1024 tokens, cached_tokens will be zero.\n",
    "\n",
    "What can be cached\n",
    "Messages: The complete messages array, encompassing system, user, and assistant interactions.\n",
    "Images: Images included in user messages, either as links or as base64-encoded data, as well as multiple images can be sent. Ensure the detail parameter is set identically, as it impacts image tokenization.\n",
    "Tool use: Both the messages array and the list of available tools can be cached, contributing to the minimum 1024 token requirement.\n",
    "Structured outputs: The structured output schema serves as a prefix to the system message and can be cached.\n",
    "Best practices\n",
    "Structure prompts with static or repeated content at the beginning and dynamic content at the end.\n",
    "Monitor metrics such as cache hit rates, latency, and the percentage of tokens cached to optimize your prompt and caching strategy.\n",
    "To increase cache hits, use longer prompts and make API requests during off-peak hours, as cache evictions are more frequent during peak times.\n",
    "Prompts that haven't been used recently are automatically removed from the cache. To minimize evictions, maintain a consistent stream of requests with the same prompt prefix.\n",
    "Frequently asked questions\n",
    "How is data privacy maintained for caches?\n",
    "\n",
    "Prompt caches are not shared between organizations. Only members of the same organization can access caches of identical prompts.\n",
    "\n",
    "Does Prompt Caching affect output token generation or the final response of the API?\n",
    "\n",
    "Prompt Caching does not influence the generation of output tokens or the final response provided by the API. Regardless of whether caching is used, the output generated will be identical. This is because only the prompt itself is cached, while the actual response is computed anew each time based on the cached prompt. \n",
    "\n",
    "Is there a way to manually clear the cache?\n",
    "\n",
    "Manual cache clearing is not currently available. Prompts that have not been encountered recently are automatically cleared from the cache. Typical cache evictions occur after 5-10 minutes of inactivity, though sometimes lasting up to a maximum of one hour during off-peak periods.\n",
    "\n",
    "Will I be expected to pay extra for writing to Prompt Caching?\n",
    "\n",
    "No. Caching happens automatically, with no explicit action needed or extra cost paid to use the caching feature.\n",
    "\n",
    "Do cached prompts contribute to TPM rate limits?\n",
    "\n",
    "Yes, as caching does not affect rate limits.\n",
    "\n",
    "Is discounting for Prompt Caching available on Scale Tier and the Batch API?\n",
    "\n",
    "Discounting for Prompt Caching is not available on the Batch API but is available on Scale Tier. With Scale Tier, any tokens that are spilled over to the shared API will also be eligible for caching.\n",
    "\n",
    "Does Prompt Caching work on Zero Data Retention requests?\n",
    "\n",
    "Yes, Prompt Caching is compliant with existing Zero Data Retention policies.\n",
    "</WANT_TO_CACHE_HERE>\n",
    "\n",
    "#Question:\n",
    "{}\n",
    "\n",
    "\"\"\""
   ]
  },
  {
   "cell_type": "code",
   "execution_count": 15,
   "id": "3b756cdb",
   "metadata": {},
   "outputs": [
    {
     "name": "stdout",
     "output_type": "stream",
     "text": [
      "\n",
      "당신은 매우 친절한 AI 어시스턴트 입니다. \n",
      "당신의 임무는 주어진 질문에 대해 친절하게 답변하는 것입니다.\n",
      "아래는 사용자의 질문에 답변할 때 참고할 수 있는 정보입니다.\n",
      "주어진 정보를 참고하여 답변해 주세요.\n",
      "\n",
      "<WANT_TO_CACHE_HERE>\n",
      "#참고:\n",
      "**Prompt Caching**\n",
      "Model prompts often contain repetitive content, like system prompts and common instructions. OpenAI routes API requests to servers that recently processed the same prompt, making it cheaper and faster than processing a prompt from scratch. This can reduce latency by up to 80% and cost by 50% for long prompts. Prompt Caching works automatically on all your API requests (no code changes required) and has no additional fees associated with it.\n",
      "\n",
      "Prompt Caching is enabled for the following models:\n",
      "\n",
      "gpt-4o (excludes gpt-4o-2024-05-13 and chatgpt-4o-latest)\n",
      "gpt-4o-mini\n",
      "o1-preview\n",
      "o1-mini\n",
      "This guide describes how prompt caching works in detail, so that you can optimize your prompts for lower latency and cost.\n",
      "\n",
      "Structuring prompts\n",
      "Cache hits are only possible for exact prefix matches within a prompt. To realize caching benefits, place static content like instructions and examples at the beginning of your prompt, and put variable content, such as user-specific information, at the end. This also applies to images and tools, which must be identical between requests.\n",
      "\n",
      "How it works\n",
      "Caching is enabled automatically for prompts that are 1024 tokens or longer. When you make an API request, the following steps occur:\n",
      "\n",
      "Cache Lookup: The system checks if the initial portion (prefix) of your prompt is stored in the cache.\n",
      "Cache Hit: If a matching prefix is found, the system uses the cached result. This significantly decreases latency and reduces costs.\n",
      "Cache Miss: If no matching prefix is found, the system processes your full prompt. After processing, the prefix of your prompt is cached for future requests.\n",
      "Cached prefixes generally remain active for 5 to 10 minutes of inactivity. However, during off-peak periods, caches may persist for up to one hour.\n",
      "\n",
      "Requirements\n",
      "Caching is available for prompts containing 1024 tokens or more, with cache hits occurring in increments of 128 tokens. Therefore, the number of cached tokens in a request will always fall within the following sequence: 1024, 1152, 1280, 1408, and so on, depending on the prompt's length.\n",
      "\n",
      "All requests, including those with fewer than 1024 tokens, will display a cached_tokens field of the usage.prompt_tokens_details chat completions object indicating how many of the prompt tokens were a cache hit. For requests under 1024 tokens, cached_tokens will be zero.\n",
      "\n",
      "What can be cached\n",
      "Messages: The complete messages array, encompassing system, user, and assistant interactions.\n",
      "Images: Images included in user messages, either as links or as base64-encoded data, as well as multiple images can be sent. Ensure the detail parameter is set identically, as it impacts image tokenization.\n",
      "Tool use: Both the messages array and the list of available tools can be cached, contributing to the minimum 1024 token requirement.\n",
      "Structured outputs: The structured output schema serves as a prefix to the system message and can be cached.\n",
      "Best practices\n",
      "Structure prompts with static or repeated content at the beginning and dynamic content at the end.\n",
      "Monitor metrics such as cache hit rates, latency, and the percentage of tokens cached to optimize your prompt and caching strategy.\n",
      "To increase cache hits, use longer prompts and make API requests during off-peak hours, as cache evictions are more frequent during peak times.\n",
      "Prompts that haven't been used recently are automatically removed from the cache. To minimize evictions, maintain a consistent stream of requests with the same prompt prefix.\n",
      "Frequently asked questions\n",
      "How is data privacy maintained for caches?\n",
      "\n",
      "Prompt caches are not shared between organizations. Only members of the same organization can access caches of identical prompts.\n",
      "\n",
      "Does Prompt Caching affect output token generation or the final response of the API?\n",
      "\n",
      "Prompt Caching does not influence the generation of output tokens or the final response provided by the API. Regardless of whether caching is used, the output generated will be identical. This is because only the prompt itself is cached, while the actual response is computed anew each time based on the cached prompt. \n",
      "\n",
      "Is there a way to manually clear the cache?\n",
      "\n",
      "Manual cache clearing is not currently available. Prompts that have not been encountered recently are automatically cleared from the cache. Typical cache evictions occur after 5-10 minutes of inactivity, though sometimes lasting up to a maximum of one hour during off-peak periods.\n",
      "\n",
      "Will I be expected to pay extra for writing to Prompt Caching?\n",
      "\n",
      "No. Caching happens automatically, with no explicit action needed or extra cost paid to use the caching feature.\n",
      "\n",
      "Do cached prompts contribute to TPM rate limits?\n",
      "\n",
      "Yes, as caching does not affect rate limits.\n",
      "\n",
      "Is discounting for Prompt Caching available on Scale Tier and the Batch API?\n",
      "\n",
      "Discounting for Prompt Caching is not available on the Batch API but is available on Scale Tier. With Scale Tier, any tokens that are spilled over to the shared API will also be eligible for caching.\n",
      "\n",
      "Does Prompt Caching work on Zero Data Retention requests?\n",
      "\n",
      "Yes, Prompt Caching is compliant with existing Zero Data Retention policies.\n",
      "</WANT_TO_CACHE_HERE>\n",
      "\n",
      "#Question:\n",
      "{}\n",
      "\n",
      "\n"
     ]
    }
   ],
   "source": [
    "print(very_long_prompt)"
   ]
  },
  {
   "cell_type": "code",
   "execution_count": 16,
   "id": "dd0b2d05",
   "metadata": {},
   "outputs": [
    {
     "name": "stdout",
     "output_type": "stream",
     "text": [
      "\n",
      "당신은 매우 친절한 AI 어시스턴트 입니다. \n",
      "당신의 임무는 주어진 질문에 대해 친절하게 답변하는 것입니다.\n",
      "아래는 사용자의 질문에 답변할 때 참고할 수 있는 정보입니다.\n",
      "주어진 정보를 참고하여 답변해 주세요.\n",
      "\n",
      "<WANT_TO_CACHE_HERE>\n",
      "#참고:\n",
      "**Prompt Caching**\n",
      "Model prompts often contain repetitive content, like system prompts and common instructions. OpenAI routes API requests to servers that recently processed the same prompt, making it cheaper and faster than processing a prompt from scratch. This can reduce latency by up to 80% and cost by 50% for long prompts. Prompt Caching works automatically on all your API requests (no code changes required) and has no additional fees associated with it.\n",
      "\n",
      "Prompt Caching is enabled for the following models:\n",
      "\n",
      "gpt-4o (excludes gpt-4o-2024-05-13 and chatgpt-4o-latest)\n",
      "gpt-4o-mini\n",
      "o1-preview\n",
      "o1-mini\n",
      "This guide describes how prompt caching works in detail, so that you can optimize your prompts for lower latency and cost.\n",
      "\n",
      "Structuring prompts\n",
      "Cache hits are only possible for exact prefix matches within a prompt. To realize caching benefits, place static content like instructions and examples at the beginning of your prompt, and put variable content, such as user-specific information, at the end. This also applies to images and tools, which must be identical between requests.\n",
      "\n",
      "How it works\n",
      "Caching is enabled automatically for prompts that are 1024 tokens or longer. When you make an API request, the following steps occur:\n",
      "\n",
      "Cache Lookup: The system checks if the initial portion (prefix) of your prompt is stored in the cache.\n",
      "Cache Hit: If a matching prefix is found, the system uses the cached result. This significantly decreases latency and reduces costs.\n",
      "Cache Miss: If no matching prefix is found, the system processes your full prompt. After processing, the prefix of your prompt is cached for future requests.\n",
      "Cached prefixes generally remain active for 5 to 10 minutes of inactivity. However, during off-peak periods, caches may persist for up to one hour.\n",
      "\n",
      "Requirements\n",
      "Caching is available for prompts containing 1024 tokens or more, with cache hits occurring in increments of 128 tokens. Therefore, the number of cached tokens in a request will always fall within the following sequence: 1024, 1152, 1280, 1408, and so on, depending on the prompt's length.\n",
      "\n",
      "All requests, including those with fewer than 1024 tokens, will display a cached_tokens field of the usage.prompt_tokens_details chat completions object indicating how many of the prompt tokens were a cache hit. For requests under 1024 tokens, cached_tokens will be zero.\n",
      "\n",
      "What can be cached\n",
      "Messages: The complete messages array, encompassing system, user, and assistant interactions.\n",
      "Images: Images included in user messages, either as links or as base64-encoded data, as well as multiple images can be sent. Ensure the detail parameter is set identically, as it impacts image tokenization.\n",
      "Tool use: Both the messages array and the list of available tools can be cached, contributing to the minimum 1024 token requirement.\n",
      "Structured outputs: The structured output schema serves as a prefix to the system message and can be cached.\n",
      "Best practices\n",
      "Structure prompts with static or repeated content at the beginning and dynamic content at the end.\n",
      "Monitor metrics such as cache hit rates, latency, and the percentage of tokens cached to optimize your prompt and caching strategy.\n",
      "To increase cache hits, use longer prompts and make API requests during off-peak hours, as cache evictions are more frequent during peak times.\n",
      "Prompts that haven't been used recently are automatically removed from the cache. To minimize evictions, maintain a consistent stream of requests with the same prompt prefix.\n",
      "Frequently asked questions\n",
      "How is data privacy maintained for caches?\n",
      "\n",
      "Prompt caches are not shared between organizations. Only members of the same organization can access caches of identical prompts.\n",
      "\n",
      "Does Prompt Caching affect output token generation or the final response of the API?\n",
      "\n",
      "Prompt Caching does not influence the generation of output tokens or the final response provided by the API. Regardless of whether caching is used, the output generated will be identical. This is because only the prompt itself is cached, while the actual response is computed anew each time based on the cached prompt. \n",
      "\n",
      "Is there a way to manually clear the cache?\n",
      "\n",
      "Manual cache clearing is not currently available. Prompts that have not been encountered recently are automatically cleared from the cache. Typical cache evictions occur after 5-10 minutes of inactivity, though sometimes lasting up to a maximum of one hour during off-peak periods.\n",
      "\n",
      "Will I be expected to pay extra for writing to Prompt Caching?\n",
      "\n",
      "No. Caching happens automatically, with no explicit action needed or extra cost paid to use the caching feature.\n",
      "\n",
      "Do cached prompts contribute to TPM rate limits?\n",
      "\n",
      "Yes, as caching does not affect rate limits.\n",
      "\n",
      "Is discounting for Prompt Caching available on Scale Tier and the Batch API?\n",
      "\n",
      "Discounting for Prompt Caching is not available on the Batch API but is available on Scale Tier. With Scale Tier, any tokens that are spilled over to the shared API will also be eligible for caching.\n",
      "\n",
      "Does Prompt Caching work on Zero Data Retention requests?\n",
      "\n",
      "Yes, Prompt Caching is compliant with existing Zero Data Retention policies.\n",
      "</WANT_TO_CACHE_HERE>\n",
      "\n",
      "#Question:\n",
      "프롬프트 캐싱 기능에 대해 2문장으로 설명하세요\n",
      "\n",
      "\n"
     ]
    }
   ],
   "source": [
    "print(very_long_prompt.format(\"프롬프트 캐싱 기능에 대해 2문장으로 설명하세요\"))"
   ]
  },
  {
   "cell_type": "code",
   "execution_count": 17,
   "id": "5a62903d",
   "metadata": {},
   "outputs": [
    {
     "name": "stdout",
     "output_type": "stream",
     "text": [
      "Tokens Used: 1206\n",
      "\tPrompt Tokens: 1138\n",
      "\t\tPrompt Tokens Cached: 1024\n",
      "\tCompletion Tokens: 68\n",
      "\t\tReasoning Tokens: 0\n",
      "Successful Requests: 1\n",
      "Total Cost (USD): $0.0001347\n",
      "캐싱된 토큰: 1024\n"
     ]
    }
   ],
   "source": [
    "from langchain.callbacks import get_openai_callback\n",
    "\n",
    "with get_openai_callback() as cb:\n",
    "    # 답변 요청\n",
    "    answer = llm.invoke(\n",
    "        very_long_prompt.format(\"프롬프트 캐싱 기능에 대해 2문장으로 설명하세요\")\n",
    "    )\n",
    "    print(cb)\n",
    "    # 캐싱된 토큰 출력\n",
    "    cached_tokens = answer.response_metadata[\"token_usage\"][\"prompt_tokens_details\"][\n",
    "        \"cached_tokens\"\n",
    "    ]\n",
    "    print(f\"캐싱된 토큰: {cached_tokens}\")"
   ]
  },
  {
   "cell_type": "code",
   "execution_count": 18,
   "id": "4babc2f6",
   "metadata": {},
   "outputs": [
    {
     "name": "stdout",
     "output_type": "stream",
     "text": [
      "Tokens Used: 1203\n",
      "\tPrompt Tokens: 1138\n",
      "\t\tPrompt Tokens Cached: 1024\n",
      "\tCompletion Tokens: 65\n",
      "\t\tReasoning Tokens: 0\n",
      "Successful Requests: 1\n",
      "Total Cost (USD): $0.00013289999999999998\n",
      "캐싱된 토큰: 1024\n"
     ]
    }
   ],
   "source": [
    "with get_openai_callback() as cb:\n",
    "    # 답변 요청\n",
    "    answer = llm.invoke(\n",
    "        very_long_prompt.format(\"프롬프트 캐싱 기능에 대해 2문장으로 설명하세요\")\n",
    "    )\n",
    "    print(cb)\n",
    "    # 캐싱된 토큰 출력\n",
    "    cached_tokens = answer.response_metadata[\"token_usage\"][\"prompt_tokens_details\"][\n",
    "        \"cached_tokens\"\n",
    "    ]\n",
    "    print(f\"캐싱된 토큰: {cached_tokens}\")"
   ]
  },
  {
   "cell_type": "code",
   "execution_count": null,
   "id": "70a8da82",
   "metadata": {},
   "outputs": [],
   "source": []
  }
 ],
 "metadata": {
  "kernelspec": {
   "display_name": "langchain-kr",
   "language": "python",
   "name": "python3"
  },
  "language_info": {
   "codemirror_mode": {
    "name": "ipython",
    "version": 3
   },
   "file_extension": ".py",
   "mimetype": "text/x-python",
   "name": "python",
   "nbconvert_exporter": "python",
   "pygments_lexer": "ipython3",
   "version": "3.11.11"
  }
 },
 "nbformat": 4,
 "nbformat_minor": 5
}
