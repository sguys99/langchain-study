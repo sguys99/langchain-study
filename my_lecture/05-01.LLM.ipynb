{
 "cells": [
  {
   "cell_type": "markdown",
   "id": "2550920c-09d8-48b3-be2f-b36362c37989",
   "metadata": {},
   "source": [
    "## 5.1 LLM"
   ]
  },
  {
   "cell_type": "markdown",
   "id": "e5a6b509",
   "metadata": {},
   "source": [
    "<div style=\"text-align: right\"> Initial issue : 2025.05.06 </div>\n",
    "<div style=\"text-align: right\"> last update : 2025.05.06 </div>"
   ]
  },
  {
   "cell_type": "code",
   "execution_count": 1,
   "id": "75649171",
   "metadata": {},
   "outputs": [
    {
     "data": {
      "text/plain": [
       "True"
      ]
     },
     "execution_count": 1,
     "metadata": {},
     "output_type": "execute_result"
    }
   ],
   "source": [
    "from dotenv import load_dotenv\n",
    "load_dotenv()"
   ]
  },
  {
   "cell_type": "code",
   "execution_count": 2,
   "id": "ade05f85",
   "metadata": {},
   "outputs": [],
   "source": [
    "from utils import stream_response"
   ]
  },
  {
   "cell_type": "markdown",
   "id": "56682663",
   "metadata": {},
   "source": [
    "### OpenAI"
   ]
  },
  {
   "cell_type": "markdown",
   "id": "a608db66",
   "metadata": {},
   "source": [
    "`temperature`\n",
    "- 샘플링 온도를 설정하는 옵션 \n",
    "- 값은 0과 2 사이에서 선택할 수 있음. \n",
    "- 높은 값(예: 0.8)은 출력을 더 무작위하게 만들고, 낮은 값(예: 0.2)은 출력을 더 집중되고 결정론적으로 만듬.\n",
    "\n",
    "`max_tokens`\n",
    "- 채팅 완성에서 생성할 토큰의 최대 개수를 지정. \n",
    "- 모델이 한 번에 생성할 수 있는 텍스트의 길이를 제어.\n",
    "\n",
    "`model_name`\n",
    "- 적용 가능한 모델을 선택하는 옵션. \n",
    "- 더 자세한 정보는 [OpenAI 모델 문서](https://platform.openai.com/docs/models)에서 확인할 수 있음.\n",
    "\n",
    "\n",
    "**모델 스펙**\n",
    "\n",
    "- 링크: https://platform.openai.com/docs/models/gpt-4o"
   ]
  },
  {
   "cell_type": "code",
   "execution_count": 3,
   "id": "3c5438b3",
   "metadata": {},
   "outputs": [],
   "source": [
    "from langchain_openai import ChatOpenAI"
   ]
  },
  {
   "cell_type": "code",
   "execution_count": 4,
   "id": "64a6652e",
   "metadata": {},
   "outputs": [],
   "source": [
    "gpt = ChatOpenAI(\n",
    "    temperature=0,\n",
    "    model_name=\"gpt-4o\",  # 모델명\n",
    ")"
   ]
  },
  {
   "cell_type": "code",
   "execution_count": 5,
   "id": "9f2ad4ee",
   "metadata": {},
   "outputs": [
    {
     "name": "stdout",
     "output_type": "stream",
     "text": [
      "강원도는 자연 경관이 아름답고 다양한 관광 명소가 있는 지역입니다. 다음은 강원도의 추천 여행지 세 곳입니다.\n",
      "\n",
      "1. **설악산 국립공원**: 설악산은 한국에서 가장 유명한 산 중 하나로, 사계절 내내 아름다운 경치를 자랑합니다. 가을에는 단풍이 절경을 이루고, 겨울에는 눈 덮인 산의 모습이 장관입니다. 등산로가 잘 정비되어 있어 초보자부터 숙련된 등산객까지 모두 즐길 수 있습니다.\n",
      "\n",
      "2. **속초**: 속초는 동해안에 위치한 해안 도시로, 아름다운 해변과 신선한 해산물로 유명합니다. 속초 중앙시장에서는 다양한 해산물과 지역 특산품을 맛볼 수 있으며, 아바이마을에서는 독특한 함경도 음식을 경험할 수 있습니다. 또한, 속초해수욕장과 영랑호 등 자연 경관도 즐길 수 있습니다.\n",
      "\n",
      "3. **평창**: 평창은 2018년 동계 올림픽이 개최된 곳으로, 다양한 겨울 스포츠를 즐길 수 있는 시설이 잘 갖추어져 있습니다. 대관령 양떼목장은 가족 단위 여행객에게 인기가 많으며, 푸른 초원과 양떼들이 어우러진 풍경이 인상적입니다. 또한, 오대산 국립공원에서는 아름다운 자연을 만끽할 수 있습니다.\n",
      "\n",
      "이 외에도 강원도에는 다양한 매력을 가진 여행지가 많으니, 여행 계획 시 참고하시기 바랍니다."
     ]
    }
   ],
   "source": [
    "answer = gpt.stream(\"강원도 추천 여행지 3가지\")\n",
    "\n",
    "# 답변 출력\n",
    "stream_response(answer)"
   ]
  },
  {
   "cell_type": "code",
   "execution_count": null,
   "id": "71f85f54",
   "metadata": {},
   "outputs": [],
   "source": []
  }
 ],
 "metadata": {
  "kernelspec": {
   "display_name": "langchain-kr",
   "language": "python",
   "name": "python3"
  },
  "language_info": {
   "codemirror_mode": {
    "name": "ipython",
    "version": 3
   },
   "file_extension": ".py",
   "mimetype": "text/x-python",
   "name": "python",
   "nbconvert_exporter": "python",
   "pygments_lexer": "ipython3",
   "version": "3.11.11"
  }
 },
 "nbformat": 4,
 "nbformat_minor": 5
}
