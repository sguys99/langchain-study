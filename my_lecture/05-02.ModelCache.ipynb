{
 "cells": [
  {
   "cell_type": "markdown",
   "id": "2550920c-09d8-48b3-be2f-b36362c37989",
   "metadata": {},
   "source": [
    "## 5.2 Model Cache"
   ]
  },
  {
   "cell_type": "markdown",
   "id": "e5a6b509",
   "metadata": {},
   "source": [
    "<div style=\"text-align: right\"> Initial issue : 2025.05.07 </div>\n",
    "<div style=\"text-align: right\"> last update : 2025.05.07 </div>"
   ]
  },
  {
   "cell_type": "markdown",
   "id": "8df23e37",
   "metadata": {},
   "source": [
    "LangChain은 LLM을 위한 선택적 캐싱 레이어를 제공함\n",
    "캐시 사용의 장점\n",
    "- 동일한 완료를 여러 번 요청하는 경우 **API 호출 횟수를 줄여 비용을 절감**\n",
    "- **API 호출 횟수를 줄여 애플리케이션의 속도 향상**"
   ]
  },
  {
   "cell_type": "code",
   "execution_count": null,
   "id": "75649171",
   "metadata": {},
   "outputs": [
    {
     "data": {
      "text/plain": [
       "True"
      ]
     },
     "execution_count": 1,
     "metadata": {},
     "output_type": "execute_result"
    }
   ],
   "source": [
    "from dotenv import load_dotenv\n",
    "load_dotenv()"
   ]
  },
  {
   "cell_type": "code",
   "execution_count": 2,
   "id": "a9ea99fc",
   "metadata": {},
   "outputs": [],
   "source": [
    "from langchain_openai import ChatOpenAI\n",
    "from langchain_core.prompts import PromptTemplate\n",
    "\n",
    "# 모델을 생성합니다.\n",
    "llm = ChatOpenAI(model_name=\"gpt-3.5-turbo\")\n",
    "\n",
    "# 프롬프트를 생성합니다.\n",
    "prompt = PromptTemplate.from_template(\"{country} 에 대해서 200자 내외로 요약해줘\")\n",
    "\n",
    "# 체인을 생성합니다.\n",
    "chain = prompt | llm"
   ]
  },
  {
   "cell_type": "code",
   "execution_count": 3,
   "id": "ad2cfeac",
   "metadata": {},
   "outputs": [
    {
     "name": "stdout",
     "output_type": "stream",
     "text": [
      "한국은 동아시아에 위치한 대한민국과 북한으로 이루어진 반도 국가이다. 대한민국은 수도가 서울에 위치하고 있으며, 민주공화국으로 정체되어 있다. 경제는 선진화되어 있으며 세계적인 기업들이 많이 발달해 있으며 K-pop과 한류 등 문화산업이 세계적으로 유명하다. 북한은 공산주의 체제를 유지하고 있으며 이념적 대립으로 북한과 대한민국은 지속적인 갈등 상태에 있다. 한반도는 매우 뛰어난 미술과 문화유산이 많이 남아 있으며, 한국의 전통문화인 한복과 불국사, 경복궁 등이 세계 문화유산으로 등재되어 있다. 현재는 한국의 ICT 기술과 자동차 산업이 세계적으로 주목받고 있다.\n",
      "CPU times: user 21.4 ms, sys: 10.2 ms, total: 31.6 ms\n",
      "Wall time: 2.54 s\n"
     ]
    }
   ],
   "source": [
    "%%time \n",
    "response = chain.invoke({\"country\": \"한국\"})\n",
    "print(response.content)# 속도 측정"
   ]
  },
  {
   "cell_type": "markdown",
   "id": "f7a23416",
   "metadata": {},
   "source": [
    "### InMemoryCache\n",
    "인메모리 캐시를 사용하여 동일 질문에 대한 답변을 저장하고, 캐시에 저장된 답변을 반환"
   ]
  },
  {
   "cell_type": "code",
   "execution_count": 4,
   "id": "0a53f61b",
   "metadata": {},
   "outputs": [
    {
     "name": "stdout",
     "output_type": "stream",
     "text": [
      "한국은 동아시아에 위치한 고도로 발전한 산업화 국가로, 전통과 현대가 공존하는 문화를 지니고 있다. 수도는 서울이며, 경제적으로는 세계적인 기업들이 본사를 두고 있고 세계 경제에 큰 영향을 끼치고 있다. 한류 열풍으로 전 세계적으로 한국 문화에 대한 관심이 높아졌으며, K-pop, K-drama 등이 국내외에서 많은 사랑을 받고 있다. 또한, 한반도 북측과 남측 사이에는 분단이 있어 남북 경제 협력과 평화 협력이 이뤄지고자 노력하고 있다. 최근에는 코로나19 대응을 통해 전 세계에서 모범 사례로 평가받고 있다.\n",
      "CPU times: user 544 ms, sys: 1.15 s, total: 1.69 s\n",
      "Wall time: 4.27 s\n"
     ]
    }
   ],
   "source": [
    "%%time\n",
    "from langchain.globals import set_llm_cache\n",
    "from langchain.cache import InMemoryCache\n",
    "\n",
    "# 인메모리 캐시를 사용합니다.\n",
    "set_llm_cache(InMemoryCache())\n",
    "\n",
    "# 체인을 실행합니다.\n",
    "response = chain.invoke({\"country\": \"한국\"})\n",
    "print(response.content)"
   ]
  },
  {
   "cell_type": "code",
   "execution_count": 5,
   "id": "a9bf28b8",
   "metadata": {},
   "outputs": [
    {
     "name": "stdout",
     "output_type": "stream",
     "text": [
      "한국은 동아시아에 위치한 고도로 발전한 산업화 국가로, 전통과 현대가 공존하는 문화를 지니고 있다. 수도는 서울이며, 경제적으로는 세계적인 기업들이 본사를 두고 있고 세계 경제에 큰 영향을 끼치고 있다. 한류 열풍으로 전 세계적으로 한국 문화에 대한 관심이 높아졌으며, K-pop, K-drama 등이 국내외에서 많은 사랑을 받고 있다. 또한, 한반도 북측과 남측 사이에는 분단이 있어 남북 경제 협력과 평화 협력이 이뤄지고자 노력하고 있다. 최근에는 코로나19 대응을 통해 전 세계에서 모범 사례로 평가받고 있다.\n",
      "CPU times: user 899 μs, sys: 554 μs, total: 1.45 ms\n",
      "Wall time: 1.42 ms\n"
     ]
    }
   ],
   "source": [
    "%%time\n",
    "# 체인을 실행합니다.\n",
    "response = chain.invoke({\"country\": \"한국\"})\n",
    "print(response.content)"
   ]
  },
  {
   "cell_type": "markdown",
   "id": "1f585836",
   "metadata": {},
   "source": [
    "### SQLite Cache"
   ]
  },
  {
   "cell_type": "code",
   "execution_count": 6,
   "id": "c5886d3a",
   "metadata": {},
   "outputs": [],
   "source": [
    "from langchain_community.cache import SQLiteCache\n",
    "from langchain_core.globals import set_llm_cache\n",
    "import os\n",
    "\n",
    "# 캐시 디렉토리를 생성합니다.\n",
    "if not os.path.exists(\"cache\"):\n",
    "    os.makedirs(\"cache\")\n",
    "\n",
    "# SQLiteCache를 사용합니다.\n",
    "set_llm_cache(SQLiteCache(database_path=\"cache/llm_cache.db\"))"
   ]
  },
  {
   "cell_type": "code",
   "execution_count": 7,
   "id": "7d1ff6ae",
   "metadata": {},
   "outputs": [
    {
     "name": "stdout",
     "output_type": "stream",
     "text": [
      "한국은 동아시아에 위치한 고도 선진화된 나라로, 5000년 이상의 역사를 가지고 있습니다. 경제적으로 선진화되어 있어 세계에서 주요 제조업체들이 많이 위치하고 있습니다. 또한 문화적으로도 한류 덕분에 전 세계적으로 인기를 얻고 있습니다. 한국은 또한 풍부한 자연환경과 다양한 관광 명소를 가지고 있어 많은 관광객을 유치하고 있습니다. 또한 한반도 북부에 있는 북한과의 관계가 긴장 되어 있으며, 남북한 통일이 곧 온다는 기대와 불확실함이 공존하고 있습니다. 현재는 과거의 역사적인 갈등을 극복하고 희망찬 미래를 향해 나아가는 중입니다.\n",
      "CPU times: user 6.91 ms, sys: 0 ns, total: 6.91 ms\n",
      "Wall time: 8.29 ms\n"
     ]
    }
   ],
   "source": [
    "%%time \n",
    "# 체인을 실행합니다.\n",
    "response = chain.invoke({\"country\": \"한국\"})\n",
    "print(response.content)"
   ]
  },
  {
   "cell_type": "code",
   "execution_count": 8,
   "id": "2f3e825d",
   "metadata": {},
   "outputs": [
    {
     "name": "stdout",
     "output_type": "stream",
     "text": [
      "한국은 동아시아에 위치한 고도 선진화된 나라로, 5000년 이상의 역사를 가지고 있습니다. 경제적으로 선진화되어 있어 세계에서 주요 제조업체들이 많이 위치하고 있습니다. 또한 문화적으로도 한류 덕분에 전 세계적으로 인기를 얻고 있습니다. 한국은 또한 풍부한 자연환경과 다양한 관광 명소를 가지고 있어 많은 관광객을 유치하고 있습니다. 또한 한반도 북부에 있는 북한과의 관계가 긴장 되어 있으며, 남북한 통일이 곧 온다는 기대와 불확실함이 공존하고 있습니다. 현재는 과거의 역사적인 갈등을 극복하고 희망찬 미래를 향해 나아가는 중입니다.\n",
      "CPU times: user 37 μs, sys: 2.89 ms, total: 2.93 ms\n",
      "Wall time: 3.15 ms\n"
     ]
    }
   ],
   "source": [
    "%%time \n",
    "# 체인을 실행합니다.\n",
    "response = chain.invoke({\"country\": \"한국\"})\n",
    "print(response.content)"
   ]
  },
  {
   "cell_type": "code",
   "execution_count": null,
   "id": "fb0b9282",
   "metadata": {},
   "outputs": [],
   "source": []
  }
 ],
 "metadata": {
  "kernelspec": {
   "display_name": "langchain-kr",
   "language": "python",
   "name": "python3"
  },
  "language_info": {
   "codemirror_mode": {
    "name": "ipython",
    "version": 3
   },
   "file_extension": ".py",
   "mimetype": "text/x-python",
   "name": "python",
   "nbconvert_exporter": "python",
   "pygments_lexer": "ipython3",
   "version": "3.11.11"
  }
 },
 "nbformat": 4,
 "nbformat_minor": 5
}
