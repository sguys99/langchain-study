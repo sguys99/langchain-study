{
 "cells": [
  {
   "cell_type": "markdown",
   "id": "2550920c-09d8-48b3-be2f-b36362c37989",
   "metadata": {},
   "source": [
    "## 2.3 Example Selector"
   ]
  },
  {
   "cell_type": "markdown",
   "id": "e5a6b509",
   "metadata": {},
   "source": [
    "<div style=\"text-align: right\"> Initial issue : 2025.04.28 </div>\n",
    "<div style=\"text-align: right\"> last update : 2025.04.28 </div>"
   ]
  },
  {
   "cell_type": "markdown",
   "id": "3025e955",
   "metadata": {},
   "source": [
    "- 기존 fewshot의 문제점 : example이 계속 누적됨\n",
    "- example selector: 질문과 예제의 유사도를 검색해서 유사도가 높은 몇개만 넣어주는 방식\n",
    "- **Example template는 다음 케이스에서 유용**\n",
    "    - 문서를 요약할 때 다양한 상황이 있을 수 있음\n",
    "    - 회의록, 기획안 등등\n",
    "    - 이때 example selector를 사용해서 예제를 선택\n",
    "- [API 문서](https://api.python.langchain.com/en/latest/core/example_selectors.html)"
   ]
  },
  {
   "cell_type": "code",
   "execution_count": 1,
   "id": "75649171",
   "metadata": {},
   "outputs": [
    {
     "data": {
      "text/plain": [
       "True"
      ]
     },
     "execution_count": 1,
     "metadata": {},
     "output_type": "execute_result"
    }
   ],
   "source": [
    "from dotenv import load_dotenv\n",
    "load_dotenv()"
   ]
  },
  {
   "cell_type": "code",
   "execution_count": 2,
   "id": "0d2ca23a",
   "metadata": {},
   "outputs": [],
   "source": [
    "from utils import langsmith, stream_response\n",
    "from langchain_openai import ChatOpenAI\n",
    "from langchain_core.prompts import PromptTemplate, FewShotPromptTemplate\n",
    "from langchain_core.output_parsers import StrOutputParser\n",
    "\n",
    "from langchain_core.example_selectors import (\n",
    "    MaxMarginalRelevanceExampleSelector,\n",
    "    SemanticSimilarityExampleSelector,\n",
    ")\n",
    "from langchain_openai import OpenAIEmbeddings\n",
    "from langchain_chroma import Chroma"
   ]
  },
  {
   "cell_type": "code",
   "execution_count": 3,
   "id": "a13f0235",
   "metadata": {},
   "outputs": [],
   "source": [
    "model = ChatOpenAI(model=\"gpt-4o-mini\", temperature=0)"
   ]
  },
  {
   "cell_type": "markdown",
   "id": "a82adfc8",
   "metadata": {},
   "source": [
    "### 1. Example Selector"
   ]
  },
  {
   "cell_type": "code",
   "execution_count": null,
   "id": "655fd865",
   "metadata": {},
   "outputs": [],
   "source": []
  },
  {
   "cell_type": "code",
   "execution_count": null,
   "id": "ee2c1ce1",
   "metadata": {},
   "outputs": [],
   "source": []
  }
 ],
 "metadata": {
  "kernelspec": {
   "display_name": "langchain-kr",
   "language": "python",
   "name": "python3"
  },
  "language_info": {
   "codemirror_mode": {
    "name": "ipython",
    "version": 3
   },
   "file_extension": ".py",
   "mimetype": "text/x-python",
   "name": "python",
   "nbconvert_exporter": "python",
   "pygments_lexer": "ipython3",
   "version": "3.11.11"
  }
 },
 "nbformat": 4,
 "nbformat_minor": 5
}
