{
 "cells": [
  {
   "cell_type": "markdown",
   "id": "2550920c-09d8-48b3-be2f-b36362c37989",
   "metadata": {},
   "source": [
    "## 6.5 Memory using SQLite"
   ]
  },
  {
   "cell_type": "markdown",
   "id": "e5a6b509",
   "metadata": {},
   "source": [
    "<div style=\"text-align: right\"> Initial issue : 2025.06.16 </div>\n",
    "<div style=\"text-align: right\"> last update : 2025.06.16 </div>"
   ]
  },
  {
   "cell_type": "markdown",
   "id": "8df23e37",
   "metadata": {},
   "source": [
    "대화이력을 서비스 종료 이후에도 기억해두었다가 불러올 때 활용"
   ]
  },
  {
   "cell_type": "code",
   "execution_count": 1,
   "id": "75649171",
   "metadata": {},
   "outputs": [
    {
     "data": {
      "text/plain": [
       "True"
      ]
     },
     "execution_count": 1,
     "metadata": {},
     "output_type": "execute_result"
    }
   ],
   "source": [
    "from dotenv import load_dotenv\n",
    "load_dotenv()"
   ]
  },
  {
   "cell_type": "code",
   "execution_count": 2,
   "id": "22bbfa8c",
   "metadata": {},
   "outputs": [],
   "source": [
    "from langchain_core.prompts import (\n",
    "    ChatPromptTemplate,\n",
    "    MessagesPlaceholder,\n",
    ")\n",
    "from langchain_core.runnables.history import RunnableWithMessageHistory\n",
    "from langchain_openai import ChatOpenAI\n",
    "from langchain_core.output_parsers import StrOutputParser\n",
    "from langchain_community.chat_message_histories import SQLChatMessageHistory"
   ]
  },
  {
   "cell_type": "markdown",
   "id": "df2189dc",
   "metadata": {},
   "source": [
    "### 사용방법"
   ]
  },
  {
   "cell_type": "markdown",
   "id": "1e5181d0",
   "metadata": {},
   "source": [
    "storage를 사용하려면 다음 2가지 설정 필요\n",
    "\n",
    "1. `session_id` - 사용자 이름, 이메일, 채팅 ID 등과 같은 세션의 고유 식별자.\n",
    "\n",
    "2. `connection` - 데이터베이스 연결을 지정하는 문자열. 이 문자열은 SQLAlchemy의 create_engine 함수에 전달됨."
   ]
  },
  {
   "cell_type": "code",
   "execution_count": 3,
   "id": "e7efc8ca",
   "metadata": {},
   "outputs": [],
   "source": [
    "# SQLChatMessageHistory 객체를 생성하고 세션 ID와 데이터베이스 연결 파일을 설정\n",
    "chat_message_history = SQLChatMessageHistory(\n",
    "    session_id=\"sql_history\", connection=\"sqlite:///sqlite.db\"\n",
    ")"
   ]
  },
  {
   "cell_type": "code",
   "execution_count": 4,
   "id": "931fc68a",
   "metadata": {},
   "outputs": [],
   "source": [
    "# 사용자 메시지를 추가\n",
    "chat_message_history.add_user_message(\n",
    "    \"안녕? 만나서 반가워. 내 이름은 홍길동이야\"\n",
    ")\n",
    "# AI 메시지를 추가\n",
    "chat_message_history.add_ai_message(\"안녕 홍길동, 만나서 반가워. 나도 잘 부탁해!\")"
   ]
  },
  {
   "cell_type": "markdown",
   "id": "5ff91f06",
   "metadata": {},
   "source": [
    "저장된 메시지 확인 - `chat_message_history.messages`"
   ]
  },
  {
   "cell_type": "code",
   "execution_count": 5,
   "id": "6295a105",
   "metadata": {},
   "outputs": [
    {
     "data": {
      "text/plain": [
       "[HumanMessage(content='안녕? 만나서 반가워. 내 이름은 홍길동이야', additional_kwargs={}, response_metadata={}),\n",
       " AIMessage(content='안녕 홍길동, 만나서 반가워. 나도 잘 부탁해!', additional_kwargs={}, response_metadata={})]"
      ]
     },
     "execution_count": 5,
     "metadata": {},
     "output_type": "execute_result"
    }
   ],
   "source": [
    "# 채팅 메시지 기록의 메시지들\n",
    "chat_message_history.messages"
   ]
  },
  {
   "cell_type": "markdown",
   "id": "35ac8594",
   "metadata": {},
   "source": [
    "### LCEL에 적용하기"
   ]
  },
  {
   "cell_type": "code",
   "execution_count": 6,
   "id": "f7925aa8",
   "metadata": {},
   "outputs": [],
   "source": [
    "prompt = ChatPromptTemplate.from_messages(\n",
    "    [\n",
    "        # 시스템 메시지\n",
    "        (\"system\", \"You are a helpful assistant.\"),\n",
    "        # 대화 기록을 위한 Placeholder\n",
    "        MessagesPlaceholder(variable_name=\"chat_history\"),\n",
    "        (\"human\", \"{question}\"),  # 질문\n",
    "    ]\n",
    ")"
   ]
  },
  {
   "cell_type": "code",
   "execution_count": 7,
   "id": "41646336",
   "metadata": {},
   "outputs": [],
   "source": [
    "# chain 생성\n",
    "chain = prompt | ChatOpenAI(model_name=\"gpt-4o\") | StrOutputParser()"
   ]
  },
  {
   "cell_type": "markdown",
   "id": "60872852",
   "metadata": {},
   "source": [
    "`sqlite.db` 에서 대화내용을 가져오는 함수를 정의"
   ]
  },
  {
   "cell_type": "code",
   "execution_count": 8,
   "id": "48e66c93",
   "metadata": {},
   "outputs": [],
   "source": [
    "\n",
    "def get_chat_history(user_id, conversation_id):\n",
    "    return SQLChatMessageHistory(\n",
    "        table_name=user_id,\n",
    "        session_id=conversation_id, # 사용자 마다 여러개의 대화이력을 가질 수 있으므로 구분분\n",
    "        connection=\"sqlite:///sqlite.db\",\n",
    "    )"
   ]
  },
  {
   "cell_type": "markdown",
   "id": "142e0c50",
   "metadata": {},
   "source": [
    "Config field 정의하기 - user_id, conversation_id 필드를 정의"
   ]
  },
  {
   "cell_type": "code",
   "execution_count": 9,
   "id": "64127b2f",
   "metadata": {},
   "outputs": [],
   "source": [
    "from langchain_core.runnables.utils import ConfigurableFieldSpec\n",
    "\n",
    "config_fields = [\n",
    "    ConfigurableFieldSpec(\n",
    "        id=\"user_id\", # get_chat_history 함수의 인자와 동일해야함\n",
    "        annotation=str,\n",
    "        name=\"User ID\",\n",
    "        description=\"Unique identifier for a user.\",\n",
    "        default=\"\",\n",
    "        is_shared=True,\n",
    "    ),\n",
    "    ConfigurableFieldSpec(\n",
    "        id=\"conversation_id\", # get_chat_history 함수의 인자와 동일해야함\n",
    "        annotation=str,\n",
    "        name=\"Conversation ID\",\n",
    "        description=\"Unique identifier for a conversation.\",\n",
    "        default=\"\",\n",
    "        is_shared=True,\n",
    "    ),\n",
    "]"
   ]
  },
  {
   "cell_type": "markdown",
   "id": "0f0b7a19",
   "metadata": {},
   "source": [
    "history를 포함하는 chain 정의"
   ]
  },
  {
   "cell_type": "code",
   "execution_count": 10,
   "id": "9fdd4754",
   "metadata": {},
   "outputs": [],
   "source": [
    "chain_with_history = RunnableWithMessageHistory(\n",
    "    chain,\n",
    "    get_chat_history,  # 대화 기록을 가져오는 함수를 설정\n",
    "    input_messages_key=\"question\",  # 입력 메시지의 키를 \"question\"으로 설정\n",
    "    history_messages_key=\"chat_history\",  # 대화 기록 메시지의 키를 \"history\"로 설정\n",
    "    history_factory_config=config_fields,  # 대화 기록 조회시 참고할 파라미터를 설정\n",
    ")"
   ]
  },
  {
   "cell_type": "markdown",
   "id": "ddbdae6f",
   "metadata": {},
   "source": [
    "(중요) `\"configurable\"` 키 아래에 `\"user_id\"`, `\"conversation_id\"` key-value 쌍을 설정"
   ]
  },
  {
   "cell_type": "code",
   "execution_count": 11,
   "id": "171f18f2",
   "metadata": {},
   "outputs": [],
   "source": [
    "# config 설정\n",
    "config = {\"configurable\": {\"user_id\": \"user1\", \"conversation_id\": \"conversation1\"}}"
   ]
  },
  {
   "cell_type": "markdown",
   "id": "1c08102d",
   "metadata": {},
   "source": [
    "질문 진행하기\n",
    "\n",
    "- `chain_with_history` 객체의 `invoke` 메서드를 호출하여 질문에 대한 답변을 생성\n",
    "- `invoke` 메서드에는 질문 딕셔너리와 `config` 설정이 전달"
   ]
  },
  {
   "cell_type": "code",
   "execution_count": 12,
   "id": "f902da80",
   "metadata": {},
   "outputs": [
    {
     "data": {
      "text/plain": [
       "'안녕하세요, 홍길동님! 만나서 반갑습니다. 어떻게 도와드릴까요?'"
      ]
     },
     "execution_count": 12,
     "metadata": {},
     "output_type": "execute_result"
    }
   ],
   "source": [
    "# 질문과 config 를 전달하여 실행합니다.\n",
    "chain_with_history.invoke({\"question\": \"안녕 반가워, 내 이름은 홍길동이야\"}, config)"
   ]
  },
  {
   "cell_type": "code",
   "execution_count": 13,
   "id": "7bfd7016",
   "metadata": {},
   "outputs": [
    {
     "data": {
      "text/plain": [
       "'당신의 이름은 홍길동이라고 소개하셨어요. 맞나요?'"
      ]
     },
     "execution_count": 13,
     "metadata": {},
     "output_type": "execute_result"
    }
   ],
   "source": [
    "# 후속 질문을 실행\n",
    "chain_with_history.invoke({\"question\": \"내 이름이 뭐라고?\"}, config)"
   ]
  },
  {
   "cell_type": "markdown",
   "id": "d10d194e",
   "metadata": {},
   "source": [
    "같은 `user_id` 를 가지지만 `conversion_id` 가 다른 값을 가지도록 설정하고 질문"
   ]
  },
  {
   "cell_type": "code",
   "execution_count": 14,
   "id": "ac22de43",
   "metadata": {},
   "outputs": [
    {
     "data": {
      "text/plain": [
       "'죄송하지만, 저는 사용자님의 이름을 알 수 없습니다. 당신이 원하는 이름을 말씀해주시면 그 이름으로 호칭해드리겠습니다.'"
      ]
     },
     "execution_count": 14,
     "metadata": {},
     "output_type": "execute_result"
    }
   ],
   "source": [
    "# config 설정\n",
    "config = {\"configurable\": {\"user_id\": \"user1\", \"conversation_id\": \"conversation2\"}}\n",
    "\n",
    "# 질문과 config 를 전달하여 실행\n",
    "chain_with_history.invoke({\"question\": \"내 이름이 뭐라고?\"}, config)"
   ]
  },
  {
   "cell_type": "code",
   "execution_count": null,
   "id": "7ebbc99b",
   "metadata": {},
   "outputs": [],
   "source": []
  }
 ],
 "metadata": {
  "kernelspec": {
   "display_name": "langchain-kr",
   "language": "python",
   "name": "python3"
  },
  "language_info": {
   "codemirror_mode": {
    "name": "ipython",
    "version": 3
   },
   "file_extension": ".py",
   "mimetype": "text/x-python",
   "name": "python",
   "nbconvert_exporter": "python",
   "pygments_lexer": "ipython3",
   "version": "3.11.11"
  }
 },
 "nbformat": 4,
 "nbformat_minor": 5
}
