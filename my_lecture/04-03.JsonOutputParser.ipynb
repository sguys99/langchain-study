{
 "cells": [
  {
   "cell_type": "markdown",
   "id": "2550920c-09d8-48b3-be2f-b36362c37989",
   "metadata": {},
   "source": [
    "## 4.3 JsonOutputParser"
   ]
  },
  {
   "cell_type": "markdown",
   "id": "e5a6b509",
   "metadata": {},
   "source": [
    "<div style=\"text-align: right\"> Initial issue : 2025.05.02 </div>\n",
    "<div style=\"text-align: right\"> last update : 2025.05.02 </div>"
   ]
  },
  {
   "cell_type": "markdown",
   "id": "a2d43c2f",
   "metadata": {},
   "source": [
    "사용자가 원하는 JSON 스키마를 지정할 수 있게 해주는 도구. \n",
    "LLM이 데이터를 조회하고 결과를 도출할 때, 지정된 스키마에 맞게 JSON 형식으로 데이터를 반환할 수 있도록 설됨\n",
    "\n",
    "사용자가 원하는 형태의 JSON을 생성하기 위해서는, 모델의 용량(예: 인텔리전스)이 충분히 커야함. \n",
    "예를 들어, llama-70B 모델은 llama-8B 모델보다 더 큰 용량을 가지고 있어 보다 복잡한 데이터를 처리하는 데 유리함"
   ]
  },
  {
   "cell_type": "markdown",
   "id": "3025e955",
   "metadata": {},
   "source": [
    "### 참고: JSON\n",
    "- `JSON (JavaScript Object Notation)` 은 데이터를 저장하고 구조적으로 전달하기 위해 사용되는 경량의 데이터 교환 포맷. \n",
    "- 웹 개발에서 매우 중요한 역할을 하며, 서버와 클라이언트 간의 통신을 위해 널리 사용됨. \n",
    "- JSON은 읽기 쉽고, 기계가 파싱하고 생성하기 쉬운 텍스트 기반임\n",
    "\n",
    "### JSON의 기본 구조\n",
    "- JSON 데이터는 이름(키)과 값의 쌍으로 이루어져 있음. \n",
    "- 여기서 \"이름\"은 문자열이고, \"값\"은 다양한 데이터 유형일 수 있음. \n",
    "- JSON은 두 가지 기본 구조를 가짐\n",
    "    - 객체: 중괄호 {}로 둘러싸인 키-값 쌍의 집합. 각 키는 콜론 :을 사용하여 해당하는 값과 연결되며, 여러 키-값 쌍은 쉼표 ,로 구분됨.\n",
    "    - 배열: 대괄호 []로 둘러싸인 값의 순서 있는 목록. 배열 내의 값은 쉼표 ,로 구분됨.\n",
    "\n",
    "```json\n",
    "{\n",
    "  \"name\": \"John Doe\",\n",
    "  \"age\": 30,\n",
    "  \"is_student\": false,\n",
    "  \"skills\": [\"Java\", \"Python\", \"JavaScript\"],\n",
    "  \"address\": {\n",
    "    \"street\": \"123 Main St\",\n",
    "    \"city\": \"Anytown\"\n",
    "  }\n",
    "}\n",
    "```\n"
   ]
  },
  {
   "cell_type": "code",
   "execution_count": 1,
   "id": "75649171",
   "metadata": {},
   "outputs": [
    {
     "data": {
      "text/plain": [
       "True"
      ]
     },
     "execution_count": 1,
     "metadata": {},
     "output_type": "execute_result"
    }
   ],
   "source": [
    "from dotenv import load_dotenv\n",
    "load_dotenv()"
   ]
  },
  {
   "cell_type": "code",
   "execution_count": 2,
   "id": "ade05f85",
   "metadata": {},
   "outputs": [],
   "source": [
    "from langchain_core.prompts import ChatPromptTemplate\n",
    "from langchain_core.output_parsers import JsonOutputParser\n",
    "from langchain_openai import ChatOpenAI\n",
    "from pydantic import BaseModel, Field"
   ]
  },
  {
   "cell_type": "code",
   "execution_count": 3,
   "id": "7c20fd8b",
   "metadata": {},
   "outputs": [],
   "source": [
    "model = ChatOpenAI(temperature=0, model_name=\"gpt-4o\")"
   ]
  },
  {
   "cell_type": "markdown",
   "id": "ca7c31cc",
   "metadata": {},
   "source": [
    "원하는 출력 구조 정의"
   ]
  },
  {
   "cell_type": "code",
   "execution_count": 4,
   "id": "cac367d2",
   "metadata": {},
   "outputs": [],
   "source": [
    "class Topic(BaseModel):\n",
    "    description: str = Field(description=\"주제에 대한 간결한 설명\")\n",
    "    hashtags: str = Field(description=\"해시태그 형식의 키워드(2개 이상)\")"
   ]
  },
  {
   "cell_type": "markdown",
   "id": "668a93b3",
   "metadata": {},
   "source": [
    "`JsonOutputParser`를 사용하여 파서를 설정"
   ]
  },
  {
   "cell_type": "code",
   "execution_count": 5,
   "id": "726c1d63",
   "metadata": {},
   "outputs": [
    {
     "name": "stdout",
     "output_type": "stream",
     "text": [
      "The output should be formatted as a JSON instance that conforms to the JSON schema below.\n",
      "\n",
      "As an example, for the schema {\"properties\": {\"foo\": {\"title\": \"Foo\", \"description\": \"a list of strings\", \"type\": \"array\", \"items\": {\"type\": \"string\"}}}, \"required\": [\"foo\"]}\n",
      "the object {\"foo\": [\"bar\", \"baz\"]} is a well-formatted instance of the schema. The object {\"properties\": {\"foo\": [\"bar\", \"baz\"]}} is not well-formatted.\n",
      "\n",
      "Here is the output schema:\n",
      "```\n",
      "{\"properties\": {\"description\": {\"description\": \"주제에 대한 간결한 설명\", \"title\": \"Description\", \"type\": \"string\"}, \"hashtags\": {\"description\": \"해시태그 형식의 키워드(2개 이상)\", \"title\": \"Hashtags\", \"type\": \"string\"}}, \"required\": [\"description\", \"hashtags\"]}\n",
      "```\n"
     ]
    }
   ],
   "source": [
    "# 질의 작성\n",
    "question = \"지구 온난화의 심각성 대해 알려주세요.\"\n",
    "\n",
    "# 파서를 설정하고 프롬프트 템플릿에 지시사항을 주입합니다.\n",
    "parser = JsonOutputParser(pydantic_object=Topic)\n",
    "print(parser.get_format_instructions())"
   ]
  },
  {
   "cell_type": "markdown",
   "id": "6360b03e",
   "metadata": {},
   "source": [
    "프롬프트 정의"
   ]
  },
  {
   "cell_type": "code",
   "execution_count": 6,
   "id": "3983c772",
   "metadata": {},
   "outputs": [],
   "source": [
    "# 프롬프트 템플릿을 설정합니다.\n",
    "prompt = ChatPromptTemplate.from_messages(\n",
    "    [\n",
    "        (\"system\", \"당신은 친절한 AI 어시스턴트 입니다. 질문에 간결하게 답변하세요.\"),\n",
    "        (\"user\", \"#Format: {format_instructions}\\n\\n#Question: {question}\"),\n",
    "    ]\n",
    ")\n",
    "\n",
    "prompt = prompt.partial(format_instructions=parser.get_format_instructions())"
   ]
  },
  {
   "cell_type": "code",
   "execution_count": 7,
   "id": "86b6394b",
   "metadata": {},
   "outputs": [
    {
     "name": "stdout",
     "output_type": "stream",
     "text": [
      "System: 당신은 친절한 AI 어시스턴트 입니다. 질문에 간결하게 답변하세요.\n",
      "Human: #Format: test_instruction\n",
      "\n",
      "#Question: test_input\n"
     ]
    }
   ],
   "source": [
    "print(prompt.format(format_instructions=\"test_instruction\", question=\"test_input\"))"
   ]
  },
  {
   "cell_type": "markdown",
   "id": "c77d1c77",
   "metadata": {},
   "source": [
    "Chain 생성"
   ]
  },
  {
   "cell_type": "code",
   "execution_count": 8,
   "id": "12640323",
   "metadata": {},
   "outputs": [],
   "source": [
    "# 체인을 구성합니다.\n",
    "chain = prompt | model | parser"
   ]
  },
  {
   "cell_type": "markdown",
   "id": "ea8e2d32",
   "metadata": {},
   "source": [
    "답변 생성"
   ]
  },
  {
   "cell_type": "code",
   "execution_count": 9,
   "id": "08ea4feb",
   "metadata": {},
   "outputs": [],
   "source": [
    "answer = chain.invoke({\"question\": question})"
   ]
  },
  {
   "cell_type": "code",
   "execution_count": 10,
   "id": "104a5ecf",
   "metadata": {},
   "outputs": [
    {
     "data": {
      "text/plain": [
       "dict"
      ]
     },
     "execution_count": 10,
     "metadata": {},
     "output_type": "execute_result"
    }
   ],
   "source": [
    "type(answer)"
   ]
  },
  {
   "cell_type": "code",
   "execution_count": 11,
   "id": "e17cebcb",
   "metadata": {},
   "outputs": [
    {
     "data": {
      "text/plain": [
       "{'description': '지구 온난화는 지구의 평균 기온이 상승하는 현상으로, 주로 인간 활동에 의해 발생하는 온실가스 배출이 주요 원인입니다. 이는 극지방의 빙하가 녹고 해수면이 상승하며, 기후 패턴이 변화하는 등 다양한 환경적 문제를 초래합니다.',\n",
       " 'hashtags': '#지구온난화 #기후변화 #환경문제'}"
      ]
     },
     "execution_count": 11,
     "metadata": {},
     "output_type": "execute_result"
    }
   ],
   "source": [
    "answer"
   ]
  }
 ],
 "metadata": {
  "kernelspec": {
   "display_name": "langchain-kr",
   "language": "python",
   "name": "python3"
  },
  "language_info": {
   "codemirror_mode": {
    "name": "ipython",
    "version": 3
   },
   "file_extension": ".py",
   "mimetype": "text/x-python",
   "name": "python",
   "nbconvert_exporter": "python",
   "pygments_lexer": "ipython3",
   "version": "3.11.11"
  }
 },
 "nbformat": 4,
 "nbformat_minor": 5
}
