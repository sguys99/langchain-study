{
  "cells": [
    {
      "cell_type": "markdown",
      "metadata": {},
      "source": [
        "# 2.1 LangChain vs LangGraph (feat. LangGraph 개념 설명)\n",
        "\n",
        "- LangChain을 활용한 간단한 `llm.invoke()` 예제를 살펴보고, 이를 LangGraph로 구현해보는 과정을 진행합니다.\n",
        "- LangGraph의 개념과 주요 기능을 이해하고, 두 프레임워크의 차이점을 비교합니다."
      ]
    },
    {
      "cell_type": "markdown",
      "metadata": {},
      "source": [
        "## 환경설정\n",
        "\n",
        "- `LangChain` 활용을 위해 필요한 패키지들을 설치합니다\n",
        "- 최신 버전을 설치해도 정상적으로 동작해야 하지만, 버전 명시가 필요하다면 `requirements.txt`를 참고해주세요"
      ]
    },
    {
      "cell_type": "code",
      "execution_count": 1,
      "metadata": {},
      "outputs": [],
      "source": [
        "# %pip install -q python-dotenv langchain-openai"
      ]
    },
    {
      "cell_type": "code",
      "execution_count": 2,
      "metadata": {},
      "outputs": [
        {
          "data": {
            "text/plain": [
              "True"
            ]
          },
          "execution_count": 2,
          "metadata": {},
          "output_type": "execute_result"
        }
      ],
      "source": [
        "from dotenv import load_dotenv\n",
        "\n",
        "load_dotenv()"
      ]
    },
    {
      "cell_type": "code",
      "execution_count": 3,
      "metadata": {},
      "outputs": [
        {
          "data": {
            "text/plain": [
              "AIMessage(content='인프런은 다양한 분야의 온라인 강의를 제공하는 플랫폼으로, 주로 IT, 프로그래밍, 데이터 분석, 디자인, 마케팅 등의 주제를 다룹니다. 구체적으로는 다음과 같은 강의들이 있습니다:\\n\\n1. **프로그래밍 언어**: Python, Java, JavaScript, C++, Ruby 등 다양한 프로그래밍 언어에 대한 강의.\\n2. **웹 개발**: HTML, CSS, React, Vue.js, Node.js 등을 포함한 프론트엔드 및 백엔드 개발 강의.\\n3. **데이터 분석 및 머신러닝**: 데이터 분석, 통계학, 머신러닝, 딥러닝 관련 강의.\\n4. **모바일 앱 개발**: Android, iOS 앱 개발 강의.\\n5. **디자인**: UI/UX 디자인, 그래픽 디자인, 포토샵, 일러스트레이터 등의 디자인 도구 사용법.\\n6. **DevOps**: 클라우드 컴퓨팅, CI/CD, Docker, Kubernetes 관련 강의.\\n7. **마케팅**: 디지털 마케팅, SEO, 콘텐츠 마케팅 등.\\n\\n강의는 초급부터 고급까지 다양한 수준으로 제공되며, 실습 위주의 강의도 많아 실제로 프로젝트를 진행하며 배우는 데 중점을 두고 있습니다. 인프런 웹사이트에서 원하는 분야의 강의를 검색하여 찾아볼 수 있습니다.', additional_kwargs={'refusal': None}, response_metadata={'token_usage': {'completion_tokens': 298, 'prompt_tokens': 18, 'total_tokens': 316, 'completion_tokens_details': {'accepted_prediction_tokens': 0, 'audio_tokens': 0, 'reasoning_tokens': 0, 'rejected_prediction_tokens': 0}, 'prompt_tokens_details': {'audio_tokens': 0, 'cached_tokens': 0}}, 'model_name': 'gpt-4o-mini-2024-07-18', 'system_fingerprint': 'fp_34a54ae93c', 'finish_reason': 'stop', 'logprobs': None}, id='run-16d4ce37-a263-45f1-bd85-67d745990aee-0', usage_metadata={'input_tokens': 18, 'output_tokens': 298, 'total_tokens': 316, 'input_token_details': {'audio': 0, 'cache_read': 0}, 'output_token_details': {'audio': 0, 'reasoning': 0}})"
            ]
          },
          "execution_count": 3,
          "metadata": {},
          "output_type": "execute_result"
        }
      ],
      "source": [
        "from langchain_openai import ChatOpenAI\n",
        "\n",
        "query = \"인프런에는 어떤 강의가 있나요?\"\n",
        "\n",
        "llm = ChatOpenAI(model=\"gpt-4o-mini\")  # 테스트의 경우에는 작은 모델을 사용합니다\n",
        "llm.invoke(query)"
      ]
    },
    {
      "cell_type": "code",
      "execution_count": 4,
      "metadata": {},
      "outputs": [],
      "source": [
        "# %pip install -q langgraph"
      ]
    },
    {
      "cell_type": "markdown",
      "metadata": {},
      "source": [
        "### Langgraph 주요 구성요소 (State, Node, Edge, Conditional Edge)"
      ]
    },
    {
      "cell_type": "markdown",
      "metadata": {},
      "source": [
        "`state`: LangGraph 에이전트의 상태를 나타내는 Data structure\n",
        "- `state`는 `TypedDict`를 사용하여 정의되며, 이는 Python의 타입 힌팅을 통해 구조를 명확화 함\n",
        "    - 지금 예제에서는 간단하게 `messages`라는 필드만 있음\n",
        "    - 필요에 따라 다양한 값들을 활용할 수 있음\n",
        "- `state`는 에이전트의 동작을 결정하는 데 사용되며, 각 노드에서 state를 업데이트하거나 참조할 수 있음\n",
        "- `state`는 LangGraph의 노드 간에 전달되며, 에이전트의 state 전이를 관리함"
      ]
    },
    {
      "cell_type": "markdown",
      "metadata": {},
      "source": [
        "`node`: LangGraph 에이전트의 각 단계를 나타내는 노드 또는 에이전트가 수행하는 작업\n",
        "- 노드는 에이전트가 될 수도 있음\n",
        "- 노드는 함수임"
      ]
    },
    {
      "cell_type": "markdown",
      "metadata": {},
      "source": [
        "`edge`: 노드 간의 연결을 나타내는 간선, 노드 간의 관계를 나타냄\n",
        "- langgraph에서 실선으로 나타냄  \n",
        "\n",
        "`conditional edge`: 조건에 따라 다른 노드로 이동하는 간선\n",
        "- langgraph에서 점선으로 나타냄"
      ]
    },
    {
      "cell_type": "markdown",
      "metadata": {},
      "source": [
        "### 1. 그래프 생성하기"
      ]
    },
    {
      "cell_type": "markdown",
      "metadata": {},
      "source": [
        "`state` 정의하기"
      ]
    },
    {
      "cell_type": "code",
      "execution_count": 5,
      "metadata": {},
      "outputs": [],
      "source": [
        "from typing import Annotated\n",
        "from typing_extensions import TypedDict\n",
        "\n",
        "from langgraph.graph.message import add_messages\n",
        "from langchain_core.messages import AnyMessage\n",
        "\n",
        "\n",
        "class AgentState(TypedDict):\n",
        "    messages: list[Annotated[AnyMessage, add_messages]]"
      ]
    },
    {
      "cell_type": "code",
      "execution_count": 6,
      "metadata": {},
      "outputs": [],
      "source": [
        "from typing import Annotated\n",
        "from typing_extensions import TypedDict  # 딕셔너리\n",
        "\n",
        "from langgraph.graph.message import add_messages\n",
        "from langchain_core.messages import AnyMessage\n",
        "\n",
        "# AnyMessage: langchain에서 사용하는 SystemMessage, HumanMessage, AIMessage등을 포함하는 데이터 타입"
      ]
    },
    {
      "cell_type": "code",
      "execution_count": 7,
      "metadata": {},
      "outputs": [],
      "source": [
        "class AgentState(TypedDict):\n",
        "    messages: list[Annotated[AnyMessage, add_messages]]\n",
        "    # langgraph의 add_messages 함수를 사용하여 메시지를 추가할 수 있음"
      ]
    },
    {
      "cell_type": "markdown",
      "metadata": {},
      "source": [
        "위에 선언한 `AgentState`를 활용하여 `StateGraph`를 생성(그래프 빌더를 만듬)"
      ]
    },
    {
      "cell_type": "code",
      "execution_count": 8,
      "metadata": {},
      "outputs": [],
      "source": [
        "from langgraph.graph import StateGraph\n",
        "\n",
        "graph_builder = StateGraph(AgentState)"
      ]
    },
    {
      "cell_type": "markdown",
      "metadata": {},
      "source": [
        "`graph`에 추가할 `node`를 생성합니다\n",
        "`node`는 LangGraph에서 실행되는 개별적인 작업 단위를 의미\n",
        "- 각 노드는 특정 기능을 수행하는 독립적인 컴포넌트로, 예를 들어 텍스트 생성, 데이터 처리, 또는 의사 결정과 같은 작업을 담당할 수 있음\n",
        "- `node`는 기본적으로 함수(function)로 정의되고, 뒤에서 다루지만 다른 에이전트(agent)를 활용할 수도 있음"
      ]
    },
    {
      "cell_type": "markdown",
      "metadata": {},
      "source": [
        "generate라는 노드를 정의해보자"
      ]
    },
    {
      "cell_type": "code",
      "execution_count": 9,
      "metadata": {},
      "outputs": [],
      "source": [
        "def generate(state: AgentState) -> AgentState:  # 노드이기 때문에 state를 인자로 받는다.\n",
        "    \"\"\"\n",
        "    사용자의 질문(messages)을 받아서 응답을 생성\n",
        "    \"\"\"\n",
        "    messages = state[\"messages\"]\n",
        "    ai_message = llm.invoke(messages)\n",
        "    return {\n",
        "        \"messages\": [ai_message]\n",
        "    }  # messages 필드를 업데이트하여 새로운 메시지를 추가\n",
        "    # messages가 리스트 이기 때문에 []에 추가"
      ]
    },
    {
      "cell_type": "markdown",
      "metadata": {},
      "source": [
        "`edge`는 노드들 사이의 연결을 나타내며, 데이터와 제어 흐름의 경로를 정의함\n",
        "- 엣지를 통해 한 노드의 출력이 다음 노드의 입력으로 전달되어, 전체적인 워크플로우가 형성됨\n",
        "- `node`와 `edge`의 조합은 방향성 그래프(Directed Graph)를 형성하며, 이를 통해 복잡한 AI 에이전트의 행동 흐름을 구조화할 수 있음\n",
        "\n",
        "일반적으로 `node`를 생성한 후에 `edge`로 연결함   \n",
        "노드 generate node 생성하기"
      ]
    },
    {
      "cell_type": "code",
      "execution_count": 10,
      "metadata": {},
      "outputs": [
        {
          "data": {
            "text/plain": [
              "<langgraph.graph.state.StateGraph at 0x109dcec60>"
            ]
          },
          "execution_count": 10,
          "metadata": {},
          "output_type": "execute_result"
        }
      ],
      "source": [
        "graph_builder.add_node(\"generate\", generate)"
      ]
    },
    {
      "cell_type": "markdown",
      "metadata": {},
      "source": [
        "모든 그래프는 `START(시작)`와 `END(종료)`가 있음\n",
        "- `END`를 explicit하게 선언하지 않는 경우도 종종 있지만, 가독성을 위해 작성해주는 것을 권장"
      ]
    },
    {
      "cell_type": "markdown",
      "metadata": {},
      "source": [
        "START, END 노드는 langgraph graph 모듈에 내장(노드 생성할 필요 없음)"
      ]
    },
    {
      "cell_type": "code",
      "execution_count": 11,
      "metadata": {},
      "outputs": [
        {
          "data": {
            "text/plain": [
              "<langgraph.graph.state.StateGraph at 0x109dcec60>"
            ]
          },
          "execution_count": 11,
          "metadata": {},
          "output_type": "execute_result"
        }
      ],
      "source": [
        "from langgraph.graph import START, END\n",
        "\n",
        "graph_builder.add_edge(START, \"generate\")\n",
        "graph_builder.add_edge(\"generate\", END)"
      ]
    },
    {
      "cell_type": "markdown",
      "metadata": {},
      "source": [
        "`compile` 메서드를 호출하여 `Graph`를 생성"
      ]
    },
    {
      "cell_type": "code",
      "execution_count": 12,
      "metadata": {},
      "outputs": [],
      "source": [
        "graph = graph_builder.compile()"
      ]
    },
    {
      "cell_type": "markdown",
      "metadata": {},
      "source": [
        "- `compile` 후에는 그래프를 시각화하여 확인할 수 있습니다\n",
        "- 의도한대로 그래프가 생성됐는지 확인하는 습관을 기르는 것이 좋습니다\n",
        "    - `git`에서 코드 작업물을 commit하기 전에 `git diff`를 통해 변경사항을 확인하는 것과 같습니다"
      ]
    },
    {
      "cell_type": "code",
      "execution_count": 13,
      "metadata": {},
      "outputs": [
        {
          "data": {
            "image/png": "[encoded data removed]",
            "text/plain": [
              "<IPython.core.display.Image object>"
            ]
          },
          "metadata": {},
          "output_type": "display_data"
        }
      ],
      "source": [
        "from IPython.display import display, Image\n",
        "\n",
        "display(Image(graph.get_graph().draw_mermaid_png()))"
      ]
    },
    {
      "cell_type": "markdown",
      "metadata": {},
      "source": [
        "### 2. graph invoke 하기"
      ]
    },
    {
      "cell_type": "markdown",
      "metadata": {},
      "source": [
        "graph를 invoke 하기 위해서는 정의한 State를 인자로 입력해야한다.\n",
        "앞에서 정의한 `AgentState`는 딕셔너리 형태이고 \"messages\" 필드가 있으며 이것의 value는 리스트임을 기억하자."
      ]
    },
    {
      "cell_type": "code",
      "execution_count": 14,
      "metadata": {},
      "outputs": [
        {
          "data": {
            "text/plain": [
              "{'messages': [AIMessage(content='인프런은 다양한 주제의 온라인 강의를 제공하는 플랫폼으로, 주로 IT, 프로그래밍, 데이터 분석, 디자인, 마케팅 등 여러 분야의 강의가 있습니다. 예를 들어, 아래와 같은 강의가 있을 수 있습니다:\\n\\n1. **프로그래밍 언어**: Python, Java, JavaScript, C++, Ruby 등\\n2. **웹 개발**: HTML, CSS, React, Node.js, Django 등\\n3. **모바일 개발**: Android, iOS, Flutter 등\\n4. **데이터 과학**: 데이터 분석, 머신러닝, 딥러닝, 통계학 등\\n5. **디자인**: UX/UI 디자인, 그래픽 디자인, 포토샵, 일러스트레이터 등\\n6. **마케팅**: 디지털 마케팅, SEO, 콘텐츠 마케팅 등\\n7. **클라우드 및 DevOps**: AWS, Azure, Docker, Kubernetes 등\\n\\n각 강의는 실제 사례를 기반으로 하거나 프로젝트 중심으로 진행되며, 강사들의 경험을 통해 실용적인 지식을 얻을 수 있습니다. 인프런 홈페이지에서 원하는 주제를 검색하여 구체적인 강의를 찾아보실 수 있습니다.', additional_kwargs={'refusal': None}, response_metadata={'token_usage': {'completion_tokens': 258, 'prompt_tokens': 18, 'total_tokens': 276, 'completion_tokens_details': {'accepted_prediction_tokens': 0, 'audio_tokens': 0, 'reasoning_tokens': 0, 'rejected_prediction_tokens': 0}, 'prompt_tokens_details': {'audio_tokens': 0, 'cached_tokens': 0}}, 'model_name': 'gpt-4o-mini-2024-07-18', 'system_fingerprint': 'fp_34a54ae93c', 'finish_reason': 'stop', 'logprobs': None}, id='run-6e5ca962-e275-41f9-8e3a-a0909a0750d2-0', usage_metadata={'input_tokens': 18, 'output_tokens': 258, 'total_tokens': 276, 'input_token_details': {'audio': 0, 'cache_read': 0}, 'output_token_details': {'audio': 0, 'reasoning': 0}})]}"
            ]
          },
          "execution_count": 14,
          "metadata": {},
          "output_type": "execute_result"
        }
      ],
      "source": [
        "from langchain_core.messages import HumanMessage\n",
        "\n",
        "query = \"인프런에는 어떤 강의가 있나요?\"\n",
        "initial_state = {\"messages\": [HumanMessage(query)]}\n",
        "\n",
        "graph.invoke(initial_state)"
      ]
    },
    {
      "cell_type": "code",
      "execution_count": null,
      "metadata": {},
      "outputs": [],
      "source": []
    }
  ],
  "metadata": {
    "kernelspec": {
      "display_name": "inflearn-langgraph",
      "language": "python",
      "name": "python3"
    },
    "language_info": {
      "codemirror_mode": {
        "name": "ipython",
        "version": 3
      },
      "file_extension": ".py",
      "mimetype": "text/x-python",
      "name": "python",
      "nbconvert_exporter": "python",
      "pygments_lexer": "ipython3",
      "version": "3.12.11"
    }
  },
  "nbformat": 4,
  "nbformat_minor": 2
}
